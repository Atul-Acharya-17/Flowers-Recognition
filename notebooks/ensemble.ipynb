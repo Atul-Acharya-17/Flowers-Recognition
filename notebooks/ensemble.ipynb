{
 "cells": [
  {
   "cell_type": "code",
   "execution_count": 1,
   "id": "948e1212",
   "metadata": {
    "execution": {
     "iopub.execute_input": "2022-11-09T09:43:05.861389Z",
     "iopub.status.busy": "2022-11-09T09:43:05.860610Z",
     "iopub.status.idle": "2022-11-09T09:43:07.721738Z",
     "shell.execute_reply": "2022-11-09T09:43:07.720625Z"
    },
    "papermill": {
     "duration": 1.871867,
     "end_time": "2022-11-09T09:43:07.724477",
     "exception": false,
     "start_time": "2022-11-09T09:43:05.852610",
     "status": "completed"
    },
    "tags": []
   },
   "outputs": [],
   "source": [
    "import random\n",
    "import time\n",
    "import tqdm\n",
    "import matplotlib.pyplot as plt\n",
    "import torch\n",
    "import torchvision\n",
    "import torchvision.transforms as transforms\n",
    "import torch.optim as optim\n",
    "from torch.utils.data import Sampler\n",
    "import torchvision.datasets as datasets"
   ]
  },
  {
   "cell_type": "code",
   "execution_count": 2,
   "id": "6accbd20",
   "metadata": {
    "execution": {
     "iopub.execute_input": "2022-11-09T09:43:07.737895Z",
     "iopub.status.busy": "2022-11-09T09:43:07.736729Z",
     "iopub.status.idle": "2022-11-09T09:43:07.741702Z",
     "shell.execute_reply": "2022-11-09T09:43:07.740793Z"
    },
    "papermill": {
     "duration": 0.013583,
     "end_time": "2022-11-09T09:43:07.743915",
     "exception": false,
     "start_time": "2022-11-09T09:43:07.730332",
     "status": "completed"
    },
    "tags": []
   },
   "outputs": [],
   "source": [
    "data_directory = './'"
   ]
  },
  {
   "cell_type": "code",
   "execution_count": 3,
   "id": "881a9e1a",
   "metadata": {
    "execution": {
     "iopub.execute_input": "2022-11-09T09:43:07.756038Z",
     "iopub.status.busy": "2022-11-09T09:43:07.755765Z",
     "iopub.status.idle": "2022-11-09T09:43:19.355710Z",
     "shell.execute_reply": "2022-11-09T09:43:19.354675Z"
    },
    "papermill": {
     "duration": 11.60868,
     "end_time": "2022-11-09T09:43:19.357881",
     "exception": false,
     "start_time": "2022-11-09T09:43:07.749201",
     "status": "completed"
    },
    "tags": []
   },
   "outputs": [
    {
     "name": "stdout",
     "output_type": "stream",
     "text": [
      "Downloading https://www.robots.ox.ac.uk/~vgg/data/flowers/102/102flowers.tgz to flowers-102/102flowers.tgz\n"
     ]
    },
    {
     "data": {
      "application/vnd.jupyter.widget-view+json": {
       "model_id": "9fd9879eb82842dd8cf0039cad958e01",
       "version_major": 2,
       "version_minor": 0
      },
      "text/plain": [
       "  0%|          | 0/344862509 [00:00<?, ?it/s]"
      ]
     },
     "metadata": {},
     "output_type": "display_data"
    },
    {
     "name": "stdout",
     "output_type": "stream",
     "text": [
      "Extracting flowers-102/102flowers.tgz to flowers-102\n",
      "Downloading https://www.robots.ox.ac.uk/~vgg/data/flowers/102/imagelabels.mat to flowers-102/imagelabels.mat\n"
     ]
    },
    {
     "data": {
      "application/vnd.jupyter.widget-view+json": {
       "model_id": "5484bdb0f87d43bd8ec2ee1b6bedfc73",
       "version_major": 2,
       "version_minor": 0
      },
      "text/plain": [
       "  0%|          | 0/502 [00:00<?, ?it/s]"
      ]
     },
     "metadata": {},
     "output_type": "display_data"
    },
    {
     "name": "stdout",
     "output_type": "stream",
     "text": [
      "Downloading https://www.robots.ox.ac.uk/~vgg/data/flowers/102/setid.mat to flowers-102/setid.mat\n"
     ]
    },
    {
     "data": {
      "application/vnd.jupyter.widget-view+json": {
       "model_id": "d54d2c692f7245ad8f408ab5768d852e",
       "version_major": 2,
       "version_minor": 0
      },
      "text/plain": [
       "  0%|          | 0/14989 [00:00<?, ?it/s]"
      ]
     },
     "metadata": {},
     "output_type": "display_data"
    },
    {
     "data": {
      "text/plain": [
       "Dataset Flowers102\n",
       "    Number of datapoints: 1020\n",
       "    Root location: ./\n",
       "    split=train"
      ]
     },
     "execution_count": 3,
     "metadata": {},
     "output_type": "execute_result"
    }
   ],
   "source": [
    "torchvision.datasets.Flowers102(root=f'{data_directory}', download=True)"
   ]
  },
  {
   "cell_type": "code",
   "execution_count": 4,
   "id": "3fa44018",
   "metadata": {
    "execution": {
     "iopub.execute_input": "2022-11-09T09:43:19.373200Z",
     "iopub.status.busy": "2022-11-09T09:43:19.371476Z",
     "iopub.status.idle": "2022-11-09T09:43:19.384888Z",
     "shell.execute_reply": "2022-11-09T09:43:19.383942Z"
    },
    "papermill": {
     "duration": 0.022734,
     "end_time": "2022-11-09T09:43:19.387038",
     "exception": false,
     "start_time": "2022-11-09T09:43:19.364304",
     "status": "completed"
    },
    "tags": []
   },
   "outputs": [],
   "source": [
    "class TaskSampler(Sampler):\n",
    "    \n",
    "    def __init__(self, dataset, n_way, k_shot, n_query, n_tasks):\n",
    "        super().__init__(data_source=None)\n",
    "        self.n_way = n_way\n",
    "        self.k_shot = k_shot\n",
    "        self.n_tasks = n_tasks\n",
    "        self.n_query = n_query\n",
    "        \n",
    "        self.items_per_label = {}\n",
    "        \n",
    "        for item, label in enumerate(dataset.get_labels()):\n",
    "            if label in self.items_per_label.keys():\n",
    "                self.items_per_label[label].append(item)\n",
    "            else:\n",
    "                self.items_per_label[label] = [item]\n",
    "                \n",
    "    def __len__(self):\n",
    "        return self.n_tasks\n",
    "    \n",
    "    def __iter__(self):\n",
    "        for task in range(self.n_tasks):\n",
    "            yield torch.cat(\n",
    "                [\n",
    "                    torch.Tensor(random.sample(self.items_per_label[label], self.k_shot + self.n_query)).type(torch.int)\n",
    "                    \n",
    "                    for label in random.sample(self.items_per_label.keys(), self.n_way)\n",
    "                ]\n",
    "            ).tolist()\n",
    "            \n",
    "    def collate_fn(self, input_data):\n",
    "        true_class_ids = list({x[1] for x in input_data})\n",
    "\n",
    "        all_images = torch.cat([x[0].unsqueeze(0) for x in input_data])\n",
    "        all_images = all_images.reshape(\n",
    "            (self.n_way, self.k_shot + self.n_query, *all_images.shape[1:])\n",
    "        )\n",
    "\n",
    "        all_labels = torch.tensor(\n",
    "            [true_class_ids.index(x[1]) for x in input_data]\n",
    "        ).reshape((self.n_way, self.k_shot + self.n_query))\n",
    "\n",
    "        support_images = all_images[:, : self.k_shot].reshape(\n",
    "            (-1, *all_images.shape[2:])\n",
    "        )\n",
    "        query_images = all_images[:, self.k_shot :].reshape((-1, *all_images.shape[2:]))\n",
    "        support_labels = all_labels[:, : self.k_shot].flatten()\n",
    "        query_labels = all_labels[:, self.k_shot :].flatten()\n",
    "\n",
    "        return support_images, support_labels, query_images, query_labels, true_class_ids\n"
   ]
  },
  {
   "cell_type": "code",
   "execution_count": 5,
   "id": "b10370df",
   "metadata": {
    "execution": {
     "iopub.execute_input": "2022-11-09T09:43:19.400340Z",
     "iopub.status.busy": "2022-11-09T09:43:19.400062Z",
     "iopub.status.idle": "2022-11-09T09:43:19.415357Z",
     "shell.execute_reply": "2022-11-09T09:43:19.414512Z"
    },
    "papermill": {
     "duration": 0.024385,
     "end_time": "2022-11-09T09:43:19.417429",
     "exception": false,
     "start_time": "2022-11-09T09:43:19.393044",
     "status": "completed"
    },
    "tags": []
   },
   "outputs": [],
   "source": [
    "class MatchingNetwork(torch.nn.Module):\n",
    "    \n",
    "    def __init__(self, backbone=None, image_size=224, use_full_contextual_embedding=True) -> None:\n",
    "        super().__init__()\n",
    "        \n",
    "        self.use_full_contextual_embedding = use_full_contextual_embedding\n",
    "        \n",
    "        self.backbone = backbone\n",
    "        \n",
    "        if self.backbone is None:\n",
    "            self.backbone = self.get_backbone()\n",
    "        \n",
    "        self.feature_size = self.get_output_shape(self.backbone, image_size)[0]\n",
    "        \n",
    "        self.support_encoder = torch.nn.LSTM(\n",
    "            input_size=self.feature_size,\n",
    "            hidden_size=self.feature_size,\n",
    "            num_layers=1,\n",
    "            batch_first=True,\n",
    "            bidirectional=True,\n",
    "        )\n",
    "        \n",
    "        self.query_encoder = torch.nn.LSTMCell(self.feature_size * 2, self.feature_size)\n",
    "        \n",
    "        self.contextualized_support_features = None\n",
    "        self.one_hot_support_labels = None\n",
    "        \n",
    "        self.softmax = torch.nn.Softmax(dim=1)\n",
    "        \n",
    "    def get_backbone(self):\n",
    "        backbone = torchvision.models.resnet18(pretrained=True)\n",
    "        backbone.fc = torch.nn.Flatten()\n",
    "        return backbone\n",
    "                \n",
    "    def encode_support_set(self, support_images, support_labels):\n",
    "\n",
    "        support_features = self.backbone(support_images)\n",
    "        \n",
    "        if self.use_full_contextual_embedding:\n",
    "            hidden_state = self.support_encoder(support_features.unsqueeze(0))[0].squeeze(0)\n",
    "            self.contextualized_support_features = support_features + hidden_state[:, : self.feature_size] + hidden_state[:, self.feature_size :]\n",
    "            \n",
    "        else:\n",
    "            self.contextualized_support_features = support_features\n",
    "\n",
    "        self.one_hot_support_labels = torch.nn.functional.one_hot(support_labels).float()\n",
    "\n",
    "    def encode_query_features(self, query_set):\n",
    "        \n",
    "        query_features = self.backbone(query_set)\n",
    "\n",
    "        if not self.use_full_contextual_embedding:\n",
    "            return query_features\n",
    "        \n",
    "        hidden_state = query_features\n",
    "        cell_state = torch.zeros_like(query_features)\n",
    "\n",
    "        for _ in range(len(self.contextualized_support_features)):\n",
    "            attention = self.softmax(\n",
    "                hidden_state.mm(self.contextualized_support_features.T)\n",
    "            )\n",
    "            read_out = attention.mm(self.contextualized_support_features)\n",
    "            lstm_input = torch.cat((query_features, read_out), 1)\n",
    "\n",
    "            hidden_state, cell_state = self.query_encoder(\n",
    "                lstm_input, (hidden_state, cell_state)\n",
    "            )\n",
    "            hidden_state = hidden_state + query_features\n",
    "\n",
    "        return hidden_state\n",
    "        \n",
    "    def get_output_shape(self, model, image_size):\n",
    "        x = torch.randn(1, 3, image_size, image_size)\n",
    "        out = model(x)\n",
    "        return out.shape[1:]\n",
    "    \n",
    "    def forward(self, support_images, support_labels, query_images):\n",
    "        \n",
    "        self.encode_support_set(support_images, support_labels)\n",
    "        \n",
    "        contextualized_query_features = self.encode_query_features(\n",
    "            query_images\n",
    "        )\n",
    "        \n",
    "        similarity_matrix = self.softmax(\n",
    "            contextualized_query_features.mm(\n",
    "                torch.nn.functional.normalize(self.contextualized_support_features).T\n",
    "            )\n",
    "        )\n",
    "                \n",
    "        log_probabilities = (\n",
    "            similarity_matrix.mm(self.one_hot_support_labels) + 1e-6\n",
    "        ).log()\n",
    "        \n",
    "        return log_probabilities"
   ]
  },
  {
   "cell_type": "code",
   "execution_count": 6,
   "id": "5f128fcc",
   "metadata": {
    "execution": {
     "iopub.execute_input": "2022-11-09T09:43:19.430745Z",
     "iopub.status.busy": "2022-11-09T09:43:19.430458Z",
     "iopub.status.idle": "2022-11-09T09:43:19.438636Z",
     "shell.execute_reply": "2022-11-09T09:43:19.437722Z"
    },
    "papermill": {
     "duration": 0.017396,
     "end_time": "2022-11-09T09:43:19.440799",
     "exception": false,
     "start_time": "2022-11-09T09:43:19.423403",
     "status": "completed"
    },
    "tags": []
   },
   "outputs": [],
   "source": [
    "class PrototypicalNetwork(torch.nn.Module):\n",
    "    def __init__(self, backbone=None):\n",
    "        super().__init__()\n",
    "        self.backbone = backbone\n",
    "        \n",
    "        if(self.backbone == None):\n",
    "            self.backbone = self.get_backbone()\n",
    "            \n",
    "    def get_backbone(self):\n",
    "        backbone = torchvision.models.resnet18(pretrained=True)\n",
    "        backbone.fc = torch.nn.Flatten()\n",
    "        return backbone\n",
    "\n",
    "    def forward(\n",
    "        self,\n",
    "        support_images: torch.Tensor,\n",
    "        support_labels: torch.Tensor,\n",
    "        query_images: torch.Tensor,\n",
    "    ) -> torch.Tensor:\n",
    "        \"\"\"\n",
    "        Predict query labels using labeled support images.\n",
    "        \"\"\"\n",
    "        # Extract the features of support and query images\n",
    "        z_support = self.backbone.forward(support_images)\n",
    "        z_query = self.backbone.forward(query_images)\n",
    "\n",
    "        # Infer the number of different classes from the labels of the support set\n",
    "        n_way = len(torch.unique(support_labels))\n",
    "        # Prototype i is the mean of all instances of features corresponding to labels == i\n",
    "        z_proto = torch.cat(\n",
    "            [\n",
    "                z_support[torch.nonzero(support_labels == label)].mean(0)\n",
    "                for label in range(n_way)\n",
    "            ]\n",
    "        )\n",
    "\n",
    "        # Compute the euclidean distance from queries to prototypes\n",
    "        dists = torch.cdist(z_query, z_proto)\n",
    "\n",
    "        # And here is the super complicated operation to transform those distances into classification scores!\n",
    "        scores = -dists\n",
    "        return scores"
   ]
  },
  {
   "cell_type": "code",
   "execution_count": 7,
   "id": "ef7d8816",
   "metadata": {
    "execution": {
     "iopub.execute_input": "2022-11-09T09:43:19.455686Z",
     "iopub.status.busy": "2022-11-09T09:43:19.454832Z",
     "iopub.status.idle": "2022-11-09T09:43:19.463088Z",
     "shell.execute_reply": "2022-11-09T09:43:19.462270Z"
    },
    "papermill": {
     "duration": 0.018506,
     "end_time": "2022-11-09T09:43:19.465124",
     "exception": false,
     "start_time": "2022-11-09T09:43:19.446618",
     "status": "completed"
    },
    "tags": []
   },
   "outputs": [],
   "source": [
    "class EnsembleFSL(torch.nn.Module):\n",
    "    def __init__(self, n_way=5, num_estimators=2):\n",
    "        super().__init__()\n",
    "        self.n_way = n_way\n",
    "        self.matching_network = MatchingNetwork()\n",
    "        self.prototypical_network = PrototypicalNetwork()\n",
    "        \n",
    "        self.combinational_layer = torch.nn.Sequential(\n",
    "            torch.nn.Linear(2, 1),\n",
    "        )\n",
    "    \n",
    "    \n",
    "    def forward(self, support_images, support_labels, query_images):\n",
    "        matching_net_out = self.matching_network(support_images, support_labels, query_images)\n",
    "        prototypical_net_out = self.prototypical_network(support_images, support_labels, query_images)\n",
    "        \n",
    "        distances = torch.zeros_like(matching_net_out)\n",
    "\n",
    "        for col in range(self.n_way):\n",
    "            req_match_out = matching_net_out[:, col:col+1]\n",
    "            req_proto_out = prototypical_net_out[:, col:col+1]\n",
    "            concat_out = torch.concat((req_match_out, req_proto_out), dim=1)\n",
    "            distances[:, col:col+1] = self.combinational_layer(concat_out)\n",
    "            \n",
    "        return distances"
   ]
  },
  {
   "cell_type": "code",
   "execution_count": 8,
   "id": "f962ebb0",
   "metadata": {
    "execution": {
     "iopub.execute_input": "2022-11-09T09:43:19.479383Z",
     "iopub.status.busy": "2022-11-09T09:43:19.477816Z",
     "iopub.status.idle": "2022-11-09T09:43:19.483184Z",
     "shell.execute_reply": "2022-11-09T09:43:19.482320Z"
    },
    "papermill": {
     "duration": 0.0143,
     "end_time": "2022-11-09T09:43:19.485273",
     "exception": false,
     "start_time": "2022-11-09T09:43:19.470973",
     "status": "completed"
    },
    "tags": []
   },
   "outputs": [],
   "source": [
    "image_size = 224\n",
    "\n",
    "n_way = 5\n",
    "k_shot = 3\n",
    "n_query = 5\n",
    "n_tasks = 100\n",
    "n_epochs = 10\n",
    "n_train_tasks = 100\n",
    "n_val_tasks = 100\n",
    "n_test_tasks = 1000"
   ]
  },
  {
   "cell_type": "code",
   "execution_count": 9,
   "id": "66a0dedf",
   "metadata": {
    "execution": {
     "iopub.execute_input": "2022-11-09T09:43:19.498890Z",
     "iopub.status.busy": "2022-11-09T09:43:19.498006Z",
     "iopub.status.idle": "2022-11-09T09:43:19.503986Z",
     "shell.execute_reply": "2022-11-09T09:43:19.503074Z"
    },
    "papermill": {
     "duration": 0.014919,
     "end_time": "2022-11-09T09:43:19.506096",
     "exception": false,
     "start_time": "2022-11-09T09:43:19.491177",
     "status": "completed"
    },
    "tags": []
   },
   "outputs": [],
   "source": [
    "transform = transforms.Compose(\n",
    "    [\n",
    "        transforms.ToTensor(),\n",
    "        transforms.Resize((image_size, image_size)),\n",
    "        transforms.Normalize(mean=[0.507, 0.487, 0.441], std=[0.267, 0.256, 0.276])\n",
    "    ]\n",
    ")\n"
   ]
  },
  {
   "cell_type": "code",
   "execution_count": 10,
   "id": "128a5f31",
   "metadata": {
    "execution": {
     "iopub.execute_input": "2022-11-09T09:43:19.519169Z",
     "iopub.status.busy": "2022-11-09T09:43:19.518577Z",
     "iopub.status.idle": "2022-11-09T09:43:19.573318Z",
     "shell.execute_reply": "2022-11-09T09:43:19.572001Z"
    },
    "papermill": {
     "duration": 0.063408,
     "end_time": "2022-11-09T09:43:19.575391",
     "exception": false,
     "start_time": "2022-11-09T09:43:19.511983",
     "status": "completed"
    },
    "tags": []
   },
   "outputs": [
    {
     "name": "stdout",
     "output_type": "stream",
     "text": [
      "Length of training data: 1020\n",
      "Length of validation data: 1020\n",
      "Length of test data: 6149\n"
     ]
    }
   ],
   "source": [
    "training_set = torchvision.datasets.Flowers102(root=f'{data_directory}', split='train', transform=transform)\n",
    "validation_set = torchvision.datasets.Flowers102(root=f'{data_directory}', split='val', transform=transform)\n",
    "test_set = torchvision.datasets.Flowers102(root=f'{data_directory}', split='test', transform=transform)\n",
    "\n",
    "print(f'Length of training data: {len(training_set)}')\n",
    "print(f'Length of validation data: {len(validation_set)}')\n",
    "print(f'Length of test data: {len(test_set)}')"
   ]
  },
  {
   "cell_type": "code",
   "execution_count": 11,
   "id": "1d5dedf6",
   "metadata": {
    "execution": {
     "iopub.execute_input": "2022-11-09T09:43:19.589036Z",
     "iopub.status.busy": "2022-11-09T09:43:19.588777Z",
     "iopub.status.idle": "2022-11-09T09:43:19.593972Z",
     "shell.execute_reply": "2022-11-09T09:43:19.592984Z"
    },
    "papermill": {
     "duration": 0.014916,
     "end_time": "2022-11-09T09:43:19.596243",
     "exception": false,
     "start_time": "2022-11-09T09:43:19.581327",
     "status": "completed"
    },
    "tags": []
   },
   "outputs": [],
   "source": [
    "training_set.get_labels = lambda: [\n",
    "    instance for instance in training_set._labels\n",
    "]\n",
    "\n",
    "validation_set.get_labels = lambda: [\n",
    "    instance for instance in validation_set._labels\n",
    "]\n",
    "\n",
    "test_set.get_labels = lambda: [\n",
    "    instance for instance in test_set._labels\n",
    "]"
   ]
  },
  {
   "cell_type": "code",
   "execution_count": 12,
   "id": "3261689b",
   "metadata": {
    "execution": {
     "iopub.execute_input": "2022-11-09T09:43:19.609849Z",
     "iopub.status.busy": "2022-11-09T09:43:19.609572Z",
     "iopub.status.idle": "2022-11-09T09:43:19.617150Z",
     "shell.execute_reply": "2022-11-09T09:43:19.616222Z"
    },
    "papermill": {
     "duration": 0.016549,
     "end_time": "2022-11-09T09:43:19.619157",
     "exception": false,
     "start_time": "2022-11-09T09:43:19.602608",
     "status": "completed"
    },
    "tags": []
   },
   "outputs": [],
   "source": [
    "train_sampler = TaskSampler(training_set, n_way, k_shot, n_query, n_train_tasks)\n",
    "validation_sampler = TaskSampler(validation_set, n_way, k_shot, n_query, n_val_tasks)\n",
    "test_sampler = TaskSampler(test_set, n_way, k_shot, n_query, n_test_tasks)"
   ]
  },
  {
   "cell_type": "code",
   "execution_count": 13,
   "id": "113af6e2",
   "metadata": {
    "execution": {
     "iopub.execute_input": "2022-11-09T09:43:19.632822Z",
     "iopub.status.busy": "2022-11-09T09:43:19.631981Z",
     "iopub.status.idle": "2022-11-09T09:43:19.637998Z",
     "shell.execute_reply": "2022-11-09T09:43:19.637152Z"
    },
    "papermill": {
     "duration": 0.014691,
     "end_time": "2022-11-09T09:43:19.640003",
     "exception": false,
     "start_time": "2022-11-09T09:43:19.625312",
     "status": "completed"
    },
    "tags": []
   },
   "outputs": [],
   "source": [
    "train_loader = torch.utils.data.DataLoader(\n",
    "    training_set,\n",
    "    batch_sampler=train_sampler,\n",
    "    collate_fn=train_sampler.collate_fn,\n",
    ")\n",
    "\n",
    "validation_loader = torch.utils.data.DataLoader(\n",
    "    validation_set,\n",
    "    batch_sampler=validation_sampler,\n",
    "    collate_fn=validation_sampler.collate_fn,\n",
    ")\n",
    "\n",
    "test_loader = torch.utils.data.DataLoader(\n",
    "    test_set,\n",
    "    batch_sampler=test_sampler,\n",
    "    collate_fn=test_sampler.collate_fn,\n",
    ")"
   ]
  },
  {
   "cell_type": "code",
   "execution_count": 14,
   "id": "8f4cb971",
   "metadata": {
    "execution": {
     "iopub.execute_input": "2022-11-09T09:43:19.653903Z",
     "iopub.status.busy": "2022-11-09T09:43:19.653022Z",
     "iopub.status.idle": "2022-11-09T09:43:19.661501Z",
     "shell.execute_reply": "2022-11-09T09:43:19.660701Z"
    },
    "papermill": {
     "duration": 0.017196,
     "end_time": "2022-11-09T09:43:19.663522",
     "exception": false,
     "start_time": "2022-11-09T09:43:19.646326",
     "status": "completed"
    },
    "tags": []
   },
   "outputs": [],
   "source": [
    "def evaluate_model(model, criterion, data_loader):\n",
    "    \n",
    "    model.eval()\n",
    "    \n",
    "    device = torch.device(\"cuda:0\" if torch.cuda.is_available() else \"cpu\")\n",
    "    model.to(device)\n",
    "    \n",
    "    running_loss = 0.0\n",
    "    running_correct = 0\n",
    "    total = 0\n",
    "    \n",
    "    start_time = time.time()\n",
    "    \n",
    "    for support_images, support_labels, query_images, query_labels, _ in tqdm.tqdm(data_loader):\n",
    "        \n",
    "        support_images = support_images.to(device)\n",
    "        support_labels = support_labels.to(device)\n",
    "        query_images = query_images.to(device)\n",
    "        query_labels = query_labels.to(device)\n",
    "\n",
    "        scores = model(support_images, support_labels, query_images)\n",
    "\n",
    "        loss = criterion(scores, query_labels)\n",
    "\n",
    "        running_loss += loss.item()\n",
    "        total += query_labels.shape[0]\n",
    "        _, preds = torch.max(scores, 1)\n",
    "        running_correct += torch.sum(preds == query_labels).item()\n",
    "\n",
    "    end_time = time.time()\n",
    "    \n",
    "    print(f'Loss: {running_loss / len(data_loader)}, Accuracy: {running_correct / total}, Time: {(end_time - start_time):.4f}s')\n",
    "    \n",
    "    return running_loss / len(data_loader), running_correct / total"
   ]
  },
  {
   "cell_type": "code",
   "execution_count": 15,
   "id": "8aa74a53",
   "metadata": {
    "execution": {
     "iopub.execute_input": "2022-11-09T09:43:19.677474Z",
     "iopub.status.busy": "2022-11-09T09:43:19.676732Z",
     "iopub.status.idle": "2022-11-09T09:43:19.687618Z",
     "shell.execute_reply": "2022-11-09T09:43:19.686781Z"
    },
    "papermill": {
     "duration": 0.019992,
     "end_time": "2022-11-09T09:43:19.689818",
     "exception": false,
     "start_time": "2022-11-09T09:43:19.669826",
     "status": "completed"
    },
    "tags": []
   },
   "outputs": [],
   "source": [
    "def train(model, criterion, optimizer, scheduler, train_loader, val_loader, num_epochs=100):\n",
    "    \n",
    "    device = torch.device(\"cuda:0\" if torch.cuda.is_available() else \"cpu\")\n",
    "    \n",
    "    model.to(device)\n",
    "    \n",
    "    train_loss_history = []\n",
    "    train_acc_history = []\n",
    "    val_loss_history = []\n",
    "    val_acc_history = []\n",
    "    \n",
    "    total_time = 0.0\n",
    "    \n",
    "    for epoch in range(num_epochs):\n",
    "        \n",
    "        model.train()\n",
    "        \n",
    "        running_loss = 0.0\n",
    "        running_correct = 0\n",
    "        total = 0\n",
    "        \n",
    "        start_time = time.time()\n",
    "        for support_images, support_labels, query_images, query_labels, _ in tqdm.tqdm(train_loader):\n",
    "            support_images = support_images.to(device)\n",
    "            support_labels = support_labels.to(device)\n",
    "            query_images = query_images.to(device)\n",
    "            query_labels = query_labels.to(device)\n",
    "            \n",
    "            optimizer.zero_grad()\n",
    "            \n",
    "            scores = model(support_images, support_labels, query_images)\n",
    "            \n",
    "            loss = criterion(scores, query_labels)\n",
    "            \n",
    "            running_loss += loss.item()\n",
    "            total += query_labels.shape[0]\n",
    "            _, preds = torch.max(scores, 1)\n",
    "            running_correct += torch.sum(preds == query_labels).item()\n",
    "            \n",
    "            loss.backward()\n",
    "            optimizer.step()\n",
    "         \n",
    "        end_time = time.time()\n",
    "        \n",
    "        scheduler.step()\n",
    "        \n",
    "        print(f'Epoch: {epoch + 1}, Loss: {running_loss / len(train_loader)}, Accuracy: {running_correct / total}, Time: {(end_time - start_time):.4f}s')\n",
    "        \n",
    "        total_time += end_time - start_time\n",
    "        \n",
    "        train_loss_history.append(running_loss / len(train_loader))\n",
    "        train_acc_history.append(running_correct / total)\n",
    "        \n",
    "        val_loss, val_acc = evaluate_model(model, criterion, val_loader)\n",
    "        \n",
    "        val_loss_history.append(val_loss)\n",
    "        val_acc_history.append(val_acc)\n",
    "        \n",
    "    print(f'Average Training Time: {total_time / num_epochs}')\n",
    "    return train_loss_history, train_acc_history, val_loss_history, val_acc_history"
   ]
  },
  {
   "cell_type": "code",
   "execution_count": 16,
   "id": "c160361f",
   "metadata": {
    "execution": {
     "iopub.execute_input": "2022-11-09T09:43:19.703272Z",
     "iopub.status.busy": "2022-11-09T09:43:19.702515Z",
     "iopub.status.idle": "2022-11-09T09:43:20.918115Z",
     "shell.execute_reply": "2022-11-09T09:43:20.916823Z"
    },
    "papermill": {
     "duration": 1.226671,
     "end_time": "2022-11-09T09:43:20.922483",
     "exception": false,
     "start_time": "2022-11-09T09:43:19.695812",
     "status": "completed"
    },
    "tags": []
   },
   "outputs": [
    {
     "name": "stderr",
     "output_type": "stream",
     "text": [
      "Downloading: \"https://download.pytorch.org/models/resnet18-f37072fd.pth\" to /root/.cache/torch/hub/checkpoints/resnet18-f37072fd.pth\n"
     ]
    },
    {
     "data": {
      "application/vnd.jupyter.widget-view+json": {
       "model_id": "d96a9aa925c649f2b18dc02f38916d50",
       "version_major": 2,
       "version_minor": 0
      },
      "text/plain": [
       "  0%|          | 0.00/44.7M [00:00<?, ?B/s]"
      ]
     },
     "metadata": {},
     "output_type": "display_data"
    }
   ],
   "source": [
    "model = EnsembleFSL(n_way=n_way)"
   ]
  },
  {
   "cell_type": "code",
   "execution_count": 17,
   "id": "0b4dec65",
   "metadata": {
    "execution": {
     "iopub.execute_input": "2022-11-09T09:43:20.950801Z",
     "iopub.status.busy": "2022-11-09T09:43:20.950469Z",
     "iopub.status.idle": "2022-11-09T09:43:20.958279Z",
     "shell.execute_reply": "2022-11-09T09:43:20.956490Z"
    },
    "papermill": {
     "duration": 0.022272,
     "end_time": "2022-11-09T09:43:20.960391",
     "exception": false,
     "start_time": "2022-11-09T09:43:20.938119",
     "status": "completed"
    },
    "tags": []
   },
   "outputs": [],
   "source": [
    "criterion = torch.nn.CrossEntropyLoss()\n",
    "optimizer = optim.Adam(model.parameters(), lr=0.0001)\n",
    "lr_scheduler = torch.optim.lr_scheduler.StepLR(optimizer, step_size=2, gamma=0.1)"
   ]
  },
  {
   "cell_type": "code",
   "execution_count": 18,
   "id": "54bfe323",
   "metadata": {
    "execution": {
     "iopub.execute_input": "2022-11-09T09:43:20.975527Z",
     "iopub.status.busy": "2022-11-09T09:43:20.974583Z",
     "iopub.status.idle": "2022-11-09T09:58:30.296217Z",
     "shell.execute_reply": "2022-11-09T09:58:30.295083Z"
    },
    "papermill": {
     "duration": 909.332953,
     "end_time": "2022-11-09T09:58:30.299954",
     "exception": false,
     "start_time": "2022-11-09T09:43:20.967001",
     "status": "completed"
    },
    "tags": []
   },
   "outputs": [
    {
     "name": "stderr",
     "output_type": "stream",
     "text": [
      "100%|██████████| 100/100 [00:56<00:00,  1.77it/s]\n"
     ]
    },
    {
     "name": "stdout",
     "output_type": "stream",
     "text": [
      "Epoch: 1, Loss: 0.12360803078860044, Accuracy: 0.9768, Time: 56.5800s\n"
     ]
    },
    {
     "name": "stderr",
     "output_type": "stream",
     "text": [
      "100%|██████████| 100/100 [00:39<00:00,  2.53it/s]\n"
     ]
    },
    {
     "name": "stdout",
     "output_type": "stream",
     "text": [
      "Loss: 0.129912679749541, Accuracy: 0.9616, Time: 39.5712s\n"
     ]
    },
    {
     "name": "stderr",
     "output_type": "stream",
     "text": [
      "100%|██████████| 100/100 [00:50<00:00,  1.98it/s]\n"
     ]
    },
    {
     "name": "stdout",
     "output_type": "stream",
     "text": [
      "Epoch: 2, Loss: 0.020189111468498597, Accuracy: 0.9964, Time: 50.6362s\n"
     ]
    },
    {
     "name": "stderr",
     "output_type": "stream",
     "text": [
      "100%|██████████| 100/100 [00:39<00:00,  2.52it/s]\n"
     ]
    },
    {
     "name": "stdout",
     "output_type": "stream",
     "text": [
      "Loss: 0.12214193768682889, Accuracy: 0.9576, Time: 39.6408s\n"
     ]
    },
    {
     "name": "stderr",
     "output_type": "stream",
     "text": [
      "100%|██████████| 100/100 [00:50<00:00,  1.98it/s]\n"
     ]
    },
    {
     "name": "stdout",
     "output_type": "stream",
     "text": [
      "Epoch: 3, Loss: 0.021201243858085944, Accuracy: 0.9944, Time: 50.6434s\n"
     ]
    },
    {
     "name": "stderr",
     "output_type": "stream",
     "text": [
      "100%|██████████| 100/100 [00:39<00:00,  2.54it/s]\n"
     ]
    },
    {
     "name": "stdout",
     "output_type": "stream",
     "text": [
      "Loss: 0.08740959310671315, Accuracy: 0.9736, Time: 39.4406s\n"
     ]
    },
    {
     "name": "stderr",
     "output_type": "stream",
     "text": [
      "100%|██████████| 100/100 [00:51<00:00,  1.96it/s]\n"
     ]
    },
    {
     "name": "stdout",
     "output_type": "stream",
     "text": [
      "Epoch: 4, Loss: 0.013427466713474133, Accuracy: 0.9972, Time: 51.0931s\n"
     ]
    },
    {
     "name": "stderr",
     "output_type": "stream",
     "text": [
      "100%|██████████| 100/100 [00:39<00:00,  2.53it/s]\n"
     ]
    },
    {
     "name": "stdout",
     "output_type": "stream",
     "text": [
      "Loss: 0.08375683372374625, Accuracy: 0.9724, Time: 39.4615s\n"
     ]
    },
    {
     "name": "stderr",
     "output_type": "stream",
     "text": [
      "100%|██████████| 100/100 [00:50<00:00,  1.97it/s]\n"
     ]
    },
    {
     "name": "stdout",
     "output_type": "stream",
     "text": [
      "Epoch: 5, Loss: 0.014117616275907494, Accuracy: 0.998, Time: 50.7525s\n"
     ]
    },
    {
     "name": "stderr",
     "output_type": "stream",
     "text": [
      "100%|██████████| 100/100 [00:39<00:00,  2.54it/s]\n"
     ]
    },
    {
     "name": "stdout",
     "output_type": "stream",
     "text": [
      "Loss: 0.09398758865427226, Accuracy: 0.9692, Time: 39.3628s\n"
     ]
    },
    {
     "name": "stderr",
     "output_type": "stream",
     "text": [
      "100%|██████████| 100/100 [00:50<00:00,  1.98it/s]\n"
     ]
    },
    {
     "name": "stdout",
     "output_type": "stream",
     "text": [
      "Epoch: 6, Loss: 0.013097633771249093, Accuracy: 0.998, Time: 50.4055s\n"
     ]
    },
    {
     "name": "stderr",
     "output_type": "stream",
     "text": [
      "100%|██████████| 100/100 [00:39<00:00,  2.53it/s]\n"
     ]
    },
    {
     "name": "stdout",
     "output_type": "stream",
     "text": [
      "Loss: 0.08163442609889898, Accuracy: 0.9752, Time: 39.4929s\n"
     ]
    },
    {
     "name": "stderr",
     "output_type": "stream",
     "text": [
      "100%|██████████| 100/100 [00:50<00:00,  2.00it/s]\n"
     ]
    },
    {
     "name": "stdout",
     "output_type": "stream",
     "text": [
      "Epoch: 7, Loss: 0.013030349751934409, Accuracy: 0.9984, Time: 50.1277s\n"
     ]
    },
    {
     "name": "stderr",
     "output_type": "stream",
     "text": [
      "100%|██████████| 100/100 [00:39<00:00,  2.55it/s]\n"
     ]
    },
    {
     "name": "stdout",
     "output_type": "stream",
     "text": [
      "Loss: 0.11289227491710335, Accuracy: 0.9604, Time: 39.1754s\n"
     ]
    },
    {
     "name": "stderr",
     "output_type": "stream",
     "text": [
      "100%|██████████| 100/100 [00:50<00:00,  2.00it/s]\n"
     ]
    },
    {
     "name": "stdout",
     "output_type": "stream",
     "text": [
      "Epoch: 8, Loss: 0.011691083113546483, Accuracy: 1.0, Time: 50.0995s\n"
     ]
    },
    {
     "name": "stderr",
     "output_type": "stream",
     "text": [
      "100%|██████████| 100/100 [00:39<00:00,  2.53it/s]\n"
     ]
    },
    {
     "name": "stdout",
     "output_type": "stream",
     "text": [
      "Loss: 0.09129221619456075, Accuracy: 0.9704, Time: 39.5899s\n"
     ]
    },
    {
     "name": "stderr",
     "output_type": "stream",
     "text": [
      "100%|██████████| 100/100 [00:50<00:00,  1.99it/s]\n"
     ]
    },
    {
     "name": "stdout",
     "output_type": "stream",
     "text": [
      "Epoch: 9, Loss: 0.012237589505384677, Accuracy: 0.9984, Time: 50.2332s\n"
     ]
    },
    {
     "name": "stderr",
     "output_type": "stream",
     "text": [
      "100%|██████████| 100/100 [00:39<00:00,  2.56it/s]\n"
     ]
    },
    {
     "name": "stdout",
     "output_type": "stream",
     "text": [
      "Loss: 0.09194326207274571, Accuracy: 0.9752, Time: 39.1470s\n"
     ]
    },
    {
     "name": "stderr",
     "output_type": "stream",
     "text": [
      "100%|██████████| 100/100 [00:50<00:00,  1.98it/s]\n"
     ]
    },
    {
     "name": "stdout",
     "output_type": "stream",
     "text": [
      "Epoch: 10, Loss: 0.011807904837769456, Accuracy: 0.9996, Time: 50.5928s\n"
     ]
    },
    {
     "name": "stderr",
     "output_type": "stream",
     "text": [
      "100%|██████████| 100/100 [00:39<00:00,  2.56it/s]"
     ]
    },
    {
     "name": "stdout",
     "output_type": "stream",
     "text": [
      "Loss: 0.08022500608116388, Accuracy: 0.976, Time: 39.1236s\n",
      "Average Training Time: 51.11639800071716\n"
     ]
    },
    {
     "name": "stderr",
     "output_type": "stream",
     "text": [
      "\n"
     ]
    }
   ],
   "source": [
    "history = train(model, criterion, optimizer, lr_scheduler, train_loader, validation_loader, num_epochs=n_epochs)"
   ]
  },
  {
   "cell_type": "code",
   "execution_count": 19,
   "id": "0f65882f",
   "metadata": {
    "execution": {
     "iopub.execute_input": "2022-11-09T09:58:30.514267Z",
     "iopub.status.busy": "2022-11-09T09:58:30.513323Z",
     "iopub.status.idle": "2022-11-09T09:58:30.518298Z",
     "shell.execute_reply": "2022-11-09T09:58:30.517418Z"
    },
    "papermill": {
     "duration": 0.112601,
     "end_time": "2022-11-09T09:58:30.520282",
     "exception": false,
     "start_time": "2022-11-09T09:58:30.407681",
     "status": "completed"
    },
    "tags": []
   },
   "outputs": [],
   "source": [
    "train_loss, train_acc, val_loss, val_acc = history"
   ]
  },
  {
   "cell_type": "code",
   "execution_count": 20,
   "id": "7bdc243c",
   "metadata": {
    "execution": {
     "iopub.execute_input": "2022-11-09T09:58:30.734111Z",
     "iopub.status.busy": "2022-11-09T09:58:30.733121Z",
     "iopub.status.idle": "2022-11-09T09:58:30.739319Z",
     "shell.execute_reply": "2022-11-09T09:58:30.738428Z"
    },
    "papermill": {
     "duration": 0.11515,
     "end_time": "2022-11-09T09:58:30.741352",
     "exception": false,
     "start_time": "2022-11-09T09:58:30.626202",
     "status": "completed"
    },
    "tags": []
   },
   "outputs": [],
   "source": [
    "def plot_curve(train_history, val_history, title='Model Accuracy', ylabel='Accuracy', legend_loc='upper left'):\n",
    "    \n",
    "    plt.plot(train_history)\n",
    "    plt.plot(val_history)\n",
    "    plt.title(title)\n",
    "    plt.ylabel(ylabel)\n",
    "    plt.xlabel('epochs')\n",
    "    plt.legend(['train', 'validation'], loc=legend_loc)\n",
    "    \n",
    "    plt.show()"
   ]
  },
  {
   "cell_type": "code",
   "execution_count": 21,
   "id": "f44faa7d",
   "metadata": {
    "execution": {
     "iopub.execute_input": "2022-11-09T09:58:30.955316Z",
     "iopub.status.busy": "2022-11-09T09:58:30.954989Z",
     "iopub.status.idle": "2022-11-09T09:58:31.159277Z",
     "shell.execute_reply": "2022-11-09T09:58:31.158318Z"
    },
    "papermill": {
     "duration": 0.313619,
     "end_time": "2022-11-09T09:58:31.161250",
     "exception": false,
     "start_time": "2022-11-09T09:58:30.847631",
     "status": "completed"
    },
    "tags": []
   },
   "outputs": [
    {
     "data": {
      "image/png": "[encoded data removed]",
      "text/plain": [
       "<Figure size 432x288 with 1 Axes>"
      ]
     },
     "metadata": {
      "needs_background": "light"
     },
     "output_type": "display_data"
    }
   ],
   "source": [
    "plot_curve(train_loss, val_loss, title='Ensemble Network Loss', ylabel='Loss', legend_loc='upper right')"
   ]
  },
  {
   "cell_type": "code",
   "execution_count": 22,
   "id": "ca2214ee",
   "metadata": {
    "execution": {
     "iopub.execute_input": "2022-11-09T09:58:31.375793Z",
     "iopub.status.busy": "2022-11-09T09:58:31.375439Z",
     "iopub.status.idle": "2022-11-09T09:58:31.560308Z",
     "shell.execute_reply": "2022-11-09T09:58:31.559416Z"
    },
    "papermill": {
     "duration": 0.294095,
     "end_time": "2022-11-09T09:58:31.562307",
     "exception": false,
     "start_time": "2022-11-09T09:58:31.268212",
     "status": "completed"
    },
    "tags": []
   },
   "outputs": [
    {
     "data": {
      "image/png": "[encoded data removed]",
      "text/plain": [
       "<Figure size 432x288 with 1 Axes>"
      ]
     },
     "metadata": {
      "needs_background": "light"
     },
     "output_type": "display_data"
    }
   ],
   "source": [
    "plot_curve(train_acc, val_acc, title='Ensemble Network Accuracy', ylabel='Accuracy', legend_loc='upper left')"
   ]
  },
  {
   "cell_type": "code",
   "execution_count": 23,
   "id": "4ed200a4",
   "metadata": {
    "execution": {
     "iopub.execute_input": "2022-11-09T09:58:31.779945Z",
     "iopub.status.busy": "2022-11-09T09:58:31.779048Z",
     "iopub.status.idle": "2022-11-09T10:06:27.012611Z",
     "shell.execute_reply": "2022-11-09T10:06:27.011184Z"
    },
    "papermill": {
     "duration": 475.346677,
     "end_time": "2022-11-09T10:06:27.016939",
     "exception": false,
     "start_time": "2022-11-09T09:58:31.670262",
     "status": "completed"
    },
    "tags": []
   },
   "outputs": [
    {
     "name": "stdout",
     "output_type": "stream",
     "text": [
      "Train: "
     ]
    },
    {
     "name": "stderr",
     "output_type": "stream",
     "text": [
      "100%|██████████| 100/100 [00:39<00:00,  2.51it/s]\n"
     ]
    },
    {
     "name": "stdout",
     "output_type": "stream",
     "text": [
      "Loss: 0.013166400416885153, Accuracy: 0.9984, Time: 39.8126s\n",
      "Validation: "
     ]
    },
    {
     "name": "stderr",
     "output_type": "stream",
     "text": [
      "100%|██████████| 100/100 [00:39<00:00,  2.52it/s]\n"
     ]
    },
    {
     "name": "stdout",
     "output_type": "stream",
     "text": [
      "Loss: 0.09996235418133438, Accuracy: 0.9692, Time: 39.6218s\n",
      "Test: "
     ]
    },
    {
     "name": "stderr",
     "output_type": "stream",
     "text": [
      "100%|██████████| 1000/1000 [06:35<00:00,  2.53it/s]"
     ]
    },
    {
     "name": "stdout",
     "output_type": "stream",
     "text": [
      "Loss: 0.09988391173735726, Accuracy: 0.9682, Time: 395.7740s\n"
     ]
    },
    {
     "name": "stderr",
     "output_type": "stream",
     "text": [
      "\n"
     ]
    }
   ],
   "source": [
    "print('Train: ', end='')\n",
    "evaluate_model(model, criterion, train_loader)\n",
    "\n",
    "print('Validation: ', end='')\n",
    "evaluate_model(model, criterion, validation_loader)\n",
    "\n",
    "print('Test: ', end='')\n",
    "evaluate_model(model, criterion, test_loader);"
   ]
  },
  {
   "cell_type": "code",
   "execution_count": 24,
   "id": "a1a57893",
   "metadata": {
    "execution": {
     "iopub.execute_input": "2022-11-09T10:06:27.402096Z",
     "iopub.status.busy": "2022-11-09T10:06:27.401511Z",
     "iopub.status.idle": "2022-11-09T10:06:27.591534Z",
     "shell.execute_reply": "2022-11-09T10:06:27.590379Z"
    },
    "papermill": {
     "duration": 0.407554,
     "end_time": "2022-11-09T10:06:27.594191",
     "exception": false,
     "start_time": "2022-11-09T10:06:27.186637",
     "status": "completed"
    },
    "tags": []
   },
   "outputs": [],
   "source": [
    "torch.save(model.state_dict(), \"ensemble_network_episodic.pt\")"
   ]
  },
  {
   "cell_type": "code",
   "execution_count": 25,
   "id": "5f41a8ee",
   "metadata": {
    "execution": {
     "iopub.execute_input": "2022-11-09T10:06:27.935904Z",
     "iopub.status.busy": "2022-11-09T10:06:27.935016Z",
     "iopub.status.idle": "2022-11-09T10:06:27.947626Z",
     "shell.execute_reply": "2022-11-09T10:06:27.945988Z"
    },
    "papermill": {
     "duration": 0.187831,
     "end_time": "2022-11-09T10:06:27.950760",
     "exception": false,
     "start_time": "2022-11-09T10:06:27.762929",
     "status": "completed"
    },
    "tags": []
   },
   "outputs": [
    {
     "name": "stdout",
     "output_type": "stream",
     "text": [
      "Parameter containing:\n",
      "tensor([[0.3852, 0.3575]], device='cuda:0', requires_grad=True)\n",
      "Parameter containing:\n",
      "tensor([-0.6859], device='cuda:0', requires_grad=True)\n"
     ]
    }
   ],
   "source": [
    "print(model.combinational_layer[0].weight)\n",
    "print(model.combinational_layer[0].bias)"
   ]
  },
  {
   "cell_type": "code",
   "execution_count": null,
   "id": "c7f4daa3",
   "metadata": {
    "papermill": {
     "duration": 0.165749,
     "end_time": "2022-11-09T10:06:28.284343",
     "exception": false,
     "start_time": "2022-11-09T10:06:28.118594",
     "status": "completed"
    },
    "tags": []
   },
   "outputs": [],
   "source": []
  }
 ],
 "metadata": {
  "kernelspec": {
   "display_name": "Python 3",
   "language": "python",
   "name": "python3"
  },
  "language_info": {
   "codemirror_mode": {
    "name": "ipython",
    "version": 3
   },
   "file_extension": ".py",
   "mimetype": "text/x-python",
   "name": "python",
   "nbconvert_exporter": "python",
   "pygments_lexer": "ipython3",
   "version": "3.7.12"
  },
  "papermill": {
   "default_parameters": {},
   "duration": 1411.482069,
   "end_time": "2022-11-09T10:06:29.880530",
   "environment_variables": {},
   "exception": null,
   "input_path": "__notebook__.ipynb",
   "output_path": "__notebook__.ipynb",
   "parameters": {},
   "start_time": "2022-11-09T09:42:58.398461",
   "version": "2.3.4"
  },
  "widgets": {
   "application/vnd.jupyter.widget-state+json": {
    "state": {
     "06f6451b935e4ad280f931cad9dc08da": {
      "model_module": "@jupyter-widgets/controls",
      "model_module_version": "1.5.0",
      "model_name": "ProgressStyleModel",
      "state": {
       "_model_module": "@jupyter-widgets/controls",
       "_model_module_version": "1.5.0",
       "_model_name": "ProgressStyleModel",
       "_view_count": null,
       "_view_module": "@jupyter-widgets/base",
       "_view_module_version": "1.2.0",
       "_view_name": "StyleView",
       "bar_color": null,
       "description_width": ""
      }
     },
     "07b45d377692406da435629654a96a07": {
      "model_module": "@jupyter-widgets/controls",
      "model_module_version": "1.5.0",
      "model_name": "DescriptionStyleModel",
      "state": {
       "_model_module": "@jupyter-widgets/controls",
       "_model_module_version": "1.5.0",
       "_model_name": "DescriptionStyleModel",
       "_view_count": null,
       "_view_module": "@jupyter-widgets/base",
       "_view_module_version": "1.2.0",
       "_view_name": "StyleView",
       "description_width": ""
      }
     },
     "0ea9018e9c3047f6957016580ffbf0a0": {
      "model_module": "@jupyter-widgets/controls",
      "model_module_version": "1.5.0",
      "model_name": "HTMLModel",
      "state": {
       "_dom_classes": [],
       "_model_module": "@jupyter-widgets/controls",
       "_model_module_version": "1.5.0",
       "_model_name": "HTMLModel",
       "_view_count": null,
       "_view_module": "@jupyter-widgets/controls",
       "_view_module_version": "1.5.0",
       "_view_name": "HTMLView",
       "description": "",
       "description_tooltip": null,
       "layout": "IPY_MODEL_42d1d2b558414829bc672bf777f71443",
       "placeholder": "​",
       "style": "IPY_MODEL_700752253aa44fa6a250a20a58d40d6a",
       "value": " 44.7M/44.7M [00:00&lt;00:00, 151MB/s]"
      }
     },
     "16ec584a88264bca8ff80d05f5cbcf02": {
      "model_module": "@jupyter-widgets/controls",
      "model_module_version": "1.5.0",
      "model_name": "DescriptionStyleModel",
      "state": {
       "_model_module": "@jupyter-widgets/controls",
       "_model_module_version": "1.5.0",
       "_model_name": "DescriptionStyleModel",
       "_view_count": null,
       "_view_module": "@jupyter-widgets/base",
       "_view_module_version": "1.2.0",
       "_view_name": "StyleView",
       "description_width": ""
      }
     },
     "1ce16bd5ab03409b8cb0fd58baa8c08c": {
      "model_module": "@jupyter-widgets/base",
      "model_module_version": "1.2.0",
      "model_name": "LayoutModel",
      "state": {
       "_model_module": "@jupyter-widgets/base",
       "_model_module_version": "1.2.0",
       "_model_name": "LayoutModel",
       "_view_count": null,
       "_view_module": "@jupyter-widgets/base",
       "_view_module_version": "1.2.0",
       "_view_name": "LayoutView",
       "align_content": null,
       "align_items": null,
       "align_self": null,
       "border": null,
       "bottom": null,
       "display": null,
       "flex": null,
       "flex_flow": null,
       "grid_area": null,
       "grid_auto_columns": null,
       "grid_auto_flow": null,
       "grid_auto_rows": null,
       "grid_column": null,
       "grid_gap": null,
       "grid_row": null,
       "grid_template_areas": null,
       "grid_template_columns": null,
       "grid_template_rows": null,
       "height": null,
       "justify_content": null,
       "justify_items": null,
       "left": null,
       "margin": null,
       "max_height": null,
       "max_width": null,
       "min_height": null,
       "min_width": null,
       "object_fit": null,
       "object_position": null,
       "order": null,
       "overflow": null,
       "overflow_x": null,
       "overflow_y": null,
       "padding": null,
       "right": null,
       "top": null,
       "visibility": null,
       "width": null
      }
     },
     "2250fee7471042a384a5971cbbca8d6a": {
      "model_module": "@jupyter-widgets/controls",
      "model_module_version": "1.5.0",
      "model_name": "ProgressStyleModel",
      "state": {
       "_model_module": "@jupyter-widgets/controls",
       "_model_module_version": "1.5.0",
       "_model_name": "ProgressStyleModel",
       "_view_count": null,
       "_view_module": "@jupyter-widgets/base",
       "_view_module_version": "1.2.0",
       "_view_name": "StyleView",
       "bar_color": null,
       "description_width": ""
      }
     },
     "24355384424d4eaebc12189afb9d7dba": {
      "model_module": "@jupyter-widgets/controls",
      "model_module_version": "1.5.0",
      "model_name": "DescriptionStyleModel",
      "state": {
       "_model_module": "@jupyter-widgets/controls",
       "_model_module_version": "1.5.0",
       "_model_name": "DescriptionStyleModel",
       "_view_count": null,
       "_view_module": "@jupyter-widgets/base",
       "_view_module_version": "1.2.0",
       "_view_name": "StyleView",
       "description_width": ""
      }
     },
     "30875c05a71340c09911f56ab2778851": {
      "model_module": "@jupyter-widgets/base",
      "model_module_version": "1.2.0",
      "model_name": "LayoutModel",
      "state": {
       "_model_module": "@jupyter-widgets/base",
       "_model_module_version": "1.2.0",
       "_model_name": "LayoutModel",
       "_view_count": null,
       "_view_module": "@jupyter-widgets/base",
       "_view_module_version": "1.2.0",
       "_view_name": "LayoutView",
       "align_content": null,
       "align_items": null,
       "align_self": null,
       "border": null,
       "bottom": null,
       "display": null,
       "flex": null,
       "flex_flow": null,
       "grid_area": null,
       "grid_auto_columns": null,
       "grid_auto_flow": null,
       "grid_auto_rows": null,
       "grid_column": null,
       "grid_gap": null,
       "grid_row": null,
       "grid_template_areas": null,
       "grid_template_columns": null,
       "grid_template_rows": null,
       "height": null,
       "justify_content": null,
       "justify_items": null,
       "left": null,
       "margin": null,
       "max_height": null,
       "max_width": null,
       "min_height": null,
       "min_width": null,
       "object_fit": null,
       "object_position": null,
       "order": null,
       "overflow": null,
       "overflow_x": null,
       "overflow_y": null,
       "padding": null,
       "right": null,
       "top": null,
       "visibility": null,
       "width": null
      }
     },
     "3643e65c2ffa456d81e1656495156635": {
      "model_module": "@jupyter-widgets/controls",
      "model_module_version": "1.5.0",
      "model_name": "FloatProgressModel",
      "state": {
       "_dom_classes": [],
       "_model_module": "@jupyter-widgets/controls",
       "_model_module_version": "1.5.0",
       "_model_name": "FloatProgressModel",
       "_view_count": null,
       "_view_module": "@jupyter-widgets/controls",
       "_view_module_version": "1.5.0",
       "_view_name": "ProgressView",
       "bar_style": "success",
       "description": "",
       "description_tooltip": null,
       "layout": "IPY_MODEL_fd54fe4207454f3da6fb2c3884d3b51e",
       "max": 46830571.0,
       "min": 0.0,
       "orientation": "horizontal",
       "style": "IPY_MODEL_8a731ca1109e414d98033ec3683369df",
       "value": 46830571.0
      }
     },
     "42d1d2b558414829bc672bf777f71443": {
      "model_module": "@jupyter-widgets/base",
      "model_module_version": "1.2.0",
      "model_name": "LayoutModel",
      "state": {
       "_model_module": "@jupyter-widgets/base",
       "_model_module_version": "1.2.0",
       "_model_name": "LayoutModel",
       "_view_count": null,
       "_view_module": "@jupyter-widgets/base",
       "_view_module_version": "1.2.0",
       "_view_name": "LayoutView",
       "align_content": null,
       "align_items": null,
       "align_self": null,
       "border": null,
       "bottom": null,
       "display": null,
       "flex": null,
       "flex_flow": null,
       "grid_area": null,
       "grid_auto_columns": null,
       "grid_auto_flow": null,
       "grid_auto_rows": null,
       "grid_column": null,
       "grid_gap": null,
       "grid_row": null,
       "grid_template_areas": null,
       "grid_template_columns": null,
       "grid_template_rows": null,
       "height": null,
       "justify_content": null,
       "justify_items": null,
       "left": null,
       "margin": null,
       "max_height": null,
       "max_width": null,
       "min_height": null,
       "min_width": null,
       "object_fit": null,
       "object_position": null,
       "order": null,
       "overflow": null,
       "overflow_x": null,
       "overflow_y": null,
       "padding": null,
       "right": null,
       "top": null,
       "visibility": null,
       "width": null
      }
     },
     "51960087ef99473aa043b1b14e05fc75": {
      "model_module": "@jupyter-widgets/base",
      "model_module_version": "1.2.0",
      "model_name": "LayoutModel",
      "state": {
       "_model_module": "@jupyter-widgets/base",
       "_model_module_version": "1.2.0",
       "_model_name": "LayoutModel",
       "_view_count": null,
       "_view_module": "@jupyter-widgets/base",
       "_view_module_version": "1.2.0",
       "_view_name": "LayoutView",
       "align_content": null,
       "align_items": null,
       "align_self": null,
       "border": null,
       "bottom": null,
       "display": null,
       "flex": null,
       "flex_flow": null,
       "grid_area": null,
       "grid_auto_columns": null,
       "grid_auto_flow": null,
       "grid_auto_rows": null,
       "grid_column": null,
       "grid_gap": null,
       "grid_row": null,
       "grid_template_areas": null,
       "grid_template_columns": null,
       "grid_template_rows": null,
       "height": null,
       "justify_content": null,
       "justify_items": null,
       "left": null,
       "margin": null,
       "max_height": null,
       "max_width": null,
       "min_height": null,
       "min_width": null,
       "object_fit": null,
       "object_position": null,
       "order": null,
       "overflow": null,
       "overflow_x": null,
       "overflow_y": null,
       "padding": null,
       "right": null,
       "top": null,
       "visibility": null,
       "width": null
      }
     },
     "5484bdb0f87d43bd8ec2ee1b6bedfc73": {
      "model_module": "@jupyter-widgets/controls",
      "model_module_version": "1.5.0",
      "model_name": "HBoxModel",
      "state": {
       "_dom_classes": [],
       "_model_module": "@jupyter-widgets/controls",
       "_model_module_version": "1.5.0",
       "_model_name": "HBoxModel",
       "_view_count": null,
       "_view_module": "@jupyter-widgets/controls",
       "_view_module_version": "1.5.0",
       "_view_name": "HBoxView",
       "box_style": "",
       "children": [
        "IPY_MODEL_e66128cc9d5e469fa259e2b827e06be4",
        "IPY_MODEL_8ef7e37a1f2749cfa939bc5e77222a5c",
        "IPY_MODEL_b0fa5079d22d432a9731ddbf6e2360c9"
       ],
       "layout": "IPY_MODEL_9a04603d5cd54d739351adb381ea5c7e"
      }
     },
     "5f49c0599af7430e8910d5542249fe1e": {
      "model_module": "@jupyter-widgets/base",
      "model_module_version": "1.2.0",
      "model_name": "LayoutModel",
      "state": {
       "_model_module": "@jupyter-widgets/base",
       "_model_module_version": "1.2.0",
       "_model_name": "LayoutModel",
       "_view_count": null,
       "_view_module": "@jupyter-widgets/base",
       "_view_module_version": "1.2.0",
       "_view_name": "LayoutView",
       "align_content": null,
       "align_items": null,
       "align_self": null,
       "border": null,
       "bottom": null,
       "display": null,
       "flex": null,
       "flex_flow": null,
       "grid_area": null,
       "grid_auto_columns": null,
       "grid_auto_flow": null,
       "grid_auto_rows": null,
       "grid_column": null,
       "grid_gap": null,
       "grid_row": null,
       "grid_template_areas": null,
       "grid_template_columns": null,
       "grid_template_rows": null,
       "height": null,
       "justify_content": null,
       "justify_items": null,
       "left": null,
       "margin": null,
       "max_height": null,
       "max_width": null,
       "min_height": null,
       "min_width": null,
       "object_fit": null,
       "object_position": null,
       "order": null,
       "overflow": null,
       "overflow_x": null,
       "overflow_y": null,
       "padding": null,
       "right": null,
       "top": null,
       "visibility": null,
       "width": null
      }
     },
     "63cdebad5d1c4d1eab88214080c3e18e": {
      "model_module": "@jupyter-widgets/base",
      "model_module_version": "1.2.0",
      "model_name": "LayoutModel",
      "state": {
       "_model_module": "@jupyter-widgets/base",
       "_model_module_version": "1.2.0",
       "_model_name": "LayoutModel",
       "_view_count": null,
       "_view_module": "@jupyter-widgets/base",
       "_view_module_version": "1.2.0",
       "_view_name": "LayoutView",
       "align_content": null,
       "align_items": null,
       "align_self": null,
       "border": null,
       "bottom": null,
       "display": null,
       "flex": null,
       "flex_flow": null,
       "grid_area": null,
       "grid_auto_columns": null,
       "grid_auto_flow": null,
       "grid_auto_rows": null,
       "grid_column": null,
       "grid_gap": null,
       "grid_row": null,
       "grid_template_areas": null,
       "grid_template_columns": null,
       "grid_template_rows": null,
       "height": null,
       "justify_content": null,
       "justify_items": null,
       "left": null,
       "margin": null,
       "max_height": null,
       "max_width": null,
       "min_height": null,
       "min_width": null,
       "object_fit": null,
       "object_position": null,
       "order": null,
       "overflow": null,
       "overflow_x": null,
       "overflow_y": null,
       "padding": null,
       "right": null,
       "top": null,
       "visibility": null,
       "width": null
      }
     },
     "64a0a0c4cd9a4c879bc1d837a9aaf542": {
      "model_module": "@jupyter-widgets/controls",
      "model_module_version": "1.5.0",
      "model_name": "DescriptionStyleModel",
      "state": {
       "_model_module": "@jupyter-widgets/controls",
       "_model_module_version": "1.5.0",
       "_model_name": "DescriptionStyleModel",
       "_view_count": null,
       "_view_module": "@jupyter-widgets/base",
       "_view_module_version": "1.2.0",
       "_view_name": "StyleView",
       "description_width": ""
      }
     },
     "6bcbd42c352b4a148a8984a4184b7d5f": {
      "model_module": "@jupyter-widgets/controls",
      "model_module_version": "1.5.0",
      "model_name": "HTMLModel",
      "state": {
       "_dom_classes": [],
       "_model_module": "@jupyter-widgets/controls",
       "_model_module_version": "1.5.0",
       "_model_name": "HTMLModel",
       "_view_count": null,
       "_view_module": "@jupyter-widgets/controls",
       "_view_module_version": "1.5.0",
       "_view_name": "HTMLView",
       "description": "",
       "description_tooltip": null,
       "layout": "IPY_MODEL_63cdebad5d1c4d1eab88214080c3e18e",
       "placeholder": "​",
       "style": "IPY_MODEL_64a0a0c4cd9a4c879bc1d837a9aaf542",
       "value": ""
      }
     },
     "700752253aa44fa6a250a20a58d40d6a": {
      "model_module": "@jupyter-widgets/controls",
      "model_module_version": "1.5.0",
      "model_name": "DescriptionStyleModel",
      "state": {
       "_model_module": "@jupyter-widgets/controls",
       "_model_module_version": "1.5.0",
       "_model_name": "DescriptionStyleModel",
       "_view_count": null,
       "_view_module": "@jupyter-widgets/base",
       "_view_module_version": "1.2.0",
       "_view_name": "StyleView",
       "description_width": ""
      }
     },
     "713b65a649d24889a985d884348855cc": {
      "model_module": "@jupyter-widgets/base",
      "model_module_version": "1.2.0",
      "model_name": "LayoutModel",
      "state": {
       "_model_module": "@jupyter-widgets/base",
       "_model_module_version": "1.2.0",
       "_model_name": "LayoutModel",
       "_view_count": null,
       "_view_module": "@jupyter-widgets/base",
       "_view_module_version": "1.2.0",
       "_view_name": "LayoutView",
       "align_content": null,
       "align_items": null,
       "align_self": null,
       "border": null,
       "bottom": null,
       "display": null,
       "flex": null,
       "flex_flow": null,
       "grid_area": null,
       "grid_auto_columns": null,
       "grid_auto_flow": null,
       "grid_auto_rows": null,
       "grid_column": null,
       "grid_gap": null,
       "grid_row": null,
       "grid_template_areas": null,
       "grid_template_columns": null,
       "grid_template_rows": null,
       "height": null,
       "justify_content": null,
       "justify_items": null,
       "left": null,
       "margin": null,
       "max_height": null,
       "max_width": null,
       "min_height": null,
       "min_width": null,
       "object_fit": null,
       "object_position": null,
       "order": null,
       "overflow": null,
       "overflow_x": null,
       "overflow_y": null,
       "padding": null,
       "right": null,
       "top": null,
       "visibility": null,
       "width": null
      }
     },
     "77d8dd06eeff43628ca9d466aa63283b": {
      "model_module": "@jupyter-widgets/controls",
      "model_module_version": "1.5.0",
      "model_name": "ProgressStyleModel",
      "state": {
       "_model_module": "@jupyter-widgets/controls",
       "_model_module_version": "1.5.0",
       "_model_name": "ProgressStyleModel",
       "_view_count": null,
       "_view_module": "@jupyter-widgets/base",
       "_view_module_version": "1.2.0",
       "_view_name": "StyleView",
       "bar_color": null,
       "description_width": ""
      }
     },
     "786bd7ebb4464ce6b51de2c867170862": {
      "model_module": "@jupyter-widgets/base",
      "model_module_version": "1.2.0",
      "model_name": "LayoutModel",
      "state": {
       "_model_module": "@jupyter-widgets/base",
       "_model_module_version": "1.2.0",
       "_model_name": "LayoutModel",
       "_view_count": null,
       "_view_module": "@jupyter-widgets/base",
       "_view_module_version": "1.2.0",
       "_view_name": "LayoutView",
       "align_content": null,
       "align_items": null,
       "align_self": null,
       "border": null,
       "bottom": null,
       "display": null,
       "flex": null,
       "flex_flow": null,
       "grid_area": null,
       "grid_auto_columns": null,
       "grid_auto_flow": null,
       "grid_auto_rows": null,
       "grid_column": null,
       "grid_gap": null,
       "grid_row": null,
       "grid_template_areas": null,
       "grid_template_columns": null,
       "grid_template_rows": null,
       "height": null,
       "justify_content": null,
       "justify_items": null,
       "left": null,
       "margin": null,
       "max_height": null,
       "max_width": null,
       "min_height": null,
       "min_width": null,
       "object_fit": null,
       "object_position": null,
       "order": null,
       "overflow": null,
       "overflow_x": null,
       "overflow_y": null,
       "padding": null,
       "right": null,
       "top": null,
       "visibility": null,
       "width": null
      }
     },
     "88de9b4d7d4e437e83b12d914429c941": {
      "model_module": "@jupyter-widgets/controls",
      "model_module_version": "1.5.0",
      "model_name": "DescriptionStyleModel",
      "state": {
       "_model_module": "@jupyter-widgets/controls",
       "_model_module_version": "1.5.0",
       "_model_name": "DescriptionStyleModel",
       "_view_count": null,
       "_view_module": "@jupyter-widgets/base",
       "_view_module_version": "1.2.0",
       "_view_name": "StyleView",
       "description_width": ""
      }
     },
     "8a731ca1109e414d98033ec3683369df": {
      "model_module": "@jupyter-widgets/controls",
      "model_module_version": "1.5.0",
      "model_name": "ProgressStyleModel",
      "state": {
       "_model_module": "@jupyter-widgets/controls",
       "_model_module_version": "1.5.0",
       "_model_name": "ProgressStyleModel",
       "_view_count": null,
       "_view_module": "@jupyter-widgets/base",
       "_view_module_version": "1.2.0",
       "_view_name": "StyleView",
       "bar_color": null,
       "description_width": ""
      }
     },
     "8aac6fae44ba46b688ce648888a43dbf": {
      "model_module": "@jupyter-widgets/base",
      "model_module_version": "1.2.0",
      "model_name": "LayoutModel",
      "state": {
       "_model_module": "@jupyter-widgets/base",
       "_model_module_version": "1.2.0",
       "_model_name": "LayoutModel",
       "_view_count": null,
       "_view_module": "@jupyter-widgets/base",
       "_view_module_version": "1.2.0",
       "_view_name": "LayoutView",
       "align_content": null,
       "align_items": null,
       "align_self": null,
       "border": null,
       "bottom": null,
       "display": null,
       "flex": null,
       "flex_flow": null,
       "grid_area": null,
       "grid_auto_columns": null,
       "grid_auto_flow": null,
       "grid_auto_rows": null,
       "grid_column": null,
       "grid_gap": null,
       "grid_row": null,
       "grid_template_areas": null,
       "grid_template_columns": null,
       "grid_template_rows": null,
       "height": null,
       "justify_content": null,
       "justify_items": null,
       "left": null,
       "margin": null,
       "max_height": null,
       "max_width": null,
       "min_height": null,
       "min_width": null,
       "object_fit": null,
       "object_position": null,
       "order": null,
       "overflow": null,
       "overflow_x": null,
       "overflow_y": null,
       "padding": null,
       "right": null,
       "top": null,
       "visibility": null,
       "width": null
      }
     },
     "8ef7e37a1f2749cfa939bc5e77222a5c": {
      "model_module": "@jupyter-widgets/controls",
      "model_module_version": "1.5.0",
      "model_name": "FloatProgressModel",
      "state": {
       "_dom_classes": [],
       "_model_module": "@jupyter-widgets/controls",
       "_model_module_version": "1.5.0",
       "_model_name": "FloatProgressModel",
       "_view_count": null,
       "_view_module": "@jupyter-widgets/controls",
       "_view_module_version": "1.5.0",
       "_view_name": "ProgressView",
       "bar_style": "success",
       "description": "",
       "description_tooltip": null,
       "layout": "IPY_MODEL_713b65a649d24889a985d884348855cc",
       "max": 502.0,
       "min": 0.0,
       "orientation": "horizontal",
       "style": "IPY_MODEL_2250fee7471042a384a5971cbbca8d6a",
       "value": 502.0
      }
     },
     "91809ca2318647118f42f32ad34168da": {
      "model_module": "@jupyter-widgets/base",
      "model_module_version": "1.2.0",
      "model_name": "LayoutModel",
      "state": {
       "_model_module": "@jupyter-widgets/base",
       "_model_module_version": "1.2.0",
       "_model_name": "LayoutModel",
       "_view_count": null,
       "_view_module": "@jupyter-widgets/base",
       "_view_module_version": "1.2.0",
       "_view_name": "LayoutView",
       "align_content": null,
       "align_items": null,
       "align_self": null,
       "border": null,
       "bottom": null,
       "display": null,
       "flex": null,
       "flex_flow": null,
       "grid_area": null,
       "grid_auto_columns": null,
       "grid_auto_flow": null,
       "grid_auto_rows": null,
       "grid_column": null,
       "grid_gap": null,
       "grid_row": null,
       "grid_template_areas": null,
       "grid_template_columns": null,
       "grid_template_rows": null,
       "height": null,
       "justify_content": null,
       "justify_items": null,
       "left": null,
       "margin": null,
       "max_height": null,
       "max_width": null,
       "min_height": null,
       "min_width": null,
       "object_fit": null,
       "object_position": null,
       "order": null,
       "overflow": null,
       "overflow_x": null,
       "overflow_y": null,
       "padding": null,
       "right": null,
       "top": null,
       "visibility": null,
       "width": null
      }
     },
     "9a04603d5cd54d739351adb381ea5c7e": {
      "model_module": "@jupyter-widgets/base",
      "model_module_version": "1.2.0",
      "model_name": "LayoutModel",
      "state": {
       "_model_module": "@jupyter-widgets/base",
       "_model_module_version": "1.2.0",
       "_model_name": "LayoutModel",
       "_view_count": null,
       "_view_module": "@jupyter-widgets/base",
       "_view_module_version": "1.2.0",
       "_view_name": "LayoutView",
       "align_content": null,
       "align_items": null,
       "align_self": null,
       "border": null,
       "bottom": null,
       "display": null,
       "flex": null,
       "flex_flow": null,
       "grid_area": null,
       "grid_auto_columns": null,
       "grid_auto_flow": null,
       "grid_auto_rows": null,
       "grid_column": null,
       "grid_gap": null,
       "grid_row": null,
       "grid_template_areas": null,
       "grid_template_columns": null,
       "grid_template_rows": null,
       "height": null,
       "justify_content": null,
       "justify_items": null,
       "left": null,
       "margin": null,
       "max_height": null,
       "max_width": null,
       "min_height": null,
       "min_width": null,
       "object_fit": null,
       "object_position": null,
       "order": null,
       "overflow": null,
       "overflow_x": null,
       "overflow_y": null,
       "padding": null,
       "right": null,
       "top": null,
       "visibility": null,
       "width": null
      }
     },
     "9aa4ca6923e042189c53260c26941536": {
      "model_module": "@jupyter-widgets/controls",
      "model_module_version": "1.5.0",
      "model_name": "FloatProgressModel",
      "state": {
       "_dom_classes": [],
       "_model_module": "@jupyter-widgets/controls",
       "_model_module_version": "1.5.0",
       "_model_name": "FloatProgressModel",
       "_view_count": null,
       "_view_module": "@jupyter-widgets/controls",
       "_view_module_version": "1.5.0",
       "_view_name": "ProgressView",
       "bar_style": "success",
       "description": "",
       "description_tooltip": null,
       "layout": "IPY_MODEL_8aac6fae44ba46b688ce648888a43dbf",
       "max": 14989.0,
       "min": 0.0,
       "orientation": "horizontal",
       "style": "IPY_MODEL_06f6451b935e4ad280f931cad9dc08da",
       "value": 14989.0
      }
     },
     "9e46e5faa06949c7a4f8c4ca3d302682": {
      "model_module": "@jupyter-widgets/controls",
      "model_module_version": "1.5.0",
      "model_name": "HTMLModel",
      "state": {
       "_dom_classes": [],
       "_model_module": "@jupyter-widgets/controls",
       "_model_module_version": "1.5.0",
       "_model_name": "HTMLModel",
       "_view_count": null,
       "_view_module": "@jupyter-widgets/controls",
       "_view_module_version": "1.5.0",
       "_view_name": "HTMLView",
       "description": "",
       "description_tooltip": null,
       "layout": "IPY_MODEL_786bd7ebb4464ce6b51de2c867170862",
       "placeholder": "​",
       "style": "IPY_MODEL_ac3712c860fe42a59eb9f834ba33dc0a",
       "value": " 15360/? [00:00&lt;00:00, 565221.48it/s]"
      }
     },
     "9fd9879eb82842dd8cf0039cad958e01": {
      "model_module": "@jupyter-widgets/controls",
      "model_module_version": "1.5.0",
      "model_name": "HBoxModel",
      "state": {
       "_dom_classes": [],
       "_model_module": "@jupyter-widgets/controls",
       "_model_module_version": "1.5.0",
       "_model_name": "HBoxModel",
       "_view_count": null,
       "_view_module": "@jupyter-widgets/controls",
       "_view_module_version": "1.5.0",
       "_view_name": "HBoxView",
       "box_style": "",
       "children": [
        "IPY_MODEL_ba8a599ed8674335bd64b9e37f1795f2",
        "IPY_MODEL_b9232a3d241b4e5c94c6c01e534ffce2",
        "IPY_MODEL_ed99cfd6916841a3883f086d0cf79d83"
       ],
       "layout": "IPY_MODEL_51960087ef99473aa043b1b14e05fc75"
      }
     },
     "a559802cddc74feb80a97227833cbb3c": {
      "model_module": "@jupyter-widgets/controls",
      "model_module_version": "1.5.0",
      "model_name": "HTMLModel",
      "state": {
       "_dom_classes": [],
       "_model_module": "@jupyter-widgets/controls",
       "_model_module_version": "1.5.0",
       "_model_name": "HTMLModel",
       "_view_count": null,
       "_view_module": "@jupyter-widgets/controls",
       "_view_module_version": "1.5.0",
       "_view_name": "HTMLView",
       "description": "",
       "description_tooltip": null,
       "layout": "IPY_MODEL_5f49c0599af7430e8910d5542249fe1e",
       "placeholder": "​",
       "style": "IPY_MODEL_07b45d377692406da435629654a96a07",
       "value": "100%"
      }
     },
     "ac3712c860fe42a59eb9f834ba33dc0a": {
      "model_module": "@jupyter-widgets/controls",
      "model_module_version": "1.5.0",
      "model_name": "DescriptionStyleModel",
      "state": {
       "_model_module": "@jupyter-widgets/controls",
       "_model_module_version": "1.5.0",
       "_model_name": "DescriptionStyleModel",
       "_view_count": null,
       "_view_module": "@jupyter-widgets/base",
       "_view_module_version": "1.2.0",
       "_view_name": "StyleView",
       "description_width": ""
      }
     },
     "b0fa5079d22d432a9731ddbf6e2360c9": {
      "model_module": "@jupyter-widgets/controls",
      "model_module_version": "1.5.0",
      "model_name": "HTMLModel",
      "state": {
       "_dom_classes": [],
       "_model_module": "@jupyter-widgets/controls",
       "_model_module_version": "1.5.0",
       "_model_name": "HTMLModel",
       "_view_count": null,
       "_view_module": "@jupyter-widgets/controls",
       "_view_module_version": "1.5.0",
       "_view_name": "HTMLView",
       "description": "",
       "description_tooltip": null,
       "layout": "IPY_MODEL_bfe5ac7a44fa428fa85e694018bfc9bf",
       "placeholder": "​",
       "style": "IPY_MODEL_16ec584a88264bca8ff80d05f5cbcf02",
       "value": " 1024/? [00:00&lt;00:00, 38877.63it/s]"
      }
     },
     "b4f2f56870584131b4f195ba35392409": {
      "model_module": "@jupyter-widgets/controls",
      "model_module_version": "1.5.0",
      "model_name": "DescriptionStyleModel",
      "state": {
       "_model_module": "@jupyter-widgets/controls",
       "_model_module_version": "1.5.0",
       "_model_name": "DescriptionStyleModel",
       "_view_count": null,
       "_view_module": "@jupyter-widgets/base",
       "_view_module_version": "1.2.0",
       "_view_name": "StyleView",
       "description_width": ""
      }
     },
     "b7ba73d4622e4453a7a0cc212b713f05": {
      "model_module": "@jupyter-widgets/base",
      "model_module_version": "1.2.0",
      "model_name": "LayoutModel",
      "state": {
       "_model_module": "@jupyter-widgets/base",
       "_model_module_version": "1.2.0",
       "_model_name": "LayoutModel",
       "_view_count": null,
       "_view_module": "@jupyter-widgets/base",
       "_view_module_version": "1.2.0",
       "_view_name": "LayoutView",
       "align_content": null,
       "align_items": null,
       "align_self": null,
       "border": null,
       "bottom": null,
       "display": null,
       "flex": null,
       "flex_flow": null,
       "grid_area": null,
       "grid_auto_columns": null,
       "grid_auto_flow": null,
       "grid_auto_rows": null,
       "grid_column": null,
       "grid_gap": null,
       "grid_row": null,
       "grid_template_areas": null,
       "grid_template_columns": null,
       "grid_template_rows": null,
       "height": null,
       "justify_content": null,
       "justify_items": null,
       "left": null,
       "margin": null,
       "max_height": null,
       "max_width": null,
       "min_height": null,
       "min_width": null,
       "object_fit": null,
       "object_position": null,
       "order": null,
       "overflow": null,
       "overflow_x": null,
       "overflow_y": null,
       "padding": null,
       "right": null,
       "top": null,
       "visibility": null,
       "width": null
      }
     },
     "b9232a3d241b4e5c94c6c01e534ffce2": {
      "model_module": "@jupyter-widgets/controls",
      "model_module_version": "1.5.0",
      "model_name": "FloatProgressModel",
      "state": {
       "_dom_classes": [],
       "_model_module": "@jupyter-widgets/controls",
       "_model_module_version": "1.5.0",
       "_model_name": "FloatProgressModel",
       "_view_count": null,
       "_view_module": "@jupyter-widgets/controls",
       "_view_module_version": "1.5.0",
       "_view_name": "ProgressView",
       "bar_style": "success",
       "description": "",
       "description_tooltip": null,
       "layout": "IPY_MODEL_c4795763e9cf4ae39b4ebbb207d2c19b",
       "max": 344862509.0,
       "min": 0.0,
       "orientation": "horizontal",
       "style": "IPY_MODEL_77d8dd06eeff43628ca9d466aa63283b",
       "value": 344862509.0
      }
     },
     "ba8a599ed8674335bd64b9e37f1795f2": {
      "model_module": "@jupyter-widgets/controls",
      "model_module_version": "1.5.0",
      "model_name": "HTMLModel",
      "state": {
       "_dom_classes": [],
       "_model_module": "@jupyter-widgets/controls",
       "_model_module_version": "1.5.0",
       "_model_name": "HTMLModel",
       "_view_count": null,
       "_view_module": "@jupyter-widgets/controls",
       "_view_module_version": "1.5.0",
       "_view_name": "HTMLView",
       "description": "",
       "description_tooltip": null,
       "layout": "IPY_MODEL_30875c05a71340c09911f56ab2778851",
       "placeholder": "​",
       "style": "IPY_MODEL_b4f2f56870584131b4f195ba35392409",
       "value": ""
      }
     },
     "bfe5ac7a44fa428fa85e694018bfc9bf": {
      "model_module": "@jupyter-widgets/base",
      "model_module_version": "1.2.0",
      "model_name": "LayoutModel",
      "state": {
       "_model_module": "@jupyter-widgets/base",
       "_model_module_version": "1.2.0",
       "_model_name": "LayoutModel",
       "_view_count": null,
       "_view_module": "@jupyter-widgets/base",
       "_view_module_version": "1.2.0",
       "_view_name": "LayoutView",
       "align_content": null,
       "align_items": null,
       "align_self": null,
       "border": null,
       "bottom": null,
       "display": null,
       "flex": null,
       "flex_flow": null,
       "grid_area": null,
       "grid_auto_columns": null,
       "grid_auto_flow": null,
       "grid_auto_rows": null,
       "grid_column": null,
       "grid_gap": null,
       "grid_row": null,
       "grid_template_areas": null,
       "grid_template_columns": null,
       "grid_template_rows": null,
       "height": null,
       "justify_content": null,
       "justify_items": null,
       "left": null,
       "margin": null,
       "max_height": null,
       "max_width": null,
       "min_height": null,
       "min_width": null,
       "object_fit": null,
       "object_position": null,
       "order": null,
       "overflow": null,
       "overflow_x": null,
       "overflow_y": null,
       "padding": null,
       "right": null,
       "top": null,
       "visibility": null,
       "width": null
      }
     },
     "c4795763e9cf4ae39b4ebbb207d2c19b": {
      "model_module": "@jupyter-widgets/base",
      "model_module_version": "1.2.0",
      "model_name": "LayoutModel",
      "state": {
       "_model_module": "@jupyter-widgets/base",
       "_model_module_version": "1.2.0",
       "_model_name": "LayoutModel",
       "_view_count": null,
       "_view_module": "@jupyter-widgets/base",
       "_view_module_version": "1.2.0",
       "_view_name": "LayoutView",
       "align_content": null,
       "align_items": null,
       "align_self": null,
       "border": null,
       "bottom": null,
       "display": null,
       "flex": null,
       "flex_flow": null,
       "grid_area": null,
       "grid_auto_columns": null,
       "grid_auto_flow": null,
       "grid_auto_rows": null,
       "grid_column": null,
       "grid_gap": null,
       "grid_row": null,
       "grid_template_areas": null,
       "grid_template_columns": null,
       "grid_template_rows": null,
       "height": null,
       "justify_content": null,
       "justify_items": null,
       "left": null,
       "margin": null,
       "max_height": null,
       "max_width": null,
       "min_height": null,
       "min_width": null,
       "object_fit": null,
       "object_position": null,
       "order": null,
       "overflow": null,
       "overflow_x": null,
       "overflow_y": null,
       "padding": null,
       "right": null,
       "top": null,
       "visibility": null,
       "width": null
      }
     },
     "d54d2c692f7245ad8f408ab5768d852e": {
      "model_module": "@jupyter-widgets/controls",
      "model_module_version": "1.5.0",
      "model_name": "HBoxModel",
      "state": {
       "_dom_classes": [],
       "_model_module": "@jupyter-widgets/controls",
       "_model_module_version": "1.5.0",
       "_model_name": "HBoxModel",
       "_view_count": null,
       "_view_module": "@jupyter-widgets/controls",
       "_view_module_version": "1.5.0",
       "_view_name": "HBoxView",
       "box_style": "",
       "children": [
        "IPY_MODEL_6bcbd42c352b4a148a8984a4184b7d5f",
        "IPY_MODEL_9aa4ca6923e042189c53260c26941536",
        "IPY_MODEL_9e46e5faa06949c7a4f8c4ca3d302682"
       ],
       "layout": "IPY_MODEL_d7fd896c16ac491b9952175a26f587d3"
      }
     },
     "d7fd896c16ac491b9952175a26f587d3": {
      "model_module": "@jupyter-widgets/base",
      "model_module_version": "1.2.0",
      "model_name": "LayoutModel",
      "state": {
       "_model_module": "@jupyter-widgets/base",
       "_model_module_version": "1.2.0",
       "_model_name": "LayoutModel",
       "_view_count": null,
       "_view_module": "@jupyter-widgets/base",
       "_view_module_version": "1.2.0",
       "_view_name": "LayoutView",
       "align_content": null,
       "align_items": null,
       "align_self": null,
       "border": null,
       "bottom": null,
       "display": null,
       "flex": null,
       "flex_flow": null,
       "grid_area": null,
       "grid_auto_columns": null,
       "grid_auto_flow": null,
       "grid_auto_rows": null,
       "grid_column": null,
       "grid_gap": null,
       "grid_row": null,
       "grid_template_areas": null,
       "grid_template_columns": null,
       "grid_template_rows": null,
       "height": null,
       "justify_content": null,
       "justify_items": null,
       "left": null,
       "margin": null,
       "max_height": null,
       "max_width": null,
       "min_height": null,
       "min_width": null,
       "object_fit": null,
       "object_position": null,
       "order": null,
       "overflow": null,
       "overflow_x": null,
       "overflow_y": null,
       "padding": null,
       "right": null,
       "top": null,
       "visibility": null,
       "width": null
      }
     },
     "d96a9aa925c649f2b18dc02f38916d50": {
      "model_module": "@jupyter-widgets/controls",
      "model_module_version": "1.5.0",
      "model_name": "HBoxModel",
      "state": {
       "_dom_classes": [],
       "_model_module": "@jupyter-widgets/controls",
       "_model_module_version": "1.5.0",
       "_model_name": "HBoxModel",
       "_view_count": null,
       "_view_module": "@jupyter-widgets/controls",
       "_view_module_version": "1.5.0",
       "_view_name": "HBoxView",
       "box_style": "",
       "children": [
        "IPY_MODEL_a559802cddc74feb80a97227833cbb3c",
        "IPY_MODEL_3643e65c2ffa456d81e1656495156635",
        "IPY_MODEL_0ea9018e9c3047f6957016580ffbf0a0"
       ],
       "layout": "IPY_MODEL_91809ca2318647118f42f32ad34168da"
      }
     },
     "e66128cc9d5e469fa259e2b827e06be4": {
      "model_module": "@jupyter-widgets/controls",
      "model_module_version": "1.5.0",
      "model_name": "HTMLModel",
      "state": {
       "_dom_classes": [],
       "_model_module": "@jupyter-widgets/controls",
       "_model_module_version": "1.5.0",
       "_model_name": "HTMLModel",
       "_view_count": null,
       "_view_module": "@jupyter-widgets/controls",
       "_view_module_version": "1.5.0",
       "_view_name": "HTMLView",
       "description": "",
       "description_tooltip": null,
       "layout": "IPY_MODEL_1ce16bd5ab03409b8cb0fd58baa8c08c",
       "placeholder": "​",
       "style": "IPY_MODEL_24355384424d4eaebc12189afb9d7dba",
       "value": ""
      }
     },
     "ed99cfd6916841a3883f086d0cf79d83": {
      "model_module": "@jupyter-widgets/controls",
      "model_module_version": "1.5.0",
      "model_name": "HTMLModel",
      "state": {
       "_dom_classes": [],
       "_model_module": "@jupyter-widgets/controls",
       "_model_module_version": "1.5.0",
       "_model_name": "HTMLModel",
       "_view_count": null,
       "_view_module": "@jupyter-widgets/controls",
       "_view_module_version": "1.5.0",
       "_view_name": "HTMLView",
       "description": "",
       "description_tooltip": null,
       "layout": "IPY_MODEL_b7ba73d4622e4453a7a0cc212b713f05",
       "placeholder": "​",
       "style": "IPY_MODEL_88de9b4d7d4e437e83b12d914429c941",
       "value": " 344862720/? [00:03&lt;00:00, 103728474.32it/s]"
      }
     },
     "fd54fe4207454f3da6fb2c3884d3b51e": {
      "model_module": "@jupyter-widgets/base",
      "model_module_version": "1.2.0",
      "model_name": "LayoutModel",
      "state": {
       "_model_module": "@jupyter-widgets/base",
       "_model_module_version": "1.2.0",
       "_model_name": "LayoutModel",
       "_view_count": null,
       "_view_module": "@jupyter-widgets/base",
       "_view_module_version": "1.2.0",
       "_view_name": "LayoutView",
       "align_content": null,
       "align_items": null,
       "align_self": null,
       "border": null,
       "bottom": null,
       "display": null,
       "flex": null,
       "flex_flow": null,
       "grid_area": null,
       "grid_auto_columns": null,
       "grid_auto_flow": null,
       "grid_auto_rows": null,
       "grid_column": null,
       "grid_gap": null,
       "grid_row": null,
       "grid_template_areas": null,
       "grid_template_columns": null,
       "grid_template_rows": null,
       "height": null,
       "justify_content": null,
       "justify_items": null,
       "left": null,
       "margin": null,
       "max_height": null,
       "max_width": null,
       "min_height": null,
       "min_width": null,
       "object_fit": null,
       "object_position": null,
       "order": null,
       "overflow": null,
       "overflow_x": null,
       "overflow_y": null,
       "padding": null,
       "right": null,
       "top": null,
       "visibility": null,
       "width": null
      }
     }
    },
    "version_major": 2,
    "version_minor": 0
   }
  }
 },
 "nbformat": 4,
 "nbformat_minor": 5
}
