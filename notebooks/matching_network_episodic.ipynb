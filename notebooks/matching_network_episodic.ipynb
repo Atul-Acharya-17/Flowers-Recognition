{
 "cells": [
  {
   "cell_type": "code",
   "execution_count": 1,
   "id": "2b0a4e18",
   "metadata": {
    "execution": {
     "iopub.execute_input": "2022-11-07T03:55:29.401413Z",
     "iopub.status.busy": "2022-11-07T03:55:29.400551Z",
     "iopub.status.idle": "2022-11-07T03:55:31.248761Z",
     "shell.execute_reply": "2022-11-07T03:55:31.247513Z"
    },
    "papermill": {
     "duration": 1.860119,
     "end_time": "2022-11-07T03:55:31.252188",
     "exception": false,
     "start_time": "2022-11-07T03:55:29.392069",
     "status": "completed"
    },
    "tags": []
   },
   "outputs": [],
   "source": [
    "import random\n",
    "import time\n",
    "import tqdm\n",
    "import matplotlib.pyplot as plt\n",
    "import torch\n",
    "import torchvision\n",
    "import torchvision.transforms as transforms\n",
    "import torch.optim as optim\n",
    "from torch.utils.data import Sampler\n",
    "import torchvision.datasets as datasets"
   ]
  },
  {
   "cell_type": "code",
   "execution_count": 2,
   "id": "c91411ba",
   "metadata": {
    "execution": {
     "iopub.execute_input": "2022-11-07T03:55:31.270455Z",
     "iopub.status.busy": "2022-11-07T03:55:31.269934Z",
     "iopub.status.idle": "2022-11-07T03:55:31.274825Z",
     "shell.execute_reply": "2022-11-07T03:55:31.273782Z"
    },
    "papermill": {
     "duration": 0.018278,
     "end_time": "2022-11-07T03:55:31.279339",
     "exception": false,
     "start_time": "2022-11-07T03:55:31.261061",
     "status": "completed"
    },
    "tags": []
   },
   "outputs": [],
   "source": [
    "data_directory = './'"
   ]
  },
  {
   "cell_type": "code",
   "execution_count": 3,
   "id": "7af5497e",
   "metadata": {
    "execution": {
     "iopub.execute_input": "2022-11-07T03:55:31.295778Z",
     "iopub.status.busy": "2022-11-07T03:55:31.295406Z",
     "iopub.status.idle": "2022-11-07T03:55:58.053513Z",
     "shell.execute_reply": "2022-11-07T03:55:58.052424Z"
    },
    "papermill": {
     "duration": 26.769246,
     "end_time": "2022-11-07T03:55:58.056166",
     "exception": false,
     "start_time": "2022-11-07T03:55:31.286920",
     "status": "completed"
    },
    "tags": []
   },
   "outputs": [
    {
     "name": "stdout",
     "output_type": "stream",
     "text": [
      "Downloading https://www.robots.ox.ac.uk/~vgg/data/flowers/102/102flowers.tgz to flowers-102/102flowers.tgz\n"
     ]
    },
    {
     "data": {
      "application/vnd.jupyter.widget-view+json": {
       "model_id": "c45bf37b4507455f96742a7fb7eb44bf",
       "version_major": 2,
       "version_minor": 0
      },
      "text/plain": [
       "  0%|          | 0/344862509 [00:00<?, ?it/s]"
      ]
     },
     "metadata": {},
     "output_type": "display_data"
    },
    {
     "name": "stdout",
     "output_type": "stream",
     "text": [
      "Extracting flowers-102/102flowers.tgz to flowers-102\n",
      "Downloading https://www.robots.ox.ac.uk/~vgg/data/flowers/102/imagelabels.mat to flowers-102/imagelabels.mat\n"
     ]
    },
    {
     "data": {
      "application/vnd.jupyter.widget-view+json": {
       "model_id": "f940a819c7b248cfa23c5bd3186f54a4",
       "version_major": 2,
       "version_minor": 0
      },
      "text/plain": [
       "  0%|          | 0/502 [00:00<?, ?it/s]"
      ]
     },
     "metadata": {},
     "output_type": "display_data"
    },
    {
     "name": "stdout",
     "output_type": "stream",
     "text": [
      "Downloading https://www.robots.ox.ac.uk/~vgg/data/flowers/102/setid.mat to flowers-102/setid.mat\n"
     ]
    },
    {
     "data": {
      "application/vnd.jupyter.widget-view+json": {
       "model_id": "b89b2e90c7ca4853b7db4feab918f7a2",
       "version_major": 2,
       "version_minor": 0
      },
      "text/plain": [
       "  0%|          | 0/14989 [00:00<?, ?it/s]"
      ]
     },
     "metadata": {},
     "output_type": "display_data"
    },
    {
     "data": {
      "text/plain": [
       "Dataset Flowers102\n",
       "    Number of datapoints: 1020\n",
       "    Root location: ./\n",
       "    split=train"
      ]
     },
     "execution_count": 3,
     "metadata": {},
     "output_type": "execute_result"
    }
   ],
   "source": [
    "torchvision.datasets.Flowers102(root=f'{data_directory}', download=True)"
   ]
  },
  {
   "cell_type": "code",
   "execution_count": 4,
   "id": "b2d33adc",
   "metadata": {
    "execution": {
     "iopub.execute_input": "2022-11-07T03:55:58.071004Z",
     "iopub.status.busy": "2022-11-07T03:55:58.070707Z",
     "iopub.status.idle": "2022-11-07T03:55:58.084092Z",
     "shell.execute_reply": "2022-11-07T03:55:58.083016Z"
    },
    "papermill": {
     "duration": 0.023255,
     "end_time": "2022-11-07T03:55:58.086446",
     "exception": false,
     "start_time": "2022-11-07T03:55:58.063191",
     "status": "completed"
    },
    "tags": []
   },
   "outputs": [],
   "source": [
    "class TaskSampler(Sampler):\n",
    "    \n",
    "    def __init__(self, dataset, n_way, k_shot, n_query, n_tasks):\n",
    "        super().__init__(data_source=None)\n",
    "        self.n_way = n_way\n",
    "        self.k_shot = k_shot\n",
    "        self.n_tasks = n_tasks\n",
    "        self.n_query = n_query\n",
    "        \n",
    "        self.items_per_label = {}\n",
    "        \n",
    "        for item, label in enumerate(dataset.get_labels()):\n",
    "            if label in self.items_per_label.keys():\n",
    "                self.items_per_label[label].append(item)\n",
    "            else:\n",
    "                self.items_per_label[label] = [item]\n",
    "                \n",
    "    def __len__(self):\n",
    "        return self.n_tasks\n",
    "    \n",
    "    def __iter__(self):\n",
    "        for task in range(self.n_tasks):\n",
    "            yield torch.cat(\n",
    "                [\n",
    "                    torch.Tensor(random.sample(self.items_per_label[label], self.k_shot + self.n_query)).type(torch.int)\n",
    "                    \n",
    "                    for label in random.sample(self.items_per_label.keys(), self.n_way)\n",
    "                ]\n",
    "            ).tolist()\n",
    "            \n",
    "    def collate_fn(self, input_data):\n",
    "        true_class_ids = list({x[1] for x in input_data})\n",
    "\n",
    "        all_images = torch.cat([x[0].unsqueeze(0) for x in input_data])\n",
    "        all_images = all_images.reshape(\n",
    "            (self.n_way, self.k_shot + self.n_query, *all_images.shape[1:])\n",
    "        )\n",
    "\n",
    "        all_labels = torch.tensor(\n",
    "            [true_class_ids.index(x[1]) for x in input_data]\n",
    "        ).reshape((self.n_way, self.k_shot + self.n_query))\n",
    "\n",
    "        support_images = all_images[:, : self.k_shot].reshape(\n",
    "            (-1, *all_images.shape[2:])\n",
    "        )\n",
    "        query_images = all_images[:, self.k_shot :].reshape((-1, *all_images.shape[2:]))\n",
    "        support_labels = all_labels[:, : self.k_shot].flatten()\n",
    "        query_labels = all_labels[:, self.k_shot :].flatten()\n",
    "\n",
    "        return support_images, support_labels, query_images, query_labels, true_class_ids"
   ]
  },
  {
   "cell_type": "code",
   "execution_count": 5,
   "id": "3bea958e",
   "metadata": {
    "execution": {
     "iopub.execute_input": "2022-11-07T03:55:58.099908Z",
     "iopub.status.busy": "2022-11-07T03:55:58.099608Z",
     "iopub.status.idle": "2022-11-07T03:55:58.116405Z",
     "shell.execute_reply": "2022-11-07T03:55:58.115343Z"
    },
    "papermill": {
     "duration": 0.026333,
     "end_time": "2022-11-07T03:55:58.118634",
     "exception": false,
     "start_time": "2022-11-07T03:55:58.092301",
     "status": "completed"
    },
    "tags": []
   },
   "outputs": [],
   "source": [
    "class MatchingNetwork(torch.nn.Module):\n",
    "    \n",
    "    def __init__(self, backbone=None, image_size=224, use_full_contextual_embedding=True) -> None:\n",
    "        super().__init__()\n",
    "        \n",
    "        self.use_full_contextual_embedding = use_full_contextual_embedding\n",
    "        \n",
    "        self.backbone = backbone\n",
    "        \n",
    "        if self.backbone is None:\n",
    "            self.backbone = self.get_backbone()\n",
    "        \n",
    "        self.feature_size = self.get_output_shape(self.backbone, image_size)[0]\n",
    "        \n",
    "        self.support_encoder = torch.nn.LSTM(\n",
    "            input_size=self.feature_size,\n",
    "            hidden_size=self.feature_size,\n",
    "            num_layers=1,\n",
    "            batch_first=True,\n",
    "            bidirectional=True,\n",
    "        )\n",
    "        \n",
    "        self.query_encoder = torch.nn.LSTMCell(self.feature_size * 2, self.feature_size)\n",
    "        \n",
    "        self.contextualized_support_features = None\n",
    "        self.one_hot_support_labels = None\n",
    "        \n",
    "        self.softmax = torch.nn.Softmax(dim=1)\n",
    "        \n",
    "    def get_backbone(self):\n",
    "        backbone = torchvision.models.resnet18(pretrained=True)\n",
    "        backbone.fc = torch.nn.Flatten()\n",
    "        return backbone\n",
    "                \n",
    "    def encode_support_set(self, support_images, support_labels):\n",
    "\n",
    "        support_features = self.backbone(support_images)\n",
    "        \n",
    "        if self.use_full_contextual_embedding:\n",
    "            hidden_state = self.support_encoder(support_features.unsqueeze(0))[0].squeeze(0)\n",
    "            self.contextualized_support_features = support_features + hidden_state[:, : self.feature_size] + hidden_state[:, self.feature_size :]\n",
    "            \n",
    "        else:\n",
    "            self.contextualized_support_features = support_features\n",
    "\n",
    "        self.one_hot_support_labels = torch.nn.functional.one_hot(support_labels).float()\n",
    "\n",
    "    def encode_query_features(self, query_set):\n",
    "        \n",
    "        query_features = self.backbone(query_set)\n",
    "\n",
    "        if not self.use_full_contextual_embedding:\n",
    "            return query_features\n",
    "        \n",
    "        hidden_state = query_features\n",
    "        cell_state = torch.zeros_like(query_features)\n",
    "\n",
    "        for _ in range(len(self.contextualized_support_features)):\n",
    "            attention = self.softmax(\n",
    "                hidden_state.mm(self.contextualized_support_features.T)\n",
    "            )\n",
    "            read_out = attention.mm(self.contextualized_support_features)\n",
    "            lstm_input = torch.cat((query_features, read_out), 1)\n",
    "\n",
    "            hidden_state, cell_state = self.query_encoder(\n",
    "                lstm_input, (hidden_state, cell_state)\n",
    "            )\n",
    "            hidden_state = hidden_state + query_features\n",
    "\n",
    "        return hidden_state\n",
    "        \n",
    "    def get_output_shape(self, model, image_size):\n",
    "        x = torch.randn(1, 3, image_size, image_size)\n",
    "        out = model(x)\n",
    "        return out.shape[1:]\n",
    "    \n",
    "    def forward(self, support_images, support_labels, query_images):\n",
    "        \n",
    "        self.encode_support_set(support_images, support_labels)\n",
    "        \n",
    "        contextualized_query_features = self.encode_query_features(\n",
    "            query_images\n",
    "        )\n",
    "        \n",
    "        similarity_matrix = self.softmax(\n",
    "            contextualized_query_features.mm(\n",
    "                torch.nn.functional.normalize(self.contextualized_support_features).T\n",
    "            )\n",
    "        )\n",
    "                \n",
    "        log_probabilities = (\n",
    "            similarity_matrix.mm(self.one_hot_support_labels) + 1e-6\n",
    "        ).log()\n",
    "        \n",
    "        return log_probabilities"
   ]
  },
  {
   "cell_type": "code",
   "execution_count": 6,
   "id": "98b2cce5",
   "metadata": {
    "execution": {
     "iopub.execute_input": "2022-11-07T03:55:58.131963Z",
     "iopub.status.busy": "2022-11-07T03:55:58.131672Z",
     "iopub.status.idle": "2022-11-07T03:55:58.136470Z",
     "shell.execute_reply": "2022-11-07T03:55:58.135203Z"
    },
    "papermill": {
     "duration": 0.01472,
     "end_time": "2022-11-07T03:55:58.139152",
     "exception": false,
     "start_time": "2022-11-07T03:55:58.124432",
     "status": "completed"
    },
    "tags": []
   },
   "outputs": [],
   "source": [
    "image_size = 224\n",
    "\n",
    "n_way = 5\n",
    "k_shot = 3\n",
    "n_query = 5\n",
    "n_tasks = 100\n",
    "n_epochs = 10\n",
    "n_train_tasks = 100\n",
    "n_val_tasks = 100\n",
    "n_test_tasks = 1000"
   ]
  },
  {
   "cell_type": "code",
   "execution_count": 7,
   "id": "9339c27b",
   "metadata": {
    "execution": {
     "iopub.execute_input": "2022-11-07T03:55:58.152093Z",
     "iopub.status.busy": "2022-11-07T03:55:58.151822Z",
     "iopub.status.idle": "2022-11-07T03:55:58.157058Z",
     "shell.execute_reply": "2022-11-07T03:55:58.155894Z"
    },
    "papermill": {
     "duration": 0.014429,
     "end_time": "2022-11-07T03:55:58.159202",
     "exception": false,
     "start_time": "2022-11-07T03:55:58.144773",
     "status": "completed"
    },
    "tags": []
   },
   "outputs": [],
   "source": [
    "transform = transforms.Compose(\n",
    "    [\n",
    "        transforms.ToTensor(),\n",
    "        transforms.Resize((image_size, image_size)),\n",
    "        transforms.Normalize(mean=[0.507, 0.487, 0.441], std=[0.267, 0.256, 0.276])\n",
    "    ]\n",
    ")"
   ]
  },
  {
   "cell_type": "code",
   "execution_count": 8,
   "id": "01a6d523",
   "metadata": {
    "execution": {
     "iopub.execute_input": "2022-11-07T03:55:58.173848Z",
     "iopub.status.busy": "2022-11-07T03:55:58.173578Z",
     "iopub.status.idle": "2022-11-07T03:55:58.231811Z",
     "shell.execute_reply": "2022-11-07T03:55:58.230517Z"
    },
    "papermill": {
     "duration": 0.067324,
     "end_time": "2022-11-07T03:55:58.234093",
     "exception": false,
     "start_time": "2022-11-07T03:55:58.166769",
     "status": "completed"
    },
    "tags": []
   },
   "outputs": [
    {
     "name": "stdout",
     "output_type": "stream",
     "text": [
      "Length of training data: 1020\n",
      "Length of validation data: 1020\n",
      "Length of test data: 6149\n"
     ]
    }
   ],
   "source": [
    "training_set = torchvision.datasets.Flowers102(root=f'{data_directory}', split='train', transform=transform)\n",
    "validation_set = torchvision.datasets.Flowers102(root=f'{data_directory}', split='val', transform=transform)\n",
    "test_set = torchvision.datasets.Flowers102(root=f'{data_directory}', split='test', transform=transform)\n",
    "\n",
    "print(f'Length of training data: {len(training_set)}')\n",
    "print(f'Length of validation data: {len(validation_set)}')\n",
    "print(f'Length of test data: {len(test_set)}')"
   ]
  },
  {
   "cell_type": "code",
   "execution_count": 9,
   "id": "2acd50f7",
   "metadata": {
    "execution": {
     "iopub.execute_input": "2022-11-07T03:55:58.248618Z",
     "iopub.status.busy": "2022-11-07T03:55:58.247055Z",
     "iopub.status.idle": "2022-11-07T03:55:58.254271Z",
     "shell.execute_reply": "2022-11-07T03:55:58.252940Z"
    },
    "papermill": {
     "duration": 0.016394,
     "end_time": "2022-11-07T03:55:58.256527",
     "exception": false,
     "start_time": "2022-11-07T03:55:58.240133",
     "status": "completed"
    },
    "tags": []
   },
   "outputs": [],
   "source": [
    "training_set.get_labels = lambda: [\n",
    "    instance for instance in training_set._labels\n",
    "]\n",
    "\n",
    "validation_set.get_labels = lambda: [\n",
    "    instance for instance in validation_set._labels\n",
    "]\n",
    "\n",
    "test_set.get_labels = lambda: [\n",
    "    instance for instance in test_set._labels\n",
    "]"
   ]
  },
  {
   "cell_type": "code",
   "execution_count": 10,
   "id": "5880df98",
   "metadata": {
    "execution": {
     "iopub.execute_input": "2022-11-07T03:55:58.268608Z",
     "iopub.status.busy": "2022-11-07T03:55:58.268342Z",
     "iopub.status.idle": "2022-11-07T03:55:58.276310Z",
     "shell.execute_reply": "2022-11-07T03:55:58.275174Z"
    },
    "papermill": {
     "duration": 0.016416,
     "end_time": "2022-11-07T03:55:58.278409",
     "exception": false,
     "start_time": "2022-11-07T03:55:58.261993",
     "status": "completed"
    },
    "tags": []
   },
   "outputs": [],
   "source": [
    "train_sampler = TaskSampler(training_set, n_way, k_shot, n_query, n_train_tasks)\n",
    "validation_sampler = TaskSampler(validation_set, n_way, k_shot, n_query, n_val_tasks)\n",
    "test_sampler = TaskSampler(test_set, n_way, k_shot, n_query, n_test_tasks)"
   ]
  },
  {
   "cell_type": "code",
   "execution_count": 11,
   "id": "832a9002",
   "metadata": {
    "execution": {
     "iopub.execute_input": "2022-11-07T03:55:58.291273Z",
     "iopub.status.busy": "2022-11-07T03:55:58.290644Z",
     "iopub.status.idle": "2022-11-07T03:55:58.296694Z",
     "shell.execute_reply": "2022-11-07T03:55:58.295562Z"
    },
    "papermill": {
     "duration": 0.014611,
     "end_time": "2022-11-07T03:55:58.298672",
     "exception": false,
     "start_time": "2022-11-07T03:55:58.284061",
     "status": "completed"
    },
    "tags": []
   },
   "outputs": [],
   "source": [
    "train_loader = torch.utils.data.DataLoader(\n",
    "    training_set,\n",
    "    batch_sampler=train_sampler,\n",
    "    collate_fn=train_sampler.collate_fn,\n",
    ")\n",
    "\n",
    "validation_loader = torch.utils.data.DataLoader(\n",
    "    validation_set,\n",
    "    batch_sampler=validation_sampler,\n",
    "    collate_fn=validation_sampler.collate_fn,\n",
    ")\n",
    "\n",
    "test_loader = torch.utils.data.DataLoader(\n",
    "    test_set,\n",
    "    batch_sampler=test_sampler,\n",
    "    collate_fn=test_sampler.collate_fn,\n",
    ")\n"
   ]
  },
  {
   "cell_type": "code",
   "execution_count": 12,
   "id": "cadc35ef",
   "metadata": {
    "execution": {
     "iopub.execute_input": "2022-11-07T03:55:58.312352Z",
     "iopub.status.busy": "2022-11-07T03:55:58.310892Z",
     "iopub.status.idle": "2022-11-07T03:55:58.319662Z",
     "shell.execute_reply": "2022-11-07T03:55:58.318794Z"
    },
    "papermill": {
     "duration": 0.017571,
     "end_time": "2022-11-07T03:55:58.321779",
     "exception": false,
     "start_time": "2022-11-07T03:55:58.304208",
     "status": "completed"
    },
    "tags": []
   },
   "outputs": [],
   "source": [
    "def evaluate_model(model, criterion, data_loader):\n",
    "    \n",
    "    model.eval()\n",
    "    \n",
    "    device = torch.device(\"cuda:0\" if torch.cuda.is_available() else \"cpu\")\n",
    "    model.to(device)\n",
    "    \n",
    "    running_loss = 0.0\n",
    "    running_correct = 0\n",
    "    total = 0\n",
    "    \n",
    "    start_time = time.time()\n",
    "    \n",
    "    for support_images, support_labels, query_images, query_labels, _ in tqdm.tqdm(data_loader):\n",
    "        \n",
    "        support_images = support_images.to(device)\n",
    "        support_labels = support_labels.to(device)\n",
    "        query_images = query_images.to(device)\n",
    "        query_labels = query_labels.to(device)\n",
    "\n",
    "        scores = model(support_images, support_labels, query_images)\n",
    "\n",
    "        loss = criterion(scores, query_labels)\n",
    "\n",
    "        running_loss += loss.item()\n",
    "        total += query_labels.shape[0]\n",
    "        _, preds = torch.max(scores, 1)\n",
    "        running_correct += torch.sum(preds == query_labels).item()\n",
    "\n",
    "    end_time = time.time()\n",
    "    \n",
    "    print(f'Loss: {running_loss / len(data_loader)}, Accuracy: {running_correct / total}, Time: {(end_time - start_time):.4f}s')\n",
    "    \n",
    "    return running_loss / len(data_loader), running_correct / total"
   ]
  },
  {
   "cell_type": "code",
   "execution_count": 13,
   "id": "e69e45ff",
   "metadata": {
    "execution": {
     "iopub.execute_input": "2022-11-07T03:55:58.334371Z",
     "iopub.status.busy": "2022-11-07T03:55:58.334104Z",
     "iopub.status.idle": "2022-11-07T03:55:58.344244Z",
     "shell.execute_reply": "2022-11-07T03:55:58.343327Z"
    },
    "papermill": {
     "duration": 0.01868,
     "end_time": "2022-11-07T03:55:58.346337",
     "exception": false,
     "start_time": "2022-11-07T03:55:58.327657",
     "status": "completed"
    },
    "tags": []
   },
   "outputs": [],
   "source": [
    "def train(model, criterion, optimizer, scheduler, train_loader, val_loader, num_epochs=100):\n",
    "    \n",
    "    device = torch.device(\"cuda:0\" if torch.cuda.is_available() else \"cpu\")\n",
    "    \n",
    "    model.to(device)\n",
    "    \n",
    "    train_loss_history = []\n",
    "    train_acc_history = []\n",
    "    val_loss_history = []\n",
    "    val_acc_history = []\n",
    "    \n",
    "    total_time = 0.0\n",
    "    \n",
    "    for epoch in range(num_epochs):\n",
    "        \n",
    "        model.train()\n",
    "        \n",
    "        running_loss = 0.0\n",
    "        running_correct = 0\n",
    "        total = 0\n",
    "        \n",
    "        start_time = time.time()\n",
    "        for support_images, support_labels, query_images, query_labels, _ in tqdm.tqdm(train_loader):\n",
    "            support_images = support_images.to(device)\n",
    "            support_labels = support_labels.to(device)\n",
    "            query_images = query_images.to(device)\n",
    "            query_labels = query_labels.to(device)\n",
    "            \n",
    "            optimizer.zero_grad()\n",
    "            \n",
    "            scores = model(support_images, support_labels, query_images)\n",
    "            \n",
    "            loss = criterion(scores, query_labels)\n",
    "            \n",
    "            running_loss += loss.item()\n",
    "            total += query_labels.shape[0]\n",
    "            _, preds = torch.max(scores, 1)\n",
    "            running_correct += torch.sum(preds == query_labels).item()\n",
    "            \n",
    "            loss.backward()\n",
    "            optimizer.step()\n",
    "         \n",
    "        end_time = time.time()\n",
    "        \n",
    "        scheduler.step()\n",
    "        \n",
    "        print(f'Epoch: {epoch + 1}, Loss: {running_loss / len(train_loader)}, Accuracy: {running_correct / total}, Time: {(end_time - start_time):.4f}s')\n",
    "        \n",
    "        total_time += end_time - start_time\n",
    "        \n",
    "        train_loss_history.append(running_loss / len(train_loader))\n",
    "        train_acc_history.append(running_correct / total)\n",
    "        \n",
    "        val_loss, val_acc = evaluate_model(model, criterion, val_loader)\n",
    "        \n",
    "        val_loss_history.append(val_loss)\n",
    "        val_acc_history.append(val_acc)\n",
    "        \n",
    "    print(f'Average Training Time: {total_time / num_epochs}')\n",
    "    return train_loss_history, train_acc_history, val_loss_history, val_acc_history"
   ]
  },
  {
   "cell_type": "code",
   "execution_count": 14,
   "id": "d770b58f",
   "metadata": {
    "execution": {
     "iopub.execute_input": "2022-11-07T03:55:58.359076Z",
     "iopub.status.busy": "2022-11-07T03:55:58.358217Z",
     "iopub.status.idle": "2022-11-07T03:56:02.089591Z",
     "shell.execute_reply": "2022-11-07T03:56:02.088535Z"
    },
    "papermill": {
     "duration": 3.740348,
     "end_time": "2022-11-07T03:56:02.092236",
     "exception": false,
     "start_time": "2022-11-07T03:55:58.351888",
     "status": "completed"
    },
    "tags": []
   },
   "outputs": [
    {
     "name": "stderr",
     "output_type": "stream",
     "text": [
      "Downloading: \"https://download.pytorch.org/models/resnet18-f37072fd.pth\" to /root/.cache/torch/hub/checkpoints/resnet18-f37072fd.pth\n"
     ]
    },
    {
     "data": {
      "application/vnd.jupyter.widget-view+json": {
       "model_id": "65a7950a3aa74c44a6d762e5d76ba36b",
       "version_major": 2,
       "version_minor": 0
      },
      "text/plain": [
       "  0%|          | 0.00/44.7M [00:00<?, ?B/s]"
      ]
     },
     "metadata": {},
     "output_type": "display_data"
    }
   ],
   "source": [
    "model = MatchingNetwork(image_size=image_size, use_full_contextual_embedding=True)"
   ]
  },
  {
   "cell_type": "code",
   "execution_count": 15,
   "id": "8238255b",
   "metadata": {
    "execution": {
     "iopub.execute_input": "2022-11-07T03:56:02.106475Z",
     "iopub.status.busy": "2022-11-07T03:56:02.106148Z",
     "iopub.status.idle": "2022-11-07T03:56:02.112456Z",
     "shell.execute_reply": "2022-11-07T03:56:02.111433Z"
    },
    "papermill": {
     "duration": 0.015887,
     "end_time": "2022-11-07T03:56:02.114702",
     "exception": false,
     "start_time": "2022-11-07T03:56:02.098815",
     "status": "completed"
    },
    "tags": []
   },
   "outputs": [],
   "source": [
    "criterion = torch.nn.CrossEntropyLoss()\n",
    "optimizer = optim.Adam(model.parameters(), lr=0.0001)\n",
    "lr_scheduler = torch.optim.lr_scheduler.StepLR(optimizer, step_size=2, gamma=0.1)"
   ]
  },
  {
   "cell_type": "code",
   "execution_count": 16,
   "id": "55ab0454",
   "metadata": {
    "execution": {
     "iopub.execute_input": "2022-11-07T03:56:02.127856Z",
     "iopub.status.busy": "2022-11-07T03:56:02.127602Z",
     "iopub.status.idle": "2022-11-07T04:09:55.099610Z",
     "shell.execute_reply": "2022-11-07T04:09:55.098177Z"
    },
    "papermill": {
     "duration": 832.98208,
     "end_time": "2022-11-07T04:09:55.102821",
     "exception": false,
     "start_time": "2022-11-07T03:56:02.120741",
     "status": "completed"
    },
    "tags": []
   },
   "outputs": [
    {
     "name": "stderr",
     "output_type": "stream",
     "text": [
      "100%|██████████| 100/100 [00:48<00:00,  2.08it/s]\n"
     ]
    },
    {
     "name": "stdout",
     "output_type": "stream",
     "text": [
      "Epoch: 1, Loss: 0.1319432100537233, Accuracy: 0.9644, Time: 48.1506s\n"
     ]
    },
    {
     "name": "stderr",
     "output_type": "stream",
     "text": [
      "100%|██████████| 100/100 [00:40<00:00,  2.46it/s]\n"
     ]
    },
    {
     "name": "stdout",
     "output_type": "stream",
     "text": [
      "Loss: 0.19289716110099106, Accuracy: 0.93, Time: 40.6706s\n"
     ]
    },
    {
     "name": "stderr",
     "output_type": "stream",
     "text": [
      "100%|██████████| 100/100 [00:42<00:00,  2.35it/s]\n"
     ]
    },
    {
     "name": "stdout",
     "output_type": "stream",
     "text": [
      "Epoch: 2, Loss: 0.06396471778862178, Accuracy: 0.9824, Time: 42.6399s\n"
     ]
    },
    {
     "name": "stderr",
     "output_type": "stream",
     "text": [
      "100%|██████████| 100/100 [00:39<00:00,  2.51it/s]\n"
     ]
    },
    {
     "name": "stdout",
     "output_type": "stream",
     "text": [
      "Loss: 0.1274319399893284, Accuracy: 0.9572, Time: 39.8469s\n"
     ]
    },
    {
     "name": "stderr",
     "output_type": "stream",
     "text": [
      "100%|██████████| 100/100 [00:42<00:00,  2.35it/s]\n"
     ]
    },
    {
     "name": "stdout",
     "output_type": "stream",
     "text": [
      "Epoch: 3, Loss: 0.03392269131727517, Accuracy: 0.994, Time: 42.4954s\n"
     ]
    },
    {
     "name": "stderr",
     "output_type": "stream",
     "text": [
      "100%|██████████| 100/100 [00:39<00:00,  2.52it/s]\n"
     ]
    },
    {
     "name": "stdout",
     "output_type": "stream",
     "text": [
      "Loss: 0.12954318619333208, Accuracy: 0.952, Time: 39.7350s\n"
     ]
    },
    {
     "name": "stderr",
     "output_type": "stream",
     "text": [
      "100%|██████████| 100/100 [00:42<00:00,  2.34it/s]\n"
     ]
    },
    {
     "name": "stdout",
     "output_type": "stream",
     "text": [
      "Epoch: 4, Loss: 0.021053133346140385, Accuracy: 0.9976, Time: 42.8025s\n"
     ]
    },
    {
     "name": "stderr",
     "output_type": "stream",
     "text": [
      "100%|██████████| 100/100 [00:40<00:00,  2.49it/s]\n"
     ]
    },
    {
     "name": "stdout",
     "output_type": "stream",
     "text": [
      "Loss: 0.12472217373549938, Accuracy: 0.9524, Time: 40.1399s\n"
     ]
    },
    {
     "name": "stderr",
     "output_type": "stream",
     "text": [
      "100%|██████████| 100/100 [00:42<00:00,  2.36it/s]\n"
     ]
    },
    {
     "name": "stdout",
     "output_type": "stream",
     "text": [
      "Epoch: 5, Loss: 0.024470257438952103, Accuracy: 0.9944, Time: 42.3613s\n"
     ]
    },
    {
     "name": "stderr",
     "output_type": "stream",
     "text": [
      "100%|██████████| 100/100 [00:39<00:00,  2.51it/s]\n"
     ]
    },
    {
     "name": "stdout",
     "output_type": "stream",
     "text": [
      "Loss: 0.11690443256404251, Accuracy: 0.9644, Time: 39.7883s\n"
     ]
    },
    {
     "name": "stderr",
     "output_type": "stream",
     "text": [
      "100%|██████████| 100/100 [00:41<00:00,  2.38it/s]\n"
     ]
    },
    {
     "name": "stdout",
     "output_type": "stream",
     "text": [
      "Epoch: 6, Loss: 0.02607490053982474, Accuracy: 0.9944, Time: 41.9502s\n"
     ]
    },
    {
     "name": "stderr",
     "output_type": "stream",
     "text": [
      "100%|██████████| 100/100 [00:40<00:00,  2.49it/s]\n"
     ]
    },
    {
     "name": "stdout",
     "output_type": "stream",
     "text": [
      "Loss: 0.11331243714084849, Accuracy: 0.9628, Time: 40.2485s\n"
     ]
    },
    {
     "name": "stderr",
     "output_type": "stream",
     "text": [
      "100%|██████████| 100/100 [00:42<00:00,  2.37it/s]\n"
     ]
    },
    {
     "name": "stdout",
     "output_type": "stream",
     "text": [
      "Epoch: 7, Loss: 0.02040796688583214, Accuracy: 0.9964, Time: 42.2903s\n"
     ]
    },
    {
     "name": "stderr",
     "output_type": "stream",
     "text": [
      "100%|██████████| 100/100 [00:39<00:00,  2.51it/s]\n"
     ]
    },
    {
     "name": "stdout",
     "output_type": "stream",
     "text": [
      "Loss: 0.10902074475307018, Accuracy: 0.9668, Time: 39.8756s\n"
     ]
    },
    {
     "name": "stderr",
     "output_type": "stream",
     "text": [
      "100%|██████████| 100/100 [00:42<00:00,  2.35it/s]\n"
     ]
    },
    {
     "name": "stdout",
     "output_type": "stream",
     "text": [
      "Epoch: 8, Loss: 0.018741563650546595, Accuracy: 0.9972, Time: 42.5446s\n"
     ]
    },
    {
     "name": "stderr",
     "output_type": "stream",
     "text": [
      "100%|██████████| 100/100 [00:39<00:00,  2.53it/s]\n"
     ]
    },
    {
     "name": "stdout",
     "output_type": "stream",
     "text": [
      "Loss: 0.14740528804890346, Accuracy: 0.9492, Time: 39.4668s\n"
     ]
    },
    {
     "name": "stderr",
     "output_type": "stream",
     "text": [
      "100%|██████████| 100/100 [00:42<00:00,  2.37it/s]\n"
     ]
    },
    {
     "name": "stdout",
     "output_type": "stream",
     "text": [
      "Epoch: 9, Loss: 0.018394906644243748, Accuracy: 0.9972, Time: 42.1619s\n"
     ]
    },
    {
     "name": "stderr",
     "output_type": "stream",
     "text": [
      "100%|██████████| 100/100 [00:39<00:00,  2.52it/s]\n"
     ]
    },
    {
     "name": "stdout",
     "output_type": "stream",
     "text": [
      "Loss: 0.1311418111421517, Accuracy: 0.954, Time: 39.7192s\n"
     ]
    },
    {
     "name": "stderr",
     "output_type": "stream",
     "text": [
      "100%|██████████| 100/100 [00:42<00:00,  2.36it/s]\n"
     ]
    },
    {
     "name": "stdout",
     "output_type": "stream",
     "text": [
      "Epoch: 10, Loss: 0.01934524478201638, Accuracy: 0.996, Time: 42.4742s\n"
     ]
    },
    {
     "name": "stderr",
     "output_type": "stream",
     "text": [
      "100%|██████████| 100/100 [00:39<00:00,  2.52it/s]"
     ]
    },
    {
     "name": "stdout",
     "output_type": "stream",
     "text": [
      "Loss: 0.12830406949622555, Accuracy: 0.9548, Time: 39.6618s\n",
      "Average Training Time: 42.987090015411376\n"
     ]
    },
    {
     "name": "stderr",
     "output_type": "stream",
     "text": [
      "\n"
     ]
    }
   ],
   "source": [
    "history = train(model, criterion, optimizer, lr_scheduler, train_loader, validation_loader, num_epochs=n_epochs)"
   ]
  },
  {
   "cell_type": "code",
   "execution_count": 17,
   "id": "77afc4c7",
   "metadata": {
    "execution": {
     "iopub.execute_input": "2022-11-07T04:09:55.330625Z",
     "iopub.status.busy": "2022-11-07T04:09:55.330250Z",
     "iopub.status.idle": "2022-11-07T04:09:55.334850Z",
     "shell.execute_reply": "2022-11-07T04:09:55.333745Z"
    },
    "papermill": {
     "duration": 0.120295,
     "end_time": "2022-11-07T04:09:55.337324",
     "exception": false,
     "start_time": "2022-11-07T04:09:55.217029",
     "status": "completed"
    },
    "tags": []
   },
   "outputs": [],
   "source": [
    "train_loss, train_acc, val_loss, val_acc = history"
   ]
  },
  {
   "cell_type": "code",
   "execution_count": 18,
   "id": "607b7533",
   "metadata": {
    "execution": {
     "iopub.execute_input": "2022-11-07T04:09:55.567423Z",
     "iopub.status.busy": "2022-11-07T04:09:55.567072Z",
     "iopub.status.idle": "2022-11-07T04:09:55.572947Z",
     "shell.execute_reply": "2022-11-07T04:09:55.571885Z"
    },
    "papermill": {
     "duration": 0.123409,
     "end_time": "2022-11-07T04:09:55.574887",
     "exception": false,
     "start_time": "2022-11-07T04:09:55.451478",
     "status": "completed"
    },
    "tags": []
   },
   "outputs": [],
   "source": [
    "def plot_curve(train_history, val_history, title='Model Accuracy', ylabel='Accuracy', legend_loc='upper left'):\n",
    "    \n",
    "    plt.plot(train_history)\n",
    "    plt.plot(val_history)\n",
    "    plt.title(title)\n",
    "    plt.ylabel(ylabel)\n",
    "    plt.xlabel('epochs')\n",
    "    plt.legend(['train', 'validation'], loc=legend_loc)\n",
    "    \n",
    "    plt.show()"
   ]
  },
  {
   "cell_type": "code",
   "execution_count": 19,
   "id": "4469ae45",
   "metadata": {
    "execution": {
     "iopub.execute_input": "2022-11-07T04:09:55.819411Z",
     "iopub.status.busy": "2022-11-07T04:09:55.817238Z",
     "iopub.status.idle": "2022-11-07T04:09:56.061607Z",
     "shell.execute_reply": "2022-11-07T04:09:56.060525Z"
    },
    "papermill": {
     "duration": 0.37189,
     "end_time": "2022-11-07T04:09:56.064019",
     "exception": false,
     "start_time": "2022-11-07T04:09:55.692129",
     "status": "completed"
    },
    "tags": []
   },
   "outputs": [
    {
     "data": {
      "image/png": "[encoded data removed]",
      "text/plain": [
       "<Figure size 432x288 with 1 Axes>"
      ]
     },
     "metadata": {
      "needs_background": "light"
     },
     "output_type": "display_data"
    }
   ],
   "source": [
    "plot_curve(train_loss, val_loss, title='Matching Network Loss', ylabel='Loss', legend_loc='upper right')"
   ]
  },
  {
   "cell_type": "code",
   "execution_count": 20,
   "id": "c8c5210d",
   "metadata": {
    "execution": {
     "iopub.execute_input": "2022-11-07T04:09:56.305058Z",
     "iopub.status.busy": "2022-11-07T04:09:56.304024Z",
     "iopub.status.idle": "2022-11-07T04:09:56.524456Z",
     "shell.execute_reply": "2022-11-07T04:09:56.523464Z"
    },
    "papermill": {
     "duration": 0.34157,
     "end_time": "2022-11-07T04:09:56.526807",
     "exception": false,
     "start_time": "2022-11-07T04:09:56.185237",
     "status": "completed"
    },
    "tags": []
   },
   "outputs": [
    {
     "data": {
      "image/png": "[encoded data removed]",
      "text/plain": [
       "<Figure size 432x288 with 1 Axes>"
      ]
     },
     "metadata": {
      "needs_background": "light"
     },
     "output_type": "display_data"
    }
   ],
   "source": [
    "plot_curve(train_acc, val_acc, title='Matching Network Accuracy', ylabel='Accuracy', legend_loc='upper left')"
   ]
  },
  {
   "cell_type": "code",
   "execution_count": 21,
   "id": "9c5d1dd0",
   "metadata": {
    "execution": {
     "iopub.execute_input": "2022-11-07T04:09:56.815999Z",
     "iopub.status.busy": "2022-11-07T04:09:56.815607Z",
     "iopub.status.idle": "2022-11-07T04:17:58.368097Z",
     "shell.execute_reply": "2022-11-07T04:17:58.364293Z"
    },
    "papermill": {
     "duration": 481.727549,
     "end_time": "2022-11-07T04:17:58.371653",
     "exception": false,
     "start_time": "2022-11-07T04:09:56.644104",
     "status": "completed"
    },
    "tags": []
   },
   "outputs": [
    {
     "name": "stdout",
     "output_type": "stream",
     "text": [
      "Train: "
     ]
    },
    {
     "name": "stderr",
     "output_type": "stream",
     "text": [
      "100%|██████████| 100/100 [00:40<00:00,  2.49it/s]\n"
     ]
    },
    {
     "name": "stdout",
     "output_type": "stream",
     "text": [
      "Loss: 0.020519027223053855, Accuracy: 0.996, Time: 40.1235s\n",
      "Validation: "
     ]
    },
    {
     "name": "stderr",
     "output_type": "stream",
     "text": [
      "100%|██████████| 100/100 [00:40<00:00,  2.47it/s]\n"
     ]
    },
    {
     "name": "stdout",
     "output_type": "stream",
     "text": [
      "Loss: 0.09825042573036626, Accuracy: 0.9668, Time: 40.5400s\n",
      "Test: "
     ]
    },
    {
     "name": "stderr",
     "output_type": "stream",
     "text": [
      "100%|██████████| 1000/1000 [06:40<00:00,  2.49it/s]"
     ]
    },
    {
     "name": "stdout",
     "output_type": "stream",
     "text": [
      "Loss: 0.13359929419873515, Accuracy: 0.95504, Time: 400.8627s\n"
     ]
    },
    {
     "name": "stderr",
     "output_type": "stream",
     "text": [
      "\n"
     ]
    }
   ],
   "source": [
    "print('Train: ', end='')\n",
    "evaluate_model(model, criterion, train_loader)\n",
    "\n",
    "print('Validation: ', end='')\n",
    "evaluate_model(model, criterion, validation_loader)\n",
    "\n",
    "print('Test: ', end='')\n",
    "evaluate_model(model, criterion, test_loader);"
   ]
  },
  {
   "cell_type": "code",
   "execution_count": 22,
   "id": "15ea591f",
   "metadata": {
    "execution": {
     "iopub.execute_input": "2022-11-07T04:17:58.737065Z",
     "iopub.status.busy": "2022-11-07T04:17:58.736684Z",
     "iopub.status.idle": "2022-11-07T04:17:58.873037Z",
     "shell.execute_reply": "2022-11-07T04:17:58.871212Z"
    },
    "papermill": {
     "duration": 0.325096,
     "end_time": "2022-11-07T04:17:58.878306",
     "exception": false,
     "start_time": "2022-11-07T04:17:58.553210",
     "status": "completed"
    },
    "tags": []
   },
   "outputs": [],
   "source": [
    "torch.save(model.state_dict(), \"matching_network_fce_episodic.pt\")"
   ]
  }
 ],
 "metadata": {
  "kernelspec": {
   "display_name": "Python 3",
   "language": "python",
   "name": "python3"
  },
  "language_info": {
   "codemirror_mode": {
    "name": "ipython",
    "version": 3
   },
   "file_extension": ".py",
   "mimetype": "text/x-python",
   "name": "python",
   "nbconvert_exporter": "python",
   "pygments_lexer": "ipython3",
   "version": "3.7.12"
  },
  "papermill": {
   "default_parameters": {},
   "duration": 1359.418863,
   "end_time": "2022-11-07T04:18:00.597015",
   "environment_variables": {},
   "exception": null,
   "input_path": "__notebook__.ipynb",
   "output_path": "__notebook__.ipynb",
   "parameters": {},
   "start_time": "2022-11-07T03:55:21.178152",
   "version": "2.3.4"
  },
  "widgets": {
   "application/vnd.jupyter.widget-state+json": {
    "state": {
     "024b5cbb199542719e092a0af108011c": {
      "model_module": "@jupyter-widgets/controls",
      "model_module_version": "1.5.0",
      "model_name": "HTMLModel",
      "state": {
       "_dom_classes": [],
       "_model_module": "@jupyter-widgets/controls",
       "_model_module_version": "1.5.0",
       "_model_name": "HTMLModel",
       "_view_count": null,
       "_view_module": "@jupyter-widgets/controls",
       "_view_module_version": "1.5.0",
       "_view_name": "HTMLView",
       "description": "",
       "description_tooltip": null,
       "layout": "IPY_MODEL_dfd21532c8f34d10a9af2cde0a385198",
       "placeholder": "​",
       "style": "IPY_MODEL_d94057f91161465b9ef49768e38e424a",
       "value": "100%"
      }
     },
     "02bbaaa6a1a446e488d23cfa46cfbbdd": {
      "model_module": "@jupyter-widgets/base",
      "model_module_version": "1.2.0",
      "model_name": "LayoutModel",
      "state": {
       "_model_module": "@jupyter-widgets/base",
       "_model_module_version": "1.2.0",
       "_model_name": "LayoutModel",
       "_view_count": null,
       "_view_module": "@jupyter-widgets/base",
       "_view_module_version": "1.2.0",
       "_view_name": "LayoutView",
       "align_content": null,
       "align_items": null,
       "align_self": null,
       "border": null,
       "bottom": null,
       "display": null,
       "flex": null,
       "flex_flow": null,
       "grid_area": null,
       "grid_auto_columns": null,
       "grid_auto_flow": null,
       "grid_auto_rows": null,
       "grid_column": null,
       "grid_gap": null,
       "grid_row": null,
       "grid_template_areas": null,
       "grid_template_columns": null,
       "grid_template_rows": null,
       "height": null,
       "justify_content": null,
       "justify_items": null,
       "left": null,
       "margin": null,
       "max_height": null,
       "max_width": null,
       "min_height": null,
       "min_width": null,
       "object_fit": null,
       "object_position": null,
       "order": null,
       "overflow": null,
       "overflow_x": null,
       "overflow_y": null,
       "padding": null,
       "right": null,
       "top": null,
       "visibility": null,
       "width": null
      }
     },
     "0384c2ae1e5349a8b253d1f1fd890f7d": {
      "model_module": "@jupyter-widgets/controls",
      "model_module_version": "1.5.0",
      "model_name": "DescriptionStyleModel",
      "state": {
       "_model_module": "@jupyter-widgets/controls",
       "_model_module_version": "1.5.0",
       "_model_name": "DescriptionStyleModel",
       "_view_count": null,
       "_view_module": "@jupyter-widgets/base",
       "_view_module_version": "1.2.0",
       "_view_name": "StyleView",
       "description_width": ""
      }
     },
     "0527c0cd6636423f99e447a4fb231dd8": {
      "model_module": "@jupyter-widgets/base",
      "model_module_version": "1.2.0",
      "model_name": "LayoutModel",
      "state": {
       "_model_module": "@jupyter-widgets/base",
       "_model_module_version": "1.2.0",
       "_model_name": "LayoutModel",
       "_view_count": null,
       "_view_module": "@jupyter-widgets/base",
       "_view_module_version": "1.2.0",
       "_view_name": "LayoutView",
       "align_content": null,
       "align_items": null,
       "align_self": null,
       "border": null,
       "bottom": null,
       "display": null,
       "flex": null,
       "flex_flow": null,
       "grid_area": null,
       "grid_auto_columns": null,
       "grid_auto_flow": null,
       "grid_auto_rows": null,
       "grid_column": null,
       "grid_gap": null,
       "grid_row": null,
       "grid_template_areas": null,
       "grid_template_columns": null,
       "grid_template_rows": null,
       "height": null,
       "justify_content": null,
       "justify_items": null,
       "left": null,
       "margin": null,
       "max_height": null,
       "max_width": null,
       "min_height": null,
       "min_width": null,
       "object_fit": null,
       "object_position": null,
       "order": null,
       "overflow": null,
       "overflow_x": null,
       "overflow_y": null,
       "padding": null,
       "right": null,
       "top": null,
       "visibility": null,
       "width": null
      }
     },
     "05d59059c62745c9a2a8980228b83ea7": {
      "model_module": "@jupyter-widgets/controls",
      "model_module_version": "1.5.0",
      "model_name": "HTMLModel",
      "state": {
       "_dom_classes": [],
       "_model_module": "@jupyter-widgets/controls",
       "_model_module_version": "1.5.0",
       "_model_name": "HTMLModel",
       "_view_count": null,
       "_view_module": "@jupyter-widgets/controls",
       "_view_module_version": "1.5.0",
       "_view_name": "HTMLView",
       "description": "",
       "description_tooltip": null,
       "layout": "IPY_MODEL_96760b5eb236463faf5d16132dd10166",
       "placeholder": "​",
       "style": "IPY_MODEL_0b366603b7f74bb9bca79f7254e489de",
       "value": ""
      }
     },
     "0b366603b7f74bb9bca79f7254e489de": {
      "model_module": "@jupyter-widgets/controls",
      "model_module_version": "1.5.0",
      "model_name": "DescriptionStyleModel",
      "state": {
       "_model_module": "@jupyter-widgets/controls",
       "_model_module_version": "1.5.0",
       "_model_name": "DescriptionStyleModel",
       "_view_count": null,
       "_view_module": "@jupyter-widgets/base",
       "_view_module_version": "1.2.0",
       "_view_name": "StyleView",
       "description_width": ""
      }
     },
     "0bc3ef8e618c43b0ae835025b2fe41ac": {
      "model_module": "@jupyter-widgets/base",
      "model_module_version": "1.2.0",
      "model_name": "LayoutModel",
      "state": {
       "_model_module": "@jupyter-widgets/base",
       "_model_module_version": "1.2.0",
       "_model_name": "LayoutModel",
       "_view_count": null,
       "_view_module": "@jupyter-widgets/base",
       "_view_module_version": "1.2.0",
       "_view_name": "LayoutView",
       "align_content": null,
       "align_items": null,
       "align_self": null,
       "border": null,
       "bottom": null,
       "display": null,
       "flex": null,
       "flex_flow": null,
       "grid_area": null,
       "grid_auto_columns": null,
       "grid_auto_flow": null,
       "grid_auto_rows": null,
       "grid_column": null,
       "grid_gap": null,
       "grid_row": null,
       "grid_template_areas": null,
       "grid_template_columns": null,
       "grid_template_rows": null,
       "height": null,
       "justify_content": null,
       "justify_items": null,
       "left": null,
       "margin": null,
       "max_height": null,
       "max_width": null,
       "min_height": null,
       "min_width": null,
       "object_fit": null,
       "object_position": null,
       "order": null,
       "overflow": null,
       "overflow_x": null,
       "overflow_y": null,
       "padding": null,
       "right": null,
       "top": null,
       "visibility": null,
       "width": null
      }
     },
     "0c02da876bad4abba2c70302dd0c35df": {
      "model_module": "@jupyter-widgets/base",
      "model_module_version": "1.2.0",
      "model_name": "LayoutModel",
      "state": {
       "_model_module": "@jupyter-widgets/base",
       "_model_module_version": "1.2.0",
       "_model_name": "LayoutModel",
       "_view_count": null,
       "_view_module": "@jupyter-widgets/base",
       "_view_module_version": "1.2.0",
       "_view_name": "LayoutView",
       "align_content": null,
       "align_items": null,
       "align_self": null,
       "border": null,
       "bottom": null,
       "display": null,
       "flex": null,
       "flex_flow": null,
       "grid_area": null,
       "grid_auto_columns": null,
       "grid_auto_flow": null,
       "grid_auto_rows": null,
       "grid_column": null,
       "grid_gap": null,
       "grid_row": null,
       "grid_template_areas": null,
       "grid_template_columns": null,
       "grid_template_rows": null,
       "height": null,
       "justify_content": null,
       "justify_items": null,
       "left": null,
       "margin": null,
       "max_height": null,
       "max_width": null,
       "min_height": null,
       "min_width": null,
       "object_fit": null,
       "object_position": null,
       "order": null,
       "overflow": null,
       "overflow_x": null,
       "overflow_y": null,
       "padding": null,
       "right": null,
       "top": null,
       "visibility": null,
       "width": null
      }
     },
     "1716bba3e9a04554bb6e8f83a077d659": {
      "model_module": "@jupyter-widgets/controls",
      "model_module_version": "1.5.0",
      "model_name": "HTMLModel",
      "state": {
       "_dom_classes": [],
       "_model_module": "@jupyter-widgets/controls",
       "_model_module_version": "1.5.0",
       "_model_name": "HTMLModel",
       "_view_count": null,
       "_view_module": "@jupyter-widgets/controls",
       "_view_module_version": "1.5.0",
       "_view_name": "HTMLView",
       "description": "",
       "description_tooltip": null,
       "layout": "IPY_MODEL_0c02da876bad4abba2c70302dd0c35df",
       "placeholder": "​",
       "style": "IPY_MODEL_ca0c35b641e542a3aa5ced2bdd9758a1",
       "value": " 1024/? [00:00&lt;00:00, 37521.77it/s]"
      }
     },
     "198de988218b4ae39d7be05ca6eec64f": {
      "model_module": "@jupyter-widgets/base",
      "model_module_version": "1.2.0",
      "model_name": "LayoutModel",
      "state": {
       "_model_module": "@jupyter-widgets/base",
       "_model_module_version": "1.2.0",
       "_model_name": "LayoutModel",
       "_view_count": null,
       "_view_module": "@jupyter-widgets/base",
       "_view_module_version": "1.2.0",
       "_view_name": "LayoutView",
       "align_content": null,
       "align_items": null,
       "align_self": null,
       "border": null,
       "bottom": null,
       "display": null,
       "flex": null,
       "flex_flow": null,
       "grid_area": null,
       "grid_auto_columns": null,
       "grid_auto_flow": null,
       "grid_auto_rows": null,
       "grid_column": null,
       "grid_gap": null,
       "grid_row": null,
       "grid_template_areas": null,
       "grid_template_columns": null,
       "grid_template_rows": null,
       "height": null,
       "justify_content": null,
       "justify_items": null,
       "left": null,
       "margin": null,
       "max_height": null,
       "max_width": null,
       "min_height": null,
       "min_width": null,
       "object_fit": null,
       "object_position": null,
       "order": null,
       "overflow": null,
       "overflow_x": null,
       "overflow_y": null,
       "padding": null,
       "right": null,
       "top": null,
       "visibility": null,
       "width": null
      }
     },
     "1f30d15bca984441be8243492d304e4e": {
      "model_module": "@jupyter-widgets/controls",
      "model_module_version": "1.5.0",
      "model_name": "ProgressStyleModel",
      "state": {
       "_model_module": "@jupyter-widgets/controls",
       "_model_module_version": "1.5.0",
       "_model_name": "ProgressStyleModel",
       "_view_count": null,
       "_view_module": "@jupyter-widgets/base",
       "_view_module_version": "1.2.0",
       "_view_name": "StyleView",
       "bar_color": null,
       "description_width": ""
      }
     },
     "3fcbfb270a814aa292987fe1c928a8e9": {
      "model_module": "@jupyter-widgets/controls",
      "model_module_version": "1.5.0",
      "model_name": "DescriptionStyleModel",
      "state": {
       "_model_module": "@jupyter-widgets/controls",
       "_model_module_version": "1.5.0",
       "_model_name": "DescriptionStyleModel",
       "_view_count": null,
       "_view_module": "@jupyter-widgets/base",
       "_view_module_version": "1.2.0",
       "_view_name": "StyleView",
       "description_width": ""
      }
     },
     "4214c57198104bf1b641580c7435b6cf": {
      "model_module": "@jupyter-widgets/controls",
      "model_module_version": "1.5.0",
      "model_name": "ProgressStyleModel",
      "state": {
       "_model_module": "@jupyter-widgets/controls",
       "_model_module_version": "1.5.0",
       "_model_name": "ProgressStyleModel",
       "_view_count": null,
       "_view_module": "@jupyter-widgets/base",
       "_view_module_version": "1.2.0",
       "_view_name": "StyleView",
       "bar_color": null,
       "description_width": ""
      }
     },
     "50a413e1a7294664ab96474b2a4fa006": {
      "model_module": "@jupyter-widgets/controls",
      "model_module_version": "1.5.0",
      "model_name": "HTMLModel",
      "state": {
       "_dom_classes": [],
       "_model_module": "@jupyter-widgets/controls",
       "_model_module_version": "1.5.0",
       "_model_name": "HTMLModel",
       "_view_count": null,
       "_view_module": "@jupyter-widgets/controls",
       "_view_module_version": "1.5.0",
       "_view_name": "HTMLView",
       "description": "",
       "description_tooltip": null,
       "layout": "IPY_MODEL_0bc3ef8e618c43b0ae835025b2fe41ac",
       "placeholder": "​",
       "style": "IPY_MODEL_a6622c7d8df44ed99efedb145e3ebe09",
       "value": " 44.7M/44.7M [00:02&lt;00:00, 23.6MB/s]"
      }
     },
     "51b346c29d78401b829ccf507036a6ea": {
      "model_module": "@jupyter-widgets/base",
      "model_module_version": "1.2.0",
      "model_name": "LayoutModel",
      "state": {
       "_model_module": "@jupyter-widgets/base",
       "_model_module_version": "1.2.0",
       "_model_name": "LayoutModel",
       "_view_count": null,
       "_view_module": "@jupyter-widgets/base",
       "_view_module_version": "1.2.0",
       "_view_name": "LayoutView",
       "align_content": null,
       "align_items": null,
       "align_self": null,
       "border": null,
       "bottom": null,
       "display": null,
       "flex": null,
       "flex_flow": null,
       "grid_area": null,
       "grid_auto_columns": null,
       "grid_auto_flow": null,
       "grid_auto_rows": null,
       "grid_column": null,
       "grid_gap": null,
       "grid_row": null,
       "grid_template_areas": null,
       "grid_template_columns": null,
       "grid_template_rows": null,
       "height": null,
       "justify_content": null,
       "justify_items": null,
       "left": null,
       "margin": null,
       "max_height": null,
       "max_width": null,
       "min_height": null,
       "min_width": null,
       "object_fit": null,
       "object_position": null,
       "order": null,
       "overflow": null,
       "overflow_x": null,
       "overflow_y": null,
       "padding": null,
       "right": null,
       "top": null,
       "visibility": null,
       "width": null
      }
     },
     "545b7c3b14ca4473912c751bc1016a79": {
      "model_module": "@jupyter-widgets/controls",
      "model_module_version": "1.5.0",
      "model_name": "FloatProgressModel",
      "state": {
       "_dom_classes": [],
       "_model_module": "@jupyter-widgets/controls",
       "_model_module_version": "1.5.0",
       "_model_name": "FloatProgressModel",
       "_view_count": null,
       "_view_module": "@jupyter-widgets/controls",
       "_view_module_version": "1.5.0",
       "_view_name": "ProgressView",
       "bar_style": "success",
       "description": "",
       "description_tooltip": null,
       "layout": "IPY_MODEL_a7bd2530f4aa459fbe0233c498cd7e7d",
       "max": 344862509.0,
       "min": 0.0,
       "orientation": "horizontal",
       "style": "IPY_MODEL_e31d5d72c0974f5b99461e3e74f54fd0",
       "value": 344862509.0
      }
     },
     "5de177d88ca946819ac6fa00b29a148d": {
      "model_module": "@jupyter-widgets/controls",
      "model_module_version": "1.5.0",
      "model_name": "DescriptionStyleModel",
      "state": {
       "_model_module": "@jupyter-widgets/controls",
       "_model_module_version": "1.5.0",
       "_model_name": "DescriptionStyleModel",
       "_view_count": null,
       "_view_module": "@jupyter-widgets/base",
       "_view_module_version": "1.2.0",
       "_view_name": "StyleView",
       "description_width": ""
      }
     },
     "65a7950a3aa74c44a6d762e5d76ba36b": {
      "model_module": "@jupyter-widgets/controls",
      "model_module_version": "1.5.0",
      "model_name": "HBoxModel",
      "state": {
       "_dom_classes": [],
       "_model_module": "@jupyter-widgets/controls",
       "_model_module_version": "1.5.0",
       "_model_name": "HBoxModel",
       "_view_count": null,
       "_view_module": "@jupyter-widgets/controls",
       "_view_module_version": "1.5.0",
       "_view_name": "HBoxView",
       "box_style": "",
       "children": [
        "IPY_MODEL_024b5cbb199542719e092a0af108011c",
        "IPY_MODEL_bcc254e9721f4c5886a39d0b0eaad056",
        "IPY_MODEL_50a413e1a7294664ab96474b2a4fa006"
       ],
       "layout": "IPY_MODEL_f40b2ec3275e4808b1df2e766e480288"
      }
     },
     "66bee77c7e5b4e8aa744cbf717a39055": {
      "model_module": "@jupyter-widgets/controls",
      "model_module_version": "1.5.0",
      "model_name": "ProgressStyleModel",
      "state": {
       "_model_module": "@jupyter-widgets/controls",
       "_model_module_version": "1.5.0",
       "_model_name": "ProgressStyleModel",
       "_view_count": null,
       "_view_module": "@jupyter-widgets/base",
       "_view_module_version": "1.2.0",
       "_view_name": "StyleView",
       "bar_color": null,
       "description_width": ""
      }
     },
     "6c2e73a208584e4f9773949e6dbc1de2": {
      "model_module": "@jupyter-widgets/controls",
      "model_module_version": "1.5.0",
      "model_name": "DescriptionStyleModel",
      "state": {
       "_model_module": "@jupyter-widgets/controls",
       "_model_module_version": "1.5.0",
       "_model_name": "DescriptionStyleModel",
       "_view_count": null,
       "_view_module": "@jupyter-widgets/base",
       "_view_module_version": "1.2.0",
       "_view_name": "StyleView",
       "description_width": ""
      }
     },
     "7aabe56844ec402091cacd37e4ce7764": {
      "model_module": "@jupyter-widgets/base",
      "model_module_version": "1.2.0",
      "model_name": "LayoutModel",
      "state": {
       "_model_module": "@jupyter-widgets/base",
       "_model_module_version": "1.2.0",
       "_model_name": "LayoutModel",
       "_view_count": null,
       "_view_module": "@jupyter-widgets/base",
       "_view_module_version": "1.2.0",
       "_view_name": "LayoutView",
       "align_content": null,
       "align_items": null,
       "align_self": null,
       "border": null,
       "bottom": null,
       "display": null,
       "flex": null,
       "flex_flow": null,
       "grid_area": null,
       "grid_auto_columns": null,
       "grid_auto_flow": null,
       "grid_auto_rows": null,
       "grid_column": null,
       "grid_gap": null,
       "grid_row": null,
       "grid_template_areas": null,
       "grid_template_columns": null,
       "grid_template_rows": null,
       "height": null,
       "justify_content": null,
       "justify_items": null,
       "left": null,
       "margin": null,
       "max_height": null,
       "max_width": null,
       "min_height": null,
       "min_width": null,
       "object_fit": null,
       "object_position": null,
       "order": null,
       "overflow": null,
       "overflow_x": null,
       "overflow_y": null,
       "padding": null,
       "right": null,
       "top": null,
       "visibility": null,
       "width": null
      }
     },
     "8c2d895b05064a81aff035449e85bd3d": {
      "model_module": "@jupyter-widgets/controls",
      "model_module_version": "1.5.0",
      "model_name": "FloatProgressModel",
      "state": {
       "_dom_classes": [],
       "_model_module": "@jupyter-widgets/controls",
       "_model_module_version": "1.5.0",
       "_model_name": "FloatProgressModel",
       "_view_count": null,
       "_view_module": "@jupyter-widgets/controls",
       "_view_module_version": "1.5.0",
       "_view_name": "ProgressView",
       "bar_style": "success",
       "description": "",
       "description_tooltip": null,
       "layout": "IPY_MODEL_d37feb0e02e540e0951b65ad09023122",
       "max": 14989.0,
       "min": 0.0,
       "orientation": "horizontal",
       "style": "IPY_MODEL_66bee77c7e5b4e8aa744cbf717a39055",
       "value": 14989.0
      }
     },
     "96760b5eb236463faf5d16132dd10166": {
      "model_module": "@jupyter-widgets/base",
      "model_module_version": "1.2.0",
      "model_name": "LayoutModel",
      "state": {
       "_model_module": "@jupyter-widgets/base",
       "_model_module_version": "1.2.0",
       "_model_name": "LayoutModel",
       "_view_count": null,
       "_view_module": "@jupyter-widgets/base",
       "_view_module_version": "1.2.0",
       "_view_name": "LayoutView",
       "align_content": null,
       "align_items": null,
       "align_self": null,
       "border": null,
       "bottom": null,
       "display": null,
       "flex": null,
       "flex_flow": null,
       "grid_area": null,
       "grid_auto_columns": null,
       "grid_auto_flow": null,
       "grid_auto_rows": null,
       "grid_column": null,
       "grid_gap": null,
       "grid_row": null,
       "grid_template_areas": null,
       "grid_template_columns": null,
       "grid_template_rows": null,
       "height": null,
       "justify_content": null,
       "justify_items": null,
       "left": null,
       "margin": null,
       "max_height": null,
       "max_width": null,
       "min_height": null,
       "min_width": null,
       "object_fit": null,
       "object_position": null,
       "order": null,
       "overflow": null,
       "overflow_x": null,
       "overflow_y": null,
       "padding": null,
       "right": null,
       "top": null,
       "visibility": null,
       "width": null
      }
     },
     "9e50eb34b89a493a83bfd285062646ab": {
      "model_module": "@jupyter-widgets/base",
      "model_module_version": "1.2.0",
      "model_name": "LayoutModel",
      "state": {
       "_model_module": "@jupyter-widgets/base",
       "_model_module_version": "1.2.0",
       "_model_name": "LayoutModel",
       "_view_count": null,
       "_view_module": "@jupyter-widgets/base",
       "_view_module_version": "1.2.0",
       "_view_name": "LayoutView",
       "align_content": null,
       "align_items": null,
       "align_self": null,
       "border": null,
       "bottom": null,
       "display": null,
       "flex": null,
       "flex_flow": null,
       "grid_area": null,
       "grid_auto_columns": null,
       "grid_auto_flow": null,
       "grid_auto_rows": null,
       "grid_column": null,
       "grid_gap": null,
       "grid_row": null,
       "grid_template_areas": null,
       "grid_template_columns": null,
       "grid_template_rows": null,
       "height": null,
       "justify_content": null,
       "justify_items": null,
       "left": null,
       "margin": null,
       "max_height": null,
       "max_width": null,
       "min_height": null,
       "min_width": null,
       "object_fit": null,
       "object_position": null,
       "order": null,
       "overflow": null,
       "overflow_x": null,
       "overflow_y": null,
       "padding": null,
       "right": null,
       "top": null,
       "visibility": null,
       "width": null
      }
     },
     "a182e09039524193b9777874212b8c83": {
      "model_module": "@jupyter-widgets/controls",
      "model_module_version": "1.5.0",
      "model_name": "FloatProgressModel",
      "state": {
       "_dom_classes": [],
       "_model_module": "@jupyter-widgets/controls",
       "_model_module_version": "1.5.0",
       "_model_name": "FloatProgressModel",
       "_view_count": null,
       "_view_module": "@jupyter-widgets/controls",
       "_view_module_version": "1.5.0",
       "_view_name": "ProgressView",
       "bar_style": "success",
       "description": "",
       "description_tooltip": null,
       "layout": "IPY_MODEL_bfd98f05ae8b4d27b28ffc48067cc606",
       "max": 502.0,
       "min": 0.0,
       "orientation": "horizontal",
       "style": "IPY_MODEL_1f30d15bca984441be8243492d304e4e",
       "value": 502.0
      }
     },
     "a4472f3f109d452a89c3cdabaddfcf52": {
      "model_module": "@jupyter-widgets/base",
      "model_module_version": "1.2.0",
      "model_name": "LayoutModel",
      "state": {
       "_model_module": "@jupyter-widgets/base",
       "_model_module_version": "1.2.0",
       "_model_name": "LayoutModel",
       "_view_count": null,
       "_view_module": "@jupyter-widgets/base",
       "_view_module_version": "1.2.0",
       "_view_name": "LayoutView",
       "align_content": null,
       "align_items": null,
       "align_self": null,
       "border": null,
       "bottom": null,
       "display": null,
       "flex": null,
       "flex_flow": null,
       "grid_area": null,
       "grid_auto_columns": null,
       "grid_auto_flow": null,
       "grid_auto_rows": null,
       "grid_column": null,
       "grid_gap": null,
       "grid_row": null,
       "grid_template_areas": null,
       "grid_template_columns": null,
       "grid_template_rows": null,
       "height": null,
       "justify_content": null,
       "justify_items": null,
       "left": null,
       "margin": null,
       "max_height": null,
       "max_width": null,
       "min_height": null,
       "min_width": null,
       "object_fit": null,
       "object_position": null,
       "order": null,
       "overflow": null,
       "overflow_x": null,
       "overflow_y": null,
       "padding": null,
       "right": null,
       "top": null,
       "visibility": null,
       "width": null
      }
     },
     "a6622c7d8df44ed99efedb145e3ebe09": {
      "model_module": "@jupyter-widgets/controls",
      "model_module_version": "1.5.0",
      "model_name": "DescriptionStyleModel",
      "state": {
       "_model_module": "@jupyter-widgets/controls",
       "_model_module_version": "1.5.0",
       "_model_name": "DescriptionStyleModel",
       "_view_count": null,
       "_view_module": "@jupyter-widgets/base",
       "_view_module_version": "1.2.0",
       "_view_name": "StyleView",
       "description_width": ""
      }
     },
     "a7bd2530f4aa459fbe0233c498cd7e7d": {
      "model_module": "@jupyter-widgets/base",
      "model_module_version": "1.2.0",
      "model_name": "LayoutModel",
      "state": {
       "_model_module": "@jupyter-widgets/base",
       "_model_module_version": "1.2.0",
       "_model_name": "LayoutModel",
       "_view_count": null,
       "_view_module": "@jupyter-widgets/base",
       "_view_module_version": "1.2.0",
       "_view_name": "LayoutView",
       "align_content": null,
       "align_items": null,
       "align_self": null,
       "border": null,
       "bottom": null,
       "display": null,
       "flex": null,
       "flex_flow": null,
       "grid_area": null,
       "grid_auto_columns": null,
       "grid_auto_flow": null,
       "grid_auto_rows": null,
       "grid_column": null,
       "grid_gap": null,
       "grid_row": null,
       "grid_template_areas": null,
       "grid_template_columns": null,
       "grid_template_rows": null,
       "height": null,
       "justify_content": null,
       "justify_items": null,
       "left": null,
       "margin": null,
       "max_height": null,
       "max_width": null,
       "min_height": null,
       "min_width": null,
       "object_fit": null,
       "object_position": null,
       "order": null,
       "overflow": null,
       "overflow_x": null,
       "overflow_y": null,
       "padding": null,
       "right": null,
       "top": null,
       "visibility": null,
       "width": null
      }
     },
     "acd29ea76ce34be093ee0f64c9116c0d": {
      "model_module": "@jupyter-widgets/controls",
      "model_module_version": "1.5.0",
      "model_name": "HTMLModel",
      "state": {
       "_dom_classes": [],
       "_model_module": "@jupyter-widgets/controls",
       "_model_module_version": "1.5.0",
       "_model_name": "HTMLModel",
       "_view_count": null,
       "_view_module": "@jupyter-widgets/controls",
       "_view_module_version": "1.5.0",
       "_view_name": "HTMLView",
       "description": "",
       "description_tooltip": null,
       "layout": "IPY_MODEL_0527c0cd6636423f99e447a4fb231dd8",
       "placeholder": "​",
       "style": "IPY_MODEL_6c2e73a208584e4f9773949e6dbc1de2",
       "value": " 15360/? [00:00&lt;00:00, 552525.81it/s]"
      }
     },
     "b89b2e90c7ca4853b7db4feab918f7a2": {
      "model_module": "@jupyter-widgets/controls",
      "model_module_version": "1.5.0",
      "model_name": "HBoxModel",
      "state": {
       "_dom_classes": [],
       "_model_module": "@jupyter-widgets/controls",
       "_model_module_version": "1.5.0",
       "_model_name": "HBoxModel",
       "_view_count": null,
       "_view_module": "@jupyter-widgets/controls",
       "_view_module_version": "1.5.0",
       "_view_name": "HBoxView",
       "box_style": "",
       "children": [
        "IPY_MODEL_d2160dc2989f4fd8a4393fd49369f2f2",
        "IPY_MODEL_8c2d895b05064a81aff035449e85bd3d",
        "IPY_MODEL_acd29ea76ce34be093ee0f64c9116c0d"
       ],
       "layout": "IPY_MODEL_51b346c29d78401b829ccf507036a6ea"
      }
     },
     "bcc254e9721f4c5886a39d0b0eaad056": {
      "model_module": "@jupyter-widgets/controls",
      "model_module_version": "1.5.0",
      "model_name": "FloatProgressModel",
      "state": {
       "_dom_classes": [],
       "_model_module": "@jupyter-widgets/controls",
       "_model_module_version": "1.5.0",
       "_model_name": "FloatProgressModel",
       "_view_count": null,
       "_view_module": "@jupyter-widgets/controls",
       "_view_module_version": "1.5.0",
       "_view_name": "ProgressView",
       "bar_style": "success",
       "description": "",
       "description_tooltip": null,
       "layout": "IPY_MODEL_7aabe56844ec402091cacd37e4ce7764",
       "max": 46830571.0,
       "min": 0.0,
       "orientation": "horizontal",
       "style": "IPY_MODEL_4214c57198104bf1b641580c7435b6cf",
       "value": 46830571.0
      }
     },
     "bfd98f05ae8b4d27b28ffc48067cc606": {
      "model_module": "@jupyter-widgets/base",
      "model_module_version": "1.2.0",
      "model_name": "LayoutModel",
      "state": {
       "_model_module": "@jupyter-widgets/base",
       "_model_module_version": "1.2.0",
       "_model_name": "LayoutModel",
       "_view_count": null,
       "_view_module": "@jupyter-widgets/base",
       "_view_module_version": "1.2.0",
       "_view_name": "LayoutView",
       "align_content": null,
       "align_items": null,
       "align_self": null,
       "border": null,
       "bottom": null,
       "display": null,
       "flex": null,
       "flex_flow": null,
       "grid_area": null,
       "grid_auto_columns": null,
       "grid_auto_flow": null,
       "grid_auto_rows": null,
       "grid_column": null,
       "grid_gap": null,
       "grid_row": null,
       "grid_template_areas": null,
       "grid_template_columns": null,
       "grid_template_rows": null,
       "height": null,
       "justify_content": null,
       "justify_items": null,
       "left": null,
       "margin": null,
       "max_height": null,
       "max_width": null,
       "min_height": null,
       "min_width": null,
       "object_fit": null,
       "object_position": null,
       "order": null,
       "overflow": null,
       "overflow_x": null,
       "overflow_y": null,
       "padding": null,
       "right": null,
       "top": null,
       "visibility": null,
       "width": null
      }
     },
     "c45bf37b4507455f96742a7fb7eb44bf": {
      "model_module": "@jupyter-widgets/controls",
      "model_module_version": "1.5.0",
      "model_name": "HBoxModel",
      "state": {
       "_dom_classes": [],
       "_model_module": "@jupyter-widgets/controls",
       "_model_module_version": "1.5.0",
       "_model_name": "HBoxModel",
       "_view_count": null,
       "_view_module": "@jupyter-widgets/controls",
       "_view_module_version": "1.5.0",
       "_view_name": "HBoxView",
       "box_style": "",
       "children": [
        "IPY_MODEL_05d59059c62745c9a2a8980228b83ea7",
        "IPY_MODEL_545b7c3b14ca4473912c751bc1016a79",
        "IPY_MODEL_dce7d7fd320f4c4988ef5fe2bd35ac2e"
       ],
       "layout": "IPY_MODEL_198de988218b4ae39d7be05ca6eec64f"
      }
     },
     "c8bee1452c414adfbe22c0d89040f5a1": {
      "model_module": "@jupyter-widgets/base",
      "model_module_version": "1.2.0",
      "model_name": "LayoutModel",
      "state": {
       "_model_module": "@jupyter-widgets/base",
       "_model_module_version": "1.2.0",
       "_model_name": "LayoutModel",
       "_view_count": null,
       "_view_module": "@jupyter-widgets/base",
       "_view_module_version": "1.2.0",
       "_view_name": "LayoutView",
       "align_content": null,
       "align_items": null,
       "align_self": null,
       "border": null,
       "bottom": null,
       "display": null,
       "flex": null,
       "flex_flow": null,
       "grid_area": null,
       "grid_auto_columns": null,
       "grid_auto_flow": null,
       "grid_auto_rows": null,
       "grid_column": null,
       "grid_gap": null,
       "grid_row": null,
       "grid_template_areas": null,
       "grid_template_columns": null,
       "grid_template_rows": null,
       "height": null,
       "justify_content": null,
       "justify_items": null,
       "left": null,
       "margin": null,
       "max_height": null,
       "max_width": null,
       "min_height": null,
       "min_width": null,
       "object_fit": null,
       "object_position": null,
       "order": null,
       "overflow": null,
       "overflow_x": null,
       "overflow_y": null,
       "padding": null,
       "right": null,
       "top": null,
       "visibility": null,
       "width": null
      }
     },
     "ca0c35b641e542a3aa5ced2bdd9758a1": {
      "model_module": "@jupyter-widgets/controls",
      "model_module_version": "1.5.0",
      "model_name": "DescriptionStyleModel",
      "state": {
       "_model_module": "@jupyter-widgets/controls",
       "_model_module_version": "1.5.0",
       "_model_name": "DescriptionStyleModel",
       "_view_count": null,
       "_view_module": "@jupyter-widgets/base",
       "_view_module_version": "1.2.0",
       "_view_name": "StyleView",
       "description_width": ""
      }
     },
     "d2160dc2989f4fd8a4393fd49369f2f2": {
      "model_module": "@jupyter-widgets/controls",
      "model_module_version": "1.5.0",
      "model_name": "HTMLModel",
      "state": {
       "_dom_classes": [],
       "_model_module": "@jupyter-widgets/controls",
       "_model_module_version": "1.5.0",
       "_model_name": "HTMLModel",
       "_view_count": null,
       "_view_module": "@jupyter-widgets/controls",
       "_view_module_version": "1.5.0",
       "_view_name": "HTMLView",
       "description": "",
       "description_tooltip": null,
       "layout": "IPY_MODEL_c8bee1452c414adfbe22c0d89040f5a1",
       "placeholder": "​",
       "style": "IPY_MODEL_3fcbfb270a814aa292987fe1c928a8e9",
       "value": ""
      }
     },
     "d37feb0e02e540e0951b65ad09023122": {
      "model_module": "@jupyter-widgets/base",
      "model_module_version": "1.2.0",
      "model_name": "LayoutModel",
      "state": {
       "_model_module": "@jupyter-widgets/base",
       "_model_module_version": "1.2.0",
       "_model_name": "LayoutModel",
       "_view_count": null,
       "_view_module": "@jupyter-widgets/base",
       "_view_module_version": "1.2.0",
       "_view_name": "LayoutView",
       "align_content": null,
       "align_items": null,
       "align_self": null,
       "border": null,
       "bottom": null,
       "display": null,
       "flex": null,
       "flex_flow": null,
       "grid_area": null,
       "grid_auto_columns": null,
       "grid_auto_flow": null,
       "grid_auto_rows": null,
       "grid_column": null,
       "grid_gap": null,
       "grid_row": null,
       "grid_template_areas": null,
       "grid_template_columns": null,
       "grid_template_rows": null,
       "height": null,
       "justify_content": null,
       "justify_items": null,
       "left": null,
       "margin": null,
       "max_height": null,
       "max_width": null,
       "min_height": null,
       "min_width": null,
       "object_fit": null,
       "object_position": null,
       "order": null,
       "overflow": null,
       "overflow_x": null,
       "overflow_y": null,
       "padding": null,
       "right": null,
       "top": null,
       "visibility": null,
       "width": null
      }
     },
     "d94057f91161465b9ef49768e38e424a": {
      "model_module": "@jupyter-widgets/controls",
      "model_module_version": "1.5.0",
      "model_name": "DescriptionStyleModel",
      "state": {
       "_model_module": "@jupyter-widgets/controls",
       "_model_module_version": "1.5.0",
       "_model_name": "DescriptionStyleModel",
       "_view_count": null,
       "_view_module": "@jupyter-widgets/base",
       "_view_module_version": "1.2.0",
       "_view_name": "StyleView",
       "description_width": ""
      }
     },
     "dce7d7fd320f4c4988ef5fe2bd35ac2e": {
      "model_module": "@jupyter-widgets/controls",
      "model_module_version": "1.5.0",
      "model_name": "HTMLModel",
      "state": {
       "_dom_classes": [],
       "_model_module": "@jupyter-widgets/controls",
       "_model_module_version": "1.5.0",
       "_model_name": "HTMLModel",
       "_view_count": null,
       "_view_module": "@jupyter-widgets/controls",
       "_view_module_version": "1.5.0",
       "_view_name": "HTMLView",
       "description": "",
       "description_tooltip": null,
       "layout": "IPY_MODEL_02bbaaa6a1a446e488d23cfa46cfbbdd",
       "placeholder": "​",
       "style": "IPY_MODEL_0384c2ae1e5349a8b253d1f1fd890f7d",
       "value": " 344862720/? [00:17&lt;00:00, 21660381.30it/s]"
      }
     },
     "dfd21532c8f34d10a9af2cde0a385198": {
      "model_module": "@jupyter-widgets/base",
      "model_module_version": "1.2.0",
      "model_name": "LayoutModel",
      "state": {
       "_model_module": "@jupyter-widgets/base",
       "_model_module_version": "1.2.0",
       "_model_name": "LayoutModel",
       "_view_count": null,
       "_view_module": "@jupyter-widgets/base",
       "_view_module_version": "1.2.0",
       "_view_name": "LayoutView",
       "align_content": null,
       "align_items": null,
       "align_self": null,
       "border": null,
       "bottom": null,
       "display": null,
       "flex": null,
       "flex_flow": null,
       "grid_area": null,
       "grid_auto_columns": null,
       "grid_auto_flow": null,
       "grid_auto_rows": null,
       "grid_column": null,
       "grid_gap": null,
       "grid_row": null,
       "grid_template_areas": null,
       "grid_template_columns": null,
       "grid_template_rows": null,
       "height": null,
       "justify_content": null,
       "justify_items": null,
       "left": null,
       "margin": null,
       "max_height": null,
       "max_width": null,
       "min_height": null,
       "min_width": null,
       "object_fit": null,
       "object_position": null,
       "order": null,
       "overflow": null,
       "overflow_x": null,
       "overflow_y": null,
       "padding": null,
       "right": null,
       "top": null,
       "visibility": null,
       "width": null
      }
     },
     "e31d5d72c0974f5b99461e3e74f54fd0": {
      "model_module": "@jupyter-widgets/controls",
      "model_module_version": "1.5.0",
      "model_name": "ProgressStyleModel",
      "state": {
       "_model_module": "@jupyter-widgets/controls",
       "_model_module_version": "1.5.0",
       "_model_name": "ProgressStyleModel",
       "_view_count": null,
       "_view_module": "@jupyter-widgets/base",
       "_view_module_version": "1.2.0",
       "_view_name": "StyleView",
       "bar_color": null,
       "description_width": ""
      }
     },
     "e50fa418a66e4dabac8980a2d7809650": {
      "model_module": "@jupyter-widgets/controls",
      "model_module_version": "1.5.0",
      "model_name": "HTMLModel",
      "state": {
       "_dom_classes": [],
       "_model_module": "@jupyter-widgets/controls",
       "_model_module_version": "1.5.0",
       "_model_name": "HTMLModel",
       "_view_count": null,
       "_view_module": "@jupyter-widgets/controls",
       "_view_module_version": "1.5.0",
       "_view_name": "HTMLView",
       "description": "",
       "description_tooltip": null,
       "layout": "IPY_MODEL_9e50eb34b89a493a83bfd285062646ab",
       "placeholder": "​",
       "style": "IPY_MODEL_5de177d88ca946819ac6fa00b29a148d",
       "value": ""
      }
     },
     "f40b2ec3275e4808b1df2e766e480288": {
      "model_module": "@jupyter-widgets/base",
      "model_module_version": "1.2.0",
      "model_name": "LayoutModel",
      "state": {
       "_model_module": "@jupyter-widgets/base",
       "_model_module_version": "1.2.0",
       "_model_name": "LayoutModel",
       "_view_count": null,
       "_view_module": "@jupyter-widgets/base",
       "_view_module_version": "1.2.0",
       "_view_name": "LayoutView",
       "align_content": null,
       "align_items": null,
       "align_self": null,
       "border": null,
       "bottom": null,
       "display": null,
       "flex": null,
       "flex_flow": null,
       "grid_area": null,
       "grid_auto_columns": null,
       "grid_auto_flow": null,
       "grid_auto_rows": null,
       "grid_column": null,
       "grid_gap": null,
       "grid_row": null,
       "grid_template_areas": null,
       "grid_template_columns": null,
       "grid_template_rows": null,
       "height": null,
       "justify_content": null,
       "justify_items": null,
       "left": null,
       "margin": null,
       "max_height": null,
       "max_width": null,
       "min_height": null,
       "min_width": null,
       "object_fit": null,
       "object_position": null,
       "order": null,
       "overflow": null,
       "overflow_x": null,
       "overflow_y": null,
       "padding": null,
       "right": null,
       "top": null,
       "visibility": null,
       "width": null
      }
     },
     "f940a819c7b248cfa23c5bd3186f54a4": {
      "model_module": "@jupyter-widgets/controls",
      "model_module_version": "1.5.0",
      "model_name": "HBoxModel",
      "state": {
       "_dom_classes": [],
       "_model_module": "@jupyter-widgets/controls",
       "_model_module_version": "1.5.0",
       "_model_name": "HBoxModel",
       "_view_count": null,
       "_view_module": "@jupyter-widgets/controls",
       "_view_module_version": "1.5.0",
       "_view_name": "HBoxView",
       "box_style": "",
       "children": [
        "IPY_MODEL_e50fa418a66e4dabac8980a2d7809650",
        "IPY_MODEL_a182e09039524193b9777874212b8c83",
        "IPY_MODEL_1716bba3e9a04554bb6e8f83a077d659"
       ],
       "layout": "IPY_MODEL_a4472f3f109d452a89c3cdabaddfcf52"
      }
     }
    },
    "version_major": 2,
    "version_minor": 0
   }
  }
 },
 "nbformat": 4,
 "nbformat_minor": 5
}
