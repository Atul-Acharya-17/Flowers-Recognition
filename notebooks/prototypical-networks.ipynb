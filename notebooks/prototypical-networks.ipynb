{
 "cells": [
  {
   "cell_type": "code",
   "execution_count": 1,
   "id": "a7086813",
   "metadata": {
    "execution": {
     "iopub.execute_input": "2022-11-10T10:58:43.857784Z",
     "iopub.status.busy": "2022-11-10T10:58:43.857016Z",
     "iopub.status.idle": "2022-11-10T10:58:45.744346Z",
     "shell.execute_reply": "2022-11-10T10:58:45.743398Z"
    },
    "id": "8vtksJy5wkAu",
    "papermill": {
     "duration": 1.898671,
     "end_time": "2022-11-10T10:58:45.747294",
     "exception": false,
     "start_time": "2022-11-10T10:58:43.848623",
     "status": "completed"
    },
    "tags": []
   },
   "outputs": [],
   "source": [
    "import random\n",
    "import time\n",
    "import tqdm\n",
    "import matplotlib.pyplot as plt\n",
    "import torch\n",
    "import torchvision\n",
    "import torchvision.transforms as transforms\n",
    "import torch.optim as optim\n",
    "from torch.utils.data import Sampler\n",
    "import torchvision.datasets as datasets"
   ]
  },
  {
   "cell_type": "code",
   "execution_count": 2,
   "id": "85211334",
   "metadata": {
    "execution": {
     "iopub.execute_input": "2022-11-10T10:58:45.762226Z",
     "iopub.status.busy": "2022-11-10T10:58:45.760393Z",
     "iopub.status.idle": "2022-11-10T10:59:16.559156Z",
     "shell.execute_reply": "2022-11-10T10:59:16.558090Z"
    },
    "id": "5zgxV_VvxHfz",
    "outputId": "d77943c0-a7c8-4715-8832-c8a86d88fdb8",
    "papermill": {
     "duration": 30.808059,
     "end_time": "2022-11-10T10:59:16.561564",
     "exception": false,
     "start_time": "2022-11-10T10:58:45.753505",
     "status": "completed"
    },
    "tags": []
   },
   "outputs": [
    {
     "name": "stdout",
     "output_type": "stream",
     "text": [
      "Downloading https://www.robots.ox.ac.uk/~vgg/data/flowers/102/102flowers.tgz to flowers-102/102flowers.tgz\n"
     ]
    },
    {
     "data": {
      "application/vnd.jupyter.widget-view+json": {
       "model_id": "157c6d95a47d4c898edbeb34566048d7",
       "version_major": 2,
       "version_minor": 0
      },
      "text/plain": [
       "  0%|          | 0/344862509 [00:00<?, ?it/s]"
      ]
     },
     "metadata": {},
     "output_type": "display_data"
    },
    {
     "name": "stdout",
     "output_type": "stream",
     "text": [
      "Extracting flowers-102/102flowers.tgz to flowers-102\n",
      "Downloading https://www.robots.ox.ac.uk/~vgg/data/flowers/102/imagelabels.mat to flowers-102/imagelabels.mat\n"
     ]
    },
    {
     "data": {
      "application/vnd.jupyter.widget-view+json": {
       "model_id": "03427dae52b349f1b218886c9b0ac842",
       "version_major": 2,
       "version_minor": 0
      },
      "text/plain": [
       "  0%|          | 0/502 [00:00<?, ?it/s]"
      ]
     },
     "metadata": {},
     "output_type": "display_data"
    },
    {
     "name": "stdout",
     "output_type": "stream",
     "text": [
      "Downloading https://www.robots.ox.ac.uk/~vgg/data/flowers/102/setid.mat to flowers-102/setid.mat\n"
     ]
    },
    {
     "data": {
      "application/vnd.jupyter.widget-view+json": {
       "model_id": "b88a5df691db41cf893de72fe43ea9bb",
       "version_major": 2,
       "version_minor": 0
      },
      "text/plain": [
       "  0%|          | 0/14989 [00:00<?, ?it/s]"
      ]
     },
     "metadata": {},
     "output_type": "display_data"
    },
    {
     "data": {
      "text/plain": [
       "Dataset Flowers102\n",
       "    Number of datapoints: 1020\n",
       "    Root location: ./\n",
       "    split=train"
      ]
     },
     "execution_count": 2,
     "metadata": {},
     "output_type": "execute_result"
    }
   ],
   "source": [
    "data_directory = './'\n",
    "\n",
    "torchvision.datasets.Flowers102(root=f'{data_directory}', download=True)"
   ]
  },
  {
   "cell_type": "code",
   "execution_count": 3,
   "id": "3ce784c4",
   "metadata": {
    "execution": {
     "iopub.execute_input": "2022-11-10T10:59:16.576275Z",
     "iopub.status.busy": "2022-11-10T10:59:16.575640Z",
     "iopub.status.idle": "2022-11-10T10:59:16.581111Z",
     "shell.execute_reply": "2022-11-10T10:59:16.580298Z"
    },
    "papermill": {
     "duration": 0.014971,
     "end_time": "2022-11-10T10:59:16.583009",
     "exception": false,
     "start_time": "2022-11-10T10:59:16.568038",
     "status": "completed"
    },
    "tags": []
   },
   "outputs": [],
   "source": [
    "image_size = 224\n",
    "\n",
    "n_way = 20\n",
    "k_shot = 4\n",
    "n_query = 6\n",
    "n_epochs = 10\n",
    "n_train_tasks = 100\n",
    "n_val_tasks = 100\n",
    "n_test_tasks = 1000"
   ]
  },
  {
   "cell_type": "code",
   "execution_count": 4,
   "id": "de30020a",
   "metadata": {
    "execution": {
     "iopub.execute_input": "2022-11-10T10:59:16.596764Z",
     "iopub.status.busy": "2022-11-10T10:59:16.596489Z",
     "iopub.status.idle": "2022-11-10T10:59:16.601394Z",
     "shell.execute_reply": "2022-11-10T10:59:16.600408Z"
    },
    "papermill": {
     "duration": 0.013996,
     "end_time": "2022-11-10T10:59:16.603354",
     "exception": false,
     "start_time": "2022-11-10T10:59:16.589358",
     "status": "completed"
    },
    "tags": []
   },
   "outputs": [],
   "source": [
    "transform = transforms.Compose(\n",
    "    [\n",
    "        transforms.ToTensor(),\n",
    "        transforms.Resize((image_size, image_size)),\n",
    "        transforms.Normalize(mean=[0.507, 0.487, 0.441], std=[0.267, 0.256, 0.276])\n",
    "    ]\n",
    ")"
   ]
  },
  {
   "cell_type": "code",
   "execution_count": 5,
   "id": "282cf50f",
   "metadata": {
    "execution": {
     "iopub.execute_input": "2022-11-10T10:59:16.618797Z",
     "iopub.status.busy": "2022-11-10T10:59:16.618116Z",
     "iopub.status.idle": "2022-11-10T10:59:16.670607Z",
     "shell.execute_reply": "2022-11-10T10:59:16.669158Z"
    },
    "papermill": {
     "duration": 0.063841,
     "end_time": "2022-11-10T10:59:16.673411",
     "exception": false,
     "start_time": "2022-11-10T10:59:16.609570",
     "status": "completed"
    },
    "tags": []
   },
   "outputs": [
    {
     "name": "stdout",
     "output_type": "stream",
     "text": [
      "Length of training data: 1020\n",
      "Length of validation data: 1020\n",
      "Length of test data: 6149\n"
     ]
    }
   ],
   "source": [
    "training_set = torchvision.datasets.Flowers102(root=f'{data_directory}', split='train', transform=transform)\n",
    "validation_set = torchvision.datasets.Flowers102(root=f'{data_directory}', split='val', transform=transform)\n",
    "test_set = torchvision.datasets.Flowers102(root=f'{data_directory}', split='test', transform=transform)\n",
    "\n",
    "print(f'Length of training data: {len(training_set)}')\n",
    "print(f'Length of validation data: {len(validation_set)}')\n",
    "print(f'Length of test data: {len(test_set)}')"
   ]
  },
  {
   "cell_type": "code",
   "execution_count": 6,
   "id": "ba5feefa",
   "metadata": {
    "execution": {
     "iopub.execute_input": "2022-11-10T10:59:16.687664Z",
     "iopub.status.busy": "2022-11-10T10:59:16.687402Z",
     "iopub.status.idle": "2022-11-10T10:59:16.692339Z",
     "shell.execute_reply": "2022-11-10T10:59:16.691311Z"
    },
    "papermill": {
     "duration": 0.014689,
     "end_time": "2022-11-10T10:59:16.694800",
     "exception": false,
     "start_time": "2022-11-10T10:59:16.680111",
     "status": "completed"
    },
    "tags": []
   },
   "outputs": [],
   "source": [
    "training_set.get_labels = lambda: [\n",
    "    instance for instance in training_set._labels\n",
    "]\n",
    "\n",
    "validation_set.get_labels = lambda: [\n",
    "    instance for instance in validation_set._labels\n",
    "]\n",
    "\n",
    "test_set.get_labels = lambda: [\n",
    "    instance for instance in test_set._labels\n",
    "]"
   ]
  },
  {
   "cell_type": "code",
   "execution_count": 7,
   "id": "de8779e0",
   "metadata": {
    "execution": {
     "iopub.execute_input": "2022-11-10T10:59:16.709170Z",
     "iopub.status.busy": "2022-11-10T10:59:16.708421Z",
     "iopub.status.idle": "2022-11-10T10:59:16.720100Z",
     "shell.execute_reply": "2022-11-10T10:59:16.719291Z"
    },
    "papermill": {
     "duration": 0.020963,
     "end_time": "2022-11-10T10:59:16.722091",
     "exception": false,
     "start_time": "2022-11-10T10:59:16.701128",
     "status": "completed"
    },
    "tags": []
   },
   "outputs": [],
   "source": [
    "class TaskSampler(Sampler):\n",
    "    \n",
    "    def __init__(self, dataset, n_way, k_shot, n_query, n_tasks):\n",
    "        super().__init__(data_source=None)\n",
    "        self.n_way = n_way\n",
    "        self.k_shot = k_shot\n",
    "        self.n_tasks = n_tasks\n",
    "        self.n_query = n_query\n",
    "        \n",
    "        self.items_per_label = {}\n",
    "        \n",
    "        for item, label in enumerate(dataset.get_labels()):\n",
    "            if label in self.items_per_label.keys():\n",
    "                self.items_per_label[label].append(item)\n",
    "            else:\n",
    "                self.items_per_label[label] = [item]\n",
    "                \n",
    "    def __len__(self):\n",
    "        return self.n_tasks\n",
    "    \n",
    "    def __iter__(self):\n",
    "        for task in range(self.n_tasks):\n",
    "            yield torch.cat(\n",
    "                [\n",
    "                    torch.Tensor(random.sample(self.items_per_label[label], self.k_shot + self.n_query)).type(torch.int)\n",
    "                    \n",
    "                    for label in random.sample(self.items_per_label.keys(), self.n_way)\n",
    "                ]\n",
    "            ).tolist()\n",
    "            \n",
    "    def collate_fn(self, input_data):\n",
    "        true_class_ids = list({x[1] for x in input_data})\n",
    "\n",
    "        all_images = torch.cat([x[0].unsqueeze(0) for x in input_data])\n",
    "        all_images = all_images.reshape(\n",
    "            (self.n_way, self.k_shot + self.n_query, *all_images.shape[1:])\n",
    "        )\n",
    "\n",
    "        all_labels = torch.tensor(\n",
    "            [true_class_ids.index(x[1]) for x in input_data]\n",
    "        ).reshape((self.n_way, self.k_shot + self.n_query))\n",
    "\n",
    "        support_images = all_images[:, : self.k_shot].reshape(\n",
    "            (-1, *all_images.shape[2:])\n",
    "        )\n",
    "        query_images = all_images[:, self.k_shot :].reshape((-1, *all_images.shape[2:]))\n",
    "        support_labels = all_labels[:, : self.k_shot].flatten()\n",
    "        query_labels = all_labels[:, self.k_shot :].flatten()\n",
    "\n",
    "        return support_images, support_labels, query_images, query_labels, true_class_ids"
   ]
  },
  {
   "cell_type": "code",
   "execution_count": 8,
   "id": "a191ac34",
   "metadata": {
    "execution": {
     "iopub.execute_input": "2022-11-10T10:59:16.736165Z",
     "iopub.status.busy": "2022-11-10T10:59:16.735568Z",
     "iopub.status.idle": "2022-11-10T10:59:16.744626Z",
     "shell.execute_reply": "2022-11-10T10:59:16.743642Z"
    },
    "papermill": {
     "duration": 0.018238,
     "end_time": "2022-11-10T10:59:16.746694",
     "exception": false,
     "start_time": "2022-11-10T10:59:16.728456",
     "status": "completed"
    },
    "tags": []
   },
   "outputs": [],
   "source": [
    "train_sampler = TaskSampler(training_set, n_way, k_shot, n_query, n_train_tasks)\n",
    "validation_sampler = TaskSampler(validation_set, n_way, k_shot, n_query, n_val_tasks)\n",
    "test_sampler = TaskSampler(test_set, n_way, k_shot, n_query, n_test_tasks)\n",
    "\n",
    "train_loader = torch.utils.data.DataLoader(\n",
    "    training_set,\n",
    "    batch_sampler=train_sampler,\n",
    "    collate_fn=train_sampler.collate_fn,\n",
    ")\n",
    "\n",
    "validation_loader = torch.utils.data.DataLoader(\n",
    "    validation_set,\n",
    "    batch_sampler=validation_sampler,\n",
    "    collate_fn=validation_sampler.collate_fn,\n",
    ")\n",
    "\n",
    "test_loader = torch.utils.data.DataLoader(\n",
    "    test_set,\n",
    "    batch_sampler=test_sampler,\n",
    "    collate_fn=test_sampler.collate_fn,\n",
    ")"
   ]
  },
  {
   "cell_type": "code",
   "execution_count": 9,
   "id": "b91d5b3b",
   "metadata": {
    "execution": {
     "iopub.execute_input": "2022-11-10T10:59:16.760493Z",
     "iopub.status.busy": "2022-11-10T10:59:16.760210Z",
     "iopub.status.idle": "2022-11-10T10:59:16.768851Z",
     "shell.execute_reply": "2022-11-10T10:59:16.767940Z"
    },
    "papermill": {
     "duration": 0.01774,
     "end_time": "2022-11-10T10:59:16.770787",
     "exception": false,
     "start_time": "2022-11-10T10:59:16.753047",
     "status": "completed"
    },
    "tags": []
   },
   "outputs": [],
   "source": [
    "def evaluate_model(model, criterion, data_loader):\n",
    "    \n",
    "    model.eval()\n",
    "    \n",
    "    device = torch.device(\"cuda:0\" if torch.cuda.is_available() else \"cpu\")\n",
    "    model.to(device)\n",
    "    \n",
    "    running_loss = 0.0\n",
    "    running_correct = 0\n",
    "    total = 0\n",
    "    \n",
    "    start_time = time.time()\n",
    "    \n",
    "    with tqdm.tqdm(data_loader, total=len(data_loader)) as tqdm_validation:\n",
    "    \n",
    "        for support_images, support_labels, query_images, query_labels, _ in tqdm_validation:\n",
    "\n",
    "            support_images = support_images.to(device)\n",
    "            support_labels = support_labels.to(device)\n",
    "            query_images = query_images.to(device)\n",
    "            query_labels = query_labels.to(device)\n",
    "\n",
    "            scores = model(support_images, support_labels, query_images)\n",
    "\n",
    "            loss = criterion(scores, query_labels)\n",
    "\n",
    "            running_loss += loss.item()\n",
    "            total += query_labels.shape[0]\n",
    "            _, preds = torch.max(scores, 1)\n",
    "            running_correct += torch.sum(preds == query_labels).item()\n",
    "            \n",
    "            tqdm_validation.set_postfix(loss=loss.item(), acc=running_correct/total)\n",
    "\n",
    "    end_time = time.time()\n",
    "    \n",
    "    print(f'Loss: {running_loss / len(data_loader)}, Accuracy: {running_correct / total}, Time: {(end_time - start_time):.4f}s')\n",
    "    \n",
    "    return running_loss / len(data_loader), running_correct / total"
   ]
  },
  {
   "cell_type": "code",
   "execution_count": 10,
   "id": "2a63a4ea",
   "metadata": {
    "execution": {
     "iopub.execute_input": "2022-11-10T10:59:16.784758Z",
     "iopub.status.busy": "2022-11-10T10:59:16.784508Z",
     "iopub.status.idle": "2022-11-10T10:59:16.795545Z",
     "shell.execute_reply": "2022-11-10T10:59:16.794585Z"
    },
    "papermill": {
     "duration": 0.020375,
     "end_time": "2022-11-10T10:59:16.797534",
     "exception": false,
     "start_time": "2022-11-10T10:59:16.777159",
     "status": "completed"
    },
    "tags": []
   },
   "outputs": [],
   "source": [
    "def train(model, criterion, optimizer, scheduler, train_loader, val_loader, num_epochs=100):\n",
    "    \n",
    "    device = torch.device(\"cuda:0\" if torch.cuda.is_available() else \"cpu\")\n",
    "    \n",
    "    model.to(device)\n",
    "    \n",
    "    train_loss_history = []\n",
    "    train_acc_history = []\n",
    "    val_loss_history = []\n",
    "    val_acc_history = []\n",
    "            \n",
    "    best_val_acc = 0\n",
    "    best_state = model.state_dict()\n",
    "    \n",
    "    total_time = 0.0\n",
    "    \n",
    "    for epoch in range(num_epochs):\n",
    "        \n",
    "        model.train()\n",
    "        \n",
    "        running_loss = 0.0\n",
    "        running_correct = 0\n",
    "        total = 0\n",
    "        \n",
    "        start_time = time.time()\n",
    "        \n",
    "        with tqdm.tqdm(train_loader, total=len(train_loader)) as tqdm_train:\n",
    "            for support_images, support_labels, query_images, query_labels, _ in tqdm_train:\n",
    "                support_images = support_images.to(device)\n",
    "                support_labels = support_labels.to(device)\n",
    "                query_images = query_images.to(device)\n",
    "                query_labels = query_labels.to(device)\n",
    "\n",
    "                optimizer.zero_grad()\n",
    "\n",
    "                scores = model(support_images, support_labels, query_images)\n",
    "\n",
    "                loss = criterion(scores, query_labels)\n",
    "\n",
    "                running_loss += loss.item()\n",
    "                total += query_labels.shape[0]\n",
    "                _, preds = torch.max(scores, 1)\n",
    "                running_correct += torch.sum(preds == query_labels).item()\n",
    "\n",
    "                loss.backward()\n",
    "                optimizer.step()\n",
    "                \n",
    "                tqdm_train.set_postfix(loss=loss.item(), acc=running_correct/total)\n",
    "\n",
    "            end_time = time.time()\n",
    "\n",
    "            scheduler.step()\n",
    "        \n",
    "        print(f'Epoch: {epoch + 1}, Loss: {running_loss / len(train_loader)}, Accuracy: {running_correct / total}, Time: {(end_time - start_time):.4f}s')\n",
    "        \n",
    "        total_time += end_time - start_time\n",
    "        \n",
    "        train_loss_history.append(running_loss / len(train_loader))\n",
    "        train_acc_history.append(running_correct / total)\n",
    "        \n",
    "        val_loss, val_acc = evaluate_model(model, criterion, val_loader)\n",
    "        \n",
    "        val_loss_history.append(val_loss)\n",
    "        val_acc_history.append(val_acc)\n",
    "        \n",
    "        if (val_acc > best_val_acc):\n",
    "            best_val_acc = val_acc\n",
    "            best_state = model.state_dict()\n",
    "        \n",
    "    print(f'Average Training Time: {total_time / num_epochs}')\n",
    "    return best_state, [train_loss_history, train_acc_history, val_loss_history, val_acc_history]"
   ]
  },
  {
   "cell_type": "code",
   "execution_count": 11,
   "id": "9f9aa066",
   "metadata": {
    "execution": {
     "iopub.execute_input": "2022-11-10T10:59:16.812458Z",
     "iopub.status.busy": "2022-11-10T10:59:16.811014Z",
     "iopub.status.idle": "2022-11-10T10:59:16.820553Z",
     "shell.execute_reply": "2022-11-10T10:59:16.819733Z"
    },
    "id": "dFEDY81LxJTZ",
    "outputId": "83e3a8dc-2d99-4a30-8394-1d6ebb0df19a",
    "papermill": {
     "duration": 0.018484,
     "end_time": "2022-11-10T10:59:16.822424",
     "exception": false,
     "start_time": "2022-11-10T10:59:16.803940",
     "status": "completed"
    },
    "tags": []
   },
   "outputs": [],
   "source": [
    "class PrototypicalNetworks(torch.nn.Module):\n",
    "    def __init__(self, backbone, dist_fn=\"euclidean\"):\n",
    "        super().__init__()\n",
    "        \n",
    "        self.backbone = backbone\n",
    "        self.dist_fn = dist_fn\n",
    "        \n",
    "        if (self.dist_fn == \"euclidean\"):\n",
    "            self.dist_function = self.euclidean\n",
    "        else:\n",
    "            self.dist_function = self.cosine_similarity\n",
    "        \n",
    "    def euclidean(self, z_query, z_proto, p=2.0):\n",
    "        dists = torch.cdist(z_query, z_proto, p=p)\n",
    "        return -dists\n",
    "    \n",
    "    def cosine_similarity(self, z_query, z_proto):\n",
    "        return z_query.mm(torch.nn.functional.normalize(z_proto).T)\n",
    "\n",
    "    def forward(\n",
    "        self,\n",
    "        support_images: torch.Tensor,\n",
    "        support_labels: torch.Tensor,\n",
    "        query_images: torch.Tensor,\n",
    "    ) -> torch.Tensor:\n",
    "        \"\"\"\n",
    "        Predict query labels using labeled support images.\n",
    "        \"\"\"\n",
    "        # Extract the features of support and query images\n",
    "        z_support = self.backbone.forward(support_images)\n",
    "        z_query = self.backbone.forward(query_images)\n",
    "\n",
    "        # Infer the number of different classes from the labels of the support set\n",
    "        n_way = len(torch.unique(support_labels))\n",
    "        # Prototype i is the mean of all instances of features corresponding to labels == i\n",
    "        z_proto = torch.cat(\n",
    "            [\n",
    "                z_support[torch.nonzero(support_labels == label)].mean(0)\n",
    "                for label in range(n_way)\n",
    "            ]\n",
    "        )\n",
    "\n",
    "        scores = self.dist_function(z_query, z_proto)\n",
    "        return scores"
   ]
  },
  {
   "cell_type": "code",
   "execution_count": 12,
   "id": "2ec4aa54",
   "metadata": {
    "execution": {
     "iopub.execute_input": "2022-11-10T10:59:16.836335Z",
     "iopub.status.busy": "2022-11-10T10:59:16.835810Z",
     "iopub.status.idle": "2022-11-10T10:59:20.923415Z",
     "shell.execute_reply": "2022-11-10T10:59:20.922456Z"
    },
    "papermill": {
     "duration": 4.097138,
     "end_time": "2022-11-10T10:59:20.925825",
     "exception": false,
     "start_time": "2022-11-10T10:59:16.828687",
     "status": "completed"
    },
    "tags": []
   },
   "outputs": [
    {
     "name": "stderr",
     "output_type": "stream",
     "text": [
      "Downloading: \"https://download.pytorch.org/models/resnet18-f37072fd.pth\" to /root/.cache/torch/hub/checkpoints/resnet18-f37072fd.pth\n"
     ]
    },
    {
     "data": {
      "application/vnd.jupyter.widget-view+json": {
       "model_id": "4c5e4d733de3467cb7b5950979db5b7d",
       "version_major": 2,
       "version_minor": 0
      },
      "text/plain": [
       "  0%|          | 0.00/44.7M [00:00<?, ?B/s]"
      ]
     },
     "metadata": {},
     "output_type": "display_data"
    }
   ],
   "source": [
    "convolutional_network = torchvision.models.resnet18(pretrained=True)\n",
    "convolutional_network.fc = torch.nn.Flatten()\n",
    "\n",
    "model = PrototypicalNetworks(convolutional_network, \"cosine\")"
   ]
  },
  {
   "cell_type": "code",
   "execution_count": 13,
   "id": "fddef51c",
   "metadata": {
    "execution": {
     "iopub.execute_input": "2022-11-10T10:59:20.940654Z",
     "iopub.status.busy": "2022-11-10T10:59:20.940335Z",
     "iopub.status.idle": "2022-11-10T12:07:26.228678Z",
     "shell.execute_reply": "2022-11-10T12:07:26.226995Z"
    },
    "papermill": {
     "duration": 4085.298709,
     "end_time": "2022-11-10T12:07:26.231486",
     "exception": false,
     "start_time": "2022-11-10T10:59:20.932777",
     "status": "completed"
    },
    "tags": []
   },
   "outputs": [
    {
     "name": "stderr",
     "output_type": "stream",
     "text": [
      "100%|██████████| 100/100 [03:39<00:00,  2.19s/it, acc=0.99, loss=0.00471]\n"
     ]
    },
    {
     "name": "stdout",
     "output_type": "stream",
     "text": [
      "Epoch: 1, Loss: 0.08052118123043328, Accuracy: 0.9903333333333333, Time: 219.0622s\n"
     ]
    },
    {
     "name": "stderr",
     "output_type": "stream",
     "text": [
      "100%|██████████| 100/100 [03:11<00:00,  1.92s/it, acc=0.954, loss=0.144]\n"
     ]
    },
    {
     "name": "stdout",
     "output_type": "stream",
     "text": [
      "Loss: 0.20394047930836678, Accuracy: 0.9535, Time: 191.6992s\n"
     ]
    },
    {
     "name": "stderr",
     "output_type": "stream",
     "text": [
      "100%|██████████| 100/100 [03:32<00:00,  2.12s/it, acc=1, loss=0.000964]\n"
     ]
    },
    {
     "name": "stdout",
     "output_type": "stream",
     "text": [
      "Epoch: 2, Loss: 0.002987529742531478, Accuracy: 1.0, Time: 212.4756s\n"
     ]
    },
    {
     "name": "stderr",
     "output_type": "stream",
     "text": [
      "100%|██████████| 100/100 [03:12<00:00,  1.92s/it, acc=0.954, loss=0.172]\n"
     ]
    },
    {
     "name": "stdout",
     "output_type": "stream",
     "text": [
      "Loss: 0.19116363801062108, Accuracy: 0.9544166666666667, Time: 192.1627s\n"
     ]
    },
    {
     "name": "stderr",
     "output_type": "stream",
     "text": [
      "100%|██████████| 100/100 [03:36<00:00,  2.17s/it, acc=1, loss=0.00213]\n"
     ]
    },
    {
     "name": "stdout",
     "output_type": "stream",
     "text": [
      "Epoch: 3, Loss: 0.0020538011874305082, Accuracy: 1.0, Time: 216.8612s\n"
     ]
    },
    {
     "name": "stderr",
     "output_type": "stream",
     "text": [
      "100%|██████████| 100/100 [03:14<00:00,  1.94s/it, acc=0.954, loss=0.242]\n"
     ]
    },
    {
     "name": "stdout",
     "output_type": "stream",
     "text": [
      "Loss: 0.197004189863801, Accuracy: 0.9541666666666667, Time: 194.1180s\n"
     ]
    },
    {
     "name": "stderr",
     "output_type": "stream",
     "text": [
      "100%|██████████| 100/100 [03:33<00:00,  2.14s/it, acc=1, loss=0.00176]\n"
     ]
    },
    {
     "name": "stdout",
     "output_type": "stream",
     "text": [
      "Epoch: 4, Loss: 0.001772209220798686, Accuracy: 1.0, Time: 213.5228s\n"
     ]
    },
    {
     "name": "stderr",
     "output_type": "stream",
     "text": [
      "100%|██████████| 100/100 [03:12<00:00,  1.92s/it, acc=0.957, loss=0.18]\n"
     ]
    },
    {
     "name": "stdout",
     "output_type": "stream",
     "text": [
      "Loss: 0.18192335210740565, Accuracy: 0.9571666666666667, Time: 192.3316s\n"
     ]
    },
    {
     "name": "stderr",
     "output_type": "stream",
     "text": [
      "100%|██████████| 100/100 [03:35<00:00,  2.16s/it, acc=1, loss=0.00196]\n"
     ]
    },
    {
     "name": "stdout",
     "output_type": "stream",
     "text": [
      "Epoch: 5, Loss: 0.0016660211671842263, Accuracy: 1.0, Time: 215.6687s\n"
     ]
    },
    {
     "name": "stderr",
     "output_type": "stream",
     "text": [
      "100%|██████████| 100/100 [03:11<00:00,  1.92s/it, acc=0.958, loss=0.319]\n"
     ]
    },
    {
     "name": "stdout",
     "output_type": "stream",
     "text": [
      "Loss: 0.18361926898360253, Accuracy: 0.95775, Time: 192.0055s\n"
     ]
    },
    {
     "name": "stderr",
     "output_type": "stream",
     "text": [
      "100%|██████████| 100/100 [03:34<00:00,  2.15s/it, acc=1, loss=0.00155]\n"
     ]
    },
    {
     "name": "stdout",
     "output_type": "stream",
     "text": [
      "Epoch: 6, Loss: 0.0016326618538005278, Accuracy: 1.0, Time: 214.7338s\n"
     ]
    },
    {
     "name": "stderr",
     "output_type": "stream",
     "text": [
      "100%|██████████| 100/100 [03:14<00:00,  1.94s/it, acc=0.958, loss=0.186]\n"
     ]
    },
    {
     "name": "stdout",
     "output_type": "stream",
     "text": [
      "Loss: 0.17876987379044296, Accuracy: 0.95825, Time: 194.1314s\n"
     ]
    },
    {
     "name": "stderr",
     "output_type": "stream",
     "text": [
      "100%|██████████| 100/100 [03:34<00:00,  2.14s/it, acc=1, loss=0.00225]\n"
     ]
    },
    {
     "name": "stdout",
     "output_type": "stream",
     "text": [
      "Epoch: 7, Loss: 0.0015698806964792311, Accuracy: 1.0, Time: 214.1009s\n"
     ]
    },
    {
     "name": "stderr",
     "output_type": "stream",
     "text": [
      "100%|██████████| 100/100 [03:12<00:00,  1.92s/it, acc=0.958, loss=0.123]\n"
     ]
    },
    {
     "name": "stdout",
     "output_type": "stream",
     "text": [
      "Loss: 0.1930264288187027, Accuracy: 0.9575, Time: 192.4668s\n"
     ]
    },
    {
     "name": "stderr",
     "output_type": "stream",
     "text": [
      "100%|██████████| 100/100 [03:35<00:00,  2.16s/it, acc=1, loss=0.00143]\n"
     ]
    },
    {
     "name": "stdout",
     "output_type": "stream",
     "text": [
      "Epoch: 8, Loss: 0.0015537384198978544, Accuracy: 1.0, Time: 215.8653s\n"
     ]
    },
    {
     "name": "stderr",
     "output_type": "stream",
     "text": [
      "100%|██████████| 100/100 [03:13<00:00,  1.93s/it, acc=0.959, loss=0.145]\n"
     ]
    },
    {
     "name": "stdout",
     "output_type": "stream",
     "text": [
      "Loss: 0.1806570428609848, Accuracy: 0.95875, Time: 193.2056s\n"
     ]
    },
    {
     "name": "stderr",
     "output_type": "stream",
     "text": [
      "100%|██████████| 100/100 [03:33<00:00,  2.14s/it, acc=1, loss=0.000987]\n"
     ]
    },
    {
     "name": "stdout",
     "output_type": "stream",
     "text": [
      "Epoch: 9, Loss: 0.0015667241264600306, Accuracy: 1.0, Time: 213.9148s\n"
     ]
    },
    {
     "name": "stderr",
     "output_type": "stream",
     "text": [
      "100%|██████████| 100/100 [03:13<00:00,  1.94s/it, acc=0.955, loss=0.199]\n"
     ]
    },
    {
     "name": "stdout",
     "output_type": "stream",
     "text": [
      "Loss: 0.1877829710394144, Accuracy: 0.9549166666666666, Time: 193.6946s\n"
     ]
    },
    {
     "name": "stderr",
     "output_type": "stream",
     "text": [
      "100%|██████████| 100/100 [03:33<00:00,  2.14s/it, acc=1, loss=0.00251]\n"
     ]
    },
    {
     "name": "stdout",
     "output_type": "stream",
     "text": [
      "Epoch: 10, Loss: 0.0015954709151992574, Accuracy: 1.0, Time: 213.6526s\n"
     ]
    },
    {
     "name": "stderr",
     "output_type": "stream",
     "text": [
      "100%|██████████| 100/100 [03:16<00:00,  1.97s/it, acc=0.957, loss=0.236]"
     ]
    },
    {
     "name": "stdout",
     "output_type": "stream",
     "text": [
      "Loss: 0.1841950061172247, Accuracy: 0.9568333333333333, Time: 196.6009s\n",
      "Average Training Time: 214.98580572605132\n"
     ]
    },
    {
     "name": "stderr",
     "output_type": "stream",
     "text": [
      "\n"
     ]
    }
   ],
   "source": [
    "criterion = torch.nn.CrossEntropyLoss()\n",
    "optimizer = optim.Adam(model.parameters(), lr=0.0001)\n",
    "lr_scheduler = torch.optim.lr_scheduler.StepLR(optimizer, step_size=2, gamma=0.1)\n",
    "\n",
    "best_state, history = train(model, criterion, optimizer, lr_scheduler, train_loader, validation_loader, num_epochs=n_epochs)"
   ]
  },
  {
   "cell_type": "code",
   "execution_count": 14,
   "id": "6a091aac",
   "metadata": {
    "execution": {
     "iopub.execute_input": "2022-11-10T12:07:26.640048Z",
     "iopub.status.busy": "2022-11-10T12:07:26.639713Z",
     "iopub.status.idle": "2022-11-10T12:07:26.644459Z",
     "shell.execute_reply": "2022-11-10T12:07:26.643244Z"
    },
    "papermill": {
     "duration": 0.209861,
     "end_time": "2022-11-10T12:07:26.646470",
     "exception": false,
     "start_time": "2022-11-10T12:07:26.436609",
     "status": "completed"
    },
    "tags": []
   },
   "outputs": [],
   "source": [
    "train_loss, train_acc, val_loss, val_acc = history"
   ]
  },
  {
   "cell_type": "code",
   "execution_count": 15,
   "id": "54e610dd",
   "metadata": {
    "execution": {
     "iopub.execute_input": "2022-11-10T12:07:27.060324Z",
     "iopub.status.busy": "2022-11-10T12:07:27.059950Z",
     "iopub.status.idle": "2022-11-10T12:07:27.065570Z",
     "shell.execute_reply": "2022-11-10T12:07:27.064554Z"
    },
    "papermill": {
     "duration": 0.220518,
     "end_time": "2022-11-10T12:07:27.067481",
     "exception": false,
     "start_time": "2022-11-10T12:07:26.846963",
     "status": "completed"
    },
    "tags": []
   },
   "outputs": [],
   "source": [
    "def plot_curve(train_history, val_history, title='Model Accuracy', ylabel='Accuracy', legend_loc='upper left'):\n",
    "    \n",
    "    plt.plot(train_history)\n",
    "    plt.plot(val_history)\n",
    "    plt.title(title)\n",
    "    plt.ylabel(ylabel)\n",
    "    plt.xlabel('epochs')\n",
    "    plt.legend(['train', 'validation'], loc=legend_loc)\n",
    "    \n",
    "    plt.show()"
   ]
  },
  {
   "cell_type": "code",
   "execution_count": 16,
   "id": "635306ae",
   "metadata": {
    "execution": {
     "iopub.execute_input": "2022-11-10T12:07:27.521639Z",
     "iopub.status.busy": "2022-11-10T12:07:27.520598Z",
     "iopub.status.idle": "2022-11-10T12:07:27.731165Z",
     "shell.execute_reply": "2022-11-10T12:07:27.730243Z"
    },
    "papermill": {
     "duration": 0.414315,
     "end_time": "2022-11-10T12:07:27.733237",
     "exception": false,
     "start_time": "2022-11-10T12:07:27.318922",
     "status": "completed"
    },
    "tags": []
   },
   "outputs": [
    {
     "data": {
      "image/png": "[encoded data removed]",
      "text/plain": [
       "<Figure size 432x288 with 1 Axes>"
      ]
     },
     "metadata": {
      "needs_background": "light"
     },
     "output_type": "display_data"
    }
   ],
   "source": [
    "plot_curve(train_loss, val_loss, title='Prototypical Networks Loss', ylabel='Loss', legend_loc='upper right')"
   ]
  },
  {
   "cell_type": "code",
   "execution_count": 17,
   "id": "8c62d8ea",
   "metadata": {
    "execution": {
     "iopub.execute_input": "2022-11-10T12:07:28.141722Z",
     "iopub.status.busy": "2022-11-10T12:07:28.141353Z",
     "iopub.status.idle": "2022-11-10T12:07:28.324960Z",
     "shell.execute_reply": "2022-11-10T12:07:28.324048Z"
    },
    "papermill": {
     "duration": 0.389428,
     "end_time": "2022-11-10T12:07:28.327049",
     "exception": false,
     "start_time": "2022-11-10T12:07:27.937621",
     "status": "completed"
    },
    "tags": []
   },
   "outputs": [
    {
     "data": {
      "image/png": "[encoded data removed]",
      "text/plain": [
       "<Figure size 432x288 with 1 Axes>"
      ]
     },
     "metadata": {
      "needs_background": "light"
     },
     "output_type": "display_data"
    }
   ],
   "source": [
    "plot_curve(train_acc, val_acc, title='Prototypical Networks Accuracy', ylabel='Accuracy', legend_loc='upper left')"
   ]
  },
  {
   "cell_type": "code",
   "execution_count": 18,
   "id": "c4be3d29",
   "metadata": {
    "execution": {
     "iopub.execute_input": "2022-11-10T12:07:28.733742Z",
     "iopub.status.busy": "2022-11-10T12:07:28.733414Z",
     "iopub.status.idle": "2022-11-10T12:07:28.743481Z",
     "shell.execute_reply": "2022-11-10T12:07:28.742467Z"
    },
    "papermill": {
     "duration": 0.215638,
     "end_time": "2022-11-10T12:07:28.745431",
     "exception": false,
     "start_time": "2022-11-10T12:07:28.529793",
     "status": "completed"
    },
    "tags": []
   },
   "outputs": [
    {
     "data": {
      "text/plain": [
       "<All keys matched successfully>"
      ]
     },
     "execution_count": 18,
     "metadata": {},
     "output_type": "execute_result"
    }
   ],
   "source": [
    "model.load_state_dict(best_state)"
   ]
  },
  {
   "cell_type": "code",
   "execution_count": 19,
   "id": "d0afc758",
   "metadata": {
    "execution": {
     "iopub.execute_input": "2022-11-10T12:07:29.151842Z",
     "iopub.status.busy": "2022-11-10T12:07:29.150939Z",
     "iopub.status.idle": "2022-11-10T12:10:41.027105Z",
     "shell.execute_reply": "2022-11-10T12:10:41.025261Z"
    },
    "papermill": {
     "duration": 192.082414,
     "end_time": "2022-11-10T12:10:41.029291",
     "exception": false,
     "start_time": "2022-11-10T12:07:28.946877",
     "status": "completed"
    },
    "tags": []
   },
   "outputs": [
    {
     "name": "stdout",
     "output_type": "stream",
     "text": [
      "Train: "
     ]
    },
    {
     "name": "stderr",
     "output_type": "stream",
     "text": [
      "100%|██████████| 100/100 [03:11<00:00,  1.92s/it, acc=1, loss=0.000991]"
     ]
    },
    {
     "name": "stdout",
     "output_type": "stream",
     "text": [
      "Loss: 0.0010314689809456468, Accuracy: 1.0, Time: 191.8663s\n"
     ]
    },
    {
     "name": "stderr",
     "output_type": "stream",
     "text": [
      "\n"
     ]
    }
   ],
   "source": [
    "print('Train: ', end='')\n",
    "evaluate_model(model, criterion, train_loader);"
   ]
  },
  {
   "cell_type": "code",
   "execution_count": 20,
   "id": "0fb12766",
   "metadata": {
    "execution": {
     "iopub.execute_input": "2022-11-10T12:10:41.510059Z",
     "iopub.status.busy": "2022-11-10T12:10:41.509073Z",
     "iopub.status.idle": "2022-11-10T12:13:54.833091Z",
     "shell.execute_reply": "2022-11-10T12:13:54.832045Z"
    },
    "papermill": {
     "duration": 193.588088,
     "end_time": "2022-11-10T12:13:54.835362",
     "exception": false,
     "start_time": "2022-11-10T12:10:41.247274",
     "status": "completed"
    },
    "tags": []
   },
   "outputs": [
    {
     "name": "stdout",
     "output_type": "stream",
     "text": [
      "Validation: "
     ]
    },
    {
     "name": "stderr",
     "output_type": "stream",
     "text": [
      "100%|██████████| 100/100 [03:13<00:00,  1.93s/it, acc=0.96, loss=0.238]"
     ]
    },
    {
     "name": "stdout",
     "output_type": "stream",
     "text": [
      "Loss: 0.17062253229320049, Accuracy: 0.9604166666666667, Time: 193.3135s\n"
     ]
    },
    {
     "name": "stderr",
     "output_type": "stream",
     "text": [
      "\n"
     ]
    }
   ],
   "source": [
    "print('Validation: ', end='')\n",
    "evaluate_model(model, criterion, validation_loader);"
   ]
  },
  {
   "cell_type": "code",
   "execution_count": 21,
   "id": "fa1076b0",
   "metadata": {
    "execution": {
     "iopub.execute_input": "2022-11-10T12:13:55.344719Z",
     "iopub.status.busy": "2022-11-10T12:13:55.344115Z",
     "iopub.status.idle": "2022-11-10T12:47:04.673877Z",
     "shell.execute_reply": "2022-11-10T12:47:04.671896Z"
    },
    "papermill": {
     "duration": 1989.559596,
     "end_time": "2022-11-10T12:47:04.676323",
     "exception": false,
     "start_time": "2022-11-10T12:13:55.116727",
     "status": "completed"
    },
    "tags": []
   },
   "outputs": [
    {
     "name": "stdout",
     "output_type": "stream",
     "text": [
      "Test: "
     ]
    },
    {
     "name": "stderr",
     "output_type": "stream",
     "text": [
      "100%|██████████| 1000/1000 [33:09<00:00,  1.99s/it, acc=0.948, loss=0.218]"
     ]
    },
    {
     "name": "stdout",
     "output_type": "stream",
     "text": [
      "Loss: 0.20176957058161496, Accuracy: 0.9479166666666666, Time: 1989.3194s\n"
     ]
    },
    {
     "name": "stderr",
     "output_type": "stream",
     "text": [
      "\n"
     ]
    }
   ],
   "source": [
    "print('Test: ', end='')\n",
    "evaluate_model(model, criterion, test_loader);"
   ]
  },
  {
   "cell_type": "code",
   "execution_count": 22,
   "id": "6296a6ea",
   "metadata": {
    "execution": {
     "iopub.execute_input": "2022-11-10T12:47:05.403856Z",
     "iopub.status.busy": "2022-11-10T12:47:05.403500Z",
     "iopub.status.idle": "2022-11-10T12:47:05.409158Z",
     "shell.execute_reply": "2022-11-10T12:47:05.408170Z"
    },
    "id": "EgfwarN_9Q_L",
    "papermill": {
     "duration": 0.3409,
     "end_time": "2022-11-10T12:47:05.411114",
     "exception": false,
     "start_time": "2022-11-10T12:47:05.070214",
     "status": "completed"
    },
    "tags": []
   },
   "outputs": [],
   "source": [
    "# def evaluate_on_one_task(\n",
    "#     support_images: torch.Tensor,\n",
    "#     support_labels: torch.Tensor,\n",
    "#     query_images: torch.Tensor,\n",
    "#     query_labels: torch.Tensor,\n",
    "# ) -> [int, int]:\n",
    "#     \"\"\"\n",
    "#     Returns the number of correct predictions of query labels, and the total number of predictions.\n",
    "#     \"\"\"\n",
    "#     return (\n",
    "#         torch.max(\n",
    "#             model(support_images.cuda(), support_labels.cuda(), query_images.cuda())\n",
    "#             .detach()\n",
    "#             .data,\n",
    "#             1,\n",
    "#         )[1]\n",
    "#         == query_labels.cuda()\n",
    "#     ).sum().item(), len(query_labels)\n",
    "\n",
    "\n",
    "# def evaluate(data_loader: DataLoader):\n",
    "#     # We'll count everything and compute the ratio at the end\n",
    "#     total_predictions = 0\n",
    "#     correct_predictions = 0\n",
    "\n",
    "#     # eval mode affects the behaviour of some layers (such as batch normalization or dropout)\n",
    "#     # no_grad() tells torch not to keep in memory the whole computational graph (it's more lightweight this way)\n",
    "#     model.eval()\n",
    "#     with torch.no_grad():\n",
    "#         for episode_index, (\n",
    "#             support_images,\n",
    "#             support_labels,\n",
    "#             query_images,\n",
    "#             query_labels,\n",
    "#             class_ids,\n",
    "#         ) in tqdm(enumerate(data_loader), total=len(data_loader)):\n",
    "\n",
    "#             correct, total = evaluate_on_one_task(\n",
    "#                 support_images, support_labels, query_images, query_labels\n",
    "#             )\n",
    "\n",
    "#             total_predictions += total\n",
    "#             correct_predictions += correct\n",
    "\n",
    "#     print(\n",
    "#         f\"Model tested on {len(data_loader)} tasks. Accuracy: {(100 * correct_predictions/total_predictions):.2f}%\"\n",
    "#     )\n",
    "\n",
    "#     return correct_predictions / total_predictions\n"
   ]
  },
  {
   "cell_type": "code",
   "execution_count": 23,
   "id": "284017f9",
   "metadata": {
    "execution": {
     "iopub.execute_input": "2022-11-10T12:47:06.068257Z",
     "iopub.status.busy": "2022-11-10T12:47:06.067867Z",
     "iopub.status.idle": "2022-11-10T12:47:06.072422Z",
     "shell.execute_reply": "2022-11-10T12:47:06.071452Z"
    },
    "id": "Hh3xGqsU992z",
    "outputId": "d33aede4-7284-4bf7-d617-18d7bdf1dda9",
    "papermill": {
     "duration": 0.335479,
     "end_time": "2022-11-10T12:47:06.074455",
     "exception": false,
     "start_time": "2022-11-10T12:47:05.738976",
     "status": "completed"
    },
    "tags": []
   },
   "outputs": [],
   "source": [
    "# (\n",
    "#     example_support_images,\n",
    "#     example_support_labels,\n",
    "#     example_query_images,\n",
    "#     example_query_labels,\n",
    "#     example_class_ids,\n",
    "# ) = next(iter(test_loader))\n",
    "\n",
    "# plot_images(example_support_images, \"support images\", images_per_row=N_SHOT)\n",
    "# plot_images(example_query_images, \"query images\", images_per_row=N_QUERY)\n",
    "# print(example_support_labels)\n",
    "# print(example_query_labels)"
   ]
  },
  {
   "cell_type": "code",
   "execution_count": null,
   "id": "8ab2e376",
   "metadata": {
    "papermill": {
     "duration": 0.329648,
     "end_time": "2022-11-10T12:47:06.735108",
     "exception": false,
     "start_time": "2022-11-10T12:47:06.405460",
     "status": "completed"
    },
    "tags": []
   },
   "outputs": [],
   "source": []
  },
  {
   "cell_type": "code",
   "execution_count": null,
   "id": "966d4fc6",
   "metadata": {
    "papermill": {
     "duration": 0.389012,
     "end_time": "2022-11-10T12:47:07.453127",
     "exception": false,
     "start_time": "2022-11-10T12:47:07.064115",
     "status": "completed"
    },
    "tags": []
   },
   "outputs": [],
   "source": []
  },
  {
   "cell_type": "code",
   "execution_count": 24,
   "id": "c89c4c2d",
   "metadata": {
    "execution": {
     "iopub.execute_input": "2022-11-10T12:47:08.141275Z",
     "iopub.status.busy": "2022-11-10T12:47:08.140856Z",
     "iopub.status.idle": "2022-11-10T12:47:08.145819Z",
     "shell.execute_reply": "2022-11-10T12:47:08.144850Z"
    },
    "id": "c5dXN2GwCGLc",
    "papermill": {
     "duration": 0.353106,
     "end_time": "2022-11-10T12:47:08.147941",
     "exception": false,
     "start_time": "2022-11-10T12:47:07.794835",
     "status": "completed"
    },
    "tags": []
   },
   "outputs": [],
   "source": [
    "# criterion = nn.CrossEntropyLoss()\n",
    "# optimizer = optim.Adam(model.parameters(), lr=0.0001)\n",
    "\n",
    "\n",
    "# def fit(\n",
    "#     support_images: torch.Tensor,\n",
    "#     support_labels: torch.Tensor,\n",
    "#     query_images: torch.Tensor,\n",
    "#     query_labels: torch.Tensor,\n",
    "# ) -> float:\n",
    "#     optimizer.zero_grad()\n",
    "#     classification_scores = model(\n",
    "#         support_images.cuda(), support_labels.cuda(), query_images.cuda()\n",
    "#     )\n",
    "\n",
    "#     loss = criterion(classification_scores, query_labels.cuda())\n",
    "#     loss.backward()\n",
    "#     optimizer.step()\n",
    "\n",
    "#     return loss.item()"
   ]
  },
  {
   "cell_type": "code",
   "execution_count": 25,
   "id": "785a3146",
   "metadata": {
    "execution": {
     "iopub.execute_input": "2022-11-10T12:47:08.939121Z",
     "iopub.status.busy": "2022-11-10T12:47:08.938744Z",
     "iopub.status.idle": "2022-11-10T12:47:08.943670Z",
     "shell.execute_reply": "2022-11-10T12:47:08.942607Z"
    },
    "id": "r_aG2PqHCOrn",
    "papermill": {
     "duration": 0.425063,
     "end_time": "2022-11-10T12:47:08.945730",
     "exception": false,
     "start_time": "2022-11-10T12:47:08.520667",
     "status": "completed"
    },
    "tags": []
   },
   "outputs": [],
   "source": [
    "# def training_epoch():\n",
    "#     log_update_frequency = 10\n",
    "\n",
    "#     all_loss = []\n",
    "#     model.train()\n",
    "#     with tqdm(enumerate(train_loader), total=len(train_loader)) as tqdm_train:\n",
    "#         for episode_index, (\n",
    "#           support_images,\n",
    "#           support_labels,\n",
    "#           query_images,\n",
    "#           query_labels,\n",
    "#           _,\n",
    "#         ) in tqdm_train:\n",
    "#             loss_value = fit(support_images, support_labels, query_images, query_labels)\n",
    "#             all_loss.append(loss_value)\n",
    "\n",
    "#             if episode_index % log_update_frequency == 0:\n",
    "#                 tqdm_train.set_postfix(loss=sliding_average(all_loss, log_update_frequency))\n",
    "\n",
    "#     return mean(all_loss)"
   ]
  },
  {
   "cell_type": "code",
   "execution_count": 26,
   "id": "03f79927",
   "metadata": {
    "execution": {
     "iopub.execute_input": "2022-11-10T12:47:09.717661Z",
     "iopub.status.busy": "2022-11-10T12:47:09.717087Z",
     "iopub.status.idle": "2022-11-10T12:47:09.721833Z",
     "shell.execute_reply": "2022-11-10T12:47:09.721008Z"
    },
    "id": "MHA8umSLGPfx",
    "outputId": "a20c13ba-acab-456b-bcc8-e393382cbd77",
    "papermill": {
     "duration": 0.413814,
     "end_time": "2022-11-10T12:47:09.725861",
     "exception": false,
     "start_time": "2022-11-10T12:47:09.312047",
     "status": "completed"
    },
    "tags": []
   },
   "outputs": [],
   "source": [
    "# best_state = model.state_dict()\n",
    "# n_epochs=10\n",
    "# best_validation_accuracy = 0.0\n",
    "# for epoch in range(n_epochs):\n",
    "#     print(f\"Epoch {epoch}\")\n",
    "#     average_loss = training_epoch()\n",
    "#     validation_accuracy = evaluate(val_loader)\n",
    "\n",
    "#     if validation_accuracy > best_validation_accuracy:\n",
    "#         best_validation_accuracy = validation_accuracy\n",
    "#         best_state = model.state_dict()\n",
    "#     print(\"best validation accuracy yet: \", best_validation_accuracy)"
   ]
  },
  {
   "cell_type": "code",
   "execution_count": 27,
   "id": "d80077c3",
   "metadata": {
    "execution": {
     "iopub.execute_input": "2022-11-10T12:47:10.501515Z",
     "iopub.status.busy": "2022-11-10T12:47:10.501125Z",
     "iopub.status.idle": "2022-11-10T12:47:10.505628Z",
     "shell.execute_reply": "2022-11-10T12:47:10.504695Z"
    },
    "id": "qL3fbTfhHa4p",
    "outputId": "25b1f255-c6c4-4b82-eba4-9c337707ca30",
    "papermill": {
     "duration": 0.338858,
     "end_time": "2022-11-10T12:47:10.507602",
     "exception": false,
     "start_time": "2022-11-10T12:47:10.168744",
     "status": "completed"
    },
    "tags": []
   },
   "outputs": [],
   "source": [
    "# model.load_state_dict(best_state)"
   ]
  },
  {
   "cell_type": "code",
   "execution_count": 28,
   "id": "cd288497",
   "metadata": {
    "execution": {
     "iopub.execute_input": "2022-11-10T12:47:11.218753Z",
     "iopub.status.busy": "2022-11-10T12:47:11.218387Z",
     "iopub.status.idle": "2022-11-10T12:47:11.222772Z",
     "shell.execute_reply": "2022-11-10T12:47:11.221719Z"
    },
    "id": "33Xo0V0M1eL4",
    "outputId": "e8ca502e-dae1-4c4c-9e16-5345b6dee59a",
    "papermill": {
     "duration": 0.334706,
     "end_time": "2022-11-10T12:47:11.224789",
     "exception": false,
     "start_time": "2022-11-10T12:47:10.890083",
     "status": "completed"
    },
    "tags": []
   },
   "outputs": [],
   "source": [
    "# evaluate(test_loader)"
   ]
  },
  {
   "cell_type": "code",
   "execution_count": null,
   "id": "399c8385",
   "metadata": {
    "id": "Ll8jFGrJ7b28",
    "papermill": {
     "duration": 0.324667,
     "end_time": "2022-11-10T12:47:11.873483",
     "exception": false,
     "start_time": "2022-11-10T12:47:11.548816",
     "status": "completed"
    },
    "tags": []
   },
   "outputs": [],
   "source": []
  },
  {
   "cell_type": "code",
   "execution_count": null,
   "id": "a7d551e0",
   "metadata": {
    "papermill": {
     "duration": 0.324411,
     "end_time": "2022-11-10T12:47:12.523108",
     "exception": false,
     "start_time": "2022-11-10T12:47:12.198697",
     "status": "completed"
    },
    "tags": []
   },
   "outputs": [],
   "source": []
  }
 ],
 "metadata": {
  "kernelspec": {
   "display_name": "Python 3",
   "language": "python",
   "name": "python3"
  },
  "language_info": {
   "codemirror_mode": {
    "name": "ipython",
    "version": 3
   },
   "file_extension": ".py",
   "mimetype": "text/x-python",
   "name": "python",
   "nbconvert_exporter": "python",
   "pygments_lexer": "ipython3",
   "version": "3.7.12"
  },
  "papermill": {
   "default_parameters": {},
   "duration": 6518.701206,
   "end_time": "2022-11-10T12:47:15.086772",
   "environment_variables": {},
   "exception": null,
   "input_path": "__notebook__.ipynb",
   "output_path": "__notebook__.ipynb",
   "parameters": {},
   "start_time": "2022-11-10T10:58:36.385566",
   "version": "2.3.4"
  },
  "widgets": {
   "application/vnd.jupyter.widget-state+json": {
    "state": {
     "03427dae52b349f1b218886c9b0ac842": {
      "model_module": "@jupyter-widgets/controls",
      "model_module_version": "1.5.0",
      "model_name": "HBoxModel",
      "state": {
       "_dom_classes": [],
       "_model_module": "@jupyter-widgets/controls",
       "_model_module_version": "1.5.0",
       "_model_name": "HBoxModel",
       "_view_count": null,
       "_view_module": "@jupyter-widgets/controls",
       "_view_module_version": "1.5.0",
       "_view_name": "HBoxView",
       "box_style": "",
       "children": [
        "IPY_MODEL_a6b05835db074e8e8c0b086092b57e1c",
        "IPY_MODEL_5447530f7fc74330a970b2726b1538db",
        "IPY_MODEL_4e414a0028044ee88698f22ea937a1d5"
       ],
       "layout": "IPY_MODEL_2f1822f1c7ea495b85a39f6d3b0a2a60"
      }
     },
     "05e45c665bc1480fac92bf3a30be3771": {
      "model_module": "@jupyter-widgets/base",
      "model_module_version": "1.2.0",
      "model_name": "LayoutModel",
      "state": {
       "_model_module": "@jupyter-widgets/base",
       "_model_module_version": "1.2.0",
       "_model_name": "LayoutModel",
       "_view_count": null,
       "_view_module": "@jupyter-widgets/base",
       "_view_module_version": "1.2.0",
       "_view_name": "LayoutView",
       "align_content": null,
       "align_items": null,
       "align_self": null,
       "border": null,
       "bottom": null,
       "display": null,
       "flex": null,
       "flex_flow": null,
       "grid_area": null,
       "grid_auto_columns": null,
       "grid_auto_flow": null,
       "grid_auto_rows": null,
       "grid_column": null,
       "grid_gap": null,
       "grid_row": null,
       "grid_template_areas": null,
       "grid_template_columns": null,
       "grid_template_rows": null,
       "height": null,
       "justify_content": null,
       "justify_items": null,
       "left": null,
       "margin": null,
       "max_height": null,
       "max_width": null,
       "min_height": null,
       "min_width": null,
       "object_fit": null,
       "object_position": null,
       "order": null,
       "overflow": null,
       "overflow_x": null,
       "overflow_y": null,
       "padding": null,
       "right": null,
       "top": null,
       "visibility": null,
       "width": null
      }
     },
     "096a2afb415a4175b31e0e5ad1c22686": {
      "model_module": "@jupyter-widgets/base",
      "model_module_version": "1.2.0",
      "model_name": "LayoutModel",
      "state": {
       "_model_module": "@jupyter-widgets/base",
       "_model_module_version": "1.2.0",
       "_model_name": "LayoutModel",
       "_view_count": null,
       "_view_module": "@jupyter-widgets/base",
       "_view_module_version": "1.2.0",
       "_view_name": "LayoutView",
       "align_content": null,
       "align_items": null,
       "align_self": null,
       "border": null,
       "bottom": null,
       "display": null,
       "flex": null,
       "flex_flow": null,
       "grid_area": null,
       "grid_auto_columns": null,
       "grid_auto_flow": null,
       "grid_auto_rows": null,
       "grid_column": null,
       "grid_gap": null,
       "grid_row": null,
       "grid_template_areas": null,
       "grid_template_columns": null,
       "grid_template_rows": null,
       "height": null,
       "justify_content": null,
       "justify_items": null,
       "left": null,
       "margin": null,
       "max_height": null,
       "max_width": null,
       "min_height": null,
       "min_width": null,
       "object_fit": null,
       "object_position": null,
       "order": null,
       "overflow": null,
       "overflow_x": null,
       "overflow_y": null,
       "padding": null,
       "right": null,
       "top": null,
       "visibility": null,
       "width": null
      }
     },
     "157c6d95a47d4c898edbeb34566048d7": {
      "model_module": "@jupyter-widgets/controls",
      "model_module_version": "1.5.0",
      "model_name": "HBoxModel",
      "state": {
       "_dom_classes": [],
       "_model_module": "@jupyter-widgets/controls",
       "_model_module_version": "1.5.0",
       "_model_name": "HBoxModel",
       "_view_count": null,
       "_view_module": "@jupyter-widgets/controls",
       "_view_module_version": "1.5.0",
       "_view_name": "HBoxView",
       "box_style": "",
       "children": [
        "IPY_MODEL_85740e676d0745ae9b9fccc9314a5749",
        "IPY_MODEL_bfd8a5960b014c1284a85e6ba21e35bc",
        "IPY_MODEL_daf63dc649f94d0eb5184da51d086471"
       ],
       "layout": "IPY_MODEL_05e45c665bc1480fac92bf3a30be3771"
      }
     },
     "1a2ea282e393436d86f8ebde25aac268": {
      "model_module": "@jupyter-widgets/controls",
      "model_module_version": "1.5.0",
      "model_name": "FloatProgressModel",
      "state": {
       "_dom_classes": [],
       "_model_module": "@jupyter-widgets/controls",
       "_model_module_version": "1.5.0",
       "_model_name": "FloatProgressModel",
       "_view_count": null,
       "_view_module": "@jupyter-widgets/controls",
       "_view_module_version": "1.5.0",
       "_view_name": "ProgressView",
       "bar_style": "success",
       "description": "",
       "description_tooltip": null,
       "layout": "IPY_MODEL_8f96e2dac303444989651b8740b74a3a",
       "max": 14989.0,
       "min": 0.0,
       "orientation": "horizontal",
       "style": "IPY_MODEL_bb6cb3cb42ab42d18d4da774cffc98ca",
       "value": 14989.0
      }
     },
     "24b3e79011c34863941cc76347dc51a0": {
      "model_module": "@jupyter-widgets/base",
      "model_module_version": "1.2.0",
      "model_name": "LayoutModel",
      "state": {
       "_model_module": "@jupyter-widgets/base",
       "_model_module_version": "1.2.0",
       "_model_name": "LayoutModel",
       "_view_count": null,
       "_view_module": "@jupyter-widgets/base",
       "_view_module_version": "1.2.0",
       "_view_name": "LayoutView",
       "align_content": null,
       "align_items": null,
       "align_self": null,
       "border": null,
       "bottom": null,
       "display": null,
       "flex": null,
       "flex_flow": null,
       "grid_area": null,
       "grid_auto_columns": null,
       "grid_auto_flow": null,
       "grid_auto_rows": null,
       "grid_column": null,
       "grid_gap": null,
       "grid_row": null,
       "grid_template_areas": null,
       "grid_template_columns": null,
       "grid_template_rows": null,
       "height": null,
       "justify_content": null,
       "justify_items": null,
       "left": null,
       "margin": null,
       "max_height": null,
       "max_width": null,
       "min_height": null,
       "min_width": null,
       "object_fit": null,
       "object_position": null,
       "order": null,
       "overflow": null,
       "overflow_x": null,
       "overflow_y": null,
       "padding": null,
       "right": null,
       "top": null,
       "visibility": null,
       "width": null
      }
     },
     "271dfa8afea64316b998c9911641af3d": {
      "model_module": "@jupyter-widgets/base",
      "model_module_version": "1.2.0",
      "model_name": "LayoutModel",
      "state": {
       "_model_module": "@jupyter-widgets/base",
       "_model_module_version": "1.2.0",
       "_model_name": "LayoutModel",
       "_view_count": null,
       "_view_module": "@jupyter-widgets/base",
       "_view_module_version": "1.2.0",
       "_view_name": "LayoutView",
       "align_content": null,
       "align_items": null,
       "align_self": null,
       "border": null,
       "bottom": null,
       "display": null,
       "flex": null,
       "flex_flow": null,
       "grid_area": null,
       "grid_auto_columns": null,
       "grid_auto_flow": null,
       "grid_auto_rows": null,
       "grid_column": null,
       "grid_gap": null,
       "grid_row": null,
       "grid_template_areas": null,
       "grid_template_columns": null,
       "grid_template_rows": null,
       "height": null,
       "justify_content": null,
       "justify_items": null,
       "left": null,
       "margin": null,
       "max_height": null,
       "max_width": null,
       "min_height": null,
       "min_width": null,
       "object_fit": null,
       "object_position": null,
       "order": null,
       "overflow": null,
       "overflow_x": null,
       "overflow_y": null,
       "padding": null,
       "right": null,
       "top": null,
       "visibility": null,
       "width": null
      }
     },
     "2f1822f1c7ea495b85a39f6d3b0a2a60": {
      "model_module": "@jupyter-widgets/base",
      "model_module_version": "1.2.0",
      "model_name": "LayoutModel",
      "state": {
       "_model_module": "@jupyter-widgets/base",
       "_model_module_version": "1.2.0",
       "_model_name": "LayoutModel",
       "_view_count": null,
       "_view_module": "@jupyter-widgets/base",
       "_view_module_version": "1.2.0",
       "_view_name": "LayoutView",
       "align_content": null,
       "align_items": null,
       "align_self": null,
       "border": null,
       "bottom": null,
       "display": null,
       "flex": null,
       "flex_flow": null,
       "grid_area": null,
       "grid_auto_columns": null,
       "grid_auto_flow": null,
       "grid_auto_rows": null,
       "grid_column": null,
       "grid_gap": null,
       "grid_row": null,
       "grid_template_areas": null,
       "grid_template_columns": null,
       "grid_template_rows": null,
       "height": null,
       "justify_content": null,
       "justify_items": null,
       "left": null,
       "margin": null,
       "max_height": null,
       "max_width": null,
       "min_height": null,
       "min_width": null,
       "object_fit": null,
       "object_position": null,
       "order": null,
       "overflow": null,
       "overflow_x": null,
       "overflow_y": null,
       "padding": null,
       "right": null,
       "top": null,
       "visibility": null,
       "width": null
      }
     },
     "3068a66d11f541c4a88dd4bdb4732fc9": {
      "model_module": "@jupyter-widgets/controls",
      "model_module_version": "1.5.0",
      "model_name": "DescriptionStyleModel",
      "state": {
       "_model_module": "@jupyter-widgets/controls",
       "_model_module_version": "1.5.0",
       "_model_name": "DescriptionStyleModel",
       "_view_count": null,
       "_view_module": "@jupyter-widgets/base",
       "_view_module_version": "1.2.0",
       "_view_name": "StyleView",
       "description_width": ""
      }
     },
     "4935ebb32da844288a7f50118c8822d7": {
      "model_module": "@jupyter-widgets/controls",
      "model_module_version": "1.5.0",
      "model_name": "HTMLModel",
      "state": {
       "_dom_classes": [],
       "_model_module": "@jupyter-widgets/controls",
       "_model_module_version": "1.5.0",
       "_model_name": "HTMLModel",
       "_view_count": null,
       "_view_module": "@jupyter-widgets/controls",
       "_view_module_version": "1.5.0",
       "_view_name": "HTMLView",
       "description": "",
       "description_tooltip": null,
       "layout": "IPY_MODEL_24b3e79011c34863941cc76347dc51a0",
       "placeholder": "​",
       "style": "IPY_MODEL_3068a66d11f541c4a88dd4bdb4732fc9",
       "value": "100%"
      }
     },
     "4c5e4d733de3467cb7b5950979db5b7d": {
      "model_module": "@jupyter-widgets/controls",
      "model_module_version": "1.5.0",
      "model_name": "HBoxModel",
      "state": {
       "_dom_classes": [],
       "_model_module": "@jupyter-widgets/controls",
       "_model_module_version": "1.5.0",
       "_model_name": "HBoxModel",
       "_view_count": null,
       "_view_module": "@jupyter-widgets/controls",
       "_view_module_version": "1.5.0",
       "_view_name": "HBoxView",
       "box_style": "",
       "children": [
        "IPY_MODEL_4935ebb32da844288a7f50118c8822d7",
        "IPY_MODEL_d4bc473365ad4853b4a3f7ce61645843",
        "IPY_MODEL_b56a9981f8ec4e7e88f5f06475617e40"
       ],
       "layout": "IPY_MODEL_d6b1753a231e412d98d58e668db1f6c1"
      }
     },
     "4e414a0028044ee88698f22ea937a1d5": {
      "model_module": "@jupyter-widgets/controls",
      "model_module_version": "1.5.0",
      "model_name": "HTMLModel",
      "state": {
       "_dom_classes": [],
       "_model_module": "@jupyter-widgets/controls",
       "_model_module_version": "1.5.0",
       "_model_name": "HTMLModel",
       "_view_count": null,
       "_view_module": "@jupyter-widgets/controls",
       "_view_module_version": "1.5.0",
       "_view_name": "HTMLView",
       "description": "",
       "description_tooltip": null,
       "layout": "IPY_MODEL_7600254f70b640a3b4bc0f16a99d957c",
       "placeholder": "​",
       "style": "IPY_MODEL_6c1bfc0343e847028140986609eac84e",
       "value": " 1024/? [00:00&lt;00:00, 40111.77it/s]"
      }
     },
     "50c93864be934567ae2246d1b86f26da": {
      "model_module": "@jupyter-widgets/controls",
      "model_module_version": "1.5.0",
      "model_name": "DescriptionStyleModel",
      "state": {
       "_model_module": "@jupyter-widgets/controls",
       "_model_module_version": "1.5.0",
       "_model_name": "DescriptionStyleModel",
       "_view_count": null,
       "_view_module": "@jupyter-widgets/base",
       "_view_module_version": "1.2.0",
       "_view_name": "StyleView",
       "description_width": ""
      }
     },
     "5447530f7fc74330a970b2726b1538db": {
      "model_module": "@jupyter-widgets/controls",
      "model_module_version": "1.5.0",
      "model_name": "FloatProgressModel",
      "state": {
       "_dom_classes": [],
       "_model_module": "@jupyter-widgets/controls",
       "_model_module_version": "1.5.0",
       "_model_name": "FloatProgressModel",
       "_view_count": null,
       "_view_module": "@jupyter-widgets/controls",
       "_view_module_version": "1.5.0",
       "_view_name": "ProgressView",
       "bar_style": "success",
       "description": "",
       "description_tooltip": null,
       "layout": "IPY_MODEL_096a2afb415a4175b31e0e5ad1c22686",
       "max": 502.0,
       "min": 0.0,
       "orientation": "horizontal",
       "style": "IPY_MODEL_b0e474365bc444e487f435be51b678ad",
       "value": 502.0
      }
     },
     "57cdb95facd14be0b4d0d2fdab024691": {
      "model_module": "@jupyter-widgets/base",
      "model_module_version": "1.2.0",
      "model_name": "LayoutModel",
      "state": {
       "_model_module": "@jupyter-widgets/base",
       "_model_module_version": "1.2.0",
       "_model_name": "LayoutModel",
       "_view_count": null,
       "_view_module": "@jupyter-widgets/base",
       "_view_module_version": "1.2.0",
       "_view_name": "LayoutView",
       "align_content": null,
       "align_items": null,
       "align_self": null,
       "border": null,
       "bottom": null,
       "display": null,
       "flex": null,
       "flex_flow": null,
       "grid_area": null,
       "grid_auto_columns": null,
       "grid_auto_flow": null,
       "grid_auto_rows": null,
       "grid_column": null,
       "grid_gap": null,
       "grid_row": null,
       "grid_template_areas": null,
       "grid_template_columns": null,
       "grid_template_rows": null,
       "height": null,
       "justify_content": null,
       "justify_items": null,
       "left": null,
       "margin": null,
       "max_height": null,
       "max_width": null,
       "min_height": null,
       "min_width": null,
       "object_fit": null,
       "object_position": null,
       "order": null,
       "overflow": null,
       "overflow_x": null,
       "overflow_y": null,
       "padding": null,
       "right": null,
       "top": null,
       "visibility": null,
       "width": null
      }
     },
     "5a5a9c01cb1a4559b511609426ae58d5": {
      "model_module": "@jupyter-widgets/base",
      "model_module_version": "1.2.0",
      "model_name": "LayoutModel",
      "state": {
       "_model_module": "@jupyter-widgets/base",
       "_model_module_version": "1.2.0",
       "_model_name": "LayoutModel",
       "_view_count": null,
       "_view_module": "@jupyter-widgets/base",
       "_view_module_version": "1.2.0",
       "_view_name": "LayoutView",
       "align_content": null,
       "align_items": null,
       "align_self": null,
       "border": null,
       "bottom": null,
       "display": null,
       "flex": null,
       "flex_flow": null,
       "grid_area": null,
       "grid_auto_columns": null,
       "grid_auto_flow": null,
       "grid_auto_rows": null,
       "grid_column": null,
       "grid_gap": null,
       "grid_row": null,
       "grid_template_areas": null,
       "grid_template_columns": null,
       "grid_template_rows": null,
       "height": null,
       "justify_content": null,
       "justify_items": null,
       "left": null,
       "margin": null,
       "max_height": null,
       "max_width": null,
       "min_height": null,
       "min_width": null,
       "object_fit": null,
       "object_position": null,
       "order": null,
       "overflow": null,
       "overflow_x": null,
       "overflow_y": null,
       "padding": null,
       "right": null,
       "top": null,
       "visibility": null,
       "width": null
      }
     },
     "5d94441bcec34cc0b6019b731541e855": {
      "model_module": "@jupyter-widgets/controls",
      "model_module_version": "1.5.0",
      "model_name": "DescriptionStyleModel",
      "state": {
       "_model_module": "@jupyter-widgets/controls",
       "_model_module_version": "1.5.0",
       "_model_name": "DescriptionStyleModel",
       "_view_count": null,
       "_view_module": "@jupyter-widgets/base",
       "_view_module_version": "1.2.0",
       "_view_name": "StyleView",
       "description_width": ""
      }
     },
     "6276a35fabf34526b18cda163c61eca5": {
      "model_module": "@jupyter-widgets/base",
      "model_module_version": "1.2.0",
      "model_name": "LayoutModel",
      "state": {
       "_model_module": "@jupyter-widgets/base",
       "_model_module_version": "1.2.0",
       "_model_name": "LayoutModel",
       "_view_count": null,
       "_view_module": "@jupyter-widgets/base",
       "_view_module_version": "1.2.0",
       "_view_name": "LayoutView",
       "align_content": null,
       "align_items": null,
       "align_self": null,
       "border": null,
       "bottom": null,
       "display": null,
       "flex": null,
       "flex_flow": null,
       "grid_area": null,
       "grid_auto_columns": null,
       "grid_auto_flow": null,
       "grid_auto_rows": null,
       "grid_column": null,
       "grid_gap": null,
       "grid_row": null,
       "grid_template_areas": null,
       "grid_template_columns": null,
       "grid_template_rows": null,
       "height": null,
       "justify_content": null,
       "justify_items": null,
       "left": null,
       "margin": null,
       "max_height": null,
       "max_width": null,
       "min_height": null,
       "min_width": null,
       "object_fit": null,
       "object_position": null,
       "order": null,
       "overflow": null,
       "overflow_x": null,
       "overflow_y": null,
       "padding": null,
       "right": null,
       "top": null,
       "visibility": null,
       "width": null
      }
     },
     "6c1bfc0343e847028140986609eac84e": {
      "model_module": "@jupyter-widgets/controls",
      "model_module_version": "1.5.0",
      "model_name": "DescriptionStyleModel",
      "state": {
       "_model_module": "@jupyter-widgets/controls",
       "_model_module_version": "1.5.0",
       "_model_name": "DescriptionStyleModel",
       "_view_count": null,
       "_view_module": "@jupyter-widgets/base",
       "_view_module_version": "1.2.0",
       "_view_name": "StyleView",
       "description_width": ""
      }
     },
     "7600254f70b640a3b4bc0f16a99d957c": {
      "model_module": "@jupyter-widgets/base",
      "model_module_version": "1.2.0",
      "model_name": "LayoutModel",
      "state": {
       "_model_module": "@jupyter-widgets/base",
       "_model_module_version": "1.2.0",
       "_model_name": "LayoutModel",
       "_view_count": null,
       "_view_module": "@jupyter-widgets/base",
       "_view_module_version": "1.2.0",
       "_view_name": "LayoutView",
       "align_content": null,
       "align_items": null,
       "align_self": null,
       "border": null,
       "bottom": null,
       "display": null,
       "flex": null,
       "flex_flow": null,
       "grid_area": null,
       "grid_auto_columns": null,
       "grid_auto_flow": null,
       "grid_auto_rows": null,
       "grid_column": null,
       "grid_gap": null,
       "grid_row": null,
       "grid_template_areas": null,
       "grid_template_columns": null,
       "grid_template_rows": null,
       "height": null,
       "justify_content": null,
       "justify_items": null,
       "left": null,
       "margin": null,
       "max_height": null,
       "max_width": null,
       "min_height": null,
       "min_width": null,
       "object_fit": null,
       "object_position": null,
       "order": null,
       "overflow": null,
       "overflow_x": null,
       "overflow_y": null,
       "padding": null,
       "right": null,
       "top": null,
       "visibility": null,
       "width": null
      }
     },
     "7eda2317fb24478f8a09098b35ffde44": {
      "model_module": "@jupyter-widgets/controls",
      "model_module_version": "1.5.0",
      "model_name": "ProgressStyleModel",
      "state": {
       "_model_module": "@jupyter-widgets/controls",
       "_model_module_version": "1.5.0",
       "_model_name": "ProgressStyleModel",
       "_view_count": null,
       "_view_module": "@jupyter-widgets/base",
       "_view_module_version": "1.2.0",
       "_view_name": "StyleView",
       "bar_color": null,
       "description_width": ""
      }
     },
     "84e34805bdb344fb8f135177dc25daf2": {
      "model_module": "@jupyter-widgets/controls",
      "model_module_version": "1.5.0",
      "model_name": "ProgressStyleModel",
      "state": {
       "_model_module": "@jupyter-widgets/controls",
       "_model_module_version": "1.5.0",
       "_model_name": "ProgressStyleModel",
       "_view_count": null,
       "_view_module": "@jupyter-widgets/base",
       "_view_module_version": "1.2.0",
       "_view_name": "StyleView",
       "bar_color": null,
       "description_width": ""
      }
     },
     "85740e676d0745ae9b9fccc9314a5749": {
      "model_module": "@jupyter-widgets/controls",
      "model_module_version": "1.5.0",
      "model_name": "HTMLModel",
      "state": {
       "_dom_classes": [],
       "_model_module": "@jupyter-widgets/controls",
       "_model_module_version": "1.5.0",
       "_model_name": "HTMLModel",
       "_view_count": null,
       "_view_module": "@jupyter-widgets/controls",
       "_view_module_version": "1.5.0",
       "_view_name": "HTMLView",
       "description": "",
       "description_tooltip": null,
       "layout": "IPY_MODEL_d7764cb554794d47b23cfff24332a915",
       "placeholder": "​",
       "style": "IPY_MODEL_9a4c30ce844546d59bcaa21da5e4c854",
       "value": ""
      }
     },
     "8f96e2dac303444989651b8740b74a3a": {
      "model_module": "@jupyter-widgets/base",
      "model_module_version": "1.2.0",
      "model_name": "LayoutModel",
      "state": {
       "_model_module": "@jupyter-widgets/base",
       "_model_module_version": "1.2.0",
       "_model_name": "LayoutModel",
       "_view_count": null,
       "_view_module": "@jupyter-widgets/base",
       "_view_module_version": "1.2.0",
       "_view_name": "LayoutView",
       "align_content": null,
       "align_items": null,
       "align_self": null,
       "border": null,
       "bottom": null,
       "display": null,
       "flex": null,
       "flex_flow": null,
       "grid_area": null,
       "grid_auto_columns": null,
       "grid_auto_flow": null,
       "grid_auto_rows": null,
       "grid_column": null,
       "grid_gap": null,
       "grid_row": null,
       "grid_template_areas": null,
       "grid_template_columns": null,
       "grid_template_rows": null,
       "height": null,
       "justify_content": null,
       "justify_items": null,
       "left": null,
       "margin": null,
       "max_height": null,
       "max_width": null,
       "min_height": null,
       "min_width": null,
       "object_fit": null,
       "object_position": null,
       "order": null,
       "overflow": null,
       "overflow_x": null,
       "overflow_y": null,
       "padding": null,
       "right": null,
       "top": null,
       "visibility": null,
       "width": null
      }
     },
     "964872a10ff14e65948c98526dc96649": {
      "model_module": "@jupyter-widgets/controls",
      "model_module_version": "1.5.0",
      "model_name": "HTMLModel",
      "state": {
       "_dom_classes": [],
       "_model_module": "@jupyter-widgets/controls",
       "_model_module_version": "1.5.0",
       "_model_name": "HTMLModel",
       "_view_count": null,
       "_view_module": "@jupyter-widgets/controls",
       "_view_module_version": "1.5.0",
       "_view_name": "HTMLView",
       "description": "",
       "description_tooltip": null,
       "layout": "IPY_MODEL_d4eb400f67614b3faa26db5a71dc62a2",
       "placeholder": "​",
       "style": "IPY_MODEL_cd541a345ddb4b1fbeecbd50067385c0",
       "value": " 15360/? [00:00&lt;00:00, 623784.95it/s]"
      }
     },
     "98ca22b3c00545cc8a9c0185e7bacbc2": {
      "model_module": "@jupyter-widgets/controls",
      "model_module_version": "1.5.0",
      "model_name": "DescriptionStyleModel",
      "state": {
       "_model_module": "@jupyter-widgets/controls",
       "_model_module_version": "1.5.0",
       "_model_name": "DescriptionStyleModel",
       "_view_count": null,
       "_view_module": "@jupyter-widgets/base",
       "_view_module_version": "1.2.0",
       "_view_name": "StyleView",
       "description_width": ""
      }
     },
     "991c163f179446a98201b6e0aab7cf0f": {
      "model_module": "@jupyter-widgets/base",
      "model_module_version": "1.2.0",
      "model_name": "LayoutModel",
      "state": {
       "_model_module": "@jupyter-widgets/base",
       "_model_module_version": "1.2.0",
       "_model_name": "LayoutModel",
       "_view_count": null,
       "_view_module": "@jupyter-widgets/base",
       "_view_module_version": "1.2.0",
       "_view_name": "LayoutView",
       "align_content": null,
       "align_items": null,
       "align_self": null,
       "border": null,
       "bottom": null,
       "display": null,
       "flex": null,
       "flex_flow": null,
       "grid_area": null,
       "grid_auto_columns": null,
       "grid_auto_flow": null,
       "grid_auto_rows": null,
       "grid_column": null,
       "grid_gap": null,
       "grid_row": null,
       "grid_template_areas": null,
       "grid_template_columns": null,
       "grid_template_rows": null,
       "height": null,
       "justify_content": null,
       "justify_items": null,
       "left": null,
       "margin": null,
       "max_height": null,
       "max_width": null,
       "min_height": null,
       "min_width": null,
       "object_fit": null,
       "object_position": null,
       "order": null,
       "overflow": null,
       "overflow_x": null,
       "overflow_y": null,
       "padding": null,
       "right": null,
       "top": null,
       "visibility": null,
       "width": null
      }
     },
     "9a4c30ce844546d59bcaa21da5e4c854": {
      "model_module": "@jupyter-widgets/controls",
      "model_module_version": "1.5.0",
      "model_name": "DescriptionStyleModel",
      "state": {
       "_model_module": "@jupyter-widgets/controls",
       "_model_module_version": "1.5.0",
       "_model_name": "DescriptionStyleModel",
       "_view_count": null,
       "_view_module": "@jupyter-widgets/base",
       "_view_module_version": "1.2.0",
       "_view_name": "StyleView",
       "description_width": ""
      }
     },
     "a6b05835db074e8e8c0b086092b57e1c": {
      "model_module": "@jupyter-widgets/controls",
      "model_module_version": "1.5.0",
      "model_name": "HTMLModel",
      "state": {
       "_dom_classes": [],
       "_model_module": "@jupyter-widgets/controls",
       "_model_module_version": "1.5.0",
       "_model_name": "HTMLModel",
       "_view_count": null,
       "_view_module": "@jupyter-widgets/controls",
       "_view_module_version": "1.5.0",
       "_view_name": "HTMLView",
       "description": "",
       "description_tooltip": null,
       "layout": "IPY_MODEL_57cdb95facd14be0b4d0d2fdab024691",
       "placeholder": "​",
       "style": "IPY_MODEL_5d94441bcec34cc0b6019b731541e855",
       "value": ""
      }
     },
     "b0e474365bc444e487f435be51b678ad": {
      "model_module": "@jupyter-widgets/controls",
      "model_module_version": "1.5.0",
      "model_name": "ProgressStyleModel",
      "state": {
       "_model_module": "@jupyter-widgets/controls",
       "_model_module_version": "1.5.0",
       "_model_name": "ProgressStyleModel",
       "_view_count": null,
       "_view_module": "@jupyter-widgets/base",
       "_view_module_version": "1.2.0",
       "_view_name": "StyleView",
       "bar_color": null,
       "description_width": ""
      }
     },
     "b56a9981f8ec4e7e88f5f06475617e40": {
      "model_module": "@jupyter-widgets/controls",
      "model_module_version": "1.5.0",
      "model_name": "HTMLModel",
      "state": {
       "_dom_classes": [],
       "_model_module": "@jupyter-widgets/controls",
       "_model_module_version": "1.5.0",
       "_model_name": "HTMLModel",
       "_view_count": null,
       "_view_module": "@jupyter-widgets/controls",
       "_view_module_version": "1.5.0",
       "_view_name": "HTMLView",
       "description": "",
       "description_tooltip": null,
       "layout": "IPY_MODEL_be4b031a8c8e4db0b667aac14c601aa1",
       "placeholder": "​",
       "style": "IPY_MODEL_98ca22b3c00545cc8a9c0185e7bacbc2",
       "value": " 44.7M/44.7M [00:03&lt;00:00, 20.3MB/s]"
      }
     },
     "b88a5df691db41cf893de72fe43ea9bb": {
      "model_module": "@jupyter-widgets/controls",
      "model_module_version": "1.5.0",
      "model_name": "HBoxModel",
      "state": {
       "_dom_classes": [],
       "_model_module": "@jupyter-widgets/controls",
       "_model_module_version": "1.5.0",
       "_model_name": "HBoxModel",
       "_view_count": null,
       "_view_module": "@jupyter-widgets/controls",
       "_view_module_version": "1.5.0",
       "_view_name": "HBoxView",
       "box_style": "",
       "children": [
        "IPY_MODEL_f443dfd085934efb9e417a8aca4e4e9d",
        "IPY_MODEL_1a2ea282e393436d86f8ebde25aac268",
        "IPY_MODEL_964872a10ff14e65948c98526dc96649"
       ],
       "layout": "IPY_MODEL_e1d1a99ccf374131ac0cef3dd91b9eec"
      }
     },
     "bb6cb3cb42ab42d18d4da774cffc98ca": {
      "model_module": "@jupyter-widgets/controls",
      "model_module_version": "1.5.0",
      "model_name": "ProgressStyleModel",
      "state": {
       "_model_module": "@jupyter-widgets/controls",
       "_model_module_version": "1.5.0",
       "_model_name": "ProgressStyleModel",
       "_view_count": null,
       "_view_module": "@jupyter-widgets/base",
       "_view_module_version": "1.2.0",
       "_view_name": "StyleView",
       "bar_color": null,
       "description_width": ""
      }
     },
     "be4b031a8c8e4db0b667aac14c601aa1": {
      "model_module": "@jupyter-widgets/base",
      "model_module_version": "1.2.0",
      "model_name": "LayoutModel",
      "state": {
       "_model_module": "@jupyter-widgets/base",
       "_model_module_version": "1.2.0",
       "_model_name": "LayoutModel",
       "_view_count": null,
       "_view_module": "@jupyter-widgets/base",
       "_view_module_version": "1.2.0",
       "_view_name": "LayoutView",
       "align_content": null,
       "align_items": null,
       "align_self": null,
       "border": null,
       "bottom": null,
       "display": null,
       "flex": null,
       "flex_flow": null,
       "grid_area": null,
       "grid_auto_columns": null,
       "grid_auto_flow": null,
       "grid_auto_rows": null,
       "grid_column": null,
       "grid_gap": null,
       "grid_row": null,
       "grid_template_areas": null,
       "grid_template_columns": null,
       "grid_template_rows": null,
       "height": null,
       "justify_content": null,
       "justify_items": null,
       "left": null,
       "margin": null,
       "max_height": null,
       "max_width": null,
       "min_height": null,
       "min_width": null,
       "object_fit": null,
       "object_position": null,
       "order": null,
       "overflow": null,
       "overflow_x": null,
       "overflow_y": null,
       "padding": null,
       "right": null,
       "top": null,
       "visibility": null,
       "width": null
      }
     },
     "bfbd7210a5b44b2982c2a0b13d449ef1": {
      "model_module": "@jupyter-widgets/controls",
      "model_module_version": "1.5.0",
      "model_name": "DescriptionStyleModel",
      "state": {
       "_model_module": "@jupyter-widgets/controls",
       "_model_module_version": "1.5.0",
       "_model_name": "DescriptionStyleModel",
       "_view_count": null,
       "_view_module": "@jupyter-widgets/base",
       "_view_module_version": "1.2.0",
       "_view_name": "StyleView",
       "description_width": ""
      }
     },
     "bfd8a5960b014c1284a85e6ba21e35bc": {
      "model_module": "@jupyter-widgets/controls",
      "model_module_version": "1.5.0",
      "model_name": "FloatProgressModel",
      "state": {
       "_dom_classes": [],
       "_model_module": "@jupyter-widgets/controls",
       "_model_module_version": "1.5.0",
       "_model_name": "FloatProgressModel",
       "_view_count": null,
       "_view_module": "@jupyter-widgets/controls",
       "_view_module_version": "1.5.0",
       "_view_name": "ProgressView",
       "bar_style": "success",
       "description": "",
       "description_tooltip": null,
       "layout": "IPY_MODEL_6276a35fabf34526b18cda163c61eca5",
       "max": 344862509.0,
       "min": 0.0,
       "orientation": "horizontal",
       "style": "IPY_MODEL_7eda2317fb24478f8a09098b35ffde44",
       "value": 344862509.0
      }
     },
     "cd541a345ddb4b1fbeecbd50067385c0": {
      "model_module": "@jupyter-widgets/controls",
      "model_module_version": "1.5.0",
      "model_name": "DescriptionStyleModel",
      "state": {
       "_model_module": "@jupyter-widgets/controls",
       "_model_module_version": "1.5.0",
       "_model_name": "DescriptionStyleModel",
       "_view_count": null,
       "_view_module": "@jupyter-widgets/base",
       "_view_module_version": "1.2.0",
       "_view_name": "StyleView",
       "description_width": ""
      }
     },
     "d4bc473365ad4853b4a3f7ce61645843": {
      "model_module": "@jupyter-widgets/controls",
      "model_module_version": "1.5.0",
      "model_name": "FloatProgressModel",
      "state": {
       "_dom_classes": [],
       "_model_module": "@jupyter-widgets/controls",
       "_model_module_version": "1.5.0",
       "_model_name": "FloatProgressModel",
       "_view_count": null,
       "_view_module": "@jupyter-widgets/controls",
       "_view_module_version": "1.5.0",
       "_view_name": "ProgressView",
       "bar_style": "success",
       "description": "",
       "description_tooltip": null,
       "layout": "IPY_MODEL_271dfa8afea64316b998c9911641af3d",
       "max": 46830571.0,
       "min": 0.0,
       "orientation": "horizontal",
       "style": "IPY_MODEL_84e34805bdb344fb8f135177dc25daf2",
       "value": 46830571.0
      }
     },
     "d4eb400f67614b3faa26db5a71dc62a2": {
      "model_module": "@jupyter-widgets/base",
      "model_module_version": "1.2.0",
      "model_name": "LayoutModel",
      "state": {
       "_model_module": "@jupyter-widgets/base",
       "_model_module_version": "1.2.0",
       "_model_name": "LayoutModel",
       "_view_count": null,
       "_view_module": "@jupyter-widgets/base",
       "_view_module_version": "1.2.0",
       "_view_name": "LayoutView",
       "align_content": null,
       "align_items": null,
       "align_self": null,
       "border": null,
       "bottom": null,
       "display": null,
       "flex": null,
       "flex_flow": null,
       "grid_area": null,
       "grid_auto_columns": null,
       "grid_auto_flow": null,
       "grid_auto_rows": null,
       "grid_column": null,
       "grid_gap": null,
       "grid_row": null,
       "grid_template_areas": null,
       "grid_template_columns": null,
       "grid_template_rows": null,
       "height": null,
       "justify_content": null,
       "justify_items": null,
       "left": null,
       "margin": null,
       "max_height": null,
       "max_width": null,
       "min_height": null,
       "min_width": null,
       "object_fit": null,
       "object_position": null,
       "order": null,
       "overflow": null,
       "overflow_x": null,
       "overflow_y": null,
       "padding": null,
       "right": null,
       "top": null,
       "visibility": null,
       "width": null
      }
     },
     "d6b1753a231e412d98d58e668db1f6c1": {
      "model_module": "@jupyter-widgets/base",
      "model_module_version": "1.2.0",
      "model_name": "LayoutModel",
      "state": {
       "_model_module": "@jupyter-widgets/base",
       "_model_module_version": "1.2.0",
       "_model_name": "LayoutModel",
       "_view_count": null,
       "_view_module": "@jupyter-widgets/base",
       "_view_module_version": "1.2.0",
       "_view_name": "LayoutView",
       "align_content": null,
       "align_items": null,
       "align_self": null,
       "border": null,
       "bottom": null,
       "display": null,
       "flex": null,
       "flex_flow": null,
       "grid_area": null,
       "grid_auto_columns": null,
       "grid_auto_flow": null,
       "grid_auto_rows": null,
       "grid_column": null,
       "grid_gap": null,
       "grid_row": null,
       "grid_template_areas": null,
       "grid_template_columns": null,
       "grid_template_rows": null,
       "height": null,
       "justify_content": null,
       "justify_items": null,
       "left": null,
       "margin": null,
       "max_height": null,
       "max_width": null,
       "min_height": null,
       "min_width": null,
       "object_fit": null,
       "object_position": null,
       "order": null,
       "overflow": null,
       "overflow_x": null,
       "overflow_y": null,
       "padding": null,
       "right": null,
       "top": null,
       "visibility": null,
       "width": null
      }
     },
     "d7764cb554794d47b23cfff24332a915": {
      "model_module": "@jupyter-widgets/base",
      "model_module_version": "1.2.0",
      "model_name": "LayoutModel",
      "state": {
       "_model_module": "@jupyter-widgets/base",
       "_model_module_version": "1.2.0",
       "_model_name": "LayoutModel",
       "_view_count": null,
       "_view_module": "@jupyter-widgets/base",
       "_view_module_version": "1.2.0",
       "_view_name": "LayoutView",
       "align_content": null,
       "align_items": null,
       "align_self": null,
       "border": null,
       "bottom": null,
       "display": null,
       "flex": null,
       "flex_flow": null,
       "grid_area": null,
       "grid_auto_columns": null,
       "grid_auto_flow": null,
       "grid_auto_rows": null,
       "grid_column": null,
       "grid_gap": null,
       "grid_row": null,
       "grid_template_areas": null,
       "grid_template_columns": null,
       "grid_template_rows": null,
       "height": null,
       "justify_content": null,
       "justify_items": null,
       "left": null,
       "margin": null,
       "max_height": null,
       "max_width": null,
       "min_height": null,
       "min_width": null,
       "object_fit": null,
       "object_position": null,
       "order": null,
       "overflow": null,
       "overflow_x": null,
       "overflow_y": null,
       "padding": null,
       "right": null,
       "top": null,
       "visibility": null,
       "width": null
      }
     },
     "daf63dc649f94d0eb5184da51d086471": {
      "model_module": "@jupyter-widgets/controls",
      "model_module_version": "1.5.0",
      "model_name": "HTMLModel",
      "state": {
       "_dom_classes": [],
       "_model_module": "@jupyter-widgets/controls",
       "_model_module_version": "1.5.0",
       "_model_name": "HTMLModel",
       "_view_count": null,
       "_view_module": "@jupyter-widgets/controls",
       "_view_module_version": "1.5.0",
       "_view_name": "HTMLView",
       "description": "",
       "description_tooltip": null,
       "layout": "IPY_MODEL_991c163f179446a98201b6e0aab7cf0f",
       "placeholder": "​",
       "style": "IPY_MODEL_bfbd7210a5b44b2982c2a0b13d449ef1",
       "value": " 344862720/? [00:21&lt;00:00, 20074929.63it/s]"
      }
     },
     "e1d1a99ccf374131ac0cef3dd91b9eec": {
      "model_module": "@jupyter-widgets/base",
      "model_module_version": "1.2.0",
      "model_name": "LayoutModel",
      "state": {
       "_model_module": "@jupyter-widgets/base",
       "_model_module_version": "1.2.0",
       "_model_name": "LayoutModel",
       "_view_count": null,
       "_view_module": "@jupyter-widgets/base",
       "_view_module_version": "1.2.0",
       "_view_name": "LayoutView",
       "align_content": null,
       "align_items": null,
       "align_self": null,
       "border": null,
       "bottom": null,
       "display": null,
       "flex": null,
       "flex_flow": null,
       "grid_area": null,
       "grid_auto_columns": null,
       "grid_auto_flow": null,
       "grid_auto_rows": null,
       "grid_column": null,
       "grid_gap": null,
       "grid_row": null,
       "grid_template_areas": null,
       "grid_template_columns": null,
       "grid_template_rows": null,
       "height": null,
       "justify_content": null,
       "justify_items": null,
       "left": null,
       "margin": null,
       "max_height": null,
       "max_width": null,
       "min_height": null,
       "min_width": null,
       "object_fit": null,
       "object_position": null,
       "order": null,
       "overflow": null,
       "overflow_x": null,
       "overflow_y": null,
       "padding": null,
       "right": null,
       "top": null,
       "visibility": null,
       "width": null
      }
     },
     "f443dfd085934efb9e417a8aca4e4e9d": {
      "model_module": "@jupyter-widgets/controls",
      "model_module_version": "1.5.0",
      "model_name": "HTMLModel",
      "state": {
       "_dom_classes": [],
       "_model_module": "@jupyter-widgets/controls",
       "_model_module_version": "1.5.0",
       "_model_name": "HTMLModel",
       "_view_count": null,
       "_view_module": "@jupyter-widgets/controls",
       "_view_module_version": "1.5.0",
       "_view_name": "HTMLView",
       "description": "",
       "description_tooltip": null,
       "layout": "IPY_MODEL_5a5a9c01cb1a4559b511609426ae58d5",
       "placeholder": "​",
       "style": "IPY_MODEL_50c93864be934567ae2246d1b86f26da",
       "value": ""
      }
     }
    },
    "version_major": 2,
    "version_minor": 0
   }
  }
 },
 "nbformat": 4,
 "nbformat_minor": 5
}
