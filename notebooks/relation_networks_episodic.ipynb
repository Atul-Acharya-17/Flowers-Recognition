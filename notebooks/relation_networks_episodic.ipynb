{
 "cells": [
  {
   "cell_type": "code",
   "execution_count": null,
   "metadata": {
    "id": "up9pfWJKgu97"
   },
   "outputs": [],
   "source": [
    "import torch\n",
    "from torch import nn, optim\n",
    "from torch.utils.data import DataLoader\n",
    "from torchvision import transforms\n",
    "from torchvision.models import resnet18\n",
    "from tqdm import tqdm\n",
    "import time\n",
    "import torchvision\n",
    "from statistics import mean\n",
    "import copy\n",
    "import pandas as pd\n",
    "from torch.utils.data import Sampler\n",
    "import random"
   ]
  },
  {
   "cell_type": "code",
   "execution_count": null,
   "metadata": {
    "colab": {
     "base_uri": "https://localhost:8080/"
    },
    "id": "WhDPZz0IgxXK",
    "outputId": "021fa50c-6866-4eaf-f53c-7853416f3ab8"
   },
   "outputs": [
    {
     "name": "stdout",
     "output_type": "stream",
     "text": [
      "Length of training data: 1020\n",
      "Length of validation data: 1020\n",
      "Length of test data: 6149\n"
     ]
    }
   ],
   "source": [
    "image_size = 224\n",
    "directory='drive/MyDrive/Flower_Recognition'\n",
    "    \n",
    "training_set = torchvision.datasets.Flowers102(root=f'{directory}', transform=transforms.Compose(\n",
    "        [   \n",
    "            transforms.Resize([int(image_size * 1.15), int(image_size * 1.15)]),\n",
    "            transforms.CenterCrop(image_size),\n",
    "            transforms.ToTensor(),\n",
    "        ]\n",
    "    ),split='train')\n",
    "validation_set = torchvision.datasets.Flowers102(root=f'{directory}', transform=transforms.Compose(\n",
    "        [\n",
    "            transforms.Resize([int(image_size * 1.15), int(image_size * 1.15)]),\n",
    "            transforms.CenterCrop(image_size),\n",
    "            transforms.ToTensor(),\n",
    "        ]\n",
    "    ), split='val')\n",
    "test_set = torchvision.datasets.Flowers102(root=f'{directory}', transform=transforms.Compose(\n",
    "        [\n",
    "            transforms.Resize([int(image_size * 1.15), int(image_size * 1.15)]),\n",
    "            transforms.CenterCrop(image_size),\n",
    "            transforms.ToTensor(),\n",
    "        ]\n",
    "    ), split='test')\n",
    "    \n",
    "print(f'Length of training data: {len(training_set)}')\n",
    "print(f'Length of validation data: {len(validation_set)}')\n",
    "print(f'Length of test data: {len(test_set)}')"
   ]
  },
  {
   "cell_type": "code",
   "execution_count": null,
   "metadata": {
    "id": "3luhYAx0g0z2"
   },
   "outputs": [],
   "source": [
    "class RelationNetwork(nn.Module):\n",
    "    def __init__(self, distance_metric_module: nn.Module, encoder: nn.Module):\n",
    "        super(RelationNetwork, self).__init__()\n",
    "\n",
    "        #finding backbone shape\n",
    "        input_imgs = torch.ones((1, 3, 224, 224))\n",
    "        output = copy.deepcopy(encoder).cpu()(input_imgs)\n",
    "        self.encoder_output_shape = tuple(output.shape[1:])\n",
    "\n",
    "        self.distance_metric_module = distance_metric_module\n",
    "        self.encoder = encoder\n",
    "\n",
    "    def forward(self, support_images: torch.Tensor,support_labels: torch.Tensor, query_images: torch.Tensor) -> torch.Tensor:\n",
    "        \n",
    "        support_feature_maps = self.encoder.forward(support_images)\n",
    "        query_feature_maps = self.encoder.forward(query_images)\n",
    "        \n",
    "        n_way = len(torch.unique(support_labels))\n",
    "        support_class_prototypes = torch.cat(\n",
    "            [\n",
    "                support_feature_maps[torch.nonzero(support_labels == label)].mean(0)\n",
    "                for label in range(n_way)\n",
    "            ]\n",
    "        )\n",
    "\n",
    "        query_prototype_concatenated_pairs = torch.cat(\n",
    "            (\n",
    "                support_class_prototypes.unsqueeze(dim=0).expand(\n",
    "                    query_feature_maps.shape[0], -1, -1, -1, -1\n",
    "                ),\n",
    "                query_feature_maps.unsqueeze(dim=1).expand(\n",
    "                    -1, support_class_prototypes.shape[0], -1, -1, -1\n",
    "                ),\n",
    "            ),\n",
    "            dim=2,\n",
    "        ).view(-1, 2 * self.encoder_output_shape[0], *query_feature_maps.shape[2:])\n",
    "\n",
    "        relation_scores = self.distance_metric_module(query_prototype_concatenated_pairs).view(\n",
    "            -1, support_class_prototypes.shape[0]\n",
    "        )\n",
    "\n",
    "        return relation_scores"
   ]
  },
  {
   "cell_type": "code",
   "execution_count": null,
   "metadata": {
    "colab": {
     "base_uri": "https://localhost:8080/",
     "height": 1000,
     "referenced_widgets": [
      "3c4edc484eda40bc929c9df0a1610f99",
      "cb59077fdee344cda0ca2fd8fb35eacb",
      "55b4fa794f18409596efe1925882b622",
      "8c69bc8b0a16426b845c1555f168832b",
      "eebf20ae53a14c86906d109da6590440",
      "f8d90c8bc5a74a96a220c0d40cde1f05",
      "a219f390833b4dee8df5a695c2b5e672",
      "820fb9d584a74076ad590ce98c6e191d",
      "dd074db856e24ba296be2109634a9dfa",
      "766892fde5d14314a56dc30086dc9a0b",
      "cf516d8fff274e60882ada3115287b87"
     ]
    },
    "id": "9YHxaUDog68e",
    "outputId": "7fb50557-98ab-4cb6-8b40-711d90531304"
   },
   "outputs": [
    {
     "name": "stderr",
     "output_type": "stream",
     "text": [
      "/usr/local/lib/python3.7/dist-packages/torchvision/models/_utils.py:209: UserWarning: The parameter 'pretrained' is deprecated since 0.13 and will be removed in 0.15, please use 'weights' instead.\n",
      "  f\"The parameter '{pretrained_param}' is deprecated since 0.13 and will be removed in 0.15, \"\n",
      "/usr/local/lib/python3.7/dist-packages/torchvision/models/_utils.py:223: UserWarning: Arguments other than a weight enum or `None` for 'weights' are deprecated since 0.13 and will be removed in 0.15. The current behavior is equivalent to passing `weights=ResNet18_Weights.IMAGENET1K_V1`. You can also use `weights=ResNet18_Weights.DEFAULT` to get the most up-to-date weights.\n",
      "  warnings.warn(msg)\n",
      "Downloading: \"https://download.pytorch.org/models/resnet18-f37072fd.pth\" to /root/.cache/torch/hub/checkpoints/resnet18-f37072fd.pth\n"
     ]
    },
    {
     "data": {
      "application/vnd.jupyter.widget-view+json": {
       "model_id": "3c4edc484eda40bc929c9df0a1610f99",
       "version_major": 2,
       "version_minor": 0
      },
      "text/plain": [
       "  0%|          | 0.00/44.7M [00:00<?, ?B/s]"
      ]
     },
     "metadata": {},
     "output_type": "display_data"
    },
    {
     "name": "stdout",
     "output_type": "stream",
     "text": [
      "Sequential(\n",
      "  (0): Conv2d(3, 64, kernel_size=(7, 7), stride=(2, 2), padding=(3, 3), bias=False)\n",
      "  (1): BatchNorm2d(64, eps=1e-05, momentum=0.1, affine=True, track_running_stats=True)\n",
      "  (2): ReLU(inplace=True)\n",
      "  (3): MaxPool2d(kernel_size=3, stride=2, padding=1, dilation=1, ceil_mode=False)\n",
      "  (4): Sequential(\n",
      "    (0): BasicBlock(\n",
      "      (conv1): Conv2d(64, 64, kernel_size=(3, 3), stride=(1, 1), padding=(1, 1), bias=False)\n",
      "      (bn1): BatchNorm2d(64, eps=1e-05, momentum=0.1, affine=True, track_running_stats=True)\n",
      "      (relu): ReLU(inplace=True)\n",
      "      (conv2): Conv2d(64, 64, kernel_size=(3, 3), stride=(1, 1), padding=(1, 1), bias=False)\n",
      "      (bn2): BatchNorm2d(64, eps=1e-05, momentum=0.1, affine=True, track_running_stats=True)\n",
      "    )\n",
      "    (1): BasicBlock(\n",
      "      (conv1): Conv2d(64, 64, kernel_size=(3, 3), stride=(1, 1), padding=(1, 1), bias=False)\n",
      "      (bn1): BatchNorm2d(64, eps=1e-05, momentum=0.1, affine=True, track_running_stats=True)\n",
      "      (relu): ReLU(inplace=True)\n",
      "      (conv2): Conv2d(64, 64, kernel_size=(3, 3), stride=(1, 1), padding=(1, 1), bias=False)\n",
      "      (bn2): BatchNorm2d(64, eps=1e-05, momentum=0.1, affine=True, track_running_stats=True)\n",
      "    )\n",
      "  )\n",
      "  (5): Sequential(\n",
      "    (0): BasicBlock(\n",
      "      (conv1): Conv2d(64, 128, kernel_size=(3, 3), stride=(2, 2), padding=(1, 1), bias=False)\n",
      "      (bn1): BatchNorm2d(128, eps=1e-05, momentum=0.1, affine=True, track_running_stats=True)\n",
      "      (relu): ReLU(inplace=True)\n",
      "      (conv2): Conv2d(128, 128, kernel_size=(3, 3), stride=(1, 1), padding=(1, 1), bias=False)\n",
      "      (bn2): BatchNorm2d(128, eps=1e-05, momentum=0.1, affine=True, track_running_stats=True)\n",
      "      (downsample): Sequential(\n",
      "        (0): Conv2d(64, 128, kernel_size=(1, 1), stride=(2, 2), bias=False)\n",
      "        (1): BatchNorm2d(128, eps=1e-05, momentum=0.1, affine=True, track_running_stats=True)\n",
      "      )\n",
      "    )\n",
      "    (1): BasicBlock(\n",
      "      (conv1): Conv2d(128, 128, kernel_size=(3, 3), stride=(1, 1), padding=(1, 1), bias=False)\n",
      "      (bn1): BatchNorm2d(128, eps=1e-05, momentum=0.1, affine=True, track_running_stats=True)\n",
      "      (relu): ReLU(inplace=True)\n",
      "      (conv2): Conv2d(128, 128, kernel_size=(3, 3), stride=(1, 1), padding=(1, 1), bias=False)\n",
      "      (bn2): BatchNorm2d(128, eps=1e-05, momentum=0.1, affine=True, track_running_stats=True)\n",
      "    )\n",
      "  )\n",
      "  (6): Sequential(\n",
      "    (0): BasicBlock(\n",
      "      (conv1): Conv2d(128, 256, kernel_size=(3, 3), stride=(2, 2), padding=(1, 1), bias=False)\n",
      "      (bn1): BatchNorm2d(256, eps=1e-05, momentum=0.1, affine=True, track_running_stats=True)\n",
      "      (relu): ReLU(inplace=True)\n",
      "      (conv2): Conv2d(256, 256, kernel_size=(3, 3), stride=(1, 1), padding=(1, 1), bias=False)\n",
      "      (bn2): BatchNorm2d(256, eps=1e-05, momentum=0.1, affine=True, track_running_stats=True)\n",
      "      (downsample): Sequential(\n",
      "        (0): Conv2d(128, 256, kernel_size=(1, 1), stride=(2, 2), bias=False)\n",
      "        (1): BatchNorm2d(256, eps=1e-05, momentum=0.1, affine=True, track_running_stats=True)\n",
      "      )\n",
      "    )\n",
      "    (1): BasicBlock(\n",
      "      (conv1): Conv2d(256, 256, kernel_size=(3, 3), stride=(1, 1), padding=(1, 1), bias=False)\n",
      "      (bn1): BatchNorm2d(256, eps=1e-05, momentum=0.1, affine=True, track_running_stats=True)\n",
      "      (relu): ReLU(inplace=True)\n",
      "      (conv2): Conv2d(256, 256, kernel_size=(3, 3), stride=(1, 1), padding=(1, 1), bias=False)\n",
      "      (bn2): BatchNorm2d(256, eps=1e-05, momentum=0.1, affine=True, track_running_stats=True)\n",
      "    )\n",
      "  )\n",
      "  (7): Sequential(\n",
      "    (0): BasicBlock(\n",
      "      (conv1): Conv2d(256, 512, kernel_size=(3, 3), stride=(2, 2), padding=(1, 1), bias=False)\n",
      "      (bn1): BatchNorm2d(512, eps=1e-05, momentum=0.1, affine=True, track_running_stats=True)\n",
      "      (relu): ReLU(inplace=True)\n",
      "      (conv2): Conv2d(512, 512, kernel_size=(3, 3), stride=(1, 1), padding=(1, 1), bias=False)\n",
      "      (bn2): BatchNorm2d(512, eps=1e-05, momentum=0.1, affine=True, track_running_stats=True)\n",
      "      (downsample): Sequential(\n",
      "        (0): Conv2d(256, 512, kernel_size=(1, 1), stride=(2, 2), bias=False)\n",
      "        (1): BatchNorm2d(512, eps=1e-05, momentum=0.1, affine=True, track_running_stats=True)\n",
      "      )\n",
      "    )\n",
      "    (1): BasicBlock(\n",
      "      (conv1): Conv2d(512, 512, kernel_size=(3, 3), stride=(1, 1), padding=(1, 1), bias=False)\n",
      "      (bn1): BatchNorm2d(512, eps=1e-05, momentum=0.1, affine=True, track_running_stats=True)\n",
      "      (relu): ReLU(inplace=True)\n",
      "      (conv2): Conv2d(512, 512, kernel_size=(3, 3), stride=(1, 1), padding=(1, 1), bias=False)\n",
      "      (bn2): BatchNorm2d(512, eps=1e-05, momentum=0.1, affine=True, track_running_stats=True)\n",
      "    )\n",
      "  )\n",
      ")\n",
      "(512, 7, 7)\n"
     ]
    }
   ],
   "source": [
    "convolutional_network_backbone = resnet18(pretrained=True\n",
    "                                          )\n",
    "convolutional_network_backbone = torch.nn.Sequential(*(list(convolutional_network_backbone.children())[:-2]))\n",
    "print(convolutional_network_backbone)\n",
    "\n",
    "input_imgs = torch.ones((1, 3, 224, 224))\n",
    "output = copy.deepcopy(convolutional_network_backbone).cpu()(input_imgs)\n",
    "encoder_output_shape = tuple(output.shape[1:])\n",
    "print(encoder_output_shape)\n",
    "\n",
    "distance_metric_module_network = nn.Sequential(\n",
    "        nn.Sequential(\n",
    "            nn.Conv2d(\n",
    "                encoder_output_shape[0] * 2,\n",
    "                encoder_output_shape[0],\n",
    "                kernel_size=3,\n",
    "                padding=1,\n",
    "            ),\n",
    "            nn.BatchNorm2d(encoder_output_shape[0], momentum=1, affine=True),\n",
    "            nn.ReLU(),\n",
    "            nn.AdaptiveMaxPool2d((5, 5)),\n",
    "        ),\n",
    "        nn.Sequential(\n",
    "            nn.Conv2d(\n",
    "                encoder_output_shape[0],\n",
    "                encoder_output_shape[0],\n",
    "                kernel_size=3,\n",
    "                padding=0,\n",
    "            ),\n",
    "            nn.BatchNorm2d(encoder_output_shape[0], momentum=1, affine=True),\n",
    "            nn.ReLU(),\n",
    "            nn.AdaptiveMaxPool2d((1, 1)),\n",
    "        ),\n",
    "        nn.Flatten(),\n",
    "        nn.Linear(encoder_output_shape[0], 16),\n",
    "        nn.ReLU(),\n",
    "        nn.Linear(16, 1),\n",
    "        nn.Sigmoid(),\n",
    "    )\n",
    "\n",
    "\n",
    "model = RelationNetwork(distance_metric_module_network, convolutional_network_backbone).cuda()"
   ]
  },
  {
   "cell_type": "code",
   "execution_count": null,
   "metadata": {
    "id": "KVRfCSULg_6Q"
   },
   "outputs": [],
   "source": [
    "n_way = 5\n",
    "k_shot = 4\n",
    "n_query = 6\n",
    "n_tasks = 100\n",
    "n_train_tasks = 100\n",
    "n_val_tasks = 100\n",
    "n_test_tasks = 1000"
   ]
  },
  {
   "cell_type": "code",
   "execution_count": null,
   "metadata": {
    "id": "ITn08_XHhDR-"
   },
   "outputs": [],
   "source": [
    "from scipy.io import loadmat\n",
    "labels = loadmat('drive/MyDrive/Flower_Recognition/flowers-102/imagelabels.mat',squeeze_me=True)\n",
    "setids = loadmat('drive/MyDrive/Flower_Recognition/flowers-102/setid.mat',squeeze_me=True)\n",
    "image_id_to_label = dict(enumerate((labels[\"labels\"] - 1).tolist(), 1))\n",
    "train_ids = setids['trnid']\n",
    "val_ids = setids['valid']\n",
    "test_ids = setids['tstid']"
   ]
  },
  {
   "cell_type": "code",
   "execution_count": null,
   "metadata": {
    "id": "RjYNjAAUhE29"
   },
   "outputs": [],
   "source": [
    "training_set.get_labels = lambda: [\n",
    "    image_id_to_label[id] for id in train_ids\n",
    "]\n",
    "\n",
    "validation_set.get_labels = lambda: [\n",
    "    image_id_to_label[id] for id in val_ids\n",
    "]\n",
    "\n",
    "test_set.get_labels = lambda: [\n",
    "    image_id_to_label[id] for id in test_ids\n",
    "]"
   ]
  },
  {
   "cell_type": "code",
   "execution_count": null,
   "metadata": {
    "id": "Dr4V2if1Fm-f"
   },
   "outputs": [],
   "source": [
    "class TaskSampler(Sampler):\n",
    "    \n",
    "    def __init__(self, dataset, n_way, k_shot, n_query, n_tasks):\n",
    "        super().__init__(data_source=None)\n",
    "        self.n_way = n_way\n",
    "        self.k_shot = k_shot\n",
    "        self.n_tasks = n_tasks\n",
    "        self.n_query = n_query\n",
    "        \n",
    "        self.items_per_label = {}\n",
    "        \n",
    "        for item, label in enumerate(dataset.get_labels()):\n",
    "            if label in self.items_per_label.keys():\n",
    "                self.items_per_label[label].append(item)\n",
    "            else:\n",
    "                self.items_per_label[label] = [item]\n",
    "                \n",
    "    def __len__(self):\n",
    "        return self.n_tasks\n",
    "    \n",
    "    def __iter__(self):\n",
    "        for task in range(self.n_tasks):\n",
    "            yield torch.cat(\n",
    "                [\n",
    "                    torch.Tensor(random.sample(self.items_per_label[label], self.k_shot + self.n_query)).type(torch.int)\n",
    "                    \n",
    "                    for label in random.sample(self.items_per_label.keys(), self.n_way)\n",
    "                ]\n",
    "            ).tolist()\n",
    "            \n",
    "    def collate_fn(self, input_data):\n",
    "        true_class_ids = list({x[1] for x in input_data})\n",
    "\n",
    "        all_images = torch.cat([x[0].unsqueeze(0) for x in input_data])\n",
    "        all_images = all_images.reshape(\n",
    "            (self.n_way, self.k_shot + self.n_query, *all_images.shape[1:])\n",
    "        )\n",
    "\n",
    "        all_labels = torch.tensor(\n",
    "            [true_class_ids.index(x[1]) for x in input_data]\n",
    "        ).reshape((self.n_way, self.k_shot + self.n_query))\n",
    "\n",
    "        support_images = all_images[:, : self.k_shot].reshape(\n",
    "            (-1, *all_images.shape[2:])\n",
    "        )\n",
    "        query_images = all_images[:, self.k_shot :].reshape((-1, *all_images.shape[2:]))\n",
    "        support_labels = all_labels[:, : self.k_shot].flatten()\n",
    "        query_labels = all_labels[:, self.k_shot :].flatten()\n",
    "\n",
    "        return support_images, support_labels, query_images, query_labels, true_class_ids"
   ]
  },
  {
   "cell_type": "code",
   "execution_count": null,
   "metadata": {
    "id": "psaiMpEEhGqo"
   },
   "outputs": [],
   "source": [
    "train_sampler = TaskSampler(training_set, n_way, k_shot, n_query, n_train_tasks)\n",
    "validation_sampler = TaskSampler(validation_set, n_way, k_shot, n_query, n_val_tasks)\n",
    "test_sampler = TaskSampler(test_set, n_way, k_shot, n_query, n_test_tasks)\n",
    "\n",
    "train_loader = DataLoader(\n",
    "    training_set,\n",
    "    batch_sampler=train_sampler,\n",
    "    num_workers=2,\n",
    "    pin_memory=True,\n",
    "    collate_fn=train_sampler.collate_fn,\n",
    ")\n",
    "\n",
    "val_loader = DataLoader(\n",
    "    validation_set,\n",
    "    batch_sampler=validation_sampler,\n",
    "    num_workers=2,\n",
    "    pin_memory=True,\n",
    "    collate_fn=validation_sampler.collate_fn,\n",
    ")\n",
    "\n",
    "test_loader = DataLoader(\n",
    "    test_set,\n",
    "    batch_sampler=test_sampler,\n",
    "    num_workers=2,\n",
    "    pin_memory=True,\n",
    "    collate_fn=test_sampler.collate_fn,\n",
    ")"
   ]
  },
  {
   "cell_type": "code",
   "execution_count": null,
   "metadata": {
    "id": "yLYCMw38hIxu"
   },
   "outputs": [],
   "source": [
    "def evaluate(data_loader: DataLoader):\n",
    "    total_predictions = 0\n",
    "    correct_predictions = 0\n",
    "\n",
    "    model.eval()\n",
    "    running_loss = 0.0\n",
    "    running_correct = 0\n",
    "    total = 0\n",
    "    \n",
    "    start_time = time.time()\n",
    "    \n",
    "    with torch.no_grad():\n",
    "        for episode_index, (\n",
    "            support_images,\n",
    "            support_labels,\n",
    "            query_images,\n",
    "            query_labels,\n",
    "            class_ids,\n",
    "        ) in tqdm(enumerate(data_loader), total=len(data_loader)):\n",
    "            support_images = support_images.to(\"cuda\")\n",
    "            support_labels = support_labels.to(\"cuda\")\n",
    "            query_images = query_images.to(\"cuda\")\n",
    "            query_labels = query_labels.to(\"cuda\")\n",
    "\n",
    "            scores = model(support_images, support_labels, query_images)\n",
    "\n",
    "            loss = criterion(scores, query_labels)\n",
    "\n",
    "            running_loss += loss.item()\n",
    "            total += query_labels.shape[0]\n",
    "            _, preds = torch.max(scores, 1)\n",
    "            running_correct += torch.sum(preds == query_labels).item()\n",
    "\n",
    "    end_time = time.time()\n",
    "\n",
    "    print(f'Loss: {running_loss / len(data_loader)}, Accuracy: {running_correct / total}, Time: {(end_time - start_time):.4f}s')\n",
    "    \n",
    "    return (running_loss / len(data_loader)), (running_correct / total)"
   ]
  },
  {
   "cell_type": "code",
   "execution_count": null,
   "metadata": {
    "id": "9-eGkkmwhPvf"
   },
   "outputs": [],
   "source": [
    "criterion = nn.CrossEntropyLoss()\n",
    "optimizer = optim.Adam(model.parameters(), lr=0.0001)\n",
    "\n",
    "\n",
    "def fit(support_images: torch.Tensor,support_labels: torch.Tensor,query_images: torch.Tensor,query_labels: torch.Tensor) -> float:\n",
    "    optimizer.zero_grad()\n",
    "    classification_scores = model(support_images.cuda(), support_labels.cuda(), query_images.cuda())\n",
    "\n",
    "    loss = criterion(classification_scores, query_labels.cuda())\n",
    "    loss.backward()\n",
    "    optimizer.step()\n",
    "\n",
    "    return loss.item(), classification_scores"
   ]
  },
  {
   "cell_type": "code",
   "execution_count": null,
   "metadata": {
    "id": "vH6X4dFahSKb"
   },
   "outputs": [],
   "source": [
    "def training_epoch():\n",
    "  all_loss = []\n",
    "\n",
    "  model.train()\n",
    "  running_loss = 0.0\n",
    "  running_correct = 0\n",
    "  total = 0\n",
    "      \n",
    "  start_time = time.time()\n",
    "  with tqdm(enumerate(train_loader), total=len(train_loader)) as tqdm_train:\n",
    "      for episode_index, (\n",
    "          support_images,\n",
    "          support_labels,\n",
    "          query_images,\n",
    "          query_labels,\n",
    "          _,\n",
    "      ) in tqdm_train:\n",
    "          support_images = support_images.to(\"cuda\")\n",
    "          support_labels = support_labels.to(\"cuda\")\n",
    "          query_images = query_images.to(\"cuda\")\n",
    "          query_labels = query_labels.to(\"cuda\")\n",
    "            \n",
    "          loss_value, scores = fit(support_images, support_labels, query_images, query_labels)\n",
    "          all_loss.append(loss_value)\n",
    "\n",
    "          running_loss += loss_value\n",
    "          total += query_labels.shape[0]\n",
    "          _, preds = torch.max(scores, 1)\n",
    "          running_correct += torch.sum(preds == query_labels).item()\n",
    "            \n",
    "  end_time = time.time()\n",
    "\n",
    "  print(f'Epoch: {epoch}, Loss: {running_loss / len(train_loader)}, Accuracy: {running_correct / total}, Time: {(end_time - start_time):.4f}s')\n",
    "              \n",
    "  return mean(all_loss), (running_loss / len(train_loader)), (running_correct / total)"
   ]
  },
  {
   "cell_type": "code",
   "execution_count": null,
   "metadata": {
    "colab": {
     "base_uri": "https://localhost:8080/"
    },
    "id": "fBNeHD2XhcMt",
    "outputId": "ca88c23d-5591-4928-fe32-b2bb09e613aa"
   },
   "outputs": [
    {
     "name": "stdout",
     "output_type": "stream",
     "text": [
      "Epoch 0\n"
     ]
    },
    {
     "name": "stderr",
     "output_type": "stream",
     "text": [
      "100%|██████████| 100/100 [03:44<00:00,  2.25s/it, loss=2.14]"
     ]
    },
    {
     "name": "stdout",
     "output_type": "stream",
     "text": [
      "Epoch: 0, Loss: 2.376792905330658, Accuracy: 0.7961666666666667, Time: 225.0475s\n"
     ]
    },
    {
     "name": "stderr",
     "output_type": "stream",
     "text": [
      "\n",
      "100%|██████████| 100/100 [03:05<00:00,  1.85s/it]"
     ]
    },
    {
     "name": "stdout",
     "output_type": "stream",
     "text": [
      "Loss: 2.316419258117676, Accuracy: 0.7781666666666667, Time: 185.2255s\n",
      "best validation accuracy yet:  0.7781666666666667\n",
      "Epoch 1\n"
     ]
    },
    {
     "name": "stderr",
     "output_type": "stream",
     "text": [
      "\n",
      "100%|██████████| 100/100 [03:33<00:00,  2.14s/it, loss=2.08]"
     ]
    },
    {
     "name": "stdout",
     "output_type": "stream",
     "text": [
      "Epoch: 1, Loss: 2.0941334795951843, Accuracy: 0.9968333333333333, Time: 213.6256s\n"
     ]
    },
    {
     "name": "stderr",
     "output_type": "stream",
     "text": [
      "\n",
      "100%|██████████| 100/100 [03:01<00:00,  1.81s/it]"
     ]
    },
    {
     "name": "stdout",
     "output_type": "stream",
     "text": [
      "Loss: 2.3613165736198427, Accuracy: 0.8185, Time: 181.2148s\n",
      "best validation accuracy yet:  0.8185\n",
      "Epoch 2\n"
     ]
    },
    {
     "name": "stderr",
     "output_type": "stream",
     "text": [
      "\n",
      "100%|██████████| 100/100 [03:30<00:00,  2.10s/it, loss=2.08]"
     ]
    },
    {
     "name": "stdout",
     "output_type": "stream",
     "text": [
      "Epoch: 2, Loss: 2.0805845785140993, Accuracy: 1.0, Time: 210.5668s\n"
     ]
    },
    {
     "name": "stderr",
     "output_type": "stream",
     "text": [
      "\n",
      "100%|██████████| 100/100 [03:02<00:00,  1.83s/it]"
     ]
    },
    {
     "name": "stdout",
     "output_type": "stream",
     "text": [
      "Loss: 2.3208356046676637, Accuracy: 0.8228333333333333, Time: 182.8403s\n",
      "best validation accuracy yet:  0.8228333333333333\n",
      "Epoch 3\n"
     ]
    },
    {
     "name": "stderr",
     "output_type": "stream",
     "text": [
      "\n",
      "100%|██████████| 100/100 [03:29<00:00,  2.09s/it, loss=2.08]"
     ]
    },
    {
     "name": "stdout",
     "output_type": "stream",
     "text": [
      "Epoch: 3, Loss: 2.0790558075904846, Accuracy: 1.0, Time: 209.4961s\n"
     ]
    },
    {
     "name": "stderr",
     "output_type": "stream",
     "text": [
      "\n",
      "100%|██████████| 100/100 [03:03<00:00,  1.83s/it]"
     ]
    },
    {
     "name": "stdout",
     "output_type": "stream",
     "text": [
      "Loss: 2.353242039680481, Accuracy: 0.82125, Time: 183.3356s\n",
      "best validation accuracy yet:  0.8228333333333333\n",
      "Epoch 4\n"
     ]
    },
    {
     "name": "stderr",
     "output_type": "stream",
     "text": [
      "\n",
      "100%|██████████| 100/100 [03:26<00:00,  2.07s/it, loss=2.08]"
     ]
    },
    {
     "name": "stdout",
     "output_type": "stream",
     "text": [
      "Epoch: 4, Loss: 2.0785461592674257, Accuracy: 1.0, Time: 207.0624s\n"
     ]
    },
    {
     "name": "stderr",
     "output_type": "stream",
     "text": [
      "\n",
      "100%|██████████| 100/100 [03:07<00:00,  1.88s/it]"
     ]
    },
    {
     "name": "stdout",
     "output_type": "stream",
     "text": [
      "Loss: 2.308776385784149, Accuracy: 0.83675, Time: 187.6323s\n",
      "best validation accuracy yet:  0.83675\n",
      "Epoch 5\n"
     ]
    },
    {
     "name": "stderr",
     "output_type": "stream",
     "text": [
      "\n",
      "100%|██████████| 100/100 [03:29<00:00,  2.09s/it, loss=2.08]"
     ]
    },
    {
     "name": "stdout",
     "output_type": "stream",
     "text": [
      "Epoch: 5, Loss: 2.0784262204170227, Accuracy: 1.0, Time: 209.5641s\n"
     ]
    },
    {
     "name": "stderr",
     "output_type": "stream",
     "text": [
      "\n",
      "100%|██████████| 100/100 [03:12<00:00,  1.92s/it]"
     ]
    },
    {
     "name": "stdout",
     "output_type": "stream",
     "text": [
      "Loss: 2.3039149904251097, Accuracy: 0.83175, Time: 192.2397s\n",
      "best validation accuracy yet:  0.83675\n",
      "Epoch 6\n"
     ]
    },
    {
     "name": "stderr",
     "output_type": "stream",
     "text": [
      "\n",
      "100%|██████████| 100/100 [03:43<00:00,  2.23s/it, loss=2.08]"
     ]
    },
    {
     "name": "stdout",
     "output_type": "stream",
     "text": [
      "Epoch: 6, Loss: 2.0783429598808287, Accuracy: 1.0, Time: 223.2918s\n"
     ]
    },
    {
     "name": "stderr",
     "output_type": "stream",
     "text": [
      "\n",
      "100%|██████████| 100/100 [03:18<00:00,  1.98s/it]"
     ]
    },
    {
     "name": "stdout",
     "output_type": "stream",
     "text": [
      "Loss: 2.2965002965927126, Accuracy: 0.8345833333333333, Time: 198.1992s\n",
      "best validation accuracy yet:  0.83675\n",
      "Epoch 7\n"
     ]
    },
    {
     "name": "stderr",
     "output_type": "stream",
     "text": [
      "\n",
      "100%|██████████| 100/100 [03:42<00:00,  2.23s/it, loss=2.08]"
     ]
    },
    {
     "name": "stdout",
     "output_type": "stream",
     "text": [
      "Epoch: 7, Loss: 2.078301684856415, Accuracy: 1.0, Time: 222.5903s\n"
     ]
    },
    {
     "name": "stderr",
     "output_type": "stream",
     "text": [
      "\n",
      "100%|██████████| 100/100 [03:16<00:00,  1.97s/it]"
     ]
    },
    {
     "name": "stdout",
     "output_type": "stream",
     "text": [
      "Loss: 2.3277650928497313, Accuracy: 0.8389166666666666, Time: 196.5935s\n",
      "best validation accuracy yet:  0.8389166666666666\n",
      "Epoch 8\n"
     ]
    },
    {
     "name": "stderr",
     "output_type": "stream",
     "text": [
      "\n",
      "100%|██████████| 100/100 [03:45<00:00,  2.25s/it, loss=2.08]"
     ]
    },
    {
     "name": "stdout",
     "output_type": "stream",
     "text": [
      "Epoch: 8, Loss: 2.078268601894379, Accuracy: 1.0, Time: 225.3812s\n"
     ]
    },
    {
     "name": "stderr",
     "output_type": "stream",
     "text": [
      "\n",
      "100%|██████████| 100/100 [03:12<00:00,  1.93s/it]"
     ]
    },
    {
     "name": "stdout",
     "output_type": "stream",
     "text": [
      "Loss: 2.3235511946678162, Accuracy: 0.8334166666666667, Time: 193.0255s\n",
      "best validation accuracy yet:  0.8389166666666666\n",
      "Epoch 9\n"
     ]
    },
    {
     "name": "stderr",
     "output_type": "stream",
     "text": [
      "\n",
      "100%|██████████| 100/100 [03:38<00:00,  2.18s/it, loss=2.08]"
     ]
    },
    {
     "name": "stdout",
     "output_type": "stream",
     "text": [
      "Epoch: 9, Loss: 2.0782508730888365, Accuracy: 1.0, Time: 218.1102s\n"
     ]
    },
    {
     "name": "stderr",
     "output_type": "stream",
     "text": [
      "\n",
      "100%|██████████| 100/100 [03:16<00:00,  1.97s/it]"
     ]
    },
    {
     "name": "stdout",
     "output_type": "stream",
     "text": [
      "Loss: 2.3097302436828615, Accuracy: 0.8321666666666667, Time: 197.0062s\n",
      "best validation accuracy yet:  0.8389166666666666\n",
      "Epoch 10\n"
     ]
    },
    {
     "name": "stderr",
     "output_type": "stream",
     "text": [
      "\n",
      "100%|██████████| 100/100 [03:44<00:00,  2.25s/it, loss=2.08]"
     ]
    },
    {
     "name": "stdout",
     "output_type": "stream",
     "text": [
      "Epoch: 10, Loss: 2.0782347989082335, Accuracy: 1.0, Time: 224.9783s\n"
     ]
    },
    {
     "name": "stderr",
     "output_type": "stream",
     "text": [
      "\n",
      "100%|██████████| 100/100 [03:18<00:00,  1.99s/it]"
     ]
    },
    {
     "name": "stdout",
     "output_type": "stream",
     "text": [
      "Loss: 2.333732843399048, Accuracy: 0.838, Time: 198.8269s\n",
      "best validation accuracy yet:  0.8389166666666666\n",
      "Epoch 11\n"
     ]
    },
    {
     "name": "stderr",
     "output_type": "stream",
     "text": [
      "\n",
      "100%|██████████| 100/100 [03:32<00:00,  2.13s/it, loss=2.08]"
     ]
    },
    {
     "name": "stdout",
     "output_type": "stream",
     "text": [
      "Epoch: 11, Loss: 2.07822208404541, Accuracy: 1.0, Time: 212.9418s\n"
     ]
    },
    {
     "name": "stderr",
     "output_type": "stream",
     "text": [
      "\n",
      "100%|██████████| 100/100 [03:10<00:00,  1.91s/it]"
     ]
    },
    {
     "name": "stdout",
     "output_type": "stream",
     "text": [
      "Loss: 2.328690323829651, Accuracy: 0.832, Time: 191.0218s\n",
      "best validation accuracy yet:  0.8389166666666666\n",
      "Epoch 12\n"
     ]
    },
    {
     "name": "stderr",
     "output_type": "stream",
     "text": [
      "\n",
      "100%|██████████| 100/100 [03:40<00:00,  2.20s/it, loss=2.08]"
     ]
    },
    {
     "name": "stdout",
     "output_type": "stream",
     "text": [
      "Epoch: 12, Loss: 2.0782128763198853, Accuracy: 1.0, Time: 220.4681s\n"
     ]
    },
    {
     "name": "stderr",
     "output_type": "stream",
     "text": [
      "\n",
      "100%|██████████| 100/100 [03:01<00:00,  1.82s/it]"
     ]
    },
    {
     "name": "stdout",
     "output_type": "stream",
     "text": [
      "Loss: 2.3148360538482664, Accuracy: 0.8356666666666667, Time: 181.8426s\n",
      "best validation accuracy yet:  0.8389166666666666\n",
      "Epoch 13\n"
     ]
    },
    {
     "name": "stderr",
     "output_type": "stream",
     "text": [
      "\n",
      "100%|██████████| 100/100 [03:41<00:00,  2.21s/it, loss=2.08]"
     ]
    },
    {
     "name": "stdout",
     "output_type": "stream",
     "text": [
      "Epoch: 13, Loss: 2.0782058382034303, Accuracy: 1.0, Time: 221.2066s\n"
     ]
    },
    {
     "name": "stderr",
     "output_type": "stream",
     "text": [
      "\n",
      "100%|██████████| 100/100 [03:14<00:00,  1.95s/it]"
     ]
    },
    {
     "name": "stdout",
     "output_type": "stream",
     "text": [
      "Loss: 2.3086083793640135, Accuracy: 0.826, Time: 194.8743s\n",
      "best validation accuracy yet:  0.8389166666666666\n",
      "Epoch 14\n"
     ]
    },
    {
     "name": "stderr",
     "output_type": "stream",
     "text": [
      "\n",
      "100%|██████████| 100/100 [03:19<00:00,  1.99s/it, loss=2.08]"
     ]
    },
    {
     "name": "stdout",
     "output_type": "stream",
     "text": [
      "Epoch: 14, Loss: 2.078197157382965, Accuracy: 1.0, Time: 199.1393s\n"
     ]
    },
    {
     "name": "stderr",
     "output_type": "stream",
     "text": [
      "\n",
      "100%|██████████| 100/100 [03:06<00:00,  1.86s/it]"
     ]
    },
    {
     "name": "stdout",
     "output_type": "stream",
     "text": [
      "Loss: 2.3497163677215576, Accuracy: 0.82575, Time: 186.3526s\n",
      "best validation accuracy yet:  0.8389166666666666\n",
      "Epoch 15\n"
     ]
    },
    {
     "name": "stderr",
     "output_type": "stream",
     "text": [
      "\n",
      "100%|██████████| 100/100 [03:34<00:00,  2.15s/it, loss=2.08]"
     ]
    },
    {
     "name": "stdout",
     "output_type": "stream",
     "text": [
      "Epoch: 15, Loss: 2.078193905353546, Accuracy: 1.0, Time: 214.7731s\n"
     ]
    },
    {
     "name": "stderr",
     "output_type": "stream",
     "text": [
      "\n",
      "100%|██████████| 100/100 [03:11<00:00,  1.91s/it]"
     ]
    },
    {
     "name": "stdout",
     "output_type": "stream",
     "text": [
      "Loss: 2.350030858516693, Accuracy: 0.8346666666666667, Time: 191.0763s\n",
      "best validation accuracy yet:  0.8389166666666666\n",
      "Epoch 16\n"
     ]
    },
    {
     "name": "stderr",
     "output_type": "stream",
     "text": [
      "\n",
      "100%|██████████| 100/100 [03:48<00:00,  2.28s/it, loss=2.08]"
     ]
    },
    {
     "name": "stdout",
     "output_type": "stream",
     "text": [
      "Epoch: 16, Loss: 2.0781900453567506, Accuracy: 1.0, Time: 228.3268s\n"
     ]
    },
    {
     "name": "stderr",
     "output_type": "stream",
     "text": [
      "\n",
      "100%|██████████| 100/100 [03:07<00:00,  1.88s/it]"
     ]
    },
    {
     "name": "stdout",
     "output_type": "stream",
     "text": [
      "Loss: 2.3275567054748536, Accuracy: 0.8265833333333333, Time: 187.8529s\n",
      "best validation accuracy yet:  0.8389166666666666\n",
      "Epoch 17\n"
     ]
    },
    {
     "name": "stderr",
     "output_type": "stream",
     "text": [
      "\n",
      "100%|██████████| 100/100 [03:34<00:00,  2.14s/it, loss=2.08]"
     ]
    },
    {
     "name": "stdout",
     "output_type": "stream",
     "text": [
      "Epoch: 17, Loss: 2.0781851696968077, Accuracy: 1.0, Time: 214.1571s\n"
     ]
    },
    {
     "name": "stderr",
     "output_type": "stream",
     "text": [
      "\n",
      "100%|██████████| 100/100 [03:19<00:00,  1.99s/it]"
     ]
    },
    {
     "name": "stdout",
     "output_type": "stream",
     "text": [
      "Loss: 2.3145715379714966, Accuracy: 0.8335833333333333, Time: 199.3129s\n",
      "best validation accuracy yet:  0.8389166666666666\n",
      "Epoch 18\n"
     ]
    },
    {
     "name": "stderr",
     "output_type": "stream",
     "text": [
      "\n",
      "100%|██████████| 100/100 [03:38<00:00,  2.18s/it, loss=2.08]"
     ]
    },
    {
     "name": "stdout",
     "output_type": "stream",
     "text": [
      "Epoch: 18, Loss: 2.07818167924881, Accuracy: 1.0, Time: 218.3675s\n"
     ]
    },
    {
     "name": "stderr",
     "output_type": "stream",
     "text": [
      "\n",
      "100%|██████████| 100/100 [03:05<00:00,  1.86s/it]"
     ]
    },
    {
     "name": "stdout",
     "output_type": "stream",
     "text": [
      "Loss: 2.3317343258857726, Accuracy: 0.8265, Time: 185.8655s\n",
      "best validation accuracy yet:  0.8389166666666666\n",
      "Epoch 19\n"
     ]
    },
    {
     "name": "stderr",
     "output_type": "stream",
     "text": [
      "\n",
      "100%|██████████| 100/100 [03:35<00:00,  2.16s/it, loss=2.08]"
     ]
    },
    {
     "name": "stdout",
     "output_type": "stream",
     "text": [
      "Epoch: 19, Loss: 2.0781799387931823, Accuracy: 1.0, Time: 215.9341s\n"
     ]
    },
    {
     "name": "stderr",
     "output_type": "stream",
     "text": [
      "\n",
      "100%|██████████| 100/100 [03:04<00:00,  1.85s/it]"
     ]
    },
    {
     "name": "stdout",
     "output_type": "stream",
     "text": [
      "Loss: 2.323879933357239, Accuracy: 0.8325, Time: 184.9098s\n",
      "best validation accuracy yet:  0.8389166666666666\n"
     ]
    },
    {
     "name": "stderr",
     "output_type": "stream",
     "text": [
      "\n"
     ]
    }
   ],
   "source": [
    "best_state = model.state_dict()\n",
    "n_epochs=20\n",
    "best_validation_accuracy = 0.0\n",
    "train_loss_history = []\n",
    "train_acc_history = []\n",
    "val_loss_history = []\n",
    "val_acc_history = []\n",
    "    \n",
    "total_time = 0.0\n",
    "\n",
    "for epoch in range(n_epochs):\n",
    "    print(f\"Epoch {epoch}\")\n",
    "    average_loss, epoch_loss, epoch_accuracy = training_epoch()\n",
    "    train_loss_history.append(epoch_loss)\n",
    "    train_acc_history.append(epoch_accuracy)\n",
    "    val_loss, val_accuracy = evaluate(val_loader)\n",
    "    val_loss_history.append(val_loss)\n",
    "    val_acc_history.append(val_accuracy)\n",
    "\n",
    "    if val_accuracy > best_validation_accuracy:\n",
    "        best_validation_accuracy = val_accuracy\n",
    "        best_state = model.state_dict()\n",
    "    print(\"best validation accuracy yet: \", best_validation_accuracy)"
   ]
  },
  {
   "cell_type": "code",
   "execution_count": null,
   "metadata": {
    "colab": {
     "base_uri": "https://localhost:8080/"
    },
    "id": "gZZ3uhxzheii",
    "outputId": "0e99c2a1-1345-4b64-eb0f-42eeb41a77e3"
   },
   "outputs": [
    {
     "data": {
      "text/plain": [
       "<All keys matched successfully>"
      ]
     },
     "execution_count": 16,
     "metadata": {},
     "output_type": "execute_result"
    }
   ],
   "source": [
    "model.load_state_dict(best_state)"
   ]
  },
  {
   "cell_type": "code",
   "execution_count": null,
   "metadata": {
    "colab": {
     "base_uri": "https://localhost:8080/"
    },
    "id": "HAaNpj9AhiC4",
    "outputId": "1ed83e9f-5a73-4042-c37f-8bd1a44277c0"
   },
   "outputs": [
    {
     "name": "stderr",
     "output_type": "stream",
     "text": [
      "100%|██████████| 1000/1000 [30:58<00:00,  1.86s/it]"
     ]
    },
    {
     "name": "stdout",
     "output_type": "stream",
     "text": [
      "Loss: 2.315446810722351, Accuracy: 0.8373, Time: 1858.6942s\n",
      "Test loss:  2.315446810722351\n",
      "Test accuracy:  0.8373\n"
     ]
    },
    {
     "name": "stderr",
     "output_type": "stream",
     "text": [
      "\n"
     ]
    }
   ],
   "source": [
    "test_loss, test_accuracy = evaluate(test_loader)\n",
    "print(\"Test loss: \", test_loss)\n",
    "print(\"Test accuracy: \", test_accuracy)"
   ]
  },
  {
   "cell_type": "code",
   "execution_count": null,
   "metadata": {
    "id": "BRgYgnVChj9G"
   },
   "outputs": [],
   "source": [
    "import matplotlib.pyplot as plt\n",
    "def plot_curve(train_history, val_history, title='Model Accuracy', ylabel='Accuracy', legend_loc='upper left'):\n",
    "    \n",
    "    plt.plot(train_history)\n",
    "    plt.plot(val_history)\n",
    "    plt.title(title)\n",
    "    plt.ylabel(ylabel)\n",
    "    plt.xlabel('No. of epochs')\n",
    "    plt.legend(['train', 'validation'], loc=legend_loc)\n",
    "    \n",
    "    plt.show()"
   ]
  },
  {
   "cell_type": "code",
   "execution_count": null,
   "metadata": {
    "colab": {
     "base_uri": "https://localhost:8080/",
     "height": 295
    },
    "id": "atgvWxJOhmE-",
    "outputId": "649a2d3f-88d2-4144-fe7c-c256112cb64a"
   },
   "outputs": [
    {
     "data": {
      "image/png": "[encoded data removed]",
      "text/plain": [
       "<Figure size 432x288 with 1 Axes>"
      ]
     },
     "metadata": {
      "needs_background": "light"
     },
     "output_type": "display_data"
    }
   ],
   "source": [
    "plot_curve(train_loss_history, val_loss_history, title='Relation Network Loss over time', ylabel='Loss', legend_loc='upper right')"
   ]
  },
  {
   "cell_type": "code",
   "execution_count": null,
   "metadata": {
    "colab": {
     "base_uri": "https://localhost:8080/",
     "height": 295
    },
    "id": "QQ_hSlrQhqq6",
    "outputId": "efc89ac7-6cc2-4302-a88a-5a29896ae018"
   },
   "outputs": [
    {
     "data": {
      "image/png": "[encoded data removed]",
      "text/plain": [
       "<Figure size 432x288 with 1 Axes>"
      ]
     },
     "metadata": {
      "needs_background": "light"
     },
     "output_type": "display_data"
    }
   ],
   "source": [
    "plot_curve(train_acc_history, val_acc_history, title='Relation Network Accuracy over time', ylabel='Accuracy', legend_loc='upper right')"
   ]
  },
  {
   "cell_type": "code",
   "execution_count": null,
   "metadata": {
    "colab": {
     "base_uri": "https://localhost:8080/",
     "height": 676
    },
    "id": "-XSRaxmqhtd7",
    "outputId": "071dfdb4-e845-4238-fea1-54141c64d965"
   },
   "outputs": [
    {
     "data": {
      "text/html": [
       "\n",
       "  <div id=\"df-1ecd0b85-1ec3-4472-93cb-c3295854b2d0\">\n",
       "    <div class=\"colab-df-container\">\n",
       "      <div>\n",
       "<style scoped>\n",
       "    .dataframe tbody tr th:only-of-type {\n",
       "        vertical-align: middle;\n",
       "    }\n",
       "\n",
       "    .dataframe tbody tr th {\n",
       "        vertical-align: top;\n",
       "    }\n",
       "\n",
       "    .dataframe thead th {\n",
       "        text-align: right;\n",
       "    }\n",
       "</style>\n",
       "<table border=\"1\" class=\"dataframe\">\n",
       "  <thead>\n",
       "    <tr style=\"text-align: right;\">\n",
       "      <th></th>\n",
       "      <th>Train Accuracy</th>\n",
       "      <th>Val Accuracy</th>\n",
       "      <th>Train Loss</th>\n",
       "      <th>Val Loss</th>\n",
       "    </tr>\n",
       "  </thead>\n",
       "  <tbody>\n",
       "    <tr>\n",
       "      <th>0</th>\n",
       "      <td>0.796167</td>\n",
       "      <td>0.778167</td>\n",
       "      <td>2.376793</td>\n",
       "      <td>2.316419</td>\n",
       "    </tr>\n",
       "    <tr>\n",
       "      <th>1</th>\n",
       "      <td>0.996833</td>\n",
       "      <td>0.818500</td>\n",
       "      <td>2.094133</td>\n",
       "      <td>2.361317</td>\n",
       "    </tr>\n",
       "    <tr>\n",
       "      <th>2</th>\n",
       "      <td>1.000000</td>\n",
       "      <td>0.822833</td>\n",
       "      <td>2.080585</td>\n",
       "      <td>2.320836</td>\n",
       "    </tr>\n",
       "    <tr>\n",
       "      <th>3</th>\n",
       "      <td>1.000000</td>\n",
       "      <td>0.821250</td>\n",
       "      <td>2.079056</td>\n",
       "      <td>2.353242</td>\n",
       "    </tr>\n",
       "    <tr>\n",
       "      <th>4</th>\n",
       "      <td>1.000000</td>\n",
       "      <td>0.836750</td>\n",
       "      <td>2.078546</td>\n",
       "      <td>2.308776</td>\n",
       "    </tr>\n",
       "    <tr>\n",
       "      <th>5</th>\n",
       "      <td>1.000000</td>\n",
       "      <td>0.831750</td>\n",
       "      <td>2.078426</td>\n",
       "      <td>2.303915</td>\n",
       "    </tr>\n",
       "    <tr>\n",
       "      <th>6</th>\n",
       "      <td>1.000000</td>\n",
       "      <td>0.834583</td>\n",
       "      <td>2.078343</td>\n",
       "      <td>2.296500</td>\n",
       "    </tr>\n",
       "    <tr>\n",
       "      <th>7</th>\n",
       "      <td>1.000000</td>\n",
       "      <td>0.838917</td>\n",
       "      <td>2.078302</td>\n",
       "      <td>2.327765</td>\n",
       "    </tr>\n",
       "    <tr>\n",
       "      <th>8</th>\n",
       "      <td>1.000000</td>\n",
       "      <td>0.833417</td>\n",
       "      <td>2.078269</td>\n",
       "      <td>2.323551</td>\n",
       "    </tr>\n",
       "    <tr>\n",
       "      <th>9</th>\n",
       "      <td>1.000000</td>\n",
       "      <td>0.832167</td>\n",
       "      <td>2.078251</td>\n",
       "      <td>2.309730</td>\n",
       "    </tr>\n",
       "    <tr>\n",
       "      <th>10</th>\n",
       "      <td>1.000000</td>\n",
       "      <td>0.838000</td>\n",
       "      <td>2.078235</td>\n",
       "      <td>2.333733</td>\n",
       "    </tr>\n",
       "    <tr>\n",
       "      <th>11</th>\n",
       "      <td>1.000000</td>\n",
       "      <td>0.832000</td>\n",
       "      <td>2.078222</td>\n",
       "      <td>2.328690</td>\n",
       "    </tr>\n",
       "    <tr>\n",
       "      <th>12</th>\n",
       "      <td>1.000000</td>\n",
       "      <td>0.835667</td>\n",
       "      <td>2.078213</td>\n",
       "      <td>2.314836</td>\n",
       "    </tr>\n",
       "    <tr>\n",
       "      <th>13</th>\n",
       "      <td>1.000000</td>\n",
       "      <td>0.826000</td>\n",
       "      <td>2.078206</td>\n",
       "      <td>2.308608</td>\n",
       "    </tr>\n",
       "    <tr>\n",
       "      <th>14</th>\n",
       "      <td>1.000000</td>\n",
       "      <td>0.825750</td>\n",
       "      <td>2.078197</td>\n",
       "      <td>2.349716</td>\n",
       "    </tr>\n",
       "    <tr>\n",
       "      <th>15</th>\n",
       "      <td>1.000000</td>\n",
       "      <td>0.834667</td>\n",
       "      <td>2.078194</td>\n",
       "      <td>2.350031</td>\n",
       "    </tr>\n",
       "    <tr>\n",
       "      <th>16</th>\n",
       "      <td>1.000000</td>\n",
       "      <td>0.826583</td>\n",
       "      <td>2.078190</td>\n",
       "      <td>2.327557</td>\n",
       "    </tr>\n",
       "    <tr>\n",
       "      <th>17</th>\n",
       "      <td>1.000000</td>\n",
       "      <td>0.833583</td>\n",
       "      <td>2.078185</td>\n",
       "      <td>2.314572</td>\n",
       "    </tr>\n",
       "    <tr>\n",
       "      <th>18</th>\n",
       "      <td>1.000000</td>\n",
       "      <td>0.826500</td>\n",
       "      <td>2.078182</td>\n",
       "      <td>2.331734</td>\n",
       "    </tr>\n",
       "    <tr>\n",
       "      <th>19</th>\n",
       "      <td>1.000000</td>\n",
       "      <td>0.832500</td>\n",
       "      <td>2.078180</td>\n",
       "      <td>2.323880</td>\n",
       "    </tr>\n",
       "  </tbody>\n",
       "</table>\n",
       "</div>\n",
       "      <button class=\"colab-df-convert\" onclick=\"convertToInteractive('df-1ecd0b85-1ec3-4472-93cb-c3295854b2d0')\"\n",
       "              title=\"Convert this dataframe to an interactive table.\"\n",
       "              style=\"display:none;\">\n",
       "        \n",
       "  <svg xmlns=\"http://www.w3.org/2000/svg\" height=\"24px\"viewBox=\"0 0 24 24\"\n",
       "       width=\"24px\">\n",
       "    <path d=\"M0 0h24v24H0V0z\" fill=\"none\"/>\n",
       "    <path d=\"M18.56 5.44l.94 2.06.94-2.06 2.06-.94-2.06-.94-.94-2.06-.94 2.06-2.06.94zm-11 1L8.5 8.5l.94-2.06 2.06-.94-2.06-.94L8.5 2.5l-.94 2.06-2.06.94zm10 10l.94 2.06.94-2.06 2.06-.94-2.06-.94-.94-2.06-.94 2.06-2.06.94z\"/><path d=\"M17.41 7.96l-1.37-1.37c-.4-.4-.92-.59-1.43-.59-.52 0-1.04.2-1.43.59L10.3 9.45l-7.72 7.72c-.78.78-.78 2.05 0 2.83L4 21.41c.39.39.9.59 1.41.59.51 0 1.02-.2 1.41-.59l7.78-7.78 2.81-2.81c.8-.78.8-2.07 0-2.86zM5.41 20L4 18.59l7.72-7.72 1.47 1.35L5.41 20z\"/>\n",
       "  </svg>\n",
       "      </button>\n",
       "      \n",
       "  <style>\n",
       "    .colab-df-container {\n",
       "      display:flex;\n",
       "      flex-wrap:wrap;\n",
       "      gap: 12px;\n",
       "    }\n",
       "\n",
       "    .colab-df-convert {\n",
       "      background-color: #E8F0FE;\n",
       "      border: none;\n",
       "      border-radius: 50%;\n",
       "      cursor: pointer;\n",
       "      display: none;\n",
       "      fill: #1967D2;\n",
       "      height: 32px;\n",
       "      padding: 0 0 0 0;\n",
       "      width: 32px;\n",
       "    }\n",
       "\n",
       "    .colab-df-convert:hover {\n",
       "      background-color: #E2EBFA;\n",
       "      box-shadow: 0px 1px 2px rgba(60, 64, 67, 0.3), 0px 1px 3px 1px rgba(60, 64, 67, 0.15);\n",
       "      fill: #174EA6;\n",
       "    }\n",
       "\n",
       "    [theme=dark] .colab-df-convert {\n",
       "      background-color: #3B4455;\n",
       "      fill: #D2E3FC;\n",
       "    }\n",
       "\n",
       "    [theme=dark] .colab-df-convert:hover {\n",
       "      background-color: #434B5C;\n",
       "      box-shadow: 0px 1px 3px 1px rgba(0, 0, 0, 0.15);\n",
       "      filter: drop-shadow(0px 1px 2px rgba(0, 0, 0, 0.3));\n",
       "      fill: #FFFFFF;\n",
       "    }\n",
       "  </style>\n",
       "\n",
       "      <script>\n",
       "        const buttonEl =\n",
       "          document.querySelector('#df-1ecd0b85-1ec3-4472-93cb-c3295854b2d0 button.colab-df-convert');\n",
       "        buttonEl.style.display =\n",
       "          google.colab.kernel.accessAllowed ? 'block' : 'none';\n",
       "\n",
       "        async function convertToInteractive(key) {\n",
       "          const element = document.querySelector('#df-1ecd0b85-1ec3-4472-93cb-c3295854b2d0');\n",
       "          const dataTable =\n",
       "            await google.colab.kernel.invokeFunction('convertToInteractive',\n",
       "                                                     [key], {});\n",
       "          if (!dataTable) return;\n",
       "\n",
       "          const docLinkHtml = 'Like what you see? Visit the ' +\n",
       "            '<a target=\"_blank\" href=https://colab.research.google.com/notebooks/data_table.ipynb>data table notebook</a>'\n",
       "            + ' to learn more about interactive tables.';\n",
       "          element.innerHTML = '';\n",
       "          dataTable['output_type'] = 'display_data';\n",
       "          await google.colab.output.renderOutput(dataTable, element);\n",
       "          const docLink = document.createElement('div');\n",
       "          docLink.innerHTML = docLinkHtml;\n",
       "          element.appendChild(docLink);\n",
       "        }\n",
       "      </script>\n",
       "    </div>\n",
       "  </div>\n",
       "  "
      ],
      "text/plain": [
       "    Train Accuracy  Val Accuracy  Train Loss  Val Loss\n",
       "0         0.796167      0.778167    2.376793  2.316419\n",
       "1         0.996833      0.818500    2.094133  2.361317\n",
       "2         1.000000      0.822833    2.080585  2.320836\n",
       "3         1.000000      0.821250    2.079056  2.353242\n",
       "4         1.000000      0.836750    2.078546  2.308776\n",
       "5         1.000000      0.831750    2.078426  2.303915\n",
       "6         1.000000      0.834583    2.078343  2.296500\n",
       "7         1.000000      0.838917    2.078302  2.327765\n",
       "8         1.000000      0.833417    2.078269  2.323551\n",
       "9         1.000000      0.832167    2.078251  2.309730\n",
       "10        1.000000      0.838000    2.078235  2.333733\n",
       "11        1.000000      0.832000    2.078222  2.328690\n",
       "12        1.000000      0.835667    2.078213  2.314836\n",
       "13        1.000000      0.826000    2.078206  2.308608\n",
       "14        1.000000      0.825750    2.078197  2.349716\n",
       "15        1.000000      0.834667    2.078194  2.350031\n",
       "16        1.000000      0.826583    2.078190  2.327557\n",
       "17        1.000000      0.833583    2.078185  2.314572\n",
       "18        1.000000      0.826500    2.078182  2.331734\n",
       "19        1.000000      0.832500    2.078180  2.323880"
      ]
     },
     "execution_count": 21,
     "metadata": {},
     "output_type": "execute_result"
    }
   ],
   "source": [
    "df = pd.DataFrame(list(zip(train_acc_history, val_acc_history, train_loss_history, val_loss_history)),\n",
    "               columns =['Train Accuracy', 'Val Accuracy', 'Train Loss', 'Val Loss'])\n",
    "df "
   ]
  },
  {
   "cell_type": "code",
   "execution_count": null,
   "metadata": {
    "id": "LfJImubihwOv"
   },
   "outputs": [],
   "source": [
    "df.to_csv('drive/MyDrive/Flower_Recognition/experiment_name.csv')"
   ]
  },
  {
   "cell_type": "code",
   "execution_count": null,
   "metadata": {
    "id": "z1SuoZVhh9Bs"
   },
   "outputs": [],
   "source": []
  }
 ],
 "metadata": {
  "accelerator": "GPU",
  "colab": {
   "collapsed_sections": [],
   "provenance": []
  },
  "gpuClass": "standard",
  "kernelspec": {
   "display_name": "Python 3",
   "language": "python",
   "name": "python3"
  },
  "language_info": {
   "codemirror_mode": {
    "name": "ipython",
    "version": 3
   },
   "file_extension": ".py",
   "mimetype": "text/x-python",
   "name": "python",
   "nbconvert_exporter": "python",
   "pygments_lexer": "ipython3",
   "version": "3.7.4"
  },
  "widgets": {
   "application/vnd.jupyter.widget-state+json": {
    "3c4edc484eda40bc929c9df0a1610f99": {
     "model_module": "@jupyter-widgets/controls",
     "model_module_version": "1.5.0",
     "model_name": "HBoxModel",
     "state": {
      "_dom_classes": [],
      "_model_module": "@jupyter-widgets/controls",
      "_model_module_version": "1.5.0",
      "_model_name": "HBoxModel",
      "_view_count": null,
      "_view_module": "@jupyter-widgets/controls",
      "_view_module_version": "1.5.0",
      "_view_name": "HBoxView",
      "box_style": "",
      "children": [
       "IPY_MODEL_cb59077fdee344cda0ca2fd8fb35eacb",
       "IPY_MODEL_55b4fa794f18409596efe1925882b622",
       "IPY_MODEL_8c69bc8b0a16426b845c1555f168832b"
      ],
      "layout": "IPY_MODEL_eebf20ae53a14c86906d109da6590440"
     }
    },
    "55b4fa794f18409596efe1925882b622": {
     "model_module": "@jupyter-widgets/controls",
     "model_module_version": "1.5.0",
     "model_name": "FloatProgressModel",
     "state": {
      "_dom_classes": [],
      "_model_module": "@jupyter-widgets/controls",
      "_model_module_version": "1.5.0",
      "_model_name": "FloatProgressModel",
      "_view_count": null,
      "_view_module": "@jupyter-widgets/controls",
      "_view_module_version": "1.5.0",
      "_view_name": "ProgressView",
      "bar_style": "success",
      "description": "",
      "description_tooltip": null,
      "layout": "IPY_MODEL_820fb9d584a74076ad590ce98c6e191d",
      "max": 46830571,
      "min": 0,
      "orientation": "horizontal",
      "style": "IPY_MODEL_dd074db856e24ba296be2109634a9dfa",
      "value": 46830571
     }
    },
    "766892fde5d14314a56dc30086dc9a0b": {
     "model_module": "@jupyter-widgets/base",
     "model_module_version": "1.2.0",
     "model_name": "LayoutModel",
     "state": {
      "_model_module": "@jupyter-widgets/base",
      "_model_module_version": "1.2.0",
      "_model_name": "LayoutModel",
      "_view_count": null,
      "_view_module": "@jupyter-widgets/base",
      "_view_module_version": "1.2.0",
      "_view_name": "LayoutView",
      "align_content": null,
      "align_items": null,
      "align_self": null,
      "border": null,
      "bottom": null,
      "display": null,
      "flex": null,
      "flex_flow": null,
      "grid_area": null,
      "grid_auto_columns": null,
      "grid_auto_flow": null,
      "grid_auto_rows": null,
      "grid_column": null,
      "grid_gap": null,
      "grid_row": null,
      "grid_template_areas": null,
      "grid_template_columns": null,
      "grid_template_rows": null,
      "height": null,
      "justify_content": null,
      "justify_items": null,
      "left": null,
      "margin": null,
      "max_height": null,
      "max_width": null,
      "min_height": null,
      "min_width": null,
      "object_fit": null,
      "object_position": null,
      "order": null,
      "overflow": null,
      "overflow_x": null,
      "overflow_y": null,
      "padding": null,
      "right": null,
      "top": null,
      "visibility": null,
      "width": null
     }
    },
    "820fb9d584a74076ad590ce98c6e191d": {
     "model_module": "@jupyter-widgets/base",
     "model_module_version": "1.2.0",
     "model_name": "LayoutModel",
     "state": {
      "_model_module": "@jupyter-widgets/base",
      "_model_module_version": "1.2.0",
      "_model_name": "LayoutModel",
      "_view_count": null,
      "_view_module": "@jupyter-widgets/base",
      "_view_module_version": "1.2.0",
      "_view_name": "LayoutView",
      "align_content": null,
      "align_items": null,
      "align_self": null,
      "border": null,
      "bottom": null,
      "display": null,
      "flex": null,
      "flex_flow": null,
      "grid_area": null,
      "grid_auto_columns": null,
      "grid_auto_flow": null,
      "grid_auto_rows": null,
      "grid_column": null,
      "grid_gap": null,
      "grid_row": null,
      "grid_template_areas": null,
      "grid_template_columns": null,
      "grid_template_rows": null,
      "height": null,
      "justify_content": null,
      "justify_items": null,
      "left": null,
      "margin": null,
      "max_height": null,
      "max_width": null,
      "min_height": null,
      "min_width": null,
      "object_fit": null,
      "object_position": null,
      "order": null,
      "overflow": null,
      "overflow_x": null,
      "overflow_y": null,
      "padding": null,
      "right": null,
      "top": null,
      "visibility": null,
      "width": null
     }
    },
    "8c69bc8b0a16426b845c1555f168832b": {
     "model_module": "@jupyter-widgets/controls",
     "model_module_version": "1.5.0",
     "model_name": "HTMLModel",
     "state": {
      "_dom_classes": [],
      "_model_module": "@jupyter-widgets/controls",
      "_model_module_version": "1.5.0",
      "_model_name": "HTMLModel",
      "_view_count": null,
      "_view_module": "@jupyter-widgets/controls",
      "_view_module_version": "1.5.0",
      "_view_name": "HTMLView",
      "description": "",
      "description_tooltip": null,
      "layout": "IPY_MODEL_766892fde5d14314a56dc30086dc9a0b",
      "placeholder": "​",
      "style": "IPY_MODEL_cf516d8fff274e60882ada3115287b87",
      "value": " 44.7M/44.7M [00:00&lt;00:00, 88.5MB/s]"
     }
    },
    "a219f390833b4dee8df5a695c2b5e672": {
     "model_module": "@jupyter-widgets/controls",
     "model_module_version": "1.5.0",
     "model_name": "DescriptionStyleModel",
     "state": {
      "_model_module": "@jupyter-widgets/controls",
      "_model_module_version": "1.5.0",
      "_model_name": "DescriptionStyleModel",
      "_view_count": null,
      "_view_module": "@jupyter-widgets/base",
      "_view_module_version": "1.2.0",
      "_view_name": "StyleView",
      "description_width": ""
     }
    },
    "cb59077fdee344cda0ca2fd8fb35eacb": {
     "model_module": "@jupyter-widgets/controls",
     "model_module_version": "1.5.0",
     "model_name": "HTMLModel",
     "state": {
      "_dom_classes": [],
      "_model_module": "@jupyter-widgets/controls",
      "_model_module_version": "1.5.0",
      "_model_name": "HTMLModel",
      "_view_count": null,
      "_view_module": "@jupyter-widgets/controls",
      "_view_module_version": "1.5.0",
      "_view_name": "HTMLView",
      "description": "",
      "description_tooltip": null,
      "layout": "IPY_MODEL_f8d90c8bc5a74a96a220c0d40cde1f05",
      "placeholder": "​",
      "style": "IPY_MODEL_a219f390833b4dee8df5a695c2b5e672",
      "value": "100%"
     }
    },
    "cf516d8fff274e60882ada3115287b87": {
     "model_module": "@jupyter-widgets/controls",
     "model_module_version": "1.5.0",
     "model_name": "DescriptionStyleModel",
     "state": {
      "_model_module": "@jupyter-widgets/controls",
      "_model_module_version": "1.5.0",
      "_model_name": "DescriptionStyleModel",
      "_view_count": null,
      "_view_module": "@jupyter-widgets/base",
      "_view_module_version": "1.2.0",
      "_view_name": "StyleView",
      "description_width": ""
     }
    },
    "dd074db856e24ba296be2109634a9dfa": {
     "model_module": "@jupyter-widgets/controls",
     "model_module_version": "1.5.0",
     "model_name": "ProgressStyleModel",
     "state": {
      "_model_module": "@jupyter-widgets/controls",
      "_model_module_version": "1.5.0",
      "_model_name": "ProgressStyleModel",
      "_view_count": null,
      "_view_module": "@jupyter-widgets/base",
      "_view_module_version": "1.2.0",
      "_view_name": "StyleView",
      "bar_color": null,
      "description_width": ""
     }
    },
    "eebf20ae53a14c86906d109da6590440": {
     "model_module": "@jupyter-widgets/base",
     "model_module_version": "1.2.0",
     "model_name": "LayoutModel",
     "state": {
      "_model_module": "@jupyter-widgets/base",
      "_model_module_version": "1.2.0",
      "_model_name": "LayoutModel",
      "_view_count": null,
      "_view_module": "@jupyter-widgets/base",
      "_view_module_version": "1.2.0",
      "_view_name": "LayoutView",
      "align_content": null,
      "align_items": null,
      "align_self": null,
      "border": null,
      "bottom": null,
      "display": null,
      "flex": null,
      "flex_flow": null,
      "grid_area": null,
      "grid_auto_columns": null,
      "grid_auto_flow": null,
      "grid_auto_rows": null,
      "grid_column": null,
      "grid_gap": null,
      "grid_row": null,
      "grid_template_areas": null,
      "grid_template_columns": null,
      "grid_template_rows": null,
      "height": null,
      "justify_content": null,
      "justify_items": null,
      "left": null,
      "margin": null,
      "max_height": null,
      "max_width": null,
      "min_height": null,
      "min_width": null,
      "object_fit": null,
      "object_position": null,
      "order": null,
      "overflow": null,
      "overflow_x": null,
      "overflow_y": null,
      "padding": null,
      "right": null,
      "top": null,
      "visibility": null,
      "width": null
     }
    },
    "f8d90c8bc5a74a96a220c0d40cde1f05": {
     "model_module": "@jupyter-widgets/base",
     "model_module_version": "1.2.0",
     "model_name": "LayoutModel",
     "state": {
      "_model_module": "@jupyter-widgets/base",
      "_model_module_version": "1.2.0",
      "_model_name": "LayoutModel",
      "_view_count": null,
      "_view_module": "@jupyter-widgets/base",
      "_view_module_version": "1.2.0",
      "_view_name": "LayoutView",
      "align_content": null,
      "align_items": null,
      "align_self": null,
      "border": null,
      "bottom": null,
      "display": null,
      "flex": null,
      "flex_flow": null,
      "grid_area": null,
      "grid_auto_columns": null,
      "grid_auto_flow": null,
      "grid_auto_rows": null,
      "grid_column": null,
      "grid_gap": null,
      "grid_row": null,
      "grid_template_areas": null,
      "grid_template_columns": null,
      "grid_template_rows": null,
      "height": null,
      "justify_content": null,
      "justify_items": null,
      "left": null,
      "margin": null,
      "max_height": null,
      "max_width": null,
      "min_height": null,
      "min_width": null,
      "object_fit": null,
      "object_position": null,
      "order": null,
      "overflow": null,
      "overflow_x": null,
      "overflow_y": null,
      "padding": null,
      "right": null,
      "top": null,
      "visibility": null,
      "width": null
     }
    }
   }
  }
 },
 "nbformat": 4,
 "nbformat_minor": 1
}
