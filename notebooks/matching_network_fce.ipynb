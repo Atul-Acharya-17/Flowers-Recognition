{
 "cells": [
  {
   "cell_type": "code",
   "execution_count": 1,
   "id": "315a3c5a",
   "metadata": {
    "execution": {
     "iopub.execute_input": "2022-11-07T04:04:56.388095Z",
     "iopub.status.busy": "2022-11-07T04:04:56.387348Z",
     "iopub.status.idle": "2022-11-07T04:04:58.039566Z",
     "shell.execute_reply": "2022-11-07T04:04:58.038649Z"
    },
    "papermill": {
     "duration": 1.661874,
     "end_time": "2022-11-07T04:04:58.042011",
     "exception": false,
     "start_time": "2022-11-07T04:04:56.380137",
     "status": "completed"
    },
    "tags": []
   },
   "outputs": [],
   "source": [
    "import random\n",
    "import time\n",
    "import tqdm\n",
    "import matplotlib.pyplot as plt\n",
    "import torch\n",
    "import torchvision\n",
    "import torchvision.transforms as transforms\n",
    "import torch.optim as optim\n",
    "from torch.utils.data import Sampler\n",
    "import torchvision.datasets as datasets"
   ]
  },
  {
   "cell_type": "code",
   "execution_count": 2,
   "id": "210d04a3",
   "metadata": {
    "execution": {
     "iopub.execute_input": "2022-11-07T04:04:58.057355Z",
     "iopub.status.busy": "2022-11-07T04:04:58.056930Z",
     "iopub.status.idle": "2022-11-07T04:04:58.061350Z",
     "shell.execute_reply": "2022-11-07T04:04:58.060329Z"
    },
    "papermill": {
     "duration": 0.012865,
     "end_time": "2022-11-07T04:04:58.063274",
     "exception": false,
     "start_time": "2022-11-07T04:04:58.050409",
     "status": "completed"
    },
    "tags": []
   },
   "outputs": [],
   "source": [
    "data_directory = './'"
   ]
  },
  {
   "cell_type": "code",
   "execution_count": 3,
   "id": "847ce23b",
   "metadata": {
    "execution": {
     "iopub.execute_input": "2022-11-07T04:04:58.074144Z",
     "iopub.status.busy": "2022-11-07T04:04:58.073304Z",
     "iopub.status.idle": "2022-11-07T04:05:46.630141Z",
     "shell.execute_reply": "2022-11-07T04:05:46.628982Z"
    },
    "papermill": {
     "duration": 48.564962,
     "end_time": "2022-11-07T04:05:46.632857",
     "exception": false,
     "start_time": "2022-11-07T04:04:58.067895",
     "status": "completed"
    },
    "tags": []
   },
   "outputs": [
    {
     "name": "stdout",
     "output_type": "stream",
     "text": [
      "Downloading https://www.robots.ox.ac.uk/~vgg/data/flowers/102/102flowers.tgz to flowers-102/102flowers.tgz\n"
     ]
    },
    {
     "data": {
      "application/vnd.jupyter.widget-view+json": {
       "model_id": "90a7056e3c294ba09840a9208da25d1d",
       "version_major": 2,
       "version_minor": 0
      },
      "text/plain": [
       "  0%|          | 0/344862509 [00:00<?, ?it/s]"
      ]
     },
     "metadata": {},
     "output_type": "display_data"
    },
    {
     "name": "stdout",
     "output_type": "stream",
     "text": [
      "Extracting flowers-102/102flowers.tgz to flowers-102\n",
      "Downloading https://www.robots.ox.ac.uk/~vgg/data/flowers/102/imagelabels.mat to flowers-102/imagelabels.mat\n"
     ]
    },
    {
     "data": {
      "application/vnd.jupyter.widget-view+json": {
       "model_id": "55d437c63d2048f6bb6d4431f525cbe7",
       "version_major": 2,
       "version_minor": 0
      },
      "text/plain": [
       "  0%|          | 0/502 [00:00<?, ?it/s]"
      ]
     },
     "metadata": {},
     "output_type": "display_data"
    },
    {
     "name": "stdout",
     "output_type": "stream",
     "text": [
      "Downloading https://www.robots.ox.ac.uk/~vgg/data/flowers/102/setid.mat to flowers-102/setid.mat\n"
     ]
    },
    {
     "data": {
      "application/vnd.jupyter.widget-view+json": {
       "model_id": "0920176ef91d4c1c94000029e632de13",
       "version_major": 2,
       "version_minor": 0
      },
      "text/plain": [
       "  0%|          | 0/14989 [00:00<?, ?it/s]"
      ]
     },
     "metadata": {},
     "output_type": "display_data"
    },
    {
     "data": {
      "text/plain": [
       "Dataset Flowers102\n",
       "    Number of datapoints: 1020\n",
       "    Root location: ./\n",
       "    split=train"
      ]
     },
     "execution_count": 3,
     "metadata": {},
     "output_type": "execute_result"
    }
   ],
   "source": [
    "torchvision.datasets.Flowers102(root=f'{data_directory}', download=True)"
   ]
  },
  {
   "cell_type": "code",
   "execution_count": 4,
   "id": "2651c7a2",
   "metadata": {
    "execution": {
     "iopub.execute_input": "2022-11-07T04:05:46.645679Z",
     "iopub.status.busy": "2022-11-07T04:05:46.645076Z",
     "iopub.status.idle": "2022-11-07T04:05:46.657333Z",
     "shell.execute_reply": "2022-11-07T04:05:46.656454Z"
    },
    "papermill": {
     "duration": 0.020639,
     "end_time": "2022-11-07T04:05:46.659264",
     "exception": false,
     "start_time": "2022-11-07T04:05:46.638625",
     "status": "completed"
    },
    "tags": []
   },
   "outputs": [],
   "source": [
    "class TaskSampler(Sampler):\n",
    "    \n",
    "    def __init__(self, dataset, n_way, k_shot, n_query, n_tasks):\n",
    "        super().__init__(data_source=None)\n",
    "        self.n_way = n_way\n",
    "        self.k_shot = k_shot\n",
    "        self.n_tasks = n_tasks\n",
    "        self.n_query = n_query\n",
    "        \n",
    "        self.items_per_label = {}\n",
    "        \n",
    "        for item, label in enumerate(dataset.get_labels()):\n",
    "            if label in self.items_per_label.keys():\n",
    "                self.items_per_label[label].append(item)\n",
    "            else:\n",
    "                self.items_per_label[label] = [item]\n",
    "                \n",
    "    def __len__(self):\n",
    "        return self.n_tasks\n",
    "    \n",
    "    def __iter__(self):\n",
    "        for task in range(self.n_tasks):\n",
    "            yield torch.cat(\n",
    "                [\n",
    "                    torch.Tensor(random.sample(self.items_per_label[label], self.k_shot + self.n_query)).type(torch.int)\n",
    "                    \n",
    "                    for label in random.sample(self.items_per_label.keys(), self.n_way)\n",
    "                ]\n",
    "            ).tolist()\n",
    "            \n",
    "    def collate_fn(self, input_data):\n",
    "        true_class_ids = list({x[1] for x in input_data})\n",
    "\n",
    "        all_images = torch.cat([x[0].unsqueeze(0) for x in input_data])\n",
    "        all_images = all_images.reshape(\n",
    "            (self.n_way, self.k_shot + self.n_query, *all_images.shape[1:])\n",
    "        )\n",
    "\n",
    "        all_labels = torch.tensor(\n",
    "            [true_class_ids.index(x[1]) for x in input_data]\n",
    "        ).reshape((self.n_way, self.k_shot + self.n_query))\n",
    "\n",
    "        support_images = all_images[:, : self.k_shot].reshape(\n",
    "            (-1, *all_images.shape[2:])\n",
    "        )\n",
    "        query_images = all_images[:, self.k_shot :].reshape((-1, *all_images.shape[2:]))\n",
    "        support_labels = all_labels[:, : self.k_shot].flatten()\n",
    "        query_labels = all_labels[:, self.k_shot :].flatten()\n",
    "\n",
    "        return support_images, support_labels, query_images, query_labels, true_class_ids"
   ]
  },
  {
   "cell_type": "code",
   "execution_count": 5,
   "id": "8e3bccd1",
   "metadata": {
    "execution": {
     "iopub.execute_input": "2022-11-07T04:05:46.672492Z",
     "iopub.status.busy": "2022-11-07T04:05:46.671074Z",
     "iopub.status.idle": "2022-11-07T04:05:46.686319Z",
     "shell.execute_reply": "2022-11-07T04:05:46.685471Z"
    },
    "papermill": {
     "duration": 0.023731,
     "end_time": "2022-11-07T04:05:46.688388",
     "exception": false,
     "start_time": "2022-11-07T04:05:46.664657",
     "status": "completed"
    },
    "tags": []
   },
   "outputs": [],
   "source": [
    "class MatchingNetwork(torch.nn.Module):\n",
    "    \n",
    "    def __init__(self, backbone=None, image_size=224, use_full_contextual_embedding=True) -> None:\n",
    "        super().__init__()\n",
    "        \n",
    "        self.use_full_contextual_embedding = use_full_contextual_embedding\n",
    "        \n",
    "        self.backbone = backbone\n",
    "        \n",
    "        if self.backbone is None:\n",
    "            self.backbone = self.get_backbone()\n",
    "        \n",
    "        self.feature_size = self.get_output_shape(self.backbone, image_size)[0]\n",
    "        \n",
    "        self.support_encoder = torch.nn.LSTM(\n",
    "            input_size=self.feature_size,\n",
    "            hidden_size=self.feature_size,\n",
    "            num_layers=1,\n",
    "            batch_first=True,\n",
    "            bidirectional=True,\n",
    "        )\n",
    "        \n",
    "        self.query_encoder = torch.nn.LSTMCell(self.feature_size * 2, self.feature_size)\n",
    "        \n",
    "        self.contextualized_support_features = None\n",
    "        self.one_hot_support_labels = None\n",
    "        \n",
    "        self.softmax = torch.nn.Softmax(dim=1)\n",
    "        \n",
    "    def get_backbone(self):\n",
    "        backbone = torchvision.models.resnet18(pretrained=True)\n",
    "        backbone.fc = torch.nn.Flatten()\n",
    "        return backbone\n",
    "                \n",
    "    def encode_support_set(self, support_images, support_labels):\n",
    "\n",
    "        support_features = self.backbone(support_images)\n",
    "        \n",
    "        if self.use_full_contextual_embedding:\n",
    "            hidden_state = self.support_encoder(support_features.unsqueeze(0))[0].squeeze(0)\n",
    "            self.contextualized_support_features = support_features + hidden_state[:, : self.feature_size] + hidden_state[:, self.feature_size :]\n",
    "            \n",
    "        else:\n",
    "            self.contextualized_support_features = support_features\n",
    "\n",
    "        self.one_hot_support_labels = torch.nn.functional.one_hot(support_labels).float()\n",
    "\n",
    "    def encode_query_features(self, query_set):\n",
    "        \n",
    "        query_features = self.backbone(query_set)\n",
    "\n",
    "        if not self.use_full_contextual_embedding:\n",
    "            return query_features\n",
    "        \n",
    "        hidden_state = query_features\n",
    "        cell_state = torch.zeros_like(query_features)\n",
    "\n",
    "        for _ in range(len(self.contextualized_support_features)):\n",
    "            attention = self.softmax(\n",
    "                hidden_state.mm(self.contextualized_support_features.T)\n",
    "            )\n",
    "            read_out = attention.mm(self.contextualized_support_features)\n",
    "            lstm_input = torch.cat((query_features, read_out), 1)\n",
    "\n",
    "            hidden_state, cell_state = self.query_encoder(\n",
    "                lstm_input, (hidden_state, cell_state)\n",
    "            )\n",
    "            hidden_state = hidden_state + query_features\n",
    "\n",
    "        return hidden_state\n",
    "        \n",
    "    def get_output_shape(self, model, image_size):\n",
    "        x = torch.randn(1, 3, image_size, image_size)\n",
    "        out = model(x)\n",
    "        return out.shape[1:]\n",
    "    \n",
    "    def forward(self, support_images, support_labels, query_images):\n",
    "        \n",
    "        self.encode_support_set(support_images, support_labels)\n",
    "        \n",
    "        contextualized_query_features = self.encode_query_features(\n",
    "            query_images\n",
    "        )\n",
    "        \n",
    "        similarity_matrix = self.softmax(\n",
    "            contextualized_query_features.mm(\n",
    "                torch.nn.functional.normalize(self.contextualized_support_features).T\n",
    "            )\n",
    "        )\n",
    "                \n",
    "        log_probabilities = (\n",
    "            similarity_matrix.mm(self.one_hot_support_labels) + 1e-6\n",
    "        ).log()\n",
    "        \n",
    "        return log_probabilities"
   ]
  },
  {
   "cell_type": "code",
   "execution_count": 6,
   "id": "1cb7fa73",
   "metadata": {
    "execution": {
     "iopub.execute_input": "2022-11-07T04:05:46.700117Z",
     "iopub.status.busy": "2022-11-07T04:05:46.699846Z",
     "iopub.status.idle": "2022-11-07T04:05:46.704349Z",
     "shell.execute_reply": "2022-11-07T04:05:46.703464Z"
    },
    "papermill": {
     "duration": 0.012532,
     "end_time": "2022-11-07T04:05:46.706225",
     "exception": false,
     "start_time": "2022-11-07T04:05:46.693693",
     "status": "completed"
    },
    "tags": []
   },
   "outputs": [],
   "source": [
    "image_size = 224\n",
    "\n",
    "n_way = 5\n",
    "k_shot = 3\n",
    "n_query = 5\n",
    "n_tasks = 100\n",
    "n_epochs = 10\n",
    "n_train_tasks = 100\n",
    "n_val_tasks = 100\n",
    "n_test_tasks = 1000"
   ]
  },
  {
   "cell_type": "code",
   "execution_count": 7,
   "id": "bf2f2c6c",
   "metadata": {
    "execution": {
     "iopub.execute_input": "2022-11-07T04:05:46.719939Z",
     "iopub.status.busy": "2022-11-07T04:05:46.719147Z",
     "iopub.status.idle": "2022-11-07T04:05:46.724444Z",
     "shell.execute_reply": "2022-11-07T04:05:46.723599Z"
    },
    "papermill": {
     "duration": 0.014811,
     "end_time": "2022-11-07T04:05:46.726349",
     "exception": false,
     "start_time": "2022-11-07T04:05:46.711538",
     "status": "completed"
    },
    "tags": []
   },
   "outputs": [],
   "source": [
    "transform = transforms.Compose(\n",
    "    [\n",
    "        transforms.ToTensor(),\n",
    "        transforms.Resize((image_size, image_size)),\n",
    "        transforms.Normalize(mean=[0.507, 0.487, 0.441], std=[0.267, 0.256, 0.276])\n",
    "    ]\n",
    ")"
   ]
  },
  {
   "cell_type": "code",
   "execution_count": 8,
   "id": "c7ffe983",
   "metadata": {
    "execution": {
     "iopub.execute_input": "2022-11-07T04:05:46.738797Z",
     "iopub.status.busy": "2022-11-07T04:05:46.738004Z",
     "iopub.status.idle": "2022-11-07T04:05:46.789900Z",
     "shell.execute_reply": "2022-11-07T04:05:46.788468Z"
    },
    "papermill": {
     "duration": 0.060166,
     "end_time": "2022-11-07T04:05:46.791962",
     "exception": false,
     "start_time": "2022-11-07T04:05:46.731796",
     "status": "completed"
    },
    "tags": []
   },
   "outputs": [
    {
     "name": "stdout",
     "output_type": "stream",
     "text": [
      "Length of training data: 1020\n",
      "Length of validation data: 1020\n",
      "Length of test data: 6149\n"
     ]
    }
   ],
   "source": [
    "training_set = torchvision.datasets.Flowers102(root=f'{data_directory}', split='train', transform=transform)\n",
    "validation_set = torchvision.datasets.Flowers102(root=f'{data_directory}', split='val', transform=transform)\n",
    "test_set = torchvision.datasets.Flowers102(root=f'{data_directory}', split='test', transform=transform)\n",
    "\n",
    "print(f'Length of training data: {len(training_set)}')\n",
    "print(f'Length of validation data: {len(validation_set)}')\n",
    "print(f'Length of test data: {len(test_set)}')"
   ]
  },
  {
   "cell_type": "code",
   "execution_count": 9,
   "id": "3de4e498",
   "metadata": {
    "execution": {
     "iopub.execute_input": "2022-11-07T04:05:46.804131Z",
     "iopub.status.busy": "2022-11-07T04:05:46.803867Z",
     "iopub.status.idle": "2022-11-07T04:05:46.809475Z",
     "shell.execute_reply": "2022-11-07T04:05:46.808627Z"
    },
    "papermill": {
     "duration": 0.013917,
     "end_time": "2022-11-07T04:05:46.811410",
     "exception": false,
     "start_time": "2022-11-07T04:05:46.797493",
     "status": "completed"
    },
    "tags": []
   },
   "outputs": [],
   "source": [
    "training_set.get_labels = lambda: [\n",
    "    instance for instance in training_set._labels\n",
    "]\n",
    "\n",
    "validation_set.get_labels = lambda: [\n",
    "    instance for instance in validation_set._labels\n",
    "]\n",
    "\n",
    "test_set.get_labels = lambda: [\n",
    "    instance for instance in test_set._labels\n",
    "]"
   ]
  },
  {
   "cell_type": "code",
   "execution_count": 10,
   "id": "dbf89ba7",
   "metadata": {
    "execution": {
     "iopub.execute_input": "2022-11-07T04:05:46.823903Z",
     "iopub.status.busy": "2022-11-07T04:05:46.823145Z",
     "iopub.status.idle": "2022-11-07T04:05:46.831177Z",
     "shell.execute_reply": "2022-11-07T04:05:46.830276Z"
    },
    "papermill": {
     "duration": 0.016319,
     "end_time": "2022-11-07T04:05:46.833185",
     "exception": false,
     "start_time": "2022-11-07T04:05:46.816866",
     "status": "completed"
    },
    "tags": []
   },
   "outputs": [],
   "source": [
    "train_sampler = TaskSampler(training_set, n_way, k_shot, n_query, n_train_tasks)\n",
    "validation_sampler = TaskSampler(validation_set, n_way, k_shot, n_query, n_val_tasks)\n",
    "test_sampler = TaskSampler(test_set, n_way, k_shot, n_query, n_test_tasks)"
   ]
  },
  {
   "cell_type": "code",
   "execution_count": 11,
   "id": "2198594b",
   "metadata": {
    "execution": {
     "iopub.execute_input": "2022-11-07T04:05:46.845568Z",
     "iopub.status.busy": "2022-11-07T04:05:46.844824Z",
     "iopub.status.idle": "2022-11-07T04:05:46.850661Z",
     "shell.execute_reply": "2022-11-07T04:05:46.849779Z"
    },
    "papermill": {
     "duration": 0.013922,
     "end_time": "2022-11-07T04:05:46.852561",
     "exception": false,
     "start_time": "2022-11-07T04:05:46.838639",
     "status": "completed"
    },
    "tags": []
   },
   "outputs": [],
   "source": [
    "train_loader = torch.utils.data.DataLoader(\n",
    "    training_set,\n",
    "    batch_sampler=train_sampler,\n",
    "    collate_fn=train_sampler.collate_fn,\n",
    ")\n",
    "\n",
    "validation_loader = torch.utils.data.DataLoader(\n",
    "    validation_set,\n",
    "    batch_sampler=validation_sampler,\n",
    "    collate_fn=validation_sampler.collate_fn,\n",
    ")\n",
    "\n",
    "test_loader = torch.utils.data.DataLoader(\n",
    "    test_set,\n",
    "    batch_sampler=test_sampler,\n",
    "    collate_fn=test_sampler.collate_fn,\n",
    ")\n"
   ]
  },
  {
   "cell_type": "code",
   "execution_count": 12,
   "id": "13bbaef9",
   "metadata": {
    "execution": {
     "iopub.execute_input": "2022-11-07T04:05:46.864823Z",
     "iopub.status.busy": "2022-11-07T04:05:46.864067Z",
     "iopub.status.idle": "2022-11-07T04:05:46.872096Z",
     "shell.execute_reply": "2022-11-07T04:05:46.871241Z"
    },
    "papermill": {
     "duration": 0.016107,
     "end_time": "2022-11-07T04:05:46.874023",
     "exception": false,
     "start_time": "2022-11-07T04:05:46.857916",
     "status": "completed"
    },
    "tags": []
   },
   "outputs": [],
   "source": [
    "def evaluate_model(model, criterion, data_loader):\n",
    "    \n",
    "    model.eval()\n",
    "    \n",
    "    device = torch.device(\"cuda:0\" if torch.cuda.is_available() else \"cpu\")\n",
    "    model.to(device)\n",
    "    \n",
    "    running_loss = 0.0\n",
    "    running_correct = 0\n",
    "    total = 0\n",
    "    \n",
    "    start_time = time.time()\n",
    "    \n",
    "    for support_images, support_labels, query_images, query_labels, _ in tqdm.tqdm(data_loader):\n",
    "        \n",
    "        support_images = support_images.to(device)\n",
    "        support_labels = support_labels.to(device)\n",
    "        query_images = query_images.to(device)\n",
    "        query_labels = query_labels.to(device)\n",
    "\n",
    "        scores = model(support_images, support_labels, query_images)\n",
    "\n",
    "        loss = criterion(scores, query_labels)\n",
    "\n",
    "        running_loss += loss.item()\n",
    "        total += query_labels.shape[0]\n",
    "        _, preds = torch.max(scores, 1)\n",
    "        running_correct += torch.sum(preds == query_labels).item()\n",
    "\n",
    "    end_time = time.time()\n",
    "    \n",
    "    print(f'Loss: {running_loss / len(data_loader)}, Accuracy: {running_correct / total}, Time: {(end_time - start_time):.4f}s')\n",
    "    \n",
    "    return running_loss / len(data_loader), running_correct / total"
   ]
  },
  {
   "cell_type": "code",
   "execution_count": 13,
   "id": "24f74cae",
   "metadata": {
    "execution": {
     "iopub.execute_input": "2022-11-07T04:05:46.887162Z",
     "iopub.status.busy": "2022-11-07T04:05:46.885776Z",
     "iopub.status.idle": "2022-11-07T04:05:46.896399Z",
     "shell.execute_reply": "2022-11-07T04:05:46.895500Z"
    },
    "papermill": {
     "duration": 0.019034,
     "end_time": "2022-11-07T04:05:46.898432",
     "exception": false,
     "start_time": "2022-11-07T04:05:46.879398",
     "status": "completed"
    },
    "tags": []
   },
   "outputs": [],
   "source": [
    "def train(model, criterion, optimizer, scheduler, train_loader, val_loader, num_epochs=100):\n",
    "    \n",
    "    device = torch.device(\"cuda:0\" if torch.cuda.is_available() else \"cpu\")\n",
    "    \n",
    "    model.to(device)\n",
    "    \n",
    "    train_loss_history = []\n",
    "    train_acc_history = []\n",
    "    val_loss_history = []\n",
    "    val_acc_history = []\n",
    "    \n",
    "    total_time = 0.0\n",
    "    \n",
    "    for epoch in range(num_epochs):\n",
    "        \n",
    "        model.train()\n",
    "        \n",
    "        running_loss = 0.0\n",
    "        running_correct = 0\n",
    "        total = 0\n",
    "        \n",
    "        start_time = time.time()\n",
    "        for support_images, support_labels, query_images, query_labels, _ in tqdm.tqdm(train_loader):\n",
    "            support_images = support_images.to(device)\n",
    "            support_labels = support_labels.to(device)\n",
    "            query_images = query_images.to(device)\n",
    "            query_labels = query_labels.to(device)\n",
    "            \n",
    "            optimizer.zero_grad()\n",
    "            \n",
    "            scores = model(support_images, support_labels, query_images)\n",
    "            \n",
    "            loss = criterion(scores, query_labels)\n",
    "            \n",
    "            running_loss += loss.item()\n",
    "            total += query_labels.shape[0]\n",
    "            _, preds = torch.max(scores, 1)\n",
    "            running_correct += torch.sum(preds == query_labels).item()\n",
    "            \n",
    "            loss.backward()\n",
    "            optimizer.step()\n",
    "         \n",
    "        end_time = time.time()\n",
    "        \n",
    "        scheduler.step()\n",
    "        \n",
    "        print(f'Epoch: {epoch + 1}, Loss: {running_loss / len(train_loader)}, Accuracy: {running_correct / total}, Time: {(end_time - start_time):.4f}s')\n",
    "        \n",
    "        total_time += end_time - start_time\n",
    "        \n",
    "        train_loss_history.append(running_loss / len(train_loader))\n",
    "        train_acc_history.append(running_correct / total)\n",
    "        \n",
    "        val_loss, val_acc = evaluate_model(model, criterion, val_loader)\n",
    "        \n",
    "        val_loss_history.append(val_loss)\n",
    "        val_acc_history.append(val_acc)\n",
    "        \n",
    "    print(f'Average Training Time: {total_time / num_epochs}')\n",
    "    return train_loss_history, train_acc_history, val_loss_history, val_acc_history"
   ]
  },
  {
   "cell_type": "code",
   "execution_count": 14,
   "id": "cefc3d6f",
   "metadata": {
    "execution": {
     "iopub.execute_input": "2022-11-07T04:05:46.910596Z",
     "iopub.status.busy": "2022-11-07T04:05:46.909837Z",
     "iopub.status.idle": "2022-11-07T04:05:53.991210Z",
     "shell.execute_reply": "2022-11-07T04:05:53.990244Z"
    },
    "papermill": {
     "duration": 7.090045,
     "end_time": "2022-11-07T04:05:53.993791",
     "exception": false,
     "start_time": "2022-11-07T04:05:46.903746",
     "status": "completed"
    },
    "tags": []
   },
   "outputs": [
    {
     "name": "stderr",
     "output_type": "stream",
     "text": [
      "Downloading: \"https://download.pytorch.org/models/resnet18-f37072fd.pth\" to /root/.cache/torch/hub/checkpoints/resnet18-f37072fd.pth\n"
     ]
    },
    {
     "data": {
      "application/vnd.jupyter.widget-view+json": {
       "model_id": "aec44626d9fc47f8890100a7a5326338",
       "version_major": 2,
       "version_minor": 0
      },
      "text/plain": [
       "  0%|          | 0.00/44.7M [00:00<?, ?B/s]"
      ]
     },
     "metadata": {},
     "output_type": "display_data"
    }
   ],
   "source": [
    "model = MatchingNetwork(image_size=image_size, use_full_contextual_embedding=False)"
   ]
  },
  {
   "cell_type": "code",
   "execution_count": 15,
   "id": "fd0011a8",
   "metadata": {
    "execution": {
     "iopub.execute_input": "2022-11-07T04:05:54.007169Z",
     "iopub.status.busy": "2022-11-07T04:05:54.006857Z",
     "iopub.status.idle": "2022-11-07T04:05:54.013414Z",
     "shell.execute_reply": "2022-11-07T04:05:54.012555Z"
    },
    "papermill": {
     "duration": 0.015368,
     "end_time": "2022-11-07T04:05:54.015371",
     "exception": false,
     "start_time": "2022-11-07T04:05:54.000003",
     "status": "completed"
    },
    "tags": []
   },
   "outputs": [],
   "source": [
    "criterion = torch.nn.CrossEntropyLoss()\n",
    "optimizer = optim.Adam(model.parameters(), lr=0.0001)\n",
    "lr_scheduler = torch.optim.lr_scheduler.StepLR(optimizer, step_size=2, gamma=0.1)"
   ]
  },
  {
   "cell_type": "code",
   "execution_count": 16,
   "id": "03a2a12f",
   "metadata": {
    "execution": {
     "iopub.execute_input": "2022-11-07T04:05:54.028083Z",
     "iopub.status.busy": "2022-11-07T04:05:54.027308Z",
     "iopub.status.idle": "2022-11-07T04:18:41.469741Z",
     "shell.execute_reply": "2022-11-07T04:18:41.467946Z"
    },
    "papermill": {
     "duration": 767.45118,
     "end_time": "2022-11-07T04:18:41.472099",
     "exception": false,
     "start_time": "2022-11-07T04:05:54.020919",
     "status": "completed"
    },
    "tags": []
   },
   "outputs": [
    {
     "name": "stderr",
     "output_type": "stream",
     "text": [
      "100%|██████████| 100/100 [00:44<00:00,  2.26it/s]\n"
     ]
    },
    {
     "name": "stdout",
     "output_type": "stream",
     "text": [
      "Epoch: 1, Loss: 0.11290818880777806, Accuracy: 0.9748, Time: 44.2576s\n"
     ]
    },
    {
     "name": "stderr",
     "output_type": "stream",
     "text": [
      "100%|██████████| 100/100 [00:36<00:00,  2.72it/s]\n"
     ]
    },
    {
     "name": "stdout",
     "output_type": "stream",
     "text": [
      "Loss: 0.13496599099598824, Accuracy: 0.9556, Time: 36.7275s\n"
     ]
    },
    {
     "name": "stderr",
     "output_type": "stream",
     "text": [
      "100%|██████████| 100/100 [00:38<00:00,  2.61it/s]\n"
     ]
    },
    {
     "name": "stdout",
     "output_type": "stream",
     "text": [
      "Epoch: 2, Loss: 0.03647185713984072, Accuracy: 0.992, Time: 38.2508s\n"
     ]
    },
    {
     "name": "stderr",
     "output_type": "stream",
     "text": [
      "100%|██████████| 100/100 [00:37<00:00,  2.67it/s]\n"
     ]
    },
    {
     "name": "stdout",
     "output_type": "stream",
     "text": [
      "Loss: 0.13352843790315091, Accuracy: 0.9596, Time: 37.4017s\n"
     ]
    },
    {
     "name": "stderr",
     "output_type": "stream",
     "text": [
      "100%|██████████| 100/100 [00:39<00:00,  2.53it/s]\n"
     ]
    },
    {
     "name": "stdout",
     "output_type": "stream",
     "text": [
      "Epoch: 3, Loss: 0.03190625041432213, Accuracy: 0.9928, Time: 39.5026s\n"
     ]
    },
    {
     "name": "stderr",
     "output_type": "stream",
     "text": [
      "100%|██████████| 100/100 [00:37<00:00,  2.70it/s]\n"
     ]
    },
    {
     "name": "stdout",
     "output_type": "stream",
     "text": [
      "Loss: 0.11534340394311585, Accuracy: 0.9632, Time: 37.0445s\n"
     ]
    },
    {
     "name": "stderr",
     "output_type": "stream",
     "text": [
      "100%|██████████| 100/100 [00:38<00:00,  2.59it/s]\n"
     ]
    },
    {
     "name": "stdout",
     "output_type": "stream",
     "text": [
      "Epoch: 4, Loss: 0.016484082225942984, Accuracy: 0.9976, Time: 38.5503s\n"
     ]
    },
    {
     "name": "stderr",
     "output_type": "stream",
     "text": [
      "100%|██████████| 100/100 [00:37<00:00,  2.70it/s]\n"
     ]
    },
    {
     "name": "stdout",
     "output_type": "stream",
     "text": [
      "Loss: 0.11447222645394504, Accuracy: 0.9648, Time: 37.0636s\n"
     ]
    },
    {
     "name": "stderr",
     "output_type": "stream",
     "text": [
      "100%|██████████| 100/100 [00:38<00:00,  2.60it/s]\n"
     ]
    },
    {
     "name": "stdout",
     "output_type": "stream",
     "text": [
      "Epoch: 5, Loss: 0.023060418986424337, Accuracy: 0.9972, Time: 38.5102s\n"
     ]
    },
    {
     "name": "stderr",
     "output_type": "stream",
     "text": [
      "100%|██████████| 100/100 [00:37<00:00,  2.66it/s]\n"
     ]
    },
    {
     "name": "stdout",
     "output_type": "stream",
     "text": [
      "Loss: 0.11290023221867158, Accuracy: 0.9648, Time: 37.5404s\n"
     ]
    },
    {
     "name": "stderr",
     "output_type": "stream",
     "text": [
      "100%|██████████| 100/100 [00:38<00:00,  2.58it/s]\n"
     ]
    },
    {
     "name": "stdout",
     "output_type": "stream",
     "text": [
      "Epoch: 6, Loss: 0.019386920609977095, Accuracy: 0.9964, Time: 38.7779s\n"
     ]
    },
    {
     "name": "stderr",
     "output_type": "stream",
     "text": [
      "100%|██████████| 100/100 [00:37<00:00,  2.65it/s]\n"
     ]
    },
    {
     "name": "stdout",
     "output_type": "stream",
     "text": [
      "Loss: 0.12204133629100397, Accuracy: 0.96, Time: 37.7331s\n"
     ]
    },
    {
     "name": "stderr",
     "output_type": "stream",
     "text": [
      "100%|██████████| 100/100 [00:38<00:00,  2.62it/s]\n"
     ]
    },
    {
     "name": "stdout",
     "output_type": "stream",
     "text": [
      "Epoch: 7, Loss: 0.01859374812571332, Accuracy: 0.998, Time: 38.1558s\n"
     ]
    },
    {
     "name": "stderr",
     "output_type": "stream",
     "text": [
      "100%|██████████| 100/100 [00:37<00:00,  2.65it/s]\n"
     ]
    },
    {
     "name": "stdout",
     "output_type": "stream",
     "text": [
      "Loss: 0.0997636077995412, Accuracy: 0.9676, Time: 37.7187s\n"
     ]
    },
    {
     "name": "stderr",
     "output_type": "stream",
     "text": [
      "100%|██████████| 100/100 [00:38<00:00,  2.59it/s]\n"
     ]
    },
    {
     "name": "stdout",
     "output_type": "stream",
     "text": [
      "Epoch: 8, Loss: 0.016733381596277467, Accuracy: 0.9988, Time: 38.5850s\n"
     ]
    },
    {
     "name": "stderr",
     "output_type": "stream",
     "text": [
      "100%|██████████| 100/100 [00:37<00:00,  2.69it/s]\n"
     ]
    },
    {
     "name": "stdout",
     "output_type": "stream",
     "text": [
      "Loss: 0.11273576834006235, Accuracy: 0.9612, Time: 37.2010s\n"
     ]
    },
    {
     "name": "stderr",
     "output_type": "stream",
     "text": [
      "100%|██████████| 100/100 [00:38<00:00,  2.60it/s]\n"
     ]
    },
    {
     "name": "stdout",
     "output_type": "stream",
     "text": [
      "Epoch: 9, Loss: 0.015046775154769421, Accuracy: 0.9984, Time: 38.5029s\n"
     ]
    },
    {
     "name": "stderr",
     "output_type": "stream",
     "text": [
      "100%|██████████| 100/100 [00:36<00:00,  2.73it/s]\n"
     ]
    },
    {
     "name": "stdout",
     "output_type": "stream",
     "text": [
      "Loss: 0.10791400075890124, Accuracy: 0.9672, Time: 36.6373s\n"
     ]
    },
    {
     "name": "stderr",
     "output_type": "stream",
     "text": [
      "100%|██████████| 100/100 [00:38<00:00,  2.60it/s]\n"
     ]
    },
    {
     "name": "stdout",
     "output_type": "stream",
     "text": [
      "Epoch: 10, Loss: 0.018202082391362638, Accuracy: 0.9968, Time: 38.4567s\n"
     ]
    },
    {
     "name": "stderr",
     "output_type": "stream",
     "text": [
      "100%|██████████| 100/100 [00:37<00:00,  2.69it/s]"
     ]
    },
    {
     "name": "stdout",
     "output_type": "stream",
     "text": [
      "Loss: 0.11828188593499363, Accuracy: 0.9624, Time: 37.1234s\n",
      "Average Training Time: 39.15497453212738\n"
     ]
    },
    {
     "name": "stderr",
     "output_type": "stream",
     "text": [
      "\n"
     ]
    }
   ],
   "source": [
    "history = train(model, criterion, optimizer, lr_scheduler, train_loader, validation_loader, num_epochs=n_epochs)"
   ]
  },
  {
   "cell_type": "code",
   "execution_count": 17,
   "id": "b3933239",
   "metadata": {
    "execution": {
     "iopub.execute_input": "2022-11-07T04:18:41.690692Z",
     "iopub.status.busy": "2022-11-07T04:18:41.690281Z",
     "iopub.status.idle": "2022-11-07T04:18:41.694841Z",
     "shell.execute_reply": "2022-11-07T04:18:41.693904Z"
    },
    "papermill": {
     "duration": 0.11586,
     "end_time": "2022-11-07T04:18:41.696925",
     "exception": false,
     "start_time": "2022-11-07T04:18:41.581065",
     "status": "completed"
    },
    "tags": []
   },
   "outputs": [],
   "source": [
    "train_loss, train_acc, val_loss, val_acc = history"
   ]
  },
  {
   "cell_type": "code",
   "execution_count": 18,
   "id": "8992dcd5",
   "metadata": {
    "execution": {
     "iopub.execute_input": "2022-11-07T04:18:41.915094Z",
     "iopub.status.busy": "2022-11-07T04:18:41.914752Z",
     "iopub.status.idle": "2022-11-07T04:18:41.920324Z",
     "shell.execute_reply": "2022-11-07T04:18:41.919352Z"
    },
    "papermill": {
     "duration": 0.116743,
     "end_time": "2022-11-07T04:18:41.922286",
     "exception": false,
     "start_time": "2022-11-07T04:18:41.805543",
     "status": "completed"
    },
    "tags": []
   },
   "outputs": [],
   "source": [
    "def plot_curve(train_history, val_history, title='Model Accuracy', ylabel='Accuracy', legend_loc='upper left'):\n",
    "    \n",
    "    plt.plot(train_history)\n",
    "    plt.plot(val_history)\n",
    "    plt.title(title)\n",
    "    plt.ylabel(ylabel)\n",
    "    plt.xlabel('epochs')\n",
    "    plt.legend(['train', 'validation'], loc=legend_loc)\n",
    "    \n",
    "    plt.show()"
   ]
  },
  {
   "cell_type": "code",
   "execution_count": 19,
   "id": "7f8c1d28",
   "metadata": {
    "execution": {
     "iopub.execute_input": "2022-11-07T04:18:42.142457Z",
     "iopub.status.busy": "2022-11-07T04:18:42.141509Z",
     "iopub.status.idle": "2022-11-07T04:18:42.358725Z",
     "shell.execute_reply": "2022-11-07T04:18:42.357728Z"
    },
    "papermill": {
     "duration": 0.329477,
     "end_time": "2022-11-07T04:18:42.361364",
     "exception": false,
     "start_time": "2022-11-07T04:18:42.031887",
     "status": "completed"
    },
    "tags": []
   },
   "outputs": [
    {
     "data": {
      "image/png": "[encoded data removed]",
      "text/plain": [
       "<Figure size 432x288 with 1 Axes>"
      ]
     },
     "metadata": {
      "needs_background": "light"
     },
     "output_type": "display_data"
    }
   ],
   "source": [
    "plot_curve(train_loss, val_loss, title='Matching Network Loss', ylabel='Loss', legend_loc='upper right')"
   ]
  },
  {
   "cell_type": "code",
   "execution_count": 20,
   "id": "784b3724",
   "metadata": {
    "execution": {
     "iopub.execute_input": "2022-11-07T04:18:42.580127Z",
     "iopub.status.busy": "2022-11-07T04:18:42.579775Z",
     "iopub.status.idle": "2022-11-07T04:18:42.770937Z",
     "shell.execute_reply": "2022-11-07T04:18:42.769527Z"
    },
    "papermill": {
     "duration": 0.303257,
     "end_time": "2022-11-07T04:18:42.773186",
     "exception": false,
     "start_time": "2022-11-07T04:18:42.469929",
     "status": "completed"
    },
    "tags": []
   },
   "outputs": [
    {
     "data": {
      "image/png": "[encoded data removed]",
      "text/plain": [
       "<Figure size 432x288 with 1 Axes>"
      ]
     },
     "metadata": {
      "needs_background": "light"
     },
     "output_type": "display_data"
    }
   ],
   "source": [
    "plot_curve(train_acc, val_acc, title='Matching Network Accuracy', ylabel='Accuracy', legend_loc='upper left')"
   ]
  },
  {
   "cell_type": "code",
   "execution_count": 21,
   "id": "1b8ed84b",
   "metadata": {
    "execution": {
     "iopub.execute_input": "2022-11-07T04:18:42.994017Z",
     "iopub.status.busy": "2022-11-07T04:18:42.992304Z",
     "iopub.status.idle": "2022-11-07T04:26:26.063654Z",
     "shell.execute_reply": "2022-11-07T04:26:26.062406Z"
    },
    "papermill": {
     "duration": 463.189314,
     "end_time": "2022-11-07T04:26:26.071752",
     "exception": false,
     "start_time": "2022-11-07T04:18:42.882438",
     "status": "completed"
    },
    "tags": []
   },
   "outputs": [
    {
     "name": "stdout",
     "output_type": "stream",
     "text": [
      "Train: "
     ]
    },
    {
     "name": "stderr",
     "output_type": "stream",
     "text": [
      "100%|██████████| 100/100 [00:38<00:00,  2.60it/s]\n"
     ]
    },
    {
     "name": "stdout",
     "output_type": "stream",
     "text": [
      "Loss: 0.01979695511094178, Accuracy: 0.9956, Time: 38.4876s\n",
      "Validation: "
     ]
    },
    {
     "name": "stderr",
     "output_type": "stream",
     "text": [
      "100%|██████████| 100/100 [00:37<00:00,  2.67it/s]\n"
     ]
    },
    {
     "name": "stdout",
     "output_type": "stream",
     "text": [
      "Loss: 0.10418524964945391, Accuracy: 0.9704, Time: 37.4233s\n",
      "Test: "
     ]
    },
    {
     "name": "stderr",
     "output_type": "stream",
     "text": [
      "100%|██████████| 1000/1000 [06:27<00:00,  2.58it/s]"
     ]
    },
    {
     "name": "stdout",
     "output_type": "stream",
     "text": [
      "Loss: 0.11570412069855956, Accuracy: 0.9634, Time: 387.1413s\n"
     ]
    },
    {
     "name": "stderr",
     "output_type": "stream",
     "text": [
      "\n"
     ]
    }
   ],
   "source": [
    "print('Train: ', end='')\n",
    "evaluate_model(model, criterion, train_loader)\n",
    "\n",
    "print('Validation: ', end='')\n",
    "evaluate_model(model, criterion, validation_loader)\n",
    "\n",
    "print('Test: ', end='')\n",
    "evaluate_model(model, criterion, test_loader);"
   ]
  },
  {
   "cell_type": "code",
   "execution_count": 22,
   "id": "c8f7f0cf",
   "metadata": {
    "execution": {
     "iopub.execute_input": "2022-11-07T04:26:26.460984Z",
     "iopub.status.busy": "2022-11-07T04:26:26.460605Z",
     "iopub.status.idle": "2022-11-07T04:26:26.584290Z",
     "shell.execute_reply": "2022-11-07T04:26:26.583318Z"
    },
    "papermill": {
     "duration": 0.343259,
     "end_time": "2022-11-07T04:26:26.586743",
     "exception": false,
     "start_time": "2022-11-07T04:26:26.243484",
     "status": "completed"
    },
    "tags": []
   },
   "outputs": [],
   "source": [
    "torch.save(model.state_dict(), \"matching_network_episodic.pt\")"
   ]
  }
 ],
 "metadata": {
  "kernelspec": {
   "display_name": "Python 3",
   "language": "python",
   "name": "python3"
  },
  "language_info": {
   "codemirror_mode": {
    "name": "ipython",
    "version": 3
   },
   "file_extension": ".py",
   "mimetype": "text/x-python",
   "name": "python",
   "nbconvert_exporter": "python",
   "pygments_lexer": "ipython3",
   "version": "3.7.12"
  },
  "papermill": {
   "default_parameters": {},
   "duration": 1299.175742,
   "end_time": "2022-11-07T04:26:28.187281",
   "environment_variables": {},
   "exception": null,
   "input_path": "__notebook__.ipynb",
   "output_path": "__notebook__.ipynb",
   "parameters": {},
   "start_time": "2022-11-07T04:04:49.011539",
   "version": "2.3.4"
  },
  "widgets": {
   "application/vnd.jupyter.widget-state+json": {
    "state": {
     "045788b9bb3145f7b931d5f129d38ba9": {
      "model_module": "@jupyter-widgets/controls",
      "model_module_version": "1.5.0",
      "model_name": "HTMLModel",
      "state": {
       "_dom_classes": [],
       "_model_module": "@jupyter-widgets/controls",
       "_model_module_version": "1.5.0",
       "_model_name": "HTMLModel",
       "_view_count": null,
       "_view_module": "@jupyter-widgets/controls",
       "_view_module_version": "1.5.0",
       "_view_name": "HTMLView",
       "description": "",
       "description_tooltip": null,
       "layout": "IPY_MODEL_92560e42d2cd4507829014f317cbf8e0",
       "placeholder": "​",
       "style": "IPY_MODEL_bdf1e27aa50c499b9505ecf1e404f13a",
       "value": ""
      }
     },
     "05097b7130134028a7ea979e98bfe34d": {
      "model_module": "@jupyter-widgets/base",
      "model_module_version": "1.2.0",
      "model_name": "LayoutModel",
      "state": {
       "_model_module": "@jupyter-widgets/base",
       "_model_module_version": "1.2.0",
       "_model_name": "LayoutModel",
       "_view_count": null,
       "_view_module": "@jupyter-widgets/base",
       "_view_module_version": "1.2.0",
       "_view_name": "LayoutView",
       "align_content": null,
       "align_items": null,
       "align_self": null,
       "border": null,
       "bottom": null,
       "display": null,
       "flex": null,
       "flex_flow": null,
       "grid_area": null,
       "grid_auto_columns": null,
       "grid_auto_flow": null,
       "grid_auto_rows": null,
       "grid_column": null,
       "grid_gap": null,
       "grid_row": null,
       "grid_template_areas": null,
       "grid_template_columns": null,
       "grid_template_rows": null,
       "height": null,
       "justify_content": null,
       "justify_items": null,
       "left": null,
       "margin": null,
       "max_height": null,
       "max_width": null,
       "min_height": null,
       "min_width": null,
       "object_fit": null,
       "object_position": null,
       "order": null,
       "overflow": null,
       "overflow_x": null,
       "overflow_y": null,
       "padding": null,
       "right": null,
       "top": null,
       "visibility": null,
       "width": null
      }
     },
     "0920176ef91d4c1c94000029e632de13": {
      "model_module": "@jupyter-widgets/controls",
      "model_module_version": "1.5.0",
      "model_name": "HBoxModel",
      "state": {
       "_dom_classes": [],
       "_model_module": "@jupyter-widgets/controls",
       "_model_module_version": "1.5.0",
       "_model_name": "HBoxModel",
       "_view_count": null,
       "_view_module": "@jupyter-widgets/controls",
       "_view_module_version": "1.5.0",
       "_view_name": "HBoxView",
       "box_style": "",
       "children": [
        "IPY_MODEL_045788b9bb3145f7b931d5f129d38ba9",
        "IPY_MODEL_cbbd0eb20b4d4906a8195a49d814397a",
        "IPY_MODEL_871b34825c3f4ef89979e5f9f0d2cf6c"
       ],
       "layout": "IPY_MODEL_05097b7130134028a7ea979e98bfe34d"
      }
     },
     "09e352347d3c43d7a9f4d397b6abb307": {
      "model_module": "@jupyter-widgets/controls",
      "model_module_version": "1.5.0",
      "model_name": "HTMLModel",
      "state": {
       "_dom_classes": [],
       "_model_module": "@jupyter-widgets/controls",
       "_model_module_version": "1.5.0",
       "_model_name": "HTMLModel",
       "_view_count": null,
       "_view_module": "@jupyter-widgets/controls",
       "_view_module_version": "1.5.0",
       "_view_name": "HTMLView",
       "description": "",
       "description_tooltip": null,
       "layout": "IPY_MODEL_885820826c624562a6314eb785e58af5",
       "placeholder": "​",
       "style": "IPY_MODEL_6a40994dccc14a32a616d8a4c4375eec",
       "value": " 44.7M/44.7M [00:05&lt;00:00, 11.7MB/s]"
      }
     },
     "0dd9043b38344382acb1d5561557bf53": {
      "model_module": "@jupyter-widgets/base",
      "model_module_version": "1.2.0",
      "model_name": "LayoutModel",
      "state": {
       "_model_module": "@jupyter-widgets/base",
       "_model_module_version": "1.2.0",
       "_model_name": "LayoutModel",
       "_view_count": null,
       "_view_module": "@jupyter-widgets/base",
       "_view_module_version": "1.2.0",
       "_view_name": "LayoutView",
       "align_content": null,
       "align_items": null,
       "align_self": null,
       "border": null,
       "bottom": null,
       "display": null,
       "flex": null,
       "flex_flow": null,
       "grid_area": null,
       "grid_auto_columns": null,
       "grid_auto_flow": null,
       "grid_auto_rows": null,
       "grid_column": null,
       "grid_gap": null,
       "grid_row": null,
       "grid_template_areas": null,
       "grid_template_columns": null,
       "grid_template_rows": null,
       "height": null,
       "justify_content": null,
       "justify_items": null,
       "left": null,
       "margin": null,
       "max_height": null,
       "max_width": null,
       "min_height": null,
       "min_width": null,
       "object_fit": null,
       "object_position": null,
       "order": null,
       "overflow": null,
       "overflow_x": null,
       "overflow_y": null,
       "padding": null,
       "right": null,
       "top": null,
       "visibility": null,
       "width": null
      }
     },
     "1583978b93954d5c9f0cbbfd247fb15a": {
      "model_module": "@jupyter-widgets/controls",
      "model_module_version": "1.5.0",
      "model_name": "DescriptionStyleModel",
      "state": {
       "_model_module": "@jupyter-widgets/controls",
       "_model_module_version": "1.5.0",
       "_model_name": "DescriptionStyleModel",
       "_view_count": null,
       "_view_module": "@jupyter-widgets/base",
       "_view_module_version": "1.2.0",
       "_view_name": "StyleView",
       "description_width": ""
      }
     },
     "1be7cf3cca134a7b9a8e1c034272621a": {
      "model_module": "@jupyter-widgets/controls",
      "model_module_version": "1.5.0",
      "model_name": "HTMLModel",
      "state": {
       "_dom_classes": [],
       "_model_module": "@jupyter-widgets/controls",
       "_model_module_version": "1.5.0",
       "_model_name": "HTMLModel",
       "_view_count": null,
       "_view_module": "@jupyter-widgets/controls",
       "_view_module_version": "1.5.0",
       "_view_name": "HTMLView",
       "description": "",
       "description_tooltip": null,
       "layout": "IPY_MODEL_f5582c76a9df4852b895a0d9242787ad",
       "placeholder": "​",
       "style": "IPY_MODEL_26e25eb2aeae4642992f83c012c12247",
       "value": ""
      }
     },
     "2564bed585ab47fb931f7f14353ed82c": {
      "model_module": "@jupyter-widgets/controls",
      "model_module_version": "1.5.0",
      "model_name": "HTMLModel",
      "state": {
       "_dom_classes": [],
       "_model_module": "@jupyter-widgets/controls",
       "_model_module_version": "1.5.0",
       "_model_name": "HTMLModel",
       "_view_count": null,
       "_view_module": "@jupyter-widgets/controls",
       "_view_module_version": "1.5.0",
       "_view_name": "HTMLView",
       "description": "",
       "description_tooltip": null,
       "layout": "IPY_MODEL_9af347bdc15d406db1d2b777b74b9f04",
       "placeholder": "​",
       "style": "IPY_MODEL_8ef34f1936f545b4be0e18abff113448",
       "value": "100%"
      }
     },
     "26e25eb2aeae4642992f83c012c12247": {
      "model_module": "@jupyter-widgets/controls",
      "model_module_version": "1.5.0",
      "model_name": "DescriptionStyleModel",
      "state": {
       "_model_module": "@jupyter-widgets/controls",
       "_model_module_version": "1.5.0",
       "_model_name": "DescriptionStyleModel",
       "_view_count": null,
       "_view_module": "@jupyter-widgets/base",
       "_view_module_version": "1.2.0",
       "_view_name": "StyleView",
       "description_width": ""
      }
     },
     "28199e2a69514fca9c05d4101ba0f4ec": {
      "model_module": "@jupyter-widgets/controls",
      "model_module_version": "1.5.0",
      "model_name": "FloatProgressModel",
      "state": {
       "_dom_classes": [],
       "_model_module": "@jupyter-widgets/controls",
       "_model_module_version": "1.5.0",
       "_model_name": "FloatProgressModel",
       "_view_count": null,
       "_view_module": "@jupyter-widgets/controls",
       "_view_module_version": "1.5.0",
       "_view_name": "ProgressView",
       "bar_style": "success",
       "description": "",
       "description_tooltip": null,
       "layout": "IPY_MODEL_0dd9043b38344382acb1d5561557bf53",
       "max": 502.0,
       "min": 0.0,
       "orientation": "horizontal",
       "style": "IPY_MODEL_c201f3a940f84bbf860822c476d992d9",
       "value": 502.0
      }
     },
     "36137b379e874fcf8654b5bf81447998": {
      "model_module": "@jupyter-widgets/controls",
      "model_module_version": "1.5.0",
      "model_name": "HTMLModel",
      "state": {
       "_dom_classes": [],
       "_model_module": "@jupyter-widgets/controls",
       "_model_module_version": "1.5.0",
       "_model_name": "HTMLModel",
       "_view_count": null,
       "_view_module": "@jupyter-widgets/controls",
       "_view_module_version": "1.5.0",
       "_view_name": "HTMLView",
       "description": "",
       "description_tooltip": null,
       "layout": "IPY_MODEL_8b3faa5634bf4c108990df56eafc0780",
       "placeholder": "​",
       "style": "IPY_MODEL_6a5f1371c6a24b8aa7b49cbb41334112",
       "value": " 1024/? [00:00&lt;00:00, 40810.39it/s]"
      }
     },
     "484e8d6b0db9494d99eecb4607f48a06": {
      "model_module": "@jupyter-widgets/base",
      "model_module_version": "1.2.0",
      "model_name": "LayoutModel",
      "state": {
       "_model_module": "@jupyter-widgets/base",
       "_model_module_version": "1.2.0",
       "_model_name": "LayoutModel",
       "_view_count": null,
       "_view_module": "@jupyter-widgets/base",
       "_view_module_version": "1.2.0",
       "_view_name": "LayoutView",
       "align_content": null,
       "align_items": null,
       "align_self": null,
       "border": null,
       "bottom": null,
       "display": null,
       "flex": null,
       "flex_flow": null,
       "grid_area": null,
       "grid_auto_columns": null,
       "grid_auto_flow": null,
       "grid_auto_rows": null,
       "grid_column": null,
       "grid_gap": null,
       "grid_row": null,
       "grid_template_areas": null,
       "grid_template_columns": null,
       "grid_template_rows": null,
       "height": null,
       "justify_content": null,
       "justify_items": null,
       "left": null,
       "margin": null,
       "max_height": null,
       "max_width": null,
       "min_height": null,
       "min_width": null,
       "object_fit": null,
       "object_position": null,
       "order": null,
       "overflow": null,
       "overflow_x": null,
       "overflow_y": null,
       "padding": null,
       "right": null,
       "top": null,
       "visibility": null,
       "width": null
      }
     },
     "5513b9a5edb541f38716ed69f0816fe5": {
      "model_module": "@jupyter-widgets/base",
      "model_module_version": "1.2.0",
      "model_name": "LayoutModel",
      "state": {
       "_model_module": "@jupyter-widgets/base",
       "_model_module_version": "1.2.0",
       "_model_name": "LayoutModel",
       "_view_count": null,
       "_view_module": "@jupyter-widgets/base",
       "_view_module_version": "1.2.0",
       "_view_name": "LayoutView",
       "align_content": null,
       "align_items": null,
       "align_self": null,
       "border": null,
       "bottom": null,
       "display": null,
       "flex": null,
       "flex_flow": null,
       "grid_area": null,
       "grid_auto_columns": null,
       "grid_auto_flow": null,
       "grid_auto_rows": null,
       "grid_column": null,
       "grid_gap": null,
       "grid_row": null,
       "grid_template_areas": null,
       "grid_template_columns": null,
       "grid_template_rows": null,
       "height": null,
       "justify_content": null,
       "justify_items": null,
       "left": null,
       "margin": null,
       "max_height": null,
       "max_width": null,
       "min_height": null,
       "min_width": null,
       "object_fit": null,
       "object_position": null,
       "order": null,
       "overflow": null,
       "overflow_x": null,
       "overflow_y": null,
       "padding": null,
       "right": null,
       "top": null,
       "visibility": null,
       "width": null
      }
     },
     "55d437c63d2048f6bb6d4431f525cbe7": {
      "model_module": "@jupyter-widgets/controls",
      "model_module_version": "1.5.0",
      "model_name": "HBoxModel",
      "state": {
       "_dom_classes": [],
       "_model_module": "@jupyter-widgets/controls",
       "_model_module_version": "1.5.0",
       "_model_name": "HBoxModel",
       "_view_count": null,
       "_view_module": "@jupyter-widgets/controls",
       "_view_module_version": "1.5.0",
       "_view_name": "HBoxView",
       "box_style": "",
       "children": [
        "IPY_MODEL_c26bb644ed0741c886fe21005e396e49",
        "IPY_MODEL_28199e2a69514fca9c05d4101ba0f4ec",
        "IPY_MODEL_36137b379e874fcf8654b5bf81447998"
       ],
       "layout": "IPY_MODEL_f9d62f1ceb6d41698219f480b1297338"
      }
     },
     "57e81cb23e8d4aaf818adb13b3bca79b": {
      "model_module": "@jupyter-widgets/base",
      "model_module_version": "1.2.0",
      "model_name": "LayoutModel",
      "state": {
       "_model_module": "@jupyter-widgets/base",
       "_model_module_version": "1.2.0",
       "_model_name": "LayoutModel",
       "_view_count": null,
       "_view_module": "@jupyter-widgets/base",
       "_view_module_version": "1.2.0",
       "_view_name": "LayoutView",
       "align_content": null,
       "align_items": null,
       "align_self": null,
       "border": null,
       "bottom": null,
       "display": null,
       "flex": null,
       "flex_flow": null,
       "grid_area": null,
       "grid_auto_columns": null,
       "grid_auto_flow": null,
       "grid_auto_rows": null,
       "grid_column": null,
       "grid_gap": null,
       "grid_row": null,
       "grid_template_areas": null,
       "grid_template_columns": null,
       "grid_template_rows": null,
       "height": null,
       "justify_content": null,
       "justify_items": null,
       "left": null,
       "margin": null,
       "max_height": null,
       "max_width": null,
       "min_height": null,
       "min_width": null,
       "object_fit": null,
       "object_position": null,
       "order": null,
       "overflow": null,
       "overflow_x": null,
       "overflow_y": null,
       "padding": null,
       "right": null,
       "top": null,
       "visibility": null,
       "width": null
      }
     },
     "5ca80a2a00a444dea2aa52587ff65f19": {
      "model_module": "@jupyter-widgets/base",
      "model_module_version": "1.2.0",
      "model_name": "LayoutModel",
      "state": {
       "_model_module": "@jupyter-widgets/base",
       "_model_module_version": "1.2.0",
       "_model_name": "LayoutModel",
       "_view_count": null,
       "_view_module": "@jupyter-widgets/base",
       "_view_module_version": "1.2.0",
       "_view_name": "LayoutView",
       "align_content": null,
       "align_items": null,
       "align_self": null,
       "border": null,
       "bottom": null,
       "display": null,
       "flex": null,
       "flex_flow": null,
       "grid_area": null,
       "grid_auto_columns": null,
       "grid_auto_flow": null,
       "grid_auto_rows": null,
       "grid_column": null,
       "grid_gap": null,
       "grid_row": null,
       "grid_template_areas": null,
       "grid_template_columns": null,
       "grid_template_rows": null,
       "height": null,
       "justify_content": null,
       "justify_items": null,
       "left": null,
       "margin": null,
       "max_height": null,
       "max_width": null,
       "min_height": null,
       "min_width": null,
       "object_fit": null,
       "object_position": null,
       "order": null,
       "overflow": null,
       "overflow_x": null,
       "overflow_y": null,
       "padding": null,
       "right": null,
       "top": null,
       "visibility": null,
       "width": null
      }
     },
     "6488c536e8734dfab680b8c35b10e554": {
      "model_module": "@jupyter-widgets/base",
      "model_module_version": "1.2.0",
      "model_name": "LayoutModel",
      "state": {
       "_model_module": "@jupyter-widgets/base",
       "_model_module_version": "1.2.0",
       "_model_name": "LayoutModel",
       "_view_count": null,
       "_view_module": "@jupyter-widgets/base",
       "_view_module_version": "1.2.0",
       "_view_name": "LayoutView",
       "align_content": null,
       "align_items": null,
       "align_self": null,
       "border": null,
       "bottom": null,
       "display": null,
       "flex": null,
       "flex_flow": null,
       "grid_area": null,
       "grid_auto_columns": null,
       "grid_auto_flow": null,
       "grid_auto_rows": null,
       "grid_column": null,
       "grid_gap": null,
       "grid_row": null,
       "grid_template_areas": null,
       "grid_template_columns": null,
       "grid_template_rows": null,
       "height": null,
       "justify_content": null,
       "justify_items": null,
       "left": null,
       "margin": null,
       "max_height": null,
       "max_width": null,
       "min_height": null,
       "min_width": null,
       "object_fit": null,
       "object_position": null,
       "order": null,
       "overflow": null,
       "overflow_x": null,
       "overflow_y": null,
       "padding": null,
       "right": null,
       "top": null,
       "visibility": null,
       "width": null
      }
     },
     "651cde8afbcf473d8cf2733ae1d6e198": {
      "model_module": "@jupyter-widgets/base",
      "model_module_version": "1.2.0",
      "model_name": "LayoutModel",
      "state": {
       "_model_module": "@jupyter-widgets/base",
       "_model_module_version": "1.2.0",
       "_model_name": "LayoutModel",
       "_view_count": null,
       "_view_module": "@jupyter-widgets/base",
       "_view_module_version": "1.2.0",
       "_view_name": "LayoutView",
       "align_content": null,
       "align_items": null,
       "align_self": null,
       "border": null,
       "bottom": null,
       "display": null,
       "flex": null,
       "flex_flow": null,
       "grid_area": null,
       "grid_auto_columns": null,
       "grid_auto_flow": null,
       "grid_auto_rows": null,
       "grid_column": null,
       "grid_gap": null,
       "grid_row": null,
       "grid_template_areas": null,
       "grid_template_columns": null,
       "grid_template_rows": null,
       "height": null,
       "justify_content": null,
       "justify_items": null,
       "left": null,
       "margin": null,
       "max_height": null,
       "max_width": null,
       "min_height": null,
       "min_width": null,
       "object_fit": null,
       "object_position": null,
       "order": null,
       "overflow": null,
       "overflow_x": null,
       "overflow_y": null,
       "padding": null,
       "right": null,
       "top": null,
       "visibility": null,
       "width": null
      }
     },
     "6a40994dccc14a32a616d8a4c4375eec": {
      "model_module": "@jupyter-widgets/controls",
      "model_module_version": "1.5.0",
      "model_name": "DescriptionStyleModel",
      "state": {
       "_model_module": "@jupyter-widgets/controls",
       "_model_module_version": "1.5.0",
       "_model_name": "DescriptionStyleModel",
       "_view_count": null,
       "_view_module": "@jupyter-widgets/base",
       "_view_module_version": "1.2.0",
       "_view_name": "StyleView",
       "description_width": ""
      }
     },
     "6a5f1371c6a24b8aa7b49cbb41334112": {
      "model_module": "@jupyter-widgets/controls",
      "model_module_version": "1.5.0",
      "model_name": "DescriptionStyleModel",
      "state": {
       "_model_module": "@jupyter-widgets/controls",
       "_model_module_version": "1.5.0",
       "_model_name": "DescriptionStyleModel",
       "_view_count": null,
       "_view_module": "@jupyter-widgets/base",
       "_view_module_version": "1.2.0",
       "_view_name": "StyleView",
       "description_width": ""
      }
     },
     "705c461bdab647b7bc48822cf84d6983": {
      "model_module": "@jupyter-widgets/base",
      "model_module_version": "1.2.0",
      "model_name": "LayoutModel",
      "state": {
       "_model_module": "@jupyter-widgets/base",
       "_model_module_version": "1.2.0",
       "_model_name": "LayoutModel",
       "_view_count": null,
       "_view_module": "@jupyter-widgets/base",
       "_view_module_version": "1.2.0",
       "_view_name": "LayoutView",
       "align_content": null,
       "align_items": null,
       "align_self": null,
       "border": null,
       "bottom": null,
       "display": null,
       "flex": null,
       "flex_flow": null,
       "grid_area": null,
       "grid_auto_columns": null,
       "grid_auto_flow": null,
       "grid_auto_rows": null,
       "grid_column": null,
       "grid_gap": null,
       "grid_row": null,
       "grid_template_areas": null,
       "grid_template_columns": null,
       "grid_template_rows": null,
       "height": null,
       "justify_content": null,
       "justify_items": null,
       "left": null,
       "margin": null,
       "max_height": null,
       "max_width": null,
       "min_height": null,
       "min_width": null,
       "object_fit": null,
       "object_position": null,
       "order": null,
       "overflow": null,
       "overflow_x": null,
       "overflow_y": null,
       "padding": null,
       "right": null,
       "top": null,
       "visibility": null,
       "width": null
      }
     },
     "7d1525b22c5a4a4eb5f578be189fff56": {
      "model_module": "@jupyter-widgets/base",
      "model_module_version": "1.2.0",
      "model_name": "LayoutModel",
      "state": {
       "_model_module": "@jupyter-widgets/base",
       "_model_module_version": "1.2.0",
       "_model_name": "LayoutModel",
       "_view_count": null,
       "_view_module": "@jupyter-widgets/base",
       "_view_module_version": "1.2.0",
       "_view_name": "LayoutView",
       "align_content": null,
       "align_items": null,
       "align_self": null,
       "border": null,
       "bottom": null,
       "display": null,
       "flex": null,
       "flex_flow": null,
       "grid_area": null,
       "grid_auto_columns": null,
       "grid_auto_flow": null,
       "grid_auto_rows": null,
       "grid_column": null,
       "grid_gap": null,
       "grid_row": null,
       "grid_template_areas": null,
       "grid_template_columns": null,
       "grid_template_rows": null,
       "height": null,
       "justify_content": null,
       "justify_items": null,
       "left": null,
       "margin": null,
       "max_height": null,
       "max_width": null,
       "min_height": null,
       "min_width": null,
       "object_fit": null,
       "object_position": null,
       "order": null,
       "overflow": null,
       "overflow_x": null,
       "overflow_y": null,
       "padding": null,
       "right": null,
       "top": null,
       "visibility": null,
       "width": null
      }
     },
     "8490a7459f9b44f28fb2f6cb6f51c479": {
      "model_module": "@jupyter-widgets/controls",
      "model_module_version": "1.5.0",
      "model_name": "ProgressStyleModel",
      "state": {
       "_model_module": "@jupyter-widgets/controls",
       "_model_module_version": "1.5.0",
       "_model_name": "ProgressStyleModel",
       "_view_count": null,
       "_view_module": "@jupyter-widgets/base",
       "_view_module_version": "1.2.0",
       "_view_name": "StyleView",
       "bar_color": null,
       "description_width": ""
      }
     },
     "86888328e15d41759284c7dcdd86ccdf": {
      "model_module": "@jupyter-widgets/controls",
      "model_module_version": "1.5.0",
      "model_name": "ProgressStyleModel",
      "state": {
       "_model_module": "@jupyter-widgets/controls",
       "_model_module_version": "1.5.0",
       "_model_name": "ProgressStyleModel",
       "_view_count": null,
       "_view_module": "@jupyter-widgets/base",
       "_view_module_version": "1.2.0",
       "_view_name": "StyleView",
       "bar_color": null,
       "description_width": ""
      }
     },
     "871b34825c3f4ef89979e5f9f0d2cf6c": {
      "model_module": "@jupyter-widgets/controls",
      "model_module_version": "1.5.0",
      "model_name": "HTMLModel",
      "state": {
       "_dom_classes": [],
       "_model_module": "@jupyter-widgets/controls",
       "_model_module_version": "1.5.0",
       "_model_name": "HTMLModel",
       "_view_count": null,
       "_view_module": "@jupyter-widgets/controls",
       "_view_module_version": "1.5.0",
       "_view_name": "HTMLView",
       "description": "",
       "description_tooltip": null,
       "layout": "IPY_MODEL_57e81cb23e8d4aaf818adb13b3bca79b",
       "placeholder": "​",
       "style": "IPY_MODEL_d1cae4e81cf445c1ad574a9496a7e888",
       "value": " 15360/? [00:00&lt;00:00, 34830.77it/s]"
      }
     },
     "885820826c624562a6314eb785e58af5": {
      "model_module": "@jupyter-widgets/base",
      "model_module_version": "1.2.0",
      "model_name": "LayoutModel",
      "state": {
       "_model_module": "@jupyter-widgets/base",
       "_model_module_version": "1.2.0",
       "_model_name": "LayoutModel",
       "_view_count": null,
       "_view_module": "@jupyter-widgets/base",
       "_view_module_version": "1.2.0",
       "_view_name": "LayoutView",
       "align_content": null,
       "align_items": null,
       "align_self": null,
       "border": null,
       "bottom": null,
       "display": null,
       "flex": null,
       "flex_flow": null,
       "grid_area": null,
       "grid_auto_columns": null,
       "grid_auto_flow": null,
       "grid_auto_rows": null,
       "grid_column": null,
       "grid_gap": null,
       "grid_row": null,
       "grid_template_areas": null,
       "grid_template_columns": null,
       "grid_template_rows": null,
       "height": null,
       "justify_content": null,
       "justify_items": null,
       "left": null,
       "margin": null,
       "max_height": null,
       "max_width": null,
       "min_height": null,
       "min_width": null,
       "object_fit": null,
       "object_position": null,
       "order": null,
       "overflow": null,
       "overflow_x": null,
       "overflow_y": null,
       "padding": null,
       "right": null,
       "top": null,
       "visibility": null,
       "width": null
      }
     },
     "8b3faa5634bf4c108990df56eafc0780": {
      "model_module": "@jupyter-widgets/base",
      "model_module_version": "1.2.0",
      "model_name": "LayoutModel",
      "state": {
       "_model_module": "@jupyter-widgets/base",
       "_model_module_version": "1.2.0",
       "_model_name": "LayoutModel",
       "_view_count": null,
       "_view_module": "@jupyter-widgets/base",
       "_view_module_version": "1.2.0",
       "_view_name": "LayoutView",
       "align_content": null,
       "align_items": null,
       "align_self": null,
       "border": null,
       "bottom": null,
       "display": null,
       "flex": null,
       "flex_flow": null,
       "grid_area": null,
       "grid_auto_columns": null,
       "grid_auto_flow": null,
       "grid_auto_rows": null,
       "grid_column": null,
       "grid_gap": null,
       "grid_row": null,
       "grid_template_areas": null,
       "grid_template_columns": null,
       "grid_template_rows": null,
       "height": null,
       "justify_content": null,
       "justify_items": null,
       "left": null,
       "margin": null,
       "max_height": null,
       "max_width": null,
       "min_height": null,
       "min_width": null,
       "object_fit": null,
       "object_position": null,
       "order": null,
       "overflow": null,
       "overflow_x": null,
       "overflow_y": null,
       "padding": null,
       "right": null,
       "top": null,
       "visibility": null,
       "width": null
      }
     },
     "8ef34f1936f545b4be0e18abff113448": {
      "model_module": "@jupyter-widgets/controls",
      "model_module_version": "1.5.0",
      "model_name": "DescriptionStyleModel",
      "state": {
       "_model_module": "@jupyter-widgets/controls",
       "_model_module_version": "1.5.0",
       "_model_name": "DescriptionStyleModel",
       "_view_count": null,
       "_view_module": "@jupyter-widgets/base",
       "_view_module_version": "1.2.0",
       "_view_name": "StyleView",
       "description_width": ""
      }
     },
     "90a7056e3c294ba09840a9208da25d1d": {
      "model_module": "@jupyter-widgets/controls",
      "model_module_version": "1.5.0",
      "model_name": "HBoxModel",
      "state": {
       "_dom_classes": [],
       "_model_module": "@jupyter-widgets/controls",
       "_model_module_version": "1.5.0",
       "_model_name": "HBoxModel",
       "_view_count": null,
       "_view_module": "@jupyter-widgets/controls",
       "_view_module_version": "1.5.0",
       "_view_name": "HBoxView",
       "box_style": "",
       "children": [
        "IPY_MODEL_1be7cf3cca134a7b9a8e1c034272621a",
        "IPY_MODEL_cd3309ce5dd148b893a8d726ca5dd33f",
        "IPY_MODEL_a294643c05c04520bd4e2f3de535800e"
       ],
       "layout": "IPY_MODEL_5ca80a2a00a444dea2aa52587ff65f19"
      }
     },
     "92560e42d2cd4507829014f317cbf8e0": {
      "model_module": "@jupyter-widgets/base",
      "model_module_version": "1.2.0",
      "model_name": "LayoutModel",
      "state": {
       "_model_module": "@jupyter-widgets/base",
       "_model_module_version": "1.2.0",
       "_model_name": "LayoutModel",
       "_view_count": null,
       "_view_module": "@jupyter-widgets/base",
       "_view_module_version": "1.2.0",
       "_view_name": "LayoutView",
       "align_content": null,
       "align_items": null,
       "align_self": null,
       "border": null,
       "bottom": null,
       "display": null,
       "flex": null,
       "flex_flow": null,
       "grid_area": null,
       "grid_auto_columns": null,
       "grid_auto_flow": null,
       "grid_auto_rows": null,
       "grid_column": null,
       "grid_gap": null,
       "grid_row": null,
       "grid_template_areas": null,
       "grid_template_columns": null,
       "grid_template_rows": null,
       "height": null,
       "justify_content": null,
       "justify_items": null,
       "left": null,
       "margin": null,
       "max_height": null,
       "max_width": null,
       "min_height": null,
       "min_width": null,
       "object_fit": null,
       "object_position": null,
       "order": null,
       "overflow": null,
       "overflow_x": null,
       "overflow_y": null,
       "padding": null,
       "right": null,
       "top": null,
       "visibility": null,
       "width": null
      }
     },
     "9af347bdc15d406db1d2b777b74b9f04": {
      "model_module": "@jupyter-widgets/base",
      "model_module_version": "1.2.0",
      "model_name": "LayoutModel",
      "state": {
       "_model_module": "@jupyter-widgets/base",
       "_model_module_version": "1.2.0",
       "_model_name": "LayoutModel",
       "_view_count": null,
       "_view_module": "@jupyter-widgets/base",
       "_view_module_version": "1.2.0",
       "_view_name": "LayoutView",
       "align_content": null,
       "align_items": null,
       "align_self": null,
       "border": null,
       "bottom": null,
       "display": null,
       "flex": null,
       "flex_flow": null,
       "grid_area": null,
       "grid_auto_columns": null,
       "grid_auto_flow": null,
       "grid_auto_rows": null,
       "grid_column": null,
       "grid_gap": null,
       "grid_row": null,
       "grid_template_areas": null,
       "grid_template_columns": null,
       "grid_template_rows": null,
       "height": null,
       "justify_content": null,
       "justify_items": null,
       "left": null,
       "margin": null,
       "max_height": null,
       "max_width": null,
       "min_height": null,
       "min_width": null,
       "object_fit": null,
       "object_position": null,
       "order": null,
       "overflow": null,
       "overflow_x": null,
       "overflow_y": null,
       "padding": null,
       "right": null,
       "top": null,
       "visibility": null,
       "width": null
      }
     },
     "a294643c05c04520bd4e2f3de535800e": {
      "model_module": "@jupyter-widgets/controls",
      "model_module_version": "1.5.0",
      "model_name": "HTMLModel",
      "state": {
       "_dom_classes": [],
       "_model_module": "@jupyter-widgets/controls",
       "_model_module_version": "1.5.0",
       "_model_name": "HTMLModel",
       "_view_count": null,
       "_view_module": "@jupyter-widgets/controls",
       "_view_module_version": "1.5.0",
       "_view_name": "HTMLView",
       "description": "",
       "description_tooltip": null,
       "layout": "IPY_MODEL_6488c536e8734dfab680b8c35b10e554",
       "placeholder": "​",
       "style": "IPY_MODEL_1583978b93954d5c9f0cbbfd247fb15a",
       "value": " 344862720/? [00:35&lt;00:00, 11135853.56it/s]"
      }
     },
     "aec44626d9fc47f8890100a7a5326338": {
      "model_module": "@jupyter-widgets/controls",
      "model_module_version": "1.5.0",
      "model_name": "HBoxModel",
      "state": {
       "_dom_classes": [],
       "_model_module": "@jupyter-widgets/controls",
       "_model_module_version": "1.5.0",
       "_model_name": "HBoxModel",
       "_view_count": null,
       "_view_module": "@jupyter-widgets/controls",
       "_view_module_version": "1.5.0",
       "_view_name": "HBoxView",
       "box_style": "",
       "children": [
        "IPY_MODEL_2564bed585ab47fb931f7f14353ed82c",
        "IPY_MODEL_cc8fef4b9fdb450f876dcdcef7346d16",
        "IPY_MODEL_09e352347d3c43d7a9f4d397b6abb307"
       ],
       "layout": "IPY_MODEL_651cde8afbcf473d8cf2733ae1d6e198"
      }
     },
     "bdf1e27aa50c499b9505ecf1e404f13a": {
      "model_module": "@jupyter-widgets/controls",
      "model_module_version": "1.5.0",
      "model_name": "DescriptionStyleModel",
      "state": {
       "_model_module": "@jupyter-widgets/controls",
       "_model_module_version": "1.5.0",
       "_model_name": "DescriptionStyleModel",
       "_view_count": null,
       "_view_module": "@jupyter-widgets/base",
       "_view_module_version": "1.2.0",
       "_view_name": "StyleView",
       "description_width": ""
      }
     },
     "c201f3a940f84bbf860822c476d992d9": {
      "model_module": "@jupyter-widgets/controls",
      "model_module_version": "1.5.0",
      "model_name": "ProgressStyleModel",
      "state": {
       "_model_module": "@jupyter-widgets/controls",
       "_model_module_version": "1.5.0",
       "_model_name": "ProgressStyleModel",
       "_view_count": null,
       "_view_module": "@jupyter-widgets/base",
       "_view_module_version": "1.2.0",
       "_view_name": "StyleView",
       "bar_color": null,
       "description_width": ""
      }
     },
     "c26bb644ed0741c886fe21005e396e49": {
      "model_module": "@jupyter-widgets/controls",
      "model_module_version": "1.5.0",
      "model_name": "HTMLModel",
      "state": {
       "_dom_classes": [],
       "_model_module": "@jupyter-widgets/controls",
       "_model_module_version": "1.5.0",
       "_model_name": "HTMLModel",
       "_view_count": null,
       "_view_module": "@jupyter-widgets/controls",
       "_view_module_version": "1.5.0",
       "_view_name": "HTMLView",
       "description": "",
       "description_tooltip": null,
       "layout": "IPY_MODEL_5513b9a5edb541f38716ed69f0816fe5",
       "placeholder": "​",
       "style": "IPY_MODEL_fffcd73ac1fb463aa9b608acc96e3bc8",
       "value": ""
      }
     },
     "cbbd0eb20b4d4906a8195a49d814397a": {
      "model_module": "@jupyter-widgets/controls",
      "model_module_version": "1.5.0",
      "model_name": "FloatProgressModel",
      "state": {
       "_dom_classes": [],
       "_model_module": "@jupyter-widgets/controls",
       "_model_module_version": "1.5.0",
       "_model_name": "FloatProgressModel",
       "_view_count": null,
       "_view_module": "@jupyter-widgets/controls",
       "_view_module_version": "1.5.0",
       "_view_name": "ProgressView",
       "bar_style": "success",
       "description": "",
       "description_tooltip": null,
       "layout": "IPY_MODEL_705c461bdab647b7bc48822cf84d6983",
       "max": 14989.0,
       "min": 0.0,
       "orientation": "horizontal",
       "style": "IPY_MODEL_fda1c75162e74f769febc5aa2ab6b271",
       "value": 14989.0
      }
     },
     "cc8fef4b9fdb450f876dcdcef7346d16": {
      "model_module": "@jupyter-widgets/controls",
      "model_module_version": "1.5.0",
      "model_name": "FloatProgressModel",
      "state": {
       "_dom_classes": [],
       "_model_module": "@jupyter-widgets/controls",
       "_model_module_version": "1.5.0",
       "_model_name": "FloatProgressModel",
       "_view_count": null,
       "_view_module": "@jupyter-widgets/controls",
       "_view_module_version": "1.5.0",
       "_view_name": "ProgressView",
       "bar_style": "success",
       "description": "",
       "description_tooltip": null,
       "layout": "IPY_MODEL_484e8d6b0db9494d99eecb4607f48a06",
       "max": 46830571.0,
       "min": 0.0,
       "orientation": "horizontal",
       "style": "IPY_MODEL_8490a7459f9b44f28fb2f6cb6f51c479",
       "value": 46830571.0
      }
     },
     "cd3309ce5dd148b893a8d726ca5dd33f": {
      "model_module": "@jupyter-widgets/controls",
      "model_module_version": "1.5.0",
      "model_name": "FloatProgressModel",
      "state": {
       "_dom_classes": [],
       "_model_module": "@jupyter-widgets/controls",
       "_model_module_version": "1.5.0",
       "_model_name": "FloatProgressModel",
       "_view_count": null,
       "_view_module": "@jupyter-widgets/controls",
       "_view_module_version": "1.5.0",
       "_view_name": "ProgressView",
       "bar_style": "success",
       "description": "",
       "description_tooltip": null,
       "layout": "IPY_MODEL_7d1525b22c5a4a4eb5f578be189fff56",
       "max": 344862509.0,
       "min": 0.0,
       "orientation": "horizontal",
       "style": "IPY_MODEL_86888328e15d41759284c7dcdd86ccdf",
       "value": 344862509.0
      }
     },
     "d1cae4e81cf445c1ad574a9496a7e888": {
      "model_module": "@jupyter-widgets/controls",
      "model_module_version": "1.5.0",
      "model_name": "DescriptionStyleModel",
      "state": {
       "_model_module": "@jupyter-widgets/controls",
       "_model_module_version": "1.5.0",
       "_model_name": "DescriptionStyleModel",
       "_view_count": null,
       "_view_module": "@jupyter-widgets/base",
       "_view_module_version": "1.2.0",
       "_view_name": "StyleView",
       "description_width": ""
      }
     },
     "f5582c76a9df4852b895a0d9242787ad": {
      "model_module": "@jupyter-widgets/base",
      "model_module_version": "1.2.0",
      "model_name": "LayoutModel",
      "state": {
       "_model_module": "@jupyter-widgets/base",
       "_model_module_version": "1.2.0",
       "_model_name": "LayoutModel",
       "_view_count": null,
       "_view_module": "@jupyter-widgets/base",
       "_view_module_version": "1.2.0",
       "_view_name": "LayoutView",
       "align_content": null,
       "align_items": null,
       "align_self": null,
       "border": null,
       "bottom": null,
       "display": null,
       "flex": null,
       "flex_flow": null,
       "grid_area": null,
       "grid_auto_columns": null,
       "grid_auto_flow": null,
       "grid_auto_rows": null,
       "grid_column": null,
       "grid_gap": null,
       "grid_row": null,
       "grid_template_areas": null,
       "grid_template_columns": null,
       "grid_template_rows": null,
       "height": null,
       "justify_content": null,
       "justify_items": null,
       "left": null,
       "margin": null,
       "max_height": null,
       "max_width": null,
       "min_height": null,
       "min_width": null,
       "object_fit": null,
       "object_position": null,
       "order": null,
       "overflow": null,
       "overflow_x": null,
       "overflow_y": null,
       "padding": null,
       "right": null,
       "top": null,
       "visibility": null,
       "width": null
      }
     },
     "f9d62f1ceb6d41698219f480b1297338": {
      "model_module": "@jupyter-widgets/base",
      "model_module_version": "1.2.0",
      "model_name": "LayoutModel",
      "state": {
       "_model_module": "@jupyter-widgets/base",
       "_model_module_version": "1.2.0",
       "_model_name": "LayoutModel",
       "_view_count": null,
       "_view_module": "@jupyter-widgets/base",
       "_view_module_version": "1.2.0",
       "_view_name": "LayoutView",
       "align_content": null,
       "align_items": null,
       "align_self": null,
       "border": null,
       "bottom": null,
       "display": null,
       "flex": null,
       "flex_flow": null,
       "grid_area": null,
       "grid_auto_columns": null,
       "grid_auto_flow": null,
       "grid_auto_rows": null,
       "grid_column": null,
       "grid_gap": null,
       "grid_row": null,
       "grid_template_areas": null,
       "grid_template_columns": null,
       "grid_template_rows": null,
       "height": null,
       "justify_content": null,
       "justify_items": null,
       "left": null,
       "margin": null,
       "max_height": null,
       "max_width": null,
       "min_height": null,
       "min_width": null,
       "object_fit": null,
       "object_position": null,
       "order": null,
       "overflow": null,
       "overflow_x": null,
       "overflow_y": null,
       "padding": null,
       "right": null,
       "top": null,
       "visibility": null,
       "width": null
      }
     },
     "fda1c75162e74f769febc5aa2ab6b271": {
      "model_module": "@jupyter-widgets/controls",
      "model_module_version": "1.5.0",
      "model_name": "ProgressStyleModel",
      "state": {
       "_model_module": "@jupyter-widgets/controls",
       "_model_module_version": "1.5.0",
       "_model_name": "ProgressStyleModel",
       "_view_count": null,
       "_view_module": "@jupyter-widgets/base",
       "_view_module_version": "1.2.0",
       "_view_name": "StyleView",
       "bar_color": null,
       "description_width": ""
      }
     },
     "fffcd73ac1fb463aa9b608acc96e3bc8": {
      "model_module": "@jupyter-widgets/controls",
      "model_module_version": "1.5.0",
      "model_name": "DescriptionStyleModel",
      "state": {
       "_model_module": "@jupyter-widgets/controls",
       "_model_module_version": "1.5.0",
       "_model_name": "DescriptionStyleModel",
       "_view_count": null,
       "_view_module": "@jupyter-widgets/base",
       "_view_module_version": "1.2.0",
       "_view_name": "StyleView",
       "description_width": ""
      }
     }
    },
    "version_major": 2,
    "version_minor": 0
   }
  }
 },
 "nbformat": 4,
 "nbformat_minor": 5
}
